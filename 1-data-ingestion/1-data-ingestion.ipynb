{
 "cells": [
  {
   "cell_type": "code",
   "execution_count": 2,
   "metadata": {
    "slideshow": {
     "slide_type": "skip"
    }
   },
   "outputs": [],
   "source": [
    "%matplotlib inline\n",
    "from __future__ import print_function\n",
    "import numpy as np\n",
    "import pandas as pd"
   ]
  },
  {
   "cell_type": "markdown",
   "metadata": {
    "deletable": false,
    "editable": false,
    "run_control": {
     "frozen": true
    },
    "slideshow": {
     "slide_type": "slide"
    }
   },
   "source": [
    "# Introduction to Python for Data Analysis\n",
    "## College of Forestry, Oregon State University\n",
    "### April 2018"
   ]
  },
  {
   "cell_type": "markdown",
   "metadata": {
    "deletable": false,
    "editable": false,
    "run_control": {
     "frozen": true
    },
    "slideshow": {
     "slide_type": "slide"
    }
   },
   "source": [
    "## Acknowledgements\n",
    "* Funding for this workshop is provided by the Research Support Faculty (RSF) Professional Development Fund\n",
    "* Huge thanks to Jerry Mohr for dealing with registration details and ensuring lab computers were set up\n",
    "* Thanks to Ty Nieptuski and Bryce Frank who have volunteered to help out when I've given you poor instructions"
   ]
  },
  {
   "cell_type": "markdown",
   "metadata": {
    "deletable": false,
    "editable": false,
    "run_control": {
     "frozen": true
    },
    "slideshow": {
     "slide_type": "slide"
    }
   },
   "source": [
    "## Format of this workshop\n",
    "### Monday\n",
    "* Data ingestion and wrangling using pandas\n",
    "* Communication with R\n",
    "* Data analysis packages in Python"
   ]
  },
  {
   "cell_type": "markdown",
   "metadata": {
    "deletable": false,
    "editable": false,
    "run_control": {
     "frozen": true
    },
    "slideshow": {
     "slide_type": "slide"
    }
   },
   "source": [
    "## Format of this workshop (cont.)\n",
    "### Wednesday\n",
    "* Raster analysis and modeling\n",
    "* Introduction to graphing/charting packages\n",
    "* Tips and tricks for Python and Jupyter"
   ]
  },
  {
   "cell_type": "markdown",
   "metadata": {
    "deletable": false,
    "editable": false,
    "run_control": {
     "frozen": true
    },
    "slideshow": {
     "slide_type": "slide"
    }
   },
   "source": [
    "## Format of this workshop (cont.)\n",
    "### With each module:\n",
    "* I'll introduce the topics and packages which which we'll be working\n",
    "* Give some examples of the packages' functionality\n",
    "* Have you work through sample analyses (hopefully majority of time)"
   ]
  },
  {
   "cell_type": "markdown",
   "metadata": {
    "deletable": false,
    "editable": false,
    "run_control": {
     "frozen": true
    },
    "slideshow": {
     "slide_type": "slide"
    }
   },
   "source": [
    "## Caveats!\n",
    "* This will be raw and unpolished!  First time workshop\n",
    "* This is geared toward the *beginning* Python user.  It's possible that you'll speed through the exercises - if so, please help those around you.\n",
    "* This is a wide and shallow look at Python (as opposed to narrow and deep).  Whiplash is possible!\n",
    "* Feedback is encouraged"
   ]
  },
  {
   "cell_type": "markdown",
   "metadata": {
    "deletable": false,
    "editable": false,
    "run_control": {
     "frozen": true
    },
    "slideshow": {
     "slide_type": "slide"
    }
   },
   "source": [
    "## Terminology and aliases\n",
    "I will likely throw out a bunch of terms that are unfamiliar and I apologize upfront.  But here are a few terms that weren't explicit in the training materials that we'll use in these workshops:\n",
    "\n",
    "* Module - a set of Python functions, variables, classes, etc. typically stored in one file (e.g. `math`)\n",
    "* Package - a collection of one or more related modules distributed as an installable unit (e.g. `pandas`)\n",
    "* Function vs. method - method is a function within a Python class\n",
    "* When importing, it's common to \"alias\" certain packages to shorter names with the `as` keyword\n",
    "\n",
    "  * `import pandas as pd`\n",
    "\n",
    "Please stop me when I say something that is unfamiliar.  It's likely that others have the same question."
   ]
  },
  {
   "cell_type": "markdown",
   "metadata": {
    "deletable": false,
    "editable": false,
    "run_control": {
     "frozen": true
    },
    "slideshow": {
     "slide_type": "slide"
    }
   },
   "source": [
    "## And now for something completely different ...\n",
    "This is the required silliness to get out of the way with every Python workshop\n",
    "* Python isn't named for the snake ..."
   ]
  },
  {
   "cell_type": "markdown",
   "metadata": {},
   "source": [
    "![](./cheese_shop.jpg \"Monty Python\")"
   ]
  },
  {
   "cell_type": "markdown",
   "metadata": {
    "deletable": false,
    "editable": false,
    "run_control": {
     "frozen": true
    },
    "slideshow": {
     "slide_type": "slide"
    }
   },
   "source": [
    "# Module 1: Data ingestion and wrangling using pandas"
   ]
  },
  {
   "cell_type": "markdown",
   "metadata": {
    "deletable": false,
    "editable": false,
    "run_control": {
     "frozen": true
    },
    "slideshow": {
     "slide_type": "slide"
    }
   },
   "source": [
    "## Pandas\n",
    "### What problem does pandas solve?\n",
    "From website:\n",
    "\n",
    "Python has long been great for data munging and preparation, but less so for data analysis and modeling. pandas helps fill this gap, enabling you to carry out your entire data analysis workflow in Python without having to switch to a more domain specific language like R.\n",
    "\n",
    "Combined with the excellent IPython toolkit and other libraries, the environment for doing data analysis in Python excels in performance, productivity, and the ability to collaborate.\n",
    "\n",
    "pandas does not implement significant modeling functionality outside of linear and panel regression; for this, look to statsmodels and scikit-learn. More work is still needed to make Python a first class statistical modeling environment, but we are well on our way toward that goal."
   ]
  },
  {
   "cell_type": "markdown",
   "metadata": {
    "deletable": false,
    "editable": false,
    "run_control": {
     "frozen": true
    },
    "slideshow": {
     "slide_type": "slide"
    }
   },
   "source": [
    "## Pandas (cont.)\n",
    "* One of the most important packages in Python data analysis (up there with numpy)\n",
    "* Heavy overlap with R functionality, especially data frames\n",
    "* Pivotal package for data munging and exploration\n",
    "* Of all packages presented, I want you to understand pandas"
   ]
  },
  {
   "cell_type": "markdown",
   "metadata": {
    "deletable": false,
    "editable": false,
    "run_control": {
     "frozen": true
    },
    "slideshow": {
     "slide_type": "slide"
    }
   },
   "source": [
    "### Main pandas data types (classes)\n",
    "* Series is a 1-dimensional labeled array (think either dict or list)\n",
    "* DataFrame is a 2-dimensional labeled data structure of potentially different data types (think spreadsheet)\n",
    "* Panel is a 3-dimensional labeled data structure (although used somewhat infrequently - now being deprecated)"
   ]
  },
  {
   "cell_type": "markdown",
   "metadata": {
    "deletable": false,
    "editable": false,
    "run_control": {
     "frozen": true
    },
    "slideshow": {
     "slide_type": "slide"
    }
   },
   "source": [
    "### Constructing Series from scratch"
   ]
  },
  {
   "cell_type": "code",
   "execution_count": 4,
   "metadata": {},
   "outputs": [
    {
     "data": {
      "text/plain": [
       "a    1.443038\n",
       "b   -0.900734\n",
       "c    0.933804\n",
       "d   -1.114082\n",
       "e   -0.158364\n",
       "dtype: float64"
      ]
     },
     "execution_count": 4,
     "metadata": {},
     "output_type": "execute_result"
    }
   ],
   "source": [
    "# Importing pandas\n",
    "import pandas as pd\n",
    "\n",
    "# Construction of series from numpy array and index labels\n",
    "pd.Series(np.random.randn(5), index=['a', 'b', 'c', 'd', 'e'])"
   ]
  },
  {
   "cell_type": "code",
   "execution_count": 6,
   "metadata": {},
   "outputs": [
    {
     "data": {
      "text/plain": [
       "0   -0.805869\n",
       "1   -0.540160\n",
       "2   -0.045738\n",
       "3    0.100343\n",
       "4   -2.199039\n",
       "dtype: float64"
      ]
     },
     "execution_count": 6,
     "metadata": {},
     "output_type": "execute_result"
    }
   ],
   "source": [
    "# Construction of series from just numpy array (no labels)\n",
    "pd.Series(np.random.randn(5))"
   ]
  },
  {
   "cell_type": "code",
   "execution_count": 7,
   "metadata": {},
   "outputs": [
    {
     "data": {
      "text/plain": [
       "age          45\n",
       "name      Homer\n",
       "weight      210\n",
       "dtype: object"
      ]
     },
     "execution_count": 7,
     "metadata": {},
     "output_type": "execute_result"
    }
   ],
   "source": [
    "# Construction of series from dictionary\n",
    "d = {'name': 'Homer', 'age': 45, 'weight': 210}\n",
    "pd.Series(d)"
   ]
  },
  {
   "cell_type": "markdown",
   "metadata": {
    "deletable": false,
    "editable": false,
    "run_control": {
     "frozen": true
    },
    "slideshow": {
     "slide_type": "slide"
    }
   },
   "source": [
    "### Indexing Series"
   ]
  },
  {
   "cell_type": "code",
   "execution_count": 15,
   "metadata": {},
   "outputs": [],
   "source": [
    "# Indexing by number; keys get ordered alphabetically\n",
    "s = pd.Series({'name': 'Homer', 'age': 45, 'weight': 210})"
   ]
  },
  {
   "cell_type": "code",
   "execution_count": 9,
   "metadata": {},
   "outputs": [
    {
     "name": "stdout",
     "output_type": "stream",
     "text": [
      "45\n"
     ]
    }
   ],
   "source": [
    "print(s[0])"
   ]
  },
  {
   "cell_type": "code",
   "execution_count": 10,
   "metadata": {},
   "outputs": [
    {
     "name": "stdout",
     "output_type": "stream",
     "text": [
      "name      Homer\n",
      "weight      210\n",
      "dtype: object\n"
     ]
    }
   ],
   "source": [
    "print(s[1:])"
   ]
  },
  {
   "cell_type": "code",
   "execution_count": 11,
   "metadata": {},
   "outputs": [
    {
     "name": "stdout",
     "output_type": "stream",
     "text": [
      "name      Homer\n",
      "weight      210\n",
      "age          45\n",
      "dtype: object\n"
     ]
    }
   ],
   "source": [
    "print(s[[1, 2, 0]])"
   ]
  },
  {
   "cell_type": "code",
   "execution_count": 12,
   "metadata": {},
   "outputs": [
    {
     "name": "stdout",
     "output_type": "stream",
     "text": [
      "Homer\n"
     ]
    }
   ],
   "source": [
    "# Indexing by label\n",
    "print(s['name'])"
   ]
  },
  {
   "cell_type": "code",
   "execution_count": 13,
   "metadata": {},
   "outputs": [
    {
     "name": "stdout",
     "output_type": "stream",
     "text": [
      "age          12\n",
      "name      Homer\n",
      "weight      210\n",
      "dtype: object\n"
     ]
    }
   ],
   "source": [
    "# Setting values by label\n",
    "s['age'] = 12\n",
    "print(s)"
   ]
  },
  {
   "cell_type": "code",
   "execution_count": 14,
   "metadata": {},
   "outputs": [
    {
     "name": "stdout",
     "output_type": "stream",
     "text": [
      "True\n",
      "False\n"
     ]
    }
   ],
   "source": [
    "# Expression evaluation - returns boolean values\n",
    "print(s['age'] < 30)\n",
    "print(s['name'] == 'Marge')"
   ]
  },
  {
   "cell_type": "markdown",
   "metadata": {
    "deletable": false,
    "editable": false,
    "run_control": {
     "frozen": true
    },
    "slideshow": {
     "slide_type": "slide"
    }
   },
   "source": [
    "### Constructing DataFrames from scratch"
   ]
  },
  {
   "cell_type": "code",
   "execution_count": 16,
   "metadata": {},
   "outputs": [
    {
     "name": "stdout",
     "output_type": "stream",
     "text": [
      "   one  two\n",
      "0  1.0  5.0\n",
      "1  2.0  6.0\n",
      "2  3.0  7.0\n",
      "3  4.0  8.0\n"
     ]
    }
   ],
   "source": [
    "# Construction of DataFrame from pandas Series objects\n",
    "d = {\n",
    "    'one' : pd.Series([1., 2., 3., 4.]),\n",
    "    'two' : pd.Series([5., 6., 7., 8.])\n",
    "}\n",
    "print(pd.DataFrame(d))"
   ]
  },
  {
   "cell_type": "code",
   "execution_count": 17,
   "metadata": {},
   "outputs": [
    {
     "name": "stdout",
     "output_type": "stream",
     "text": [
      "   one  two\n",
      "a  1.0  1.0\n",
      "b  2.0  2.0\n",
      "c  NaN  3.0\n",
      "d  3.0  4.0\n"
     ]
    }
   ],
   "source": [
    "# Construction of DataFrame from pandas Series objects with indexes\n",
    "# Notice the NaN\n",
    "d = {\n",
    "    'one' : pd.Series([1., 2., 3.], index=['a', 'b', 'd']),\n",
    "    'two' : pd.Series([1., 2., 3., 4.], index=['a', 'b', 'c', 'd'])\n",
    "}\n",
    "print(pd.DataFrame(d))"
   ]
  },
  {
   "cell_type": "markdown",
   "metadata": {
    "deletable": false,
    "editable": false,
    "run_control": {
     "frozen": true
    },
    "slideshow": {
     "slide_type": "slide"
    }
   },
   "source": [
    "### Constructing DataFrames from scratch (cont.)"
   ]
  },
  {
   "cell_type": "code",
   "execution_count": 20,
   "metadata": {},
   "outputs": [
    {
     "name": "stdout",
     "output_type": "stream",
     "text": [
      "   age first_name  height\n",
      "0   45      Homer      65\n",
      "1   42      Marge      68\n",
      "2   11       Bart      49\n",
      "3    9       Lisa      47\n",
      "4    2     Maggie      24\n"
     ]
    }
   ],
   "source": [
    "# Construction of DataFrame from list of dictionaries\n",
    "d = [\n",
    "    {'first_name': 'Homer', 'age': 45, 'height': 65},\n",
    "    {'first_name': 'Marge', 'age': 42, 'height': 68},\n",
    "    {'first_name': 'Bart', 'age': 11, 'height': 49},\n",
    "    {'first_name': 'Lisa', 'age': 9, 'height': 47},\n",
    "    {'first_name': 'Maggie', 'age': 2, 'height': 24}\n",
    "]\n",
    "print(pd.DataFrame(d))"
   ]
  },
  {
   "cell_type": "code",
   "execution_count": 19,
   "metadata": {},
   "outputs": [
    {
     "name": "stdout",
     "output_type": "stream",
     "text": [
      "  first_name  age  height\n",
      "0      Homer   45      65\n",
      "1      Marge   42      68\n",
      "2       Bart   11      49\n",
      "3       Lisa    9      47\n",
      "4     Maggie    2      24\n"
     ]
    }
   ],
   "source": [
    "# Construction of DataFrame from list of lists (or tuples) with list of column names\n",
    "# Notice the ordering of columns\n",
    "lol = [\n",
    "    ['Homer', 45, 65],\n",
    "    ['Marge', 42, 68],\n",
    "    ['Bart', 11, 49],\n",
    "    ['Lisa', 9, 47],\n",
    "    ['Maggie', 2, 24]\n",
    "]\n",
    "print(pd.DataFrame(lol, columns=['first_name', 'age', 'height']))"
   ]
  },
  {
   "cell_type": "markdown",
   "metadata": {
    "deletable": false,
    "editable": false,
    "run_control": {
     "frozen": true
    },
    "slideshow": {
     "slide_type": "slide"
    }
   },
   "source": [
    "### Indexing DataFrames"
   ]
  },
  {
   "cell_type": "code",
   "execution_count": 16,
   "metadata": {},
   "outputs": [],
   "source": [
    "# Index by columns\n",
    "d = [\n",
    "    {'first_name': 'Homer', 'age': 45, 'height': 65},\n",
    "    {'first_name': 'Marge', 'age': 42, 'height': 68},\n",
    "    {'first_name': 'Bart', 'age': 11, 'height': 49},\n",
    "    {'first_name': 'Lisa', 'age': 9, 'height': 47},\n",
    "    {'first_name': 'Maggie', 'age': 2, 'height': 24}\n",
    "]\n",
    "df = pd.DataFrame(d)\n",
    "df.set_index('first_name', inplace=True)"
   ]
  },
  {
   "cell_type": "code",
   "execution_count": 17,
   "metadata": {},
   "outputs": [
    {
     "name": "stdout",
     "output_type": "stream",
     "text": [
      "first_name\n",
      "Homer     45\n",
      "Marge     42\n",
      "Bart      11\n",
      "Lisa       9\n",
      "Maggie     2\n",
      "Name: age, dtype: int64\n"
     ]
    }
   ],
   "source": [
    "# One column\n",
    "print(df['age'])"
   ]
  },
  {
   "cell_type": "code",
   "execution_count": 18,
   "metadata": {},
   "outputs": [
    {
     "name": "stdout",
     "output_type": "stream",
     "text": [
      "            height  age\n",
      "first_name             \n",
      "Homer           65   45\n",
      "Marge           68   42\n",
      "Bart            49   11\n",
      "Lisa            47    9\n",
      "Maggie          24    2\n"
     ]
    }
   ],
   "source": [
    "# Two columns, not necessarily in order\n",
    "print(df[['height', 'age']])"
   ]
  },
  {
   "cell_type": "code",
   "execution_count": 22,
   "metadata": {},
   "outputs": [
    {
     "name": "stdout",
     "output_type": "stream",
     "text": [
      "            age  height\n",
      "first_name             \n",
      "Homer        45      65\n",
      "Marge        42      68\n"
     ]
    }
   ],
   "source": [
    "# Index by rows (integers)\n",
    "print(df.iloc[0:2])"
   ]
  },
  {
   "cell_type": "code",
   "execution_count": 20,
   "metadata": {},
   "outputs": [
    {
     "name": "stdout",
     "output_type": "stream",
     "text": [
      "            age  height\n",
      "first_name             \n",
      "Homer        45      65\n",
      "Bart         11      49\n"
     ]
    }
   ],
   "source": [
    "# Index by rows (labels)\n",
    "print(df.loc[['Homer', 'Bart']])"
   ]
  },
  {
   "cell_type": "code",
   "execution_count": 24,
   "metadata": {},
   "outputs": [
    {
     "name": "stdout",
     "output_type": "stream",
     "text": [
      "first_name\n",
      "Homer    65\n",
      "Marge    68\n",
      "Name: height, dtype: int64\n",
      "--------------------------------------------------\n",
      "age       42\n",
      "height    68\n",
      "Name: Marge, dtype: int64\n"
     ]
    }
   ],
   "source": [
    "# Index by both rows and columns (integers)\n",
    "print(df.iloc[0:2, 1])\n",
    "print('-' * 50)\n",
    "print(df.iloc[1, :])"
   ]
  },
  {
   "cell_type": "code",
   "execution_count": 22,
   "metadata": {},
   "outputs": [
    {
     "name": "stdout",
     "output_type": "stream",
     "text": [
      "            age\n",
      "first_name     \n",
      "Lisa          9\n",
      "Maggie        2\n"
     ]
    }
   ],
   "source": [
    "# Index by both rows and columns (labels)\n",
    "print(df.loc[['Lisa', 'Maggie'],['age']])"
   ]
  },
  {
   "cell_type": "code",
   "execution_count": 25,
   "metadata": {},
   "outputs": [
    {
     "name": "stdout",
     "output_type": "stream",
     "text": [
      "            age  height\n",
      "first_name             \n",
      "Bart         11      49\n",
      "Lisa          9      47\n",
      "Maggie        2      24\n"
     ]
    }
   ],
   "source": [
    "# Index by expression\n",
    "print(df[df['age'] < 30])"
   ]
  },
  {
   "cell_type": "code",
   "execution_count": 24,
   "metadata": {},
   "outputs": [
    {
     "name": "stdout",
     "output_type": "stream",
     "text": [
      "            age  height\n",
      "first_name             \n",
      "Bart         11      49\n",
      "Lisa          9      47\n"
     ]
    }
   ],
   "source": [
    "# Compound expressions\n",
    "print(df.loc[(df['height'] > 30) & (df['age'] < 30)])"
   ]
  },
  {
   "cell_type": "markdown",
   "metadata": {
    "deletable": false,
    "editable": false,
    "run_control": {
     "frozen": true
    },
    "slideshow": {
     "slide_type": "slide"
    }
   },
   "source": [
    "### Importing from other sources\n",
    "A vast majority of the time, you will be bringing data in from other sources and not creating from scratch.  Pandas can go from a variety of formats: CSV, tab- or space-delimited, Excel, HDF5, JSON, SQL, SAS etc."
   ]
  },
  {
   "cell_type": "code",
   "execution_count": 26,
   "metadata": {},
   "outputs": [
    {
     "name": "stdout",
     "output_type": "stream",
     "text": [
      "   sepal_length  sepal_width  petal_length  petal_width species\n",
      "0           5.1          3.5           1.4          0.2  setosa\n",
      "1           4.9          3.0           1.4          0.2  setosa\n",
      "2           4.7          3.2           1.3          0.2  setosa\n",
      "3           4.6          3.1           1.5          0.2  setosa\n",
      "4           5.0          3.6           1.4          0.2  setosa\n"
     ]
    }
   ],
   "source": [
    "# Reading from a CSV file\n",
    "# .head() shows top n rows - by default, this is 5\n",
    "iris_df = pd.read_csv('iris.csv')\n",
    "print(iris_df.head())"
   ]
  },
  {
   "cell_type": "code",
   "execution_count": 27,
   "metadata": {},
   "outputs": [
    {
     "name": "stdout",
     "output_type": "stream",
     "text": [
      "          PLTID SPP_SYMBOL         SCIENTIFIC_NAME  CON  DBH_CM     HT_M  \\\n",
      "LIVE_ID                                                                    \n",
      "3081763  153476      ABGRC  Abies grandis/concolor    1  28.702  29.2608   \n",
      "3081764  153476      ABGRC  Abies grandis/concolor    1  40.640  29.8704   \n",
      "3081765  153476      ABGRC  Abies grandis/concolor    1  47.498  30.4800   \n",
      "3081766  153476       PSME   Pseudotsuga menziesii    1  43.180  32.6136   \n",
      "3081767  153476       PSME   Pseudotsuga menziesii    1   3.048   3.0480   \n",
      "\n",
      "          BA_M2   TPH_PLT  \n",
      "LIVE_ID                    \n",
      "3081763  0.0647   14.8708  \n",
      "3081764  0.1297   14.8708  \n",
      "3081765  0.1772   14.8708  \n",
      "3081766  0.1464   14.8708  \n",
      "3081767  0.0007  185.2421  \n"
     ]
    }
   ],
   "source": [
    "# Using an index with CSV files\n",
    "tree_df = pd.read_csv('tree.csv', index_col='LIVE_ID')\n",
    "print(tree_df.head())"
   ]
  },
  {
   "cell_type": "code",
   "execution_count": 28,
   "metadata": {},
   "outputs": [
    {
     "name": "stdout",
     "output_type": "stream",
     "text": [
      "   sepal_length  sepal_width species\n",
      "0           5.1          3.5  setosa\n",
      "1           4.9          3.0  setosa\n",
      "2           4.7          3.2  setosa\n",
      "3           4.6          3.1  setosa\n",
      "4           5.0          3.6  setosa\n"
     ]
    }
   ],
   "source": [
    "# Only bringing in certain columns\n",
    "iris_df = pd.read_csv('iris.csv', usecols=('sepal_length', 'sepal_width', 'species'))\n",
    "print(iris_df.head())"
   ]
  },
  {
   "cell_type": "code",
   "execution_count": 29,
   "metadata": {},
   "outputs": [
    {
     "name": "stdout",
     "output_type": "stream",
     "text": [
      "    PLTID  CNTY  NAT_FOREST_GIS\n",
      "0  153476    27             606\n",
      "1  153581     5             606\n",
      "2  153583     5             606\n",
      "3  153690    65             606\n",
      "4  153714    65             606\n"
     ]
    }
   ],
   "source": [
    "# Example of reading in an Excel file (requires xlrd package)\n",
    "plot_df = pd.read_excel('plot_data.xlsx')\n",
    "print(plot_df.head())"
   ]
  },
  {
   "cell_type": "markdown",
   "metadata": {
    "deletable": false,
    "editable": false,
    "run_control": {
     "frozen": true
    },
    "slideshow": {
     "slide_type": "slide"
    }
   },
   "source": [
    "### Exporting data\n",
    "Pandas supports almost the same list of output writers (excluding SAS)"
   ]
  },
  {
   "cell_type": "code",
   "execution_count": 32,
   "metadata": {},
   "outputs": [],
   "source": [
    "# Output of data frame to CSV file\n",
    "# Unless your index is meaningful, it is generatlly left out (index=False)\n",
    "iris_df.to_csv('iris_copy.csv', index=False)"
   ]
  },
  {
   "cell_type": "code",
   "execution_count": 31,
   "metadata": {},
   "outputs": [],
   "source": [
    "# Very simple way to subset columns in a CSV file and re-export\n",
    "df = pd.read_csv('plot_spatial.csv', usecols=['PLTID', 'ANNPRE', 'DEM'])\n",
    "df.to_csv('plot_spatial_subset.csv', index=False)"
   ]
  },
  {
   "cell_type": "markdown",
   "metadata": {
    "deletable": false,
    "editable": false,
    "run_control": {
     "frozen": true
    },
    "slideshow": {
     "slide_type": "slide"
    }
   },
   "source": [
    "### Modifying existing DataFrames\n",
    "#### Creating new columns\n",
    "Columns in existing dataframes can be created using the `df[var_name] = ` syntax"
   ]
  },
  {
   "cell_type": "code",
   "execution_count": 33,
   "metadata": {},
   "outputs": [
    {
     "name": "stdout",
     "output_type": "stream",
     "text": [
      "   sepal_length  sepal_width  petal_length  petal_width species  sepal_area\n",
      "0           5.1          3.5           1.4          0.2  setosa       17.85\n",
      "1           4.9          3.0           1.4          0.2  setosa       14.70\n",
      "2           4.7          3.2           1.3          0.2  setosa       15.04\n",
      "3           4.6          3.1           1.5          0.2  setosa       14.26\n",
      "4           5.0          3.6           1.4          0.2  setosa       18.00\n"
     ]
    }
   ],
   "source": [
    "# Read in the iris dataset\n",
    "iris_df = pd.read_csv('iris.csv')\n",
    "\n",
    "# New column equal to sepal_length * sepal_width\n",
    "iris_df['sepal_area'] = iris_df['sepal_length'] * iris_df['sepal_width']\n",
    "\n",
    "# Display\n",
    "print(iris_df.head())"
   ]
  },
  {
   "cell_type": "markdown",
   "metadata": {
    "deletable": false,
    "editable": false,
    "run_control": {
     "frozen": true
    }
   },
   "source": [
    "Columns on right side of equation can also be referenced using the 'dot' syntax.  Left side always has to be dictionary syntax."
   ]
  },
  {
   "cell_type": "code",
   "execution_count": 34,
   "metadata": {},
   "outputs": [
    {
     "name": "stdout",
     "output_type": "stream",
     "text": [
      "   sepal_length  sepal_width  petal_length  petal_width species  sepal_area\n",
      "0           5.1          3.5           1.4          0.2  setosa       17.85\n",
      "1           4.9          3.0           1.4          0.2  setosa       14.70\n",
      "2           4.7          3.2           1.3          0.2  setosa       15.04\n",
      "3           4.6          3.1           1.5          0.2  setosa       14.26\n",
      "4           5.0          3.6           1.4          0.2  setosa       18.00\n"
     ]
    }
   ],
   "source": [
    "# New column equal to sepal_length * sepal_width\n",
    "iris_df['sepal_area'] = iris_df.sepal_length * iris_df.sepal_width\n",
    "\n",
    "# Display\n",
    "print(iris_df.head())"
   ]
  },
  {
   "cell_type": "markdown",
   "metadata": {
    "deletable": false,
    "editable": false,
    "run_control": {
     "frozen": true
    },
    "slideshow": {
     "slide_type": "slide"
    }
   },
   "source": [
    "### Modifying existing DataFrames (cont.)\n",
    "#### Creating new rows - two main approaches"
   ]
  },
  {
   "cell_type": "markdown",
   "metadata": {
    "deletable": false,
    "editable": false,
    "run_control": {
     "frozen": true
    }
   },
   "source": [
    "Using `pd.concat` to stitch together many DataFrames"
   ]
  },
  {
   "cell_type": "code",
   "execution_count": 35,
   "metadata": {},
   "outputs": [
    {
     "name": "stdout",
     "output_type": "stream",
     "text": [
      "   A  B\n",
      "0  1  2\n",
      "1  3  4\n",
      "2  5  6\n",
      "3  7  8\n"
     ]
    }
   ],
   "source": [
    "# Sample data frame\n",
    "df1 = pd.DataFrame([[1, 2], [3, 4]], columns=('A', 'B'))\n",
    "df2 = pd.DataFrame([[5, 6], [7, 8]], columns=('A', 'B'))\n",
    "df_all = pd.concat([df1, df2], ignore_index=True)\n",
    "print(df_all.head())"
   ]
  },
  {
   "cell_type": "markdown",
   "metadata": {
    "deletable": false,
    "editable": false,
    "run_control": {
     "frozen": true
    }
   },
   "source": [
    "Stitching one or more rows onto an existing DataFrame using `df.append`.  The use of `ignore_index=True` guarantees that indexes will be unique."
   ]
  },
  {
   "cell_type": "code",
   "execution_count": 36,
   "metadata": {},
   "outputs": [
    {
     "name": "stdout",
     "output_type": "stream",
     "text": [
      "   A   B\n",
      "0  1   2\n",
      "1  3   4\n",
      "2  5   6\n",
      "3  7   8\n",
      "4  3  10\n"
     ]
    }
   ],
   "source": [
    "new_row = {'A': 3, 'B': 10}\n",
    "print(df_all.append(new_row, ignore_index=True))"
   ]
  },
  {
   "cell_type": "code",
   "execution_count": 37,
   "metadata": {},
   "outputs": [
    {
     "name": "stdout",
     "output_type": "stream",
     "text": [
      "     A    B\n",
      "0    1    2\n",
      "1    3    4\n",
      "2    5    6\n",
      "3    7    8\n",
      "4  100  200\n",
      "5   12   24\n"
     ]
    }
   ],
   "source": [
    "two_rows = [{'A': 100, 'B': 200}, {'A': 12, 'B': 24}]\n",
    "print(df_all.append(two_rows, ignore_index=True))"
   ]
  },
  {
   "cell_type": "markdown",
   "metadata": {
    "deletable": false,
    "editable": false,
    "run_control": {
     "frozen": true
    },
    "slideshow": {
     "slide_type": "slide"
    }
   },
   "source": [
    "### Modifying existing DataFrames (cont.)\n",
    "#### Dropping rows and columns"
   ]
  },
  {
   "cell_type": "code",
   "execution_count": 38,
   "metadata": {},
   "outputs": [
    {
     "name": "stdout",
     "output_type": "stream",
     "text": [
      "   B\n",
      "0  2\n",
      "1  4\n"
     ]
    }
   ],
   "source": [
    "# In-place drop of columns\n",
    "df1 = pd.DataFrame([[1, 2], [3, 4]], columns=('A', 'B'))\n",
    "df1.drop(columns=['A'], inplace=True)\n",
    "print(df1)"
   ]
  },
  {
   "cell_type": "code",
   "execution_count": 39,
   "metadata": {},
   "outputs": [
    {
     "name": "stdout",
     "output_type": "stream",
     "text": [
      "   A  B\n",
      "1  3  4\n"
     ]
    }
   ],
   "source": [
    "# In-place drop of rows\n",
    "df1 = pd.DataFrame([[1, 2], [3, 4]], columns=('A', 'B'))\n",
    "df1.drop(index=[0], inplace=True)\n",
    "print(df1)"
   ]
  },
  {
   "cell_type": "code",
   "execution_count": 40,
   "metadata": {},
   "outputs": [
    {
     "name": "stdout",
     "output_type": "stream",
     "text": [
      "   B\n",
      "1  4\n",
      "   A  B\n",
      "0  1  2\n",
      "1  3  4\n"
     ]
    }
   ],
   "source": [
    "# Non-modifying drop of rows and columns   \n",
    "df1 = pd.DataFrame([[1, 2], [3, 4]], columns=('A', 'B'))\n",
    "df2 = df1.drop(index=[0], columns=['A'])\n",
    "print(df2)\n",
    "print(df1)"
   ]
  },
  {
   "cell_type": "markdown",
   "metadata": {
    "deletable": false,
    "editable": false,
    "run_control": {
     "frozen": true
    },
    "slideshow": {
     "slide_type": "slide"
    }
   },
   "source": [
    "### Merging DataFrames\n",
    "Pandas provides a mechanism for SQL-like joins to \"stitch together\" DataFrames based on common keys between them.  Joins can be one-to-one, many-to-one or many-to-many."
   ]
  },
  {
   "cell_type": "code",
   "execution_count": 41,
   "metadata": {},
   "outputs": [
    {
     "name": "stdout",
     "output_type": "stream",
     "text": [
      "    A   B key   C   D\n",
      "0  A0  B0  K0  C0  D0\n",
      "1  A1  B1  K1  C1  D1\n",
      "2  A2  B2  K2  C2  D2\n",
      "3  A3  B3  K3  C3  D3\n"
     ]
    }
   ],
   "source": [
    "left = pd.DataFrame({\n",
    "    'key': ['K0', 'K1', 'K2', 'K3'],\n",
    "    'A': ['A0', 'A1', 'A2', 'A3'],\n",
    "    'B': ['B0', 'B1', 'B2', 'B3']\n",
    "})\n",
    "\n",
    "right = pd.DataFrame({\n",
    "    'key': ['K0', 'K1', 'K2', 'K3'],\n",
    "    'C': ['C0', 'C1', 'C2', 'C3'],\n",
    "    'D': ['D0', 'D1', 'D2', 'D3']\n",
    "})\n",
    "\n",
    "# Simple one-to-one join on column 'key'\n",
    "print(pd.merge(left, right, on='key'))"
   ]
  },
  {
   "cell_type": "markdown",
   "metadata": {
    "deletable": false,
    "editable": false,
    "run_control": {
     "frozen": true
    }
   },
   "source": [
    "The default join is an \"inner\" join where records common to each are retained.  But left, right, and outer joins are also possible.  On left, right, and outer joins, records that are not present receive 'NA' values."
   ]
  },
  {
   "cell_type": "code",
   "execution_count": 42,
   "metadata": {},
   "outputs": [
    {
     "name": "stdout",
     "output_type": "stream",
     "text": [
      "    A   B key   C   D\n",
      "0  A0  B0  K0  C0  D0\n"
     ]
    }
   ],
   "source": [
    "# Inner join (only 'K0' common to both)\n",
    "left = pd.DataFrame({\n",
    "    'key': ['K0', 'K1'],\n",
    "    'A': ['A0', 'A1'],\n",
    "    'B': ['B0', 'B1']\n",
    "})\n",
    "\n",
    "right = pd.DataFrame({\n",
    "    'key': ['K0', 'K2'],\n",
    "    'C': ['C0', 'C2'],\n",
    "    'D': ['D0', 'D2']\n",
    "})\n",
    "print(pd.merge(left, right, on='key'))"
   ]
  },
  {
   "cell_type": "code",
   "execution_count": 43,
   "metadata": {},
   "outputs": [
    {
     "name": "stdout",
     "output_type": "stream",
     "text": [
      "    A   B key    C    D\n",
      "0  A0  B0  K0   C0   D0\n",
      "1  A1  B1  K1  NaN  NaN\n"
     ]
    }
   ],
   "source": [
    "# Left join - all records from left\n",
    "print(pd.merge(left, right, on='key', how='left'))"
   ]
  },
  {
   "cell_type": "code",
   "execution_count": 44,
   "metadata": {},
   "outputs": [
    {
     "name": "stdout",
     "output_type": "stream",
     "text": [
      "     A    B key   C   D\n",
      "0   A0   B0  K0  C0  D0\n",
      "1  NaN  NaN  K2  C2  D2\n"
     ]
    }
   ],
   "source": [
    "# Right join - all records from right\n",
    "print(pd.merge(left, right, on='key', how='right'))"
   ]
  },
  {
   "cell_type": "code",
   "execution_count": 45,
   "metadata": {},
   "outputs": [
    {
     "name": "stdout",
     "output_type": "stream",
     "text": [
      "     A    B key    C    D\n",
      "0   A0   B0  K0   C0   D0\n",
      "1   A1   B1  K1  NaN  NaN\n",
      "2  NaN  NaN  K2   C2   D2\n"
     ]
    }
   ],
   "source": [
    "# Outer join - all records from both\n",
    "print(pd.merge(left, right, on='key', how='outer'))"
   ]
  },
  {
   "cell_type": "markdown",
   "metadata": {
    "deletable": false,
    "editable": false,
    "run_control": {
     "frozen": true
    },
    "slideshow": {
     "slide_type": "slide"
    }
   },
   "source": [
    "### Merging DataFrames (cont.)\n",
    "It's also possible to create one-to-many joins between DataFrames."
   ]
  },
  {
   "cell_type": "code",
   "execution_count": 46,
   "metadata": {},
   "outputs": [
    {
     "name": "stdout",
     "output_type": "stream",
     "text": [
      "   age_child first_name_child  height_child parent_name  age_parent  \\\n",
      "0         11             Bart            49       Homer          45   \n",
      "1          9             Lisa            47       Homer          45   \n",
      "2          2           Maggie            24       Homer          45   \n",
      "\n",
      "  first_name_parent  height_parent  \n",
      "0             Homer             65  \n",
      "1             Homer             65  \n",
      "2             Homer             65  \n"
     ]
    }
   ],
   "source": [
    "parent_df = pd.DataFrame([\n",
    "    {'first_name': 'Homer', 'age': 45, 'height': 65}\n",
    "])\n",
    "children_df = pd.DataFrame([\n",
    "    {'first_name': 'Bart', 'parent_name': 'Homer', 'age': 11, 'height': 49},\n",
    "    {'first_name': 'Lisa', 'parent_name': 'Homer', 'age': 9, 'height': 47},\n",
    "    {'first_name': 'Maggie', 'parent_name': 'Homer', 'age': 2, 'height': 24}\n",
    "])\n",
    "all_df = pd.merge(children_df, parent_df, left_on='parent_name', right_on='first_name', suffixes=['_child', '_parent'])\n",
    "print(all_df)"
   ]
  },
  {
   "cell_type": "markdown",
   "metadata": {
    "deletable": false,
    "editable": false,
    "run_control": {
     "frozen": true
    },
    "slideshow": {
     "slide_type": "slide"
    }
   },
   "source": [
    "### Grouping and aggregating data\n",
    "This functionality is very similar to SQL GROUP-BY queries"
   ]
  },
  {
   "cell_type": "code",
   "execution_count": 48,
   "metadata": {},
   "outputs": [
    {
     "name": "stdout",
     "output_type": "stream",
     "text": [
      "setosa\n",
      "    sepal_length  sepal_width  petal_length  petal_width species\n",
      "0            5.1          3.5           1.4          0.2  setosa\n",
      "1            4.9          3.0           1.4          0.2  setosa\n",
      "2            4.7          3.2           1.3          0.2  setosa\n",
      "3            4.6          3.1           1.5          0.2  setosa\n",
      "4            5.0          3.6           1.4          0.2  setosa\n",
      "5            5.4          3.9           1.7          0.4  setosa\n",
      "6            4.6          3.4           1.4          0.3  setosa\n",
      "7            5.0          3.4           1.5          0.2  setosa\n",
      "8            4.4          2.9           1.4          0.2  setosa\n",
      "9            4.9          3.1           1.5          0.1  setosa\n",
      "10           5.4          3.7           1.5          0.2  setosa\n",
      "11           4.8          3.4           1.6          0.2  setosa\n",
      "12           4.8          3.0           1.4          0.1  setosa\n",
      "13           4.3          3.0           1.1          0.1  setosa\n",
      "14           5.8          4.0           1.2          0.2  setosa\n",
      "15           5.7          4.4           1.5          0.4  setosa\n",
      "16           5.4          3.9           1.3          0.4  setosa\n",
      "17           5.1          3.5           1.4          0.3  setosa\n",
      "18           5.7          3.8           1.7          0.3  setosa\n",
      "19           5.1          3.8           1.5          0.3  setosa\n",
      "20           5.4          3.4           1.7          0.2  setosa\n",
      "21           5.1          3.7           1.5          0.4  setosa\n",
      "22           4.6          3.6           1.0          0.2  setosa\n",
      "23           5.1          3.3           1.7          0.5  setosa\n",
      "24           4.8          3.4           1.9          0.2  setosa\n",
      "25           5.0          3.0           1.6          0.2  setosa\n",
      "26           5.0          3.4           1.6          0.4  setosa\n",
      "27           5.2          3.5           1.5          0.2  setosa\n",
      "28           5.2          3.4           1.4          0.2  setosa\n",
      "29           4.7          3.2           1.6          0.2  setosa\n",
      "30           4.8          3.1           1.6          0.2  setosa\n",
      "31           5.4          3.4           1.5          0.4  setosa\n",
      "32           5.2          4.1           1.5          0.1  setosa\n",
      "33           5.5          4.2           1.4          0.2  setosa\n",
      "34           4.9          3.1           1.5          0.1  setosa\n",
      "35           5.0          3.2           1.2          0.2  setosa\n",
      "36           5.5          3.5           1.3          0.2  setosa\n",
      "37           4.9          3.1           1.5          0.1  setosa\n",
      "38           4.4          3.0           1.3          0.2  setosa\n",
      "39           5.1          3.4           1.5          0.2  setosa\n",
      "40           5.0          3.5           1.3          0.3  setosa\n",
      "41           4.5          2.3           1.3          0.3  setosa\n",
      "42           4.4          3.2           1.3          0.2  setosa\n",
      "43           5.0          3.5           1.6          0.6  setosa\n",
      "44           5.1          3.8           1.9          0.4  setosa\n",
      "45           4.8          3.0           1.4          0.3  setosa\n",
      "46           5.1          3.8           1.6          0.2  setosa\n",
      "47           4.6          3.2           1.4          0.2  setosa\n",
      "48           5.3          3.7           1.5          0.2  setosa\n",
      "49           5.0          3.3           1.4          0.2  setosa\n",
      "versicolor\n",
      "    sepal_length  sepal_width  petal_length  petal_width     species\n",
      "50           7.0          3.2           4.7          1.4  versicolor\n",
      "51           6.4          3.2           4.5          1.5  versicolor\n",
      "52           6.9          3.1           4.9          1.5  versicolor\n",
      "53           5.5          2.3           4.0          1.3  versicolor\n",
      "54           6.5          2.8           4.6          1.5  versicolor\n",
      "55           5.7          2.8           4.5          1.3  versicolor\n",
      "56           6.3          3.3           4.7          1.6  versicolor\n",
      "57           4.9          2.4           3.3          1.0  versicolor\n",
      "58           6.6          2.9           4.6          1.3  versicolor\n",
      "59           5.2          2.7           3.9          1.4  versicolor\n",
      "60           5.0          2.0           3.5          1.0  versicolor\n",
      "61           5.9          3.0           4.2          1.5  versicolor\n",
      "62           6.0          2.2           4.0          1.0  versicolor\n",
      "63           6.1          2.9           4.7          1.4  versicolor\n",
      "64           5.6          2.9           3.6          1.3  versicolor\n",
      "65           6.7          3.1           4.4          1.4  versicolor\n",
      "66           5.6          3.0           4.5          1.5  versicolor\n",
      "67           5.8          2.7           4.1          1.0  versicolor\n",
      "68           6.2          2.2           4.5          1.5  versicolor\n",
      "69           5.6          2.5           3.9          1.1  versicolor\n",
      "70           5.9          3.2           4.8          1.8  versicolor\n",
      "71           6.1          2.8           4.0          1.3  versicolor\n",
      "72           6.3          2.5           4.9          1.5  versicolor\n",
      "73           6.1          2.8           4.7          1.2  versicolor\n",
      "74           6.4          2.9           4.3          1.3  versicolor\n",
      "75           6.6          3.0           4.4          1.4  versicolor\n",
      "76           6.8          2.8           4.8          1.4  versicolor\n",
      "77           6.7          3.0           5.0          1.7  versicolor\n",
      "78           6.0          2.9           4.5          1.5  versicolor\n",
      "79           5.7          2.6           3.5          1.0  versicolor\n",
      "80           5.5          2.4           3.8          1.1  versicolor\n",
      "81           5.5          2.4           3.7          1.0  versicolor\n",
      "82           5.8          2.7           3.9          1.2  versicolor\n",
      "83           6.0          2.7           5.1          1.6  versicolor\n",
      "84           5.4          3.0           4.5          1.5  versicolor\n",
      "85           6.0          3.4           4.5          1.6  versicolor\n",
      "86           6.7          3.1           4.7          1.5  versicolor\n",
      "87           6.3          2.3           4.4          1.3  versicolor\n",
      "88           5.6          3.0           4.1          1.3  versicolor\n",
      "89           5.5          2.5           4.0          1.3  versicolor\n",
      "90           5.5          2.6           4.4          1.2  versicolor\n",
      "91           6.1          3.0           4.6          1.4  versicolor\n",
      "92           5.8          2.6           4.0          1.2  versicolor\n",
      "93           5.0          2.3           3.3          1.0  versicolor\n",
      "94           5.6          2.7           4.2          1.3  versicolor\n",
      "95           5.7          3.0           4.2          1.2  versicolor\n",
      "96           5.7          2.9           4.2          1.3  versicolor\n",
      "97           6.2          2.9           4.3          1.3  versicolor\n",
      "98           5.1          2.5           3.0          1.1  versicolor\n",
      "99           5.7          2.8           4.1          1.3  versicolor\n",
      "virginica\n",
      "     sepal_length  sepal_width  petal_length  petal_width    species\n",
      "100           6.3          3.3           6.0          2.5  virginica\n",
      "101           5.8          2.7           5.1          1.9  virginica\n",
      "102           7.1          3.0           5.9          2.1  virginica\n",
      "103           6.3          2.9           5.6          1.8  virginica\n",
      "104           6.5          3.0           5.8          2.2  virginica\n",
      "105           7.6          3.0           6.6          2.1  virginica\n",
      "106           4.9          2.5           4.5          1.7  virginica\n",
      "107           7.3          2.9           6.3          1.8  virginica\n",
      "108           6.7          2.5           5.8          1.8  virginica\n",
      "109           7.2          3.6           6.1          2.5  virginica\n",
      "110           6.5          3.2           5.1          2.0  virginica\n",
      "111           6.4          2.7           5.3          1.9  virginica\n",
      "112           6.8          3.0           5.5          2.1  virginica\n",
      "113           5.7          2.5           5.0          2.0  virginica\n",
      "114           5.8          2.8           5.1          2.4  virginica\n",
      "115           6.4          3.2           5.3          2.3  virginica\n",
      "116           6.5          3.0           5.5          1.8  virginica\n",
      "117           7.7          3.8           6.7          2.2  virginica\n",
      "118           7.7          2.6           6.9          2.3  virginica\n",
      "119           6.0          2.2           5.0          1.5  virginica\n",
      "120           6.9          3.2           5.7          2.3  virginica\n",
      "121           5.6          2.8           4.9          2.0  virginica\n",
      "122           7.7          2.8           6.7          2.0  virginica\n",
      "123           6.3          2.7           4.9          1.8  virginica\n",
      "124           6.7          3.3           5.7          2.1  virginica\n",
      "125           7.2          3.2           6.0          1.8  virginica\n",
      "126           6.2          2.8           4.8          1.8  virginica\n",
      "127           6.1          3.0           4.9          1.8  virginica\n",
      "128           6.4          2.8           5.6          2.1  virginica\n",
      "129           7.2          3.0           5.8          1.6  virginica\n",
      "130           7.4          2.8           6.1          1.9  virginica\n",
      "131           7.9          3.8           6.4          2.0  virginica\n",
      "132           6.4          2.8           5.6          2.2  virginica\n",
      "133           6.3          2.8           5.1          1.5  virginica\n",
      "134           6.1          2.6           5.6          1.4  virginica\n",
      "135           7.7          3.0           6.1          2.3  virginica\n",
      "136           6.3          3.4           5.6          2.4  virginica\n",
      "137           6.4          3.1           5.5          1.8  virginica\n",
      "138           6.0          3.0           4.8          1.8  virginica\n",
      "139           6.9          3.1           5.4          2.1  virginica\n",
      "140           6.7          3.1           5.6          2.4  virginica\n",
      "141           6.9          3.1           5.1          2.3  virginica\n",
      "142           5.8          2.7           5.1          1.9  virginica\n",
      "143           6.8          3.2           5.9          2.3  virginica\n",
      "144           6.7          3.3           5.7          2.5  virginica\n",
      "145           6.7          3.0           5.2          2.3  virginica\n",
      "146           6.3          2.5           5.0          1.9  virginica\n",
      "147           6.5          3.0           5.2          2.0  virginica\n",
      "148           6.2          3.4           5.4          2.3  virginica\n",
      "149           5.9          3.0           5.1          1.8  virginica\n"
     ]
    }
   ],
   "source": [
    "# Read in the iris dataset\n",
    "iris_df = pd.read_csv('iris.csv')\n",
    "\n",
    "# Use a column within the dataset to group records - we will use 'species'\n",
    "# This is very similar to an SQL group-by statement.  All records with the\n",
    "# same species get grouped together into new DataFrames\n",
    "group_df = iris_df.groupby('species')\n",
    "\n",
    "# Iterate over groups and get list of records\n",
    "for name, group in group_df:\n",
    "    print(name)\n",
    "    print(group)"
   ]
  },
  {
   "cell_type": "code",
   "execution_count": 49,
   "metadata": {},
   "outputs": [
    {
     "name": "stdout",
     "output_type": "stream",
     "text": [
      "species\n",
      "setosa        50\n",
      "versicolor    50\n",
      "virginica     50\n",
      "dtype: int64\n"
     ]
    }
   ],
   "source": [
    "# Get the sizes of the groups\n",
    "print(group_df.size())"
   ]
  },
  {
   "cell_type": "code",
   "execution_count": 50,
   "metadata": {},
   "outputs": [
    {
     "name": "stdout",
     "output_type": "stream",
     "text": [
      "           petal_length                                               \\\n",
      "                  count   mean       std  min  25%   50%    75%  max   \n",
      "species                                                                \n",
      "setosa             50.0  1.464  0.173511  1.0  1.4  1.50  1.575  1.9   \n",
      "versicolor         50.0  4.260  0.469911  3.0  4.0  4.35  4.600  5.1   \n",
      "virginica          50.0  5.552  0.551895  4.5  5.1  5.55  5.875  6.9   \n",
      "\n",
      "           petal_width        ...  sepal_length      sepal_width         \\\n",
      "                 count   mean ...           75%  max       count   mean   \n",
      "species                       ...                                         \n",
      "setosa            50.0  0.244 ...           5.2  5.8        50.0  3.418   \n",
      "versicolor        50.0  1.326 ...           6.3  7.0        50.0  2.770   \n",
      "virginica         50.0  2.026 ...           6.9  7.9        50.0  2.974   \n",
      "\n",
      "                                                   \n",
      "                 std  min    25%  50%    75%  max  \n",
      "species                                            \n",
      "setosa      0.381024  2.3  3.125  3.4  3.675  4.4  \n",
      "versicolor  0.313798  2.0  2.525  2.8  3.000  3.4  \n",
      "virginica   0.322497  2.2  2.800  3.0  3.175  3.8  \n",
      "\n",
      "[3 rows x 32 columns]\n"
     ]
    }
   ],
   "source": [
    "# Get statistical information about all columns in the group\n",
    "# This returns eight variables per column in the input\n",
    "print(group_df.describe())"
   ]
  },
  {
   "cell_type": "markdown",
   "metadata": {
    "deletable": false,
    "editable": false,
    "run_control": {
     "frozen": true
    },
    "slideshow": {
     "slide_type": "slide"
    }
   },
   "source": [
    "### Grouping and aggregating data (cont.)"
   ]
  },
  {
   "cell_type": "code",
   "execution_count": 51,
   "metadata": {},
   "outputs": [
    {
     "name": "stdout",
     "output_type": "stream",
     "text": [
      "            min_petal_width  max_petal_length\n",
      "species                                      \n",
      "setosa                  0.1               1.9\n",
      "versicolor              1.0               5.1\n",
      "virginica               1.4               6.9\n"
     ]
    }
   ],
   "source": [
    "# Specifying a separate aggregation function for each column\n",
    "# We can rename the columns during evaluation as well\n",
    "print(group_df\n",
    "         .agg({'petal_length': max, 'petal_width': min})\n",
    "         .rename(columns={\n",
    "             # Original names to new names\n",
    "             'petal_width': 'min_petal_width',\n",
    "             'petal_length': 'max_petal_length'\n",
    "         })\n",
    ")"
   ]
  },
  {
   "cell_type": "code",
   "execution_count": 52,
   "metadata": {},
   "outputs": [
    {
     "name": "stdout",
     "output_type": "stream",
     "text": [
      "            petal_length  petal_width  sepal_length  sepal_width\n",
      "species                                                         \n",
      "setosa               1.4          0.2           5.1          3.5\n",
      "versicolor           4.7          1.4           7.0          3.2\n",
      "virginica            6.0          2.5           6.3          3.3\n",
      "            petal_length  petal_width  sepal_length  sepal_width\n",
      "species                                                         \n",
      "setosa               1.4          0.2           5.0          3.3\n",
      "versicolor           4.1          1.3           5.7          2.8\n",
      "virginica            5.1          1.8           5.9          3.0\n"
     ]
    }
   ],
   "source": [
    "# An example of taking the nth row from each group\n",
    "\n",
    "# First row from each group\n",
    "print(group_df.nth(0))\n",
    "\n",
    "# Last row from each group\n",
    "print(group_df.nth(-1))"
   ]
  },
  {
   "cell_type": "markdown",
   "metadata": {
    "deletable": false,
    "editable": false,
    "run_control": {
     "frozen": true
    },
    "slideshow": {
     "slide_type": "slide"
    }
   },
   "source": [
    "### Grouping and aggregating data (cont.)"
   ]
  },
  {
   "cell_type": "code",
   "execution_count": 53,
   "metadata": {},
   "outputs": [
    {
     "name": "stdout",
     "output_type": "stream",
     "text": [
      "                      sepal_length  sepal_width  petal_width\n",
      "species petal_length                                        \n",
      "setosa  1.0               4.600000     3.600000     0.200000\n",
      "        1.1               4.300000     3.000000     0.100000\n",
      "        1.2               5.400000     3.600000     0.200000\n",
      "        1.3               4.842857     3.228571     0.257143\n",
      "        1.4               4.916667     3.333333     0.216667\n",
      "--------------------------------------------------\n",
      "                      sepal_length  sepal_width  petal_width\n",
      "species petal_length                                        \n",
      "setosa  1.0                    NaN          NaN          NaN\n",
      "        1.1                    NaN          NaN          NaN\n",
      "        1.2               0.565685     0.565685     0.000000\n",
      "        1.3               0.464963     0.502375     0.078680\n",
      "        1.4               0.301008     0.360135     0.057735\n"
     ]
    }
   ],
   "source": [
    "# It's also possible to group over more than one variable\n",
    "# Doing so creates a multi-index\n",
    "iris_df = pd.read_csv('iris.csv')\n",
    "\n",
    "# Using both 'species' and 'petal_length' as grouping fields\n",
    "group_df = iris_df.groupby(['species', 'petal_length'])\n",
    "print(group_df.mean().head())\n",
    "print('-' * 50)\n",
    "print(group_df.std().head())"
   ]
  },
  {
   "cell_type": "markdown",
   "metadata": {
    "deletable": false,
    "editable": false,
    "run_control": {
     "frozen": true
    },
    "slideshow": {
     "slide_type": "slide"
    }
   },
   "source": [
    "### Simple plotting functions for pandas data"
   ]
  },
  {
   "cell_type": "code",
   "execution_count": 54,
   "metadata": {
    "slideshow": {
     "slide_type": "-"
    }
   },
   "outputs": [
    {
     "data": {
      "image/png": "[encoded data removed]",
      "text/plain": [
       "<Figure size 432x288 with 1 Axes>"
      ]
     },
     "metadata": {},
     "output_type": "display_data"
    }
   ],
   "source": [
    "# Time series data of 1000 normally distributed random numbers,\n",
    "# for 1000 days after 1/1/2000\n",
    "ts = pd.Series(np.random.randn(1000), index=pd.date_range('1/1/2000', periods=1000))\n",
    "\n",
    "# Cumulative sum of this data\n",
    "ts = ts.cumsum()\n",
    "\n",
    "# Simple line plot\n",
    "ts.plot();"
   ]
  },
  {
   "cell_type": "code",
   "execution_count": 55,
   "metadata": {},
   "outputs": [
    {
     "data": {
      "image/png": "[encoded data removed]",
      "text/plain": [
       "<Figure size 432x288 with 1 Axes>"
      ]
     },
     "metadata": {},
     "output_type": "display_data"
    }
   ],
   "source": [
    "# Same thing for for four different series\n",
    "df = pd.DataFrame(np.random.randn(1000, 4), index=ts.index, columns=list('ABCD'))\n",
    "df = df.cumsum()\n",
    "df.plot();"
   ]
  },
  {
   "cell_type": "markdown",
   "metadata": {
    "deletable": false,
    "editable": false,
    "run_control": {
     "frozen": true
    },
    "slideshow": {
     "slide_type": "slide"
    }
   },
   "source": [
    "### Simple plotting functions for pandas data (cont.)"
   ]
  },
  {
   "cell_type": "code",
   "execution_count": 56,
   "metadata": {},
   "outputs": [
    {
     "data": {
      "image/png": "[encoded data removed]",
      "text/plain": [
       "<Figure size 432x288 with 1 Axes>"
      ]
     },
     "metadata": {},
     "output_type": "display_data"
    }
   ],
   "source": [
    "# 10 rows by 4 columns random (0-1) \n",
    "df = pd.DataFrame(np.random.rand(10, 4), columns=['a', 'b', 'c', 'd'])\n",
    "\n",
    "# Simple bar chart\n",
    "df.plot.bar();"
   ]
  },
  {
   "cell_type": "code",
   "execution_count": 57,
   "metadata": {},
   "outputs": [
    {
     "data": {
      "image/png": "[encoded data removed]",
      "text/plain": [
       "<Figure size 432x288 with 1 Axes>"
      ]
     },
     "metadata": {},
     "output_type": "display_data"
    }
   ],
   "source": [
    "# Same thing but with a stacked bar chart\n",
    "df.plot.bar(stacked=True);"
   ]
  },
  {
   "cell_type": "markdown",
   "metadata": {
    "deletable": false,
    "editable": false,
    "run_control": {
     "frozen": true
    }
   },
   "source": [
    "Dozens more examples on pandas website (http://pandas.pydata.org/pandas-docs/stable/visualization.html)"
   ]
  },
  {
   "cell_type": "markdown",
   "metadata": {
    "deletable": false,
    "editable": false,
    "run_control": {
     "frozen": true
    },
    "slideshow": {
     "slide_type": "slide"
    }
   },
   "source": [
    "## Exercises"
   ]
  },
  {
   "cell_type": "markdown",
   "metadata": {
    "deletable": false,
    "editable": false,
    "run_control": {
     "frozen": true
    }
   },
   "source": [
    "### Exercise 1: Summarizing tree data and linking to environmental data"
   ]
  },
  {
   "cell_type": "markdown",
   "metadata": {
    "deletable": false,
    "editable": false,
    "run_control": {
     "frozen": true
    }
   },
   "source": [
    "The goal for this exercise is to first summarize forest plot inventory data at the 'piece' level up to the 'stand' level and then examine its relationship with environmental variables extracted from (fuzzed) plot locations.  The tree data comes from Forest Inventory and Analysis plots.  We will perform the following tasks:\n",
    "\n",
    "* Read in tree level data from an SQLite database\n",
    "* Create a new variable to represent basal area per hectare at the tree level\n",
    "* Calculate stand level mean DBH (basal-area weighted)\n",
    "* Calculate binned classes of mean DBH\n",
    "* Read in environmental data from plot locations\n",
    "* Visualize relationships between mean DBH and spatial variables\n",
    "* Visualize relationships between spatial variables with DBH classes\n",
    "* Export all modeling data"
   ]
  },
  {
   "cell_type": "markdown",
   "metadata": {
    "deletable": false,
    "editable": false,
    "run_control": {
     "frozen": true
    }
   },
   "source": [
    "We need to import a few packages for this analysis.  Go ahead and just evaluate the following cell:"
   ]
  },
  {
   "cell_type": "code",
   "execution_count": 390,
   "metadata": {},
   "outputs": [],
   "source": [
    "%matplotlib inline\n",
    "\n",
    "# Required import statements\n",
    "import pandas as pd\n",
    "import numpy as np\n",
    "import sqlite3\n",
    "import seaborn as sns"
   ]
  },
  {
   "cell_type": "markdown",
   "metadata": {
    "deletable": false,
    "editable": false,
    "run_control": {
     "frozen": true
    }
   },
   "source": [
    "There is an SQLite database in this same directory called `tree_data.db`.  In order to read this data into pandas, you will need to first connect to the database.  You will then provide an SQL statement to direct what data to get and finally read these data into pandas using the `pd.read_sql` command.  \n",
    "\n",
    "To read data from SQLite, you need to use the `sqlite3` package.  The method you will use is called `connect` and it takes a filename as its only argument.  Run the following cell:"
   ]
  },
  {
   "cell_type": "code",
   "execution_count": 439,
   "metadata": {},
   "outputs": [],
   "source": [
    "# Read in tree data from an SQLite database\n",
    "conn = sqlite3.connect(\"tree_data.db\")"
   ]
  },
  {
   "cell_type": "markdown",
   "metadata": {
    "deletable": false,
    "editable": false,
    "run_control": {
     "frozen": true
    }
   },
   "source": [
    "Now, we need an SQL statement to tell us what data to grab.  SQLite databases have tables stored in them which are accessible by table name.  In our case we want to grab all the data from the table called `tree_data`.  Run the following cell:"
   ]
  },
  {
   "cell_type": "code",
   "execution_count": 440,
   "metadata": {},
   "outputs": [],
   "source": [
    "# Set up the SQL statement\n",
    "sql = 'SELECT * FROM tree_data'"
   ]
  },
  {
   "cell_type": "markdown",
   "metadata": {
    "deletable": false,
    "editable": false,
    "run_control": {
     "frozen": true
    }
   },
   "source": [
    "Finally, we want to use the `pd.read_sql` function to read the data from SQLite into a pandas DataFrame.  Search for help on `pd.read_sql` and see if you can read the data into a new DataFrame called `tree_df`.  You also want to print the number of records in the dataframe with the `len` function and look at the top 10 records of this DataFrame using the `head` function.  Try all of this in the following cell and copy the solution if you get stuck:"
   ]
  },
  {
   "cell_type": "code",
   "execution_count": null,
   "metadata": {
    "solution2": "hidden",
    "solution2_first": true
   },
   "outputs": [],
   "source": []
  },
  {
   "cell_type": "code",
   "execution_count": 441,
   "metadata": {
    "solution2": "hidden"
   },
   "outputs": [
    {
     "name": "stdout",
     "output_type": "stream",
     "text": [
      "Number of records:  9796\n",
      "   index  LIVE_ID   PLTID SPP_SYMBOL         SCIENTIFIC_NAME  CON  DBH_CM  \\\n",
      "0      0  3081763  153476      ABGRC  Abies grandis/concolor    1  28.702   \n",
      "1      1  3081764  153476      ABGRC  Abies grandis/concolor    1  40.640   \n",
      "2      2  3081765  153476      ABGRC  Abies grandis/concolor    1  47.498   \n",
      "3      3  3081766  153476       PSME   Pseudotsuga menziesii    1  43.180   \n",
      "4      4  3081767  153476       PSME   Pseudotsuga menziesii    1   3.048   \n",
      "5      5  3081768  153476      ABGRC  Abies grandis/concolor    1  32.512   \n",
      "6      6  3081633  153581       TSHE      Tsuga heterophylla    1  18.542   \n",
      "7      7  3081634  153581       TSHE      Tsuga heterophylla    1   5.842   \n",
      "8      8  3081635  153581       TSHE      Tsuga heterophylla    1   3.810   \n",
      "9      9  3081636  153581       TSHE      Tsuga heterophylla    1   4.572   \n",
      "\n",
      "      HT_M   BA_M2   TPH_PLT  \n",
      "0  29.2608  0.0647   14.8708  \n",
      "1  29.8704  0.1297   14.8708  \n",
      "2  30.4800  0.1772   14.8708  \n",
      "3  32.6136  0.1464   14.8708  \n",
      "4   3.0480  0.0007  185.2421  \n",
      "5  28.0416  0.0830   14.8708  \n",
      "6  14.9352  0.0270   14.8708  \n",
      "7   4.5720  0.0027  185.2421  \n",
      "8   3.6576  0.0011  185.2421  \n",
      "9   3.9624  0.0016  185.2421  \n"
     ]
    }
   ],
   "source": [
    "tree_df = pd.read_sql(sql, conn)\n",
    "print(\"Number of records: \", len(tree_df))\n",
    "print(tree_df.head(10))"
   ]
  },
  {
   "cell_type": "markdown",
   "metadata": {
    "deletable": false,
    "editable": false,
    "run_control": {
     "frozen": true
    }
   },
   "source": [
    "Now we have a DataFrame with the piece-level data.  We first need to create a field call `BAPH_PLT` that represents the tree record's basal area expanded out to a per hectare basis.  We already have the fields called `BA_M2` (tree basal area) and `TPH_PLT` (trees per hectare), so we need to multiply these two fields together to create `BAPH_PLT`.  Evaluate the following cell:"
   ]
  },
  {
   "cell_type": "code",
   "execution_count": 410,
   "metadata": {},
   "outputs": [],
   "source": [
    "# Create field of BAPH_PLT (Basal area per hectare at the plot level)\n",
    "tree_df['BAPH_PLT'] = tree_df.BA_M2 * tree_df.TPH_PLT"
   ]
  },
  {
   "cell_type": "markdown",
   "metadata": {
    "deletable": false,
    "editable": false,
    "run_control": {
     "frozen": true
    }
   },
   "source": [
    "We have what we need in the piece-level table and now we want to summarize these data at the \"stand\" level.  The field called `PLTID` signifies the stand ID so we'll want to group on this variable.  Based on what you learned about setting up grouped data, create a new DataFrame called `tree_group_df` that groups the tree data by `PLTID` in the cell below.  At this point we are only *grouping* the data and not *summarizing* it."
   ]
  },
  {
   "cell_type": "code",
   "execution_count": null,
   "metadata": {
    "solution2": "hidden",
    "solution2_first": true
   },
   "outputs": [],
   "source": []
  },
  {
   "cell_type": "code",
   "execution_count": 411,
   "metadata": {
    "solution2": "hidden"
   },
   "outputs": [],
   "source": [
    "# Group by PLTID\n",
    "tree_group_df = tree_df.groupby('PLTID')"
   ]
  },
  {
   "cell_type": "markdown",
   "metadata": {
    "deletable": false,
    "editable": false,
    "run_control": {
     "frozen": true
    }
   },
   "source": [
    "We need to create a custom function that can calculate a mean tree diameter for each stand that is weighted by the `BAPH_PLT` field we calculated previously.  The equation for this is `sum(DBH_CM * BAPH_PLT) / sum(BAPH_PLT)`.  We provide this function below (`weighted_mean`).  Go ahead and evaluate this cell."
   ]
  },
  {
   "cell_type": "code",
   "execution_count": 398,
   "metadata": {},
   "outputs": [],
   "source": [
    "# Create a function that calculates basal-area weighted \n",
    "# mean diameter.  The argument df is a DataFrame containing\n",
    "# a single groups' records.\n",
    "def weighted_mean(df):\n",
    "    return np.sum(df.DBH_CM * df.BAPH_PLT) / np.sum(df.BAPH_PLT)"
   ]
  },
  {
   "cell_type": "markdown",
   "metadata": {
    "deletable": false,
    "editable": false,
    "run_control": {
     "frozen": true
    }
   },
   "source": [
    "We will use this custom function along with our grouped DataFrame (`tree_group_df`) to calculate stand mean diameter.  Search for help on `tree_group_df.apply` in the cell below.  Then do the following:\n",
    "\n",
    "* Using the `apply` method of `tree_group_df`, calculate a series called `stand_s` (calculated mean diameter)\n",
    "* Give this series (`stand_s`) a name called 'MEAN_WT_DBH' using the `name` attribute on the next line\n",
    "\n",
    "**Hint**: the `func` argument in `apply` should be the name of the custom function we created.  There will be no other arguments to the `apply` function."
   ]
  },
  {
   "cell_type": "code",
   "execution_count": null,
   "metadata": {
    "solution2": "hidden",
    "solution2_first": true
   },
   "outputs": [],
   "source": []
  },
  {
   "cell_type": "code",
   "execution_count": 412,
   "metadata": {
    "solution2": "hidden"
   },
   "outputs": [],
   "source": [
    "# Use the weighted_mean function to aggregate the output of the group\n",
    "# using the apply method for tree_group_df\n",
    "# Then change the name of the series\n",
    "stand_s = tree_group_df.apply(weighted_mean)\n",
    "stand_s.name = 'MEAN_WT_DBH'"
   ]
  },
  {
   "cell_type": "markdown",
   "metadata": {
    "deletable": false,
    "editable": false,
    "run_control": {
     "frozen": true
    }
   },
   "source": [
    "We need to change this series back into a DataFrame and use a bit of fancy syntax to get there.  Evaluate the following cell."
   ]
  },
  {
   "cell_type": "code",
   "execution_count": 413,
   "metadata": {},
   "outputs": [],
   "source": [
    "# Change the Series back to a DataFrame\n",
    "stand_df = stand_s.to_frame().reset_index()"
   ]
  },
  {
   "cell_type": "markdown",
   "metadata": {
    "deletable": false,
    "editable": false,
    "run_control": {
     "frozen": true
    }
   },
   "source": [
    "We're nearly done with the `stand_df` DataFrame.  Our last task is to bin the values in `MEAN_WT_DBH` into classes and store this in a new column called `DBH_CLASS`.  We use the numpy method called `digitize` to bin the data.  In the cell below, the bins for the data are provided.  Search for help on `np.digitize` to figure out what arguments it takes.  You'll want to store the output of this call in a new column of `stand_df` called `DBH_CLASS`.\n",
    "\n",
    "**Hint**: The 'array-like' object that you want to pass is the series `stand_df.MEAN_WT_DBH`.  "
   ]
  },
  {
   "cell_type": "code",
   "execution_count": null,
   "metadata": {
    "solution2": "hidden",
    "solution2_first": true
   },
   "outputs": [],
   "source": [
    "bins = [0, 10, 30, 60, 100]"
   ]
  },
  {
   "cell_type": "code",
   "execution_count": 414,
   "metadata": {
    "solution2": "hidden"
   },
   "outputs": [],
   "source": [
    "# Create a categorical variable of MEAN_WT_DBH\n",
    "bins = [0, 10, 30, 60, 100]\n",
    "stand_df['DBH_CLASS'] = np.digitize(stand_df.MEAN_WT_DBH, bins)"
   ]
  },
  {
   "cell_type": "markdown",
   "metadata": {
    "deletable": false,
    "editable": false,
    "run_control": {
     "frozen": true
    }
   },
   "source": [
    "Finally, print out the number of records in `stand_df` and print the top five records (the default to `head`)"
   ]
  },
  {
   "cell_type": "code",
   "execution_count": null,
   "metadata": {
    "solution2": "hidden",
    "solution2_first": true
   },
   "outputs": [],
   "source": []
  },
  {
   "cell_type": "code",
   "execution_count": 415,
   "metadata": {
    "solution2": "hidden"
   },
   "outputs": [
    {
     "name": "stdout",
     "output_type": "stream",
     "text": [
      "Number of records:  290\n"
     ]
    },
    {
     "data": {
      "text/html": [
       "<div>\n",
       "<style scoped>\n",
       "    .dataframe tbody tr th:only-of-type {\n",
       "        vertical-align: middle;\n",
       "    }\n",
       "\n",
       "    .dataframe tbody tr th {\n",
       "        vertical-align: top;\n",
       "    }\n",
       "\n",
       "    .dataframe thead th {\n",
       "        text-align: right;\n",
       "    }\n",
       "</style>\n",
       "<table border=\"1\" class=\"dataframe\">\n",
       "  <thead>\n",
       "    <tr style=\"text-align: right;\">\n",
       "      <th></th>\n",
       "      <th>PLTID</th>\n",
       "      <th>MEAN_WT_DBH</th>\n",
       "      <th>DBH_CLASS</th>\n",
       "    </tr>\n",
       "  </thead>\n",
       "  <tbody>\n",
       "    <tr>\n",
       "      <th>0</th>\n",
       "      <td>153476</td>\n",
       "      <td>40.332135</td>\n",
       "      <td>3</td>\n",
       "    </tr>\n",
       "    <tr>\n",
       "      <th>1</th>\n",
       "      <td>153581</td>\n",
       "      <td>55.785072</td>\n",
       "      <td>3</td>\n",
       "    </tr>\n",
       "    <tr>\n",
       "      <th>2</th>\n",
       "      <td>153583</td>\n",
       "      <td>64.583678</td>\n",
       "      <td>4</td>\n",
       "    </tr>\n",
       "    <tr>\n",
       "      <th>3</th>\n",
       "      <td>153690</td>\n",
       "      <td>43.910000</td>\n",
       "      <td>3</td>\n",
       "    </tr>\n",
       "    <tr>\n",
       "      <th>4</th>\n",
       "      <td>153714</td>\n",
       "      <td>27.150262</td>\n",
       "      <td>2</td>\n",
       "    </tr>\n",
       "  </tbody>\n",
       "</table>\n",
       "</div>"
      ],
      "text/plain": [
       "    PLTID  MEAN_WT_DBH  DBH_CLASS\n",
       "0  153476    40.332135          3\n",
       "1  153581    55.785072          3\n",
       "2  153583    64.583678          4\n",
       "3  153690    43.910000          3\n",
       "4  153714    27.150262          2"
      ]
     },
     "execution_count": 415,
     "metadata": {},
     "output_type": "execute_result"
    }
   ],
   "source": [
    "print(\"Number of records: \", len(stand_df))\n",
    "stand_df.head()"
   ]
  },
  {
   "cell_type": "markdown",
   "metadata": {
    "deletable": false,
    "editable": false,
    "run_control": {
     "frozen": true
    }
   },
   "source": [
    "At this point, we have summarized the tree-level data into a stand-level DataFrame with two variables: `MEAN_WT_DBH` and `DBH_CLASS`.  We will now bring in spatial information about these plot locations.  First, import the CSV file called `plot_spatial.csv` from this directory using the `pd.read_csv` method that you saw in the overview.  Call the output DataFrame `spatial_df`.  Additionally, print the number of records and the `head` of this DataFrame."
   ]
  },
  {
   "cell_type": "code",
   "execution_count": null,
   "metadata": {
    "solution2": "hidden",
    "solution2_first": true
   },
   "outputs": [],
   "source": []
  },
  {
   "cell_type": "code",
   "execution_count": 416,
   "metadata": {
    "solution2": "hidden"
   },
   "outputs": [
    {
     "name": "stdout",
     "output_type": "stream",
     "text": [
      "Number of records:  299\n"
     ]
    },
    {
     "data": {
      "text/html": [
       "<div>\n",
       "<style scoped>\n",
       "    .dataframe tbody tr th:only-of-type {\n",
       "        vertical-align: middle;\n",
       "    }\n",
       "\n",
       "    .dataframe tbody tr th {\n",
       "        vertical-align: top;\n",
       "    }\n",
       "\n",
       "    .dataframe thead th {\n",
       "        text-align: right;\n",
       "    }\n",
       "</style>\n",
       "<table border=\"1\" class=\"dataframe\">\n",
       "  <thead>\n",
       "    <tr style=\"text-align: right;\">\n",
       "      <th></th>\n",
       "      <th>PLTID</th>\n",
       "      <th>ANNPRE</th>\n",
       "      <th>ANNTMP</th>\n",
       "      <th>AUGMAXT</th>\n",
       "      <th>DECMINT</th>\n",
       "      <th>SMRTP</th>\n",
       "      <th>LAT</th>\n",
       "      <th>LON</th>\n",
       "      <th>ASPTR</th>\n",
       "      <th>DEM</th>\n",
       "      <th>PRR</th>\n",
       "      <th>SLPPCT</th>\n",
       "      <th>TPI150</th>\n",
       "      <th>TPI300</th>\n",
       "      <th>TPI450</th>\n",
       "      <th>TC1</th>\n",
       "      <th>TC2</th>\n",
       "      <th>TC3</th>\n",
       "      <th>NBR</th>\n",
       "    </tr>\n",
       "  </thead>\n",
       "  <tbody>\n",
       "    <tr>\n",
       "      <th>0</th>\n",
       "      <td>153476</td>\n",
       "      <td>703</td>\n",
       "      <td>894</td>\n",
       "      <td>2616</td>\n",
       "      <td>-333</td>\n",
       "      <td>322</td>\n",
       "      <td>4563</td>\n",
       "      <td>-12162</td>\n",
       "      <td>131</td>\n",
       "      <td>591</td>\n",
       "      <td>9843</td>\n",
       "      <td>18</td>\n",
       "      <td>11</td>\n",
       "      <td>0</td>\n",
       "      <td>18</td>\n",
       "      <td>2172</td>\n",
       "      <td>1431</td>\n",
       "      <td>-1036</td>\n",
       "      <td>538</td>\n",
       "    </tr>\n",
       "    <tr>\n",
       "      <th>1</th>\n",
       "      <td>153581</td>\n",
       "      <td>787</td>\n",
       "      <td>868</td>\n",
       "      <td>2305</td>\n",
       "      <td>-133</td>\n",
       "      <td>226</td>\n",
       "      <td>4540</td>\n",
       "      <td>-12205</td>\n",
       "      <td>1</td>\n",
       "      <td>636</td>\n",
       "      <td>16441</td>\n",
       "      <td>19</td>\n",
       "      <td>-1</td>\n",
       "      <td>-6</td>\n",
       "      <td>0</td>\n",
       "      <td>1604</td>\n",
       "      <td>1360</td>\n",
       "      <td>-211</td>\n",
       "      <td>771</td>\n",
       "    </tr>\n",
       "    <tr>\n",
       "      <th>2</th>\n",
       "      <td>153583</td>\n",
       "      <td>736</td>\n",
       "      <td>1125</td>\n",
       "      <td>2653</td>\n",
       "      <td>125</td>\n",
       "      <td>292</td>\n",
       "      <td>4540</td>\n",
       "      <td>-12226</td>\n",
       "      <td>172</td>\n",
       "      <td>197</td>\n",
       "      <td>10872</td>\n",
       "      <td>28</td>\n",
       "      <td>-2</td>\n",
       "      <td>-3</td>\n",
       "      <td>-9</td>\n",
       "      <td>2359</td>\n",
       "      <td>2003</td>\n",
       "      <td>-524</td>\n",
       "      <td>736</td>\n",
       "    </tr>\n",
       "    <tr>\n",
       "      <th>3</th>\n",
       "      <td>153690</td>\n",
       "      <td>609</td>\n",
       "      <td>894</td>\n",
       "      <td>2814</td>\n",
       "      <td>-363</td>\n",
       "      <td>365</td>\n",
       "      <td>4527</td>\n",
       "      <td>-12136</td>\n",
       "      <td>38</td>\n",
       "      <td>691</td>\n",
       "      <td>18116</td>\n",
       "      <td>13</td>\n",
       "      <td>0</td>\n",
       "      <td>5</td>\n",
       "      <td>5</td>\n",
       "      <td>2658</td>\n",
       "      <td>976</td>\n",
       "      <td>-1461</td>\n",
       "      <td>259</td>\n",
       "    </tr>\n",
       "    <tr>\n",
       "      <th>4</th>\n",
       "      <td>153714</td>\n",
       "      <td>661</td>\n",
       "      <td>772</td>\n",
       "      <td>2644</td>\n",
       "      <td>-432</td>\n",
       "      <td>299</td>\n",
       "      <td>4515</td>\n",
       "      <td>-12150</td>\n",
       "      <td>139</td>\n",
       "      <td>829</td>\n",
       "      <td>16264</td>\n",
       "      <td>60</td>\n",
       "      <td>0</td>\n",
       "      <td>5</td>\n",
       "      <td>-16</td>\n",
       "      <td>1733</td>\n",
       "      <td>1222</td>\n",
       "      <td>-633</td>\n",
       "      <td>557</td>\n",
       "    </tr>\n",
       "  </tbody>\n",
       "</table>\n",
       "</div>"
      ],
      "text/plain": [
       "    PLTID  ANNPRE  ANNTMP  AUGMAXT  DECMINT  SMRTP   LAT    LON  ASPTR  DEM  \\\n",
       "0  153476     703     894     2616     -333    322  4563 -12162    131  591   \n",
       "1  153581     787     868     2305     -133    226  4540 -12205      1  636   \n",
       "2  153583     736    1125     2653      125    292  4540 -12226    172  197   \n",
       "3  153690     609     894     2814     -363    365  4527 -12136     38  691   \n",
       "4  153714     661     772     2644     -432    299  4515 -12150    139  829   \n",
       "\n",
       "     PRR  SLPPCT  TPI150  TPI300  TPI450   TC1   TC2   TC3  NBR  \n",
       "0   9843      18      11       0      18  2172  1431 -1036  538  \n",
       "1  16441      19      -1      -6       0  1604  1360  -211  771  \n",
       "2  10872      28      -2      -3      -9  2359  2003  -524  736  \n",
       "3  18116      13       0       5       5  2658   976 -1461  259  \n",
       "4  16264      60       0       5     -16  1733  1222  -633  557  "
      ]
     },
     "execution_count": 416,
     "metadata": {},
     "output_type": "execute_result"
    }
   ],
   "source": [
    "# Read in spatial data from a CSV file\n",
    "csv_fn = 'plot_spatial.csv'\n",
    "spatial_df = pd.read_csv(csv_fn)\n",
    "print(\"Number of records: \", len(spatial_df))\n",
    "spatial_df.head()"
   ]
  },
  {
   "cell_type": "markdown",
   "metadata": {
    "deletable": false,
    "editable": false,
    "run_control": {
     "frozen": true
    }
   },
   "source": [
    "Use the `merge` method (from the overview) to join together the `stand_df` and `spatial_df` DataFrames.  The joining item is called `PLTID`.  Call the output DataFrame `all_df` and print the number of records in it."
   ]
  },
  {
   "cell_type": "code",
   "execution_count": null,
   "metadata": {
    "solution2": "hidden",
    "solution2_first": true
   },
   "outputs": [],
   "source": []
  },
  {
   "cell_type": "code",
   "execution_count": 418,
   "metadata": {
    "solution2": "hidden"
   },
   "outputs": [
    {
     "name": "stdout",
     "output_type": "stream",
     "text": [
      "Number of records:  290\n"
     ]
    }
   ],
   "source": [
    "# Merge stand_df and spatial_df together\n",
    "all_df = stand_df.merge(spatial_df, on='PLTID')\n",
    "print(\"Number of records: \", len(all_df))"
   ]
  },
  {
   "cell_type": "markdown",
   "metadata": {
    "deletable": false,
    "editable": false,
    "run_control": {
     "frozen": true
    }
   },
   "source": [
    "It may have been hard to see, but we have fewer records in `stand_df` than we do in `spatial_df`.  This isn't because we somehow forgot to include these tree records, but rather that these plots have no trees measured on them.  We need to do a LEFT merge using the DataFrame with more records (`spatial_df`) as the left table.  This syntax is seen below.  Go ahead and evaluate this cell. "
   ]
  },
  {
   "cell_type": "code",
   "execution_count": 550,
   "metadata": {},
   "outputs": [
    {
     "name": "stdout",
     "output_type": "stream",
     "text": [
      "299\n"
     ]
    },
    {
     "data": {
      "text/html": [
       "<div>\n",
       "<style scoped>\n",
       "    .dataframe tbody tr th:only-of-type {\n",
       "        vertical-align: middle;\n",
       "    }\n",
       "\n",
       "    .dataframe tbody tr th {\n",
       "        vertical-align: top;\n",
       "    }\n",
       "\n",
       "    .dataframe thead th {\n",
       "        text-align: right;\n",
       "    }\n",
       "</style>\n",
       "<table border=\"1\" class=\"dataframe\">\n",
       "  <thead>\n",
       "    <tr style=\"text-align: right;\">\n",
       "      <th></th>\n",
       "      <th>PLTID</th>\n",
       "      <th>ANNPRE</th>\n",
       "      <th>ANNTMP</th>\n",
       "      <th>AUGMAXT</th>\n",
       "      <th>DECMINT</th>\n",
       "      <th>SMRTP</th>\n",
       "      <th>LAT</th>\n",
       "      <th>LON</th>\n",
       "      <th>ASPTR</th>\n",
       "      <th>DEM</th>\n",
       "      <th>...</th>\n",
       "      <th>SLPPCT</th>\n",
       "      <th>TPI150</th>\n",
       "      <th>TPI300</th>\n",
       "      <th>TPI450</th>\n",
       "      <th>TC1</th>\n",
       "      <th>TC2</th>\n",
       "      <th>TC3</th>\n",
       "      <th>NBR</th>\n",
       "      <th>MEAN_WT_DBH</th>\n",
       "      <th>DBH_CLASS</th>\n",
       "    </tr>\n",
       "  </thead>\n",
       "  <tbody>\n",
       "    <tr>\n",
       "      <th>0</th>\n",
       "      <td>153476</td>\n",
       "      <td>703</td>\n",
       "      <td>894</td>\n",
       "      <td>2616</td>\n",
       "      <td>-333</td>\n",
       "      <td>322</td>\n",
       "      <td>4563</td>\n",
       "      <td>-12162</td>\n",
       "      <td>131</td>\n",
       "      <td>591</td>\n",
       "      <td>...</td>\n",
       "      <td>18</td>\n",
       "      <td>11</td>\n",
       "      <td>0</td>\n",
       "      <td>18</td>\n",
       "      <td>2172</td>\n",
       "      <td>1431</td>\n",
       "      <td>-1036</td>\n",
       "      <td>538</td>\n",
       "      <td>40.332135</td>\n",
       "      <td>3.0</td>\n",
       "    </tr>\n",
       "    <tr>\n",
       "      <th>1</th>\n",
       "      <td>153581</td>\n",
       "      <td>787</td>\n",
       "      <td>868</td>\n",
       "      <td>2305</td>\n",
       "      <td>-133</td>\n",
       "      <td>226</td>\n",
       "      <td>4540</td>\n",
       "      <td>-12205</td>\n",
       "      <td>1</td>\n",
       "      <td>636</td>\n",
       "      <td>...</td>\n",
       "      <td>19</td>\n",
       "      <td>-1</td>\n",
       "      <td>-6</td>\n",
       "      <td>0</td>\n",
       "      <td>1604</td>\n",
       "      <td>1360</td>\n",
       "      <td>-211</td>\n",
       "      <td>771</td>\n",
       "      <td>55.785072</td>\n",
       "      <td>3.0</td>\n",
       "    </tr>\n",
       "    <tr>\n",
       "      <th>2</th>\n",
       "      <td>153583</td>\n",
       "      <td>736</td>\n",
       "      <td>1125</td>\n",
       "      <td>2653</td>\n",
       "      <td>125</td>\n",
       "      <td>292</td>\n",
       "      <td>4540</td>\n",
       "      <td>-12226</td>\n",
       "      <td>172</td>\n",
       "      <td>197</td>\n",
       "      <td>...</td>\n",
       "      <td>28</td>\n",
       "      <td>-2</td>\n",
       "      <td>-3</td>\n",
       "      <td>-9</td>\n",
       "      <td>2359</td>\n",
       "      <td>2003</td>\n",
       "      <td>-524</td>\n",
       "      <td>736</td>\n",
       "      <td>64.583678</td>\n",
       "      <td>4.0</td>\n",
       "    </tr>\n",
       "    <tr>\n",
       "      <th>3</th>\n",
       "      <td>153690</td>\n",
       "      <td>609</td>\n",
       "      <td>894</td>\n",
       "      <td>2814</td>\n",
       "      <td>-363</td>\n",
       "      <td>365</td>\n",
       "      <td>4527</td>\n",
       "      <td>-12136</td>\n",
       "      <td>38</td>\n",
       "      <td>691</td>\n",
       "      <td>...</td>\n",
       "      <td>13</td>\n",
       "      <td>0</td>\n",
       "      <td>5</td>\n",
       "      <td>5</td>\n",
       "      <td>2658</td>\n",
       "      <td>976</td>\n",
       "      <td>-1461</td>\n",
       "      <td>259</td>\n",
       "      <td>43.910000</td>\n",
       "      <td>3.0</td>\n",
       "    </tr>\n",
       "    <tr>\n",
       "      <th>4</th>\n",
       "      <td>153714</td>\n",
       "      <td>661</td>\n",
       "      <td>772</td>\n",
       "      <td>2644</td>\n",
       "      <td>-432</td>\n",
       "      <td>299</td>\n",
       "      <td>4515</td>\n",
       "      <td>-12150</td>\n",
       "      <td>139</td>\n",
       "      <td>829</td>\n",
       "      <td>...</td>\n",
       "      <td>60</td>\n",
       "      <td>0</td>\n",
       "      <td>5</td>\n",
       "      <td>-16</td>\n",
       "      <td>1733</td>\n",
       "      <td>1222</td>\n",
       "      <td>-633</td>\n",
       "      <td>557</td>\n",
       "      <td>27.150262</td>\n",
       "      <td>2.0</td>\n",
       "    </tr>\n",
       "    <tr>\n",
       "      <th>5</th>\n",
       "      <td>153716</td>\n",
       "      <td>620</td>\n",
       "      <td>807</td>\n",
       "      <td>2781</td>\n",
       "      <td>-463</td>\n",
       "      <td>333</td>\n",
       "      <td>4501</td>\n",
       "      <td>-12149</td>\n",
       "      <td>13</td>\n",
       "      <td>764</td>\n",
       "      <td>...</td>\n",
       "      <td>31</td>\n",
       "      <td>-5</td>\n",
       "      <td>-11</td>\n",
       "      <td>-15</td>\n",
       "      <td>2105</td>\n",
       "      <td>937</td>\n",
       "      <td>-1243</td>\n",
       "      <td>320</td>\n",
       "      <td>48.412984</td>\n",
       "      <td>3.0</td>\n",
       "    </tr>\n",
       "    <tr>\n",
       "      <th>6</th>\n",
       "      <td>153734</td>\n",
       "      <td>750</td>\n",
       "      <td>772</td>\n",
       "      <td>2465</td>\n",
       "      <td>-267</td>\n",
       "      <td>244</td>\n",
       "      <td>4491</td>\n",
       "      <td>-12198</td>\n",
       "      <td>200</td>\n",
       "      <td>1034</td>\n",
       "      <td>...</td>\n",
       "      <td>34</td>\n",
       "      <td>-7</td>\n",
       "      <td>-15</td>\n",
       "      <td>-19</td>\n",
       "      <td>2216</td>\n",
       "      <td>1647</td>\n",
       "      <td>-387</td>\n",
       "      <td>672</td>\n",
       "      <td>23.484662</td>\n",
       "      <td>2.0</td>\n",
       "    </tr>\n",
       "    <tr>\n",
       "      <th>7</th>\n",
       "      <td>153737</td>\n",
       "      <td>742</td>\n",
       "      <td>688</td>\n",
       "      <td>2346</td>\n",
       "      <td>-369</td>\n",
       "      <td>233</td>\n",
       "      <td>4511</td>\n",
       "      <td>-12185</td>\n",
       "      <td>76</td>\n",
       "      <td>1125</td>\n",
       "      <td>...</td>\n",
       "      <td>2</td>\n",
       "      <td>1</td>\n",
       "      <td>5</td>\n",
       "      <td>12</td>\n",
       "      <td>2363</td>\n",
       "      <td>1099</td>\n",
       "      <td>-1255</td>\n",
       "      <td>354</td>\n",
       "      <td>66.456546</td>\n",
       "      <td>4.0</td>\n",
       "    </tr>\n",
       "    <tr>\n",
       "      <th>8</th>\n",
       "      <td>153743</td>\n",
       "      <td>790</td>\n",
       "      <td>885</td>\n",
       "      <td>2383</td>\n",
       "      <td>-100</td>\n",
       "      <td>234</td>\n",
       "      <td>4555</td>\n",
       "      <td>-12212</td>\n",
       "      <td>25</td>\n",
       "      <td>657</td>\n",
       "      <td>...</td>\n",
       "      <td>2</td>\n",
       "      <td>9</td>\n",
       "      <td>9</td>\n",
       "      <td>4</td>\n",
       "      <td>2009</td>\n",
       "      <td>1709</td>\n",
       "      <td>-206</td>\n",
       "      <td>795</td>\n",
       "      <td>49.614463</td>\n",
       "      <td>3.0</td>\n",
       "    </tr>\n",
       "    <tr>\n",
       "      <th>9</th>\n",
       "      <td>153745</td>\n",
       "      <td>800</td>\n",
       "      <td>793</td>\n",
       "      <td>2322</td>\n",
       "      <td>-208</td>\n",
       "      <td>219</td>\n",
       "      <td>4545</td>\n",
       "      <td>-12191</td>\n",
       "      <td>145</td>\n",
       "      <td>878</td>\n",
       "      <td>...</td>\n",
       "      <td>17</td>\n",
       "      <td>0</td>\n",
       "      <td>3</td>\n",
       "      <td>0</td>\n",
       "      <td>1712</td>\n",
       "      <td>1650</td>\n",
       "      <td>-157</td>\n",
       "      <td>801</td>\n",
       "      <td>86.975244</td>\n",
       "      <td>4.0</td>\n",
       "    </tr>\n",
       "    <tr>\n",
       "      <th>10</th>\n",
       "      <td>153747</td>\n",
       "      <td>770</td>\n",
       "      <td>766</td>\n",
       "      <td>2237</td>\n",
       "      <td>-236</td>\n",
       "      <td>222</td>\n",
       "      <td>4530</td>\n",
       "      <td>-12191</td>\n",
       "      <td>131</td>\n",
       "      <td>896</td>\n",
       "      <td>...</td>\n",
       "      <td>58</td>\n",
       "      <td>1</td>\n",
       "      <td>-3</td>\n",
       "      <td>-20</td>\n",
       "      <td>1634</td>\n",
       "      <td>1394</td>\n",
       "      <td>-292</td>\n",
       "      <td>746</td>\n",
       "      <td>74.966615</td>\n",
       "      <td>4.0</td>\n",
       "    </tr>\n",
       "    <tr>\n",
       "      <th>11</th>\n",
       "      <td>153753</td>\n",
       "      <td>762</td>\n",
       "      <td>392</td>\n",
       "      <td>2126</td>\n",
       "      <td>-737</td>\n",
       "      <td>173</td>\n",
       "      <td>4392</td>\n",
       "      <td>-12182</td>\n",
       "      <td>74</td>\n",
       "      <td>1807</td>\n",
       "      <td>...</td>\n",
       "      <td>26</td>\n",
       "      <td>-1</td>\n",
       "      <td>4</td>\n",
       "      <td>20</td>\n",
       "      <td>1266</td>\n",
       "      <td>795</td>\n",
       "      <td>-466</td>\n",
       "      <td>538</td>\n",
       "      <td>34.144032</td>\n",
       "      <td>3.0</td>\n",
       "    </tr>\n",
       "    <tr>\n",
       "      <th>12</th>\n",
       "      <td>153757</td>\n",
       "      <td>782</td>\n",
       "      <td>835</td>\n",
       "      <td>2411</td>\n",
       "      <td>-132</td>\n",
       "      <td>233</td>\n",
       "      <td>4472</td>\n",
       "      <td>-12230</td>\n",
       "      <td>4</td>\n",
       "      <td>912</td>\n",
       "      <td>...</td>\n",
       "      <td>37</td>\n",
       "      <td>7</td>\n",
       "      <td>-25</td>\n",
       "      <td>-29</td>\n",
       "      <td>1826</td>\n",
       "      <td>1309</td>\n",
       "      <td>-1423</td>\n",
       "      <td>361</td>\n",
       "      <td>26.997712</td>\n",
       "      <td>2.0</td>\n",
       "    </tr>\n",
       "    <tr>\n",
       "      <th>13</th>\n",
       "      <td>153761</td>\n",
       "      <td>704</td>\n",
       "      <td>783</td>\n",
       "      <td>2587</td>\n",
       "      <td>-477</td>\n",
       "      <td>310</td>\n",
       "      <td>4150</td>\n",
       "      <td>-12179</td>\n",
       "      <td>1</td>\n",
       "      <td>1704</td>\n",
       "      <td>...</td>\n",
       "      <td>24</td>\n",
       "      <td>5</td>\n",
       "      <td>-8</td>\n",
       "      <td>-4</td>\n",
       "      <td>2261</td>\n",
       "      <td>894</td>\n",
       "      <td>-1305</td>\n",
       "      <td>261</td>\n",
       "      <td>44.959571</td>\n",
       "      <td>3.0</td>\n",
       "    </tr>\n",
       "    <tr>\n",
       "      <th>14</th>\n",
       "      <td>153765</td>\n",
       "      <td>775</td>\n",
       "      <td>904</td>\n",
       "      <td>2495</td>\n",
       "      <td>-43</td>\n",
       "      <td>254</td>\n",
       "      <td>4461</td>\n",
       "      <td>-12214</td>\n",
       "      <td>133</td>\n",
       "      <td>923</td>\n",
       "      <td>...</td>\n",
       "      <td>33</td>\n",
       "      <td>-11</td>\n",
       "      <td>-28</td>\n",
       "      <td>-16</td>\n",
       "      <td>1705</td>\n",
       "      <td>1534</td>\n",
       "      <td>-66</td>\n",
       "      <td>834</td>\n",
       "      <td>100.572260</td>\n",
       "      <td>5.0</td>\n",
       "    </tr>\n",
       "    <tr>\n",
       "      <th>15</th>\n",
       "      <td>153767</td>\n",
       "      <td>753</td>\n",
       "      <td>650</td>\n",
       "      <td>2361</td>\n",
       "      <td>-385</td>\n",
       "      <td>221</td>\n",
       "      <td>4441</td>\n",
       "      <td>-12193</td>\n",
       "      <td>189</td>\n",
       "      <td>1280</td>\n",
       "      <td>...</td>\n",
       "      <td>1</td>\n",
       "      <td>0</td>\n",
       "      <td>-7</td>\n",
       "      <td>-10</td>\n",
       "      <td>1850</td>\n",
       "      <td>791</td>\n",
       "      <td>-967</td>\n",
       "      <td>319</td>\n",
       "      <td>30.170809</td>\n",
       "      <td>3.0</td>\n",
       "    </tr>\n",
       "    <tr>\n",
       "      <th>16</th>\n",
       "      <td>153779</td>\n",
       "      <td>710</td>\n",
       "      <td>636</td>\n",
       "      <td>2403</td>\n",
       "      <td>-468</td>\n",
       "      <td>241</td>\n",
       "      <td>4480</td>\n",
       "      <td>-12164</td>\n",
       "      <td>69</td>\n",
       "      <td>1286</td>\n",
       "      <td>...</td>\n",
       "      <td>23</td>\n",
       "      <td>-8</td>\n",
       "      <td>-30</td>\n",
       "      <td>-39</td>\n",
       "      <td>1854</td>\n",
       "      <td>1396</td>\n",
       "      <td>-415</td>\n",
       "      <td>664</td>\n",
       "      <td>47.572641</td>\n",
       "      <td>3.0</td>\n",
       "    </tr>\n",
       "    <tr>\n",
       "      <th>17</th>\n",
       "      <td>153810</td>\n",
       "      <td>641</td>\n",
       "      <td>853</td>\n",
       "      <td>2711</td>\n",
       "      <td>-355</td>\n",
       "      <td>328</td>\n",
       "      <td>4462</td>\n",
       "      <td>-12162</td>\n",
       "      <td>0</td>\n",
       "      <td>1055</td>\n",
       "      <td>...</td>\n",
       "      <td>4</td>\n",
       "      <td>0</td>\n",
       "      <td>0</td>\n",
       "      <td>7</td>\n",
       "      <td>2398</td>\n",
       "      <td>837</td>\n",
       "      <td>-1643</td>\n",
       "      <td>186</td>\n",
       "      <td>88.002678</td>\n",
       "      <td>4.0</td>\n",
       "    </tr>\n",
       "    <tr>\n",
       "      <th>18</th>\n",
       "      <td>153812</td>\n",
       "      <td>630</td>\n",
       "      <td>742</td>\n",
       "      <td>2576</td>\n",
       "      <td>-421</td>\n",
       "      <td>299</td>\n",
       "      <td>4446</td>\n",
       "      <td>-12156</td>\n",
       "      <td>187</td>\n",
       "      <td>1225</td>\n",
       "      <td>...</td>\n",
       "      <td>7</td>\n",
       "      <td>3</td>\n",
       "      <td>8</td>\n",
       "      <td>11</td>\n",
       "      <td>2455</td>\n",
       "      <td>1061</td>\n",
       "      <td>-1285</td>\n",
       "      <td>272</td>\n",
       "      <td>18.891729</td>\n",
       "      <td>2.0</td>\n",
       "    </tr>\n",
       "    <tr>\n",
       "      <th>19</th>\n",
       "      <td>153832</td>\n",
       "      <td>645</td>\n",
       "      <td>1120</td>\n",
       "      <td>3077</td>\n",
       "      <td>-137</td>\n",
       "      <td>363</td>\n",
       "      <td>4241</td>\n",
       "      <td>-12257</td>\n",
       "      <td>175</td>\n",
       "      <td>635</td>\n",
       "      <td>...</td>\n",
       "      <td>5</td>\n",
       "      <td>0</td>\n",
       "      <td>2</td>\n",
       "      <td>2</td>\n",
       "      <td>2838</td>\n",
       "      <td>869</td>\n",
       "      <td>-1343</td>\n",
       "      <td>271</td>\n",
       "      <td>34.350993</td>\n",
       "      <td>3.0</td>\n",
       "    </tr>\n",
       "    <tr>\n",
       "      <th>20</th>\n",
       "      <td>153853</td>\n",
       "      <td>732</td>\n",
       "      <td>1011</td>\n",
       "      <td>2748</td>\n",
       "      <td>-30</td>\n",
       "      <td>288</td>\n",
       "      <td>4338</td>\n",
       "      <td>-12272</td>\n",
       "      <td>100</td>\n",
       "      <td>892</td>\n",
       "      <td>...</td>\n",
       "      <td>14</td>\n",
       "      <td>2</td>\n",
       "      <td>6</td>\n",
       "      <td>10</td>\n",
       "      <td>2003</td>\n",
       "      <td>1332</td>\n",
       "      <td>-595</td>\n",
       "      <td>617</td>\n",
       "      <td>81.797541</td>\n",
       "      <td>4.0</td>\n",
       "    </tr>\n",
       "    <tr>\n",
       "      <th>21</th>\n",
       "      <td>153855</td>\n",
       "      <td>759</td>\n",
       "      <td>736</td>\n",
       "      <td>2224</td>\n",
       "      <td>-212</td>\n",
       "      <td>216</td>\n",
       "      <td>4358</td>\n",
       "      <td>-12261</td>\n",
       "      <td>37</td>\n",
       "      <td>1391</td>\n",
       "      <td>...</td>\n",
       "      <td>28</td>\n",
       "      <td>-5</td>\n",
       "      <td>-15</td>\n",
       "      <td>-73</td>\n",
       "      <td>1891</td>\n",
       "      <td>1600</td>\n",
       "      <td>-240</td>\n",
       "      <td>764</td>\n",
       "      <td>46.220115</td>\n",
       "      <td>3.0</td>\n",
       "    </tr>\n",
       "    <tr>\n",
       "      <th>22</th>\n",
       "      <td>153876</td>\n",
       "      <td>723</td>\n",
       "      <td>912</td>\n",
       "      <td>2722</td>\n",
       "      <td>-194</td>\n",
       "      <td>276</td>\n",
       "      <td>4323</td>\n",
       "      <td>-12235</td>\n",
       "      <td>192</td>\n",
       "      <td>1085</td>\n",
       "      <td>...</td>\n",
       "      <td>9</td>\n",
       "      <td>2</td>\n",
       "      <td>15</td>\n",
       "      <td>51</td>\n",
       "      <td>1928</td>\n",
       "      <td>1895</td>\n",
       "      <td>-53</td>\n",
       "      <td>862</td>\n",
       "      <td>90.123327</td>\n",
       "      <td>4.0</td>\n",
       "    </tr>\n",
       "    <tr>\n",
       "      <th>23</th>\n",
       "      <td>153879</td>\n",
       "      <td>779</td>\n",
       "      <td>863</td>\n",
       "      <td>2483</td>\n",
       "      <td>-150</td>\n",
       "      <td>240</td>\n",
       "      <td>4427</td>\n",
       "      <td>-12241</td>\n",
       "      <td>1</td>\n",
       "      <td>1000</td>\n",
       "      <td>...</td>\n",
       "      <td>10</td>\n",
       "      <td>-10</td>\n",
       "      <td>-15</td>\n",
       "      <td>-29</td>\n",
       "      <td>2951</td>\n",
       "      <td>1289</td>\n",
       "      <td>-1575</td>\n",
       "      <td>333</td>\n",
       "      <td>20.479046</td>\n",
       "      <td>2.0</td>\n",
       "    </tr>\n",
       "    <tr>\n",
       "      <th>24</th>\n",
       "      <td>153897</td>\n",
       "      <td>758</td>\n",
       "      <td>986</td>\n",
       "      <td>2715</td>\n",
       "      <td>-28</td>\n",
       "      <td>287</td>\n",
       "      <td>4411</td>\n",
       "      <td>-12234</td>\n",
       "      <td>3</td>\n",
       "      <td>737</td>\n",
       "      <td>...</td>\n",
       "      <td>37</td>\n",
       "      <td>-16</td>\n",
       "      <td>-20</td>\n",
       "      <td>12</td>\n",
       "      <td>3219</td>\n",
       "      <td>980</td>\n",
       "      <td>-2198</td>\n",
       "      <td>148</td>\n",
       "      <td>NaN</td>\n",
       "      <td>NaN</td>\n",
       "    </tr>\n",
       "  </tbody>\n",
       "</table>\n",
       "<p>25 rows × 21 columns</p>\n",
       "</div>"
      ],
      "text/plain": [
       "     PLTID  ANNPRE  ANNTMP  AUGMAXT  DECMINT  SMRTP   LAT    LON  ASPTR   DEM  \\\n",
       "0   153476     703     894     2616     -333    322  4563 -12162    131   591   \n",
       "1   153581     787     868     2305     -133    226  4540 -12205      1   636   \n",
       "2   153583     736    1125     2653      125    292  4540 -12226    172   197   \n",
       "3   153690     609     894     2814     -363    365  4527 -12136     38   691   \n",
       "4   153714     661     772     2644     -432    299  4515 -12150    139   829   \n",
       "5   153716     620     807     2781     -463    333  4501 -12149     13   764   \n",
       "6   153734     750     772     2465     -267    244  4491 -12198    200  1034   \n",
       "7   153737     742     688     2346     -369    233  4511 -12185     76  1125   \n",
       "8   153743     790     885     2383     -100    234  4555 -12212     25   657   \n",
       "9   153745     800     793     2322     -208    219  4545 -12191    145   878   \n",
       "10  153747     770     766     2237     -236    222  4530 -12191    131   896   \n",
       "11  153753     762     392     2126     -737    173  4392 -12182     74  1807   \n",
       "12  153757     782     835     2411     -132    233  4472 -12230      4   912   \n",
       "13  153761     704     783     2587     -477    310  4150 -12179      1  1704   \n",
       "14  153765     775     904     2495      -43    254  4461 -12214    133   923   \n",
       "15  153767     753     650     2361     -385    221  4441 -12193    189  1280   \n",
       "16  153779     710     636     2403     -468    241  4480 -12164     69  1286   \n",
       "17  153810     641     853     2711     -355    328  4462 -12162      0  1055   \n",
       "18  153812     630     742     2576     -421    299  4446 -12156    187  1225   \n",
       "19  153832     645    1120     3077     -137    363  4241 -12257    175   635   \n",
       "20  153853     732    1011     2748      -30    288  4338 -12272    100   892   \n",
       "21  153855     759     736     2224     -212    216  4358 -12261     37  1391   \n",
       "22  153876     723     912     2722     -194    276  4323 -12235    192  1085   \n",
       "23  153879     779     863     2483     -150    240  4427 -12241      1  1000   \n",
       "24  153897     758     986     2715      -28    287  4411 -12234      3   737   \n",
       "\n",
       "      ...      SLPPCT  TPI150  TPI300  TPI450   TC1   TC2   TC3  NBR  \\\n",
       "0     ...          18      11       0      18  2172  1431 -1036  538   \n",
       "1     ...          19      -1      -6       0  1604  1360  -211  771   \n",
       "2     ...          28      -2      -3      -9  2359  2003  -524  736   \n",
       "3     ...          13       0       5       5  2658   976 -1461  259   \n",
       "4     ...          60       0       5     -16  1733  1222  -633  557   \n",
       "5     ...          31      -5     -11     -15  2105   937 -1243  320   \n",
       "6     ...          34      -7     -15     -19  2216  1647  -387  672   \n",
       "7     ...           2       1       5      12  2363  1099 -1255  354   \n",
       "8     ...           2       9       9       4  2009  1709  -206  795   \n",
       "9     ...          17       0       3       0  1712  1650  -157  801   \n",
       "10    ...          58       1      -3     -20  1634  1394  -292  746   \n",
       "11    ...          26      -1       4      20  1266   795  -466  538   \n",
       "12    ...          37       7     -25     -29  1826  1309 -1423  361   \n",
       "13    ...          24       5      -8      -4  2261   894 -1305  261   \n",
       "14    ...          33     -11     -28     -16  1705  1534   -66  834   \n",
       "15    ...           1       0      -7     -10  1850   791  -967  319   \n",
       "16    ...          23      -8     -30     -39  1854  1396  -415  664   \n",
       "17    ...           4       0       0       7  2398   837 -1643  186   \n",
       "18    ...           7       3       8      11  2455  1061 -1285  272   \n",
       "19    ...           5       0       2       2  2838   869 -1343  271   \n",
       "20    ...          14       2       6      10  2003  1332  -595  617   \n",
       "21    ...          28      -5     -15     -73  1891  1600  -240  764   \n",
       "22    ...           9       2      15      51  1928  1895   -53  862   \n",
       "23    ...          10     -10     -15     -29  2951  1289 -1575  333   \n",
       "24    ...          37     -16     -20      12  3219   980 -2198  148   \n",
       "\n",
       "    MEAN_WT_DBH  DBH_CLASS  \n",
       "0     40.332135        3.0  \n",
       "1     55.785072        3.0  \n",
       "2     64.583678        4.0  \n",
       "3     43.910000        3.0  \n",
       "4     27.150262        2.0  \n",
       "5     48.412984        3.0  \n",
       "6     23.484662        2.0  \n",
       "7     66.456546        4.0  \n",
       "8     49.614463        3.0  \n",
       "9     86.975244        4.0  \n",
       "10    74.966615        4.0  \n",
       "11    34.144032        3.0  \n",
       "12    26.997712        2.0  \n",
       "13    44.959571        3.0  \n",
       "14   100.572260        5.0  \n",
       "15    30.170809        3.0  \n",
       "16    47.572641        3.0  \n",
       "17    88.002678        4.0  \n",
       "18    18.891729        2.0  \n",
       "19    34.350993        3.0  \n",
       "20    81.797541        4.0  \n",
       "21    46.220115        3.0  \n",
       "22    90.123327        4.0  \n",
       "23    20.479046        2.0  \n",
       "24          NaN        NaN  \n",
       "\n",
       "[25 rows x 21 columns]"
      ]
     },
     "execution_count": 550,
     "metadata": {},
     "output_type": "execute_result"
    }
   ],
   "source": [
    "# Missing records on merge - instead do left join\n",
    "all_df = spatial_df.merge(stand_df, how='left', on='PLTID')\n",
    "print(len(all_df))\n",
    "all_df.head(25)"
   ]
  },
  {
   "cell_type": "markdown",
   "metadata": {
    "deletable": false,
    "editable": false,
    "run_control": {
     "frozen": true
    }
   },
   "source": [
    "Take a look at the last record in the DataFrame above and scroll all the way over to the right.  You'll see that where we didn't have data in the `stand_df` table, we now have `NaN` values for `MEAN_WT_DBH` and `DBH_CLASS`.  It's reasonable in this context to set `MEAN_WT_DBH` to 0.0 and `DBH_CLASS` to 1 as these are stands with no trees.  \n",
    "\n",
    "Look up help for `all_df.fillna`.  We want to first create a dictionary of fill values with these key/value pairs:\n",
    "* 'MEAN_WT_DBH': 0.0\n",
    "* 'DBH_CLASS: 1\n",
    "\n",
    "Then pass this dictionary to the `value` keyword in the `fillna` function to fill multiple columns at once.  Reassign the output to `all_df` (rewriting the current `all_df`. "
   ]
  },
  {
   "cell_type": "code",
   "execution_count": null,
   "metadata": {
    "solution2": "hidden",
    "solution2_first": true
   },
   "outputs": [],
   "source": []
  },
  {
   "cell_type": "code",
   "execution_count": 387,
   "metadata": {
    "solution2": "hidden"
   },
   "outputs": [],
   "source": [
    "# Fill in NaNs for MEAN_WT_DBH (= 0.0) and DBH_CLASS (= 1)\n",
    "fill_values = {'MEAN_WT_DBH': 0.0, 'DBH_CLASS': 1}\n",
    "all_df = all_df.fillna(value=fill_values)"
   ]
  },
  {
   "cell_type": "markdown",
   "metadata": {
    "deletable": false,
    "editable": false,
    "run_control": {
     "frozen": true
    }
   },
   "source": [
    "Now we have a DataFrame that has both vegetation data and environmental data that can be used in many different modeling contexts.  (Unfortunately, because the spatial variables are extracted from \"fuzzed\" coordinates, this dataset is not terribly reliable for modeling, so we won't use it in further lessons).  But we can do some visualizations of how the `MEAN_WT_DBH` and `DBH_CLASS` variables relate to environmental variables.  I've provided the code below for a few visualizations, but try to play around with the arguments to create new visualizations."
   ]
  },
  {
   "cell_type": "code",
   "execution_count": 434,
   "metadata": {},
   "outputs": [
    {
     "name": "stdout",
     "output_type": "stream",
     "text": [
      "['PLTID', 'ANNPRE', 'ANNTMP', 'AUGMAXT', 'DECMINT', 'SMRTP', 'LAT', 'LON', 'ASPTR', 'DEM', 'PRR', 'SLPPCT', 'TPI150', 'TPI300', 'TPI450', 'TC1', 'TC2', 'TC3', 'NBR', 'MEAN_WT_DBH']\n"
     ]
    },
    {
     "data": {
      "text/plain": [
       "array([[<matplotlib.axes._subplots.AxesSubplot object at 0x366019F0>,\n",
       "        <matplotlib.axes._subplots.AxesSubplot object at 0x2F028310>],\n",
       "       [<matplotlib.axes._subplots.AxesSubplot object at 0x2B598B50>,\n",
       "        <matplotlib.axes._subplots.AxesSubplot object at 0x248E69F0>]],\n",
       "      dtype=object)"
      ]
     },
     "execution_count": 434,
     "metadata": {},
     "output_type": "execute_result"
    },
    {
     "data": {
      "image/png": "[encoded data removed]",
      "text/plain": [
       "<Figure size 576x216 with 4 Axes>"
      ]
     },
     "metadata": {},
     "output_type": "display_data"
    }
   ],
   "source": [
    "# Visualize distribution of spatial variables by DBH_CLASS\n",
    "\n",
    "# First, group by DBH_CLASS and calculate the mean of each spatial variable\n",
    "dbh_class_group_df = all_df.groupby('DBH_CLASS').mean()\n",
    "\n",
    "# Subset the list of spatial variables down to just a few - use the\n",
    "# printed list of columns to change the\n",
    "print(list(dbh_class_group_df.columns))\n",
    "dbh_class_group_df = dbh_class_group_df[['ANNPRE', 'DEM', 'TC1', 'MEAN_WT_DBH']]\n",
    "dbh_class_group_df.plot(kind='barh', subplots=True, layout=(-1, 2), figsize=(8,3))"
   ]
  },
  {
   "cell_type": "markdown",
   "metadata": {
    "deletable": false,
    "editable": false,
    "run_control": {
     "frozen": true
    }
   },
   "source": [
    "This next visualization uses the Seaborn graphics library to create scatterplots of `MEAN_WT_DBH` (Y) against all spatial variables (X) to look for possible relationships.  It incorporates a simple linear regression along with a confidence interval.  As you can see, not much of a relationship with any variable.  Double-click on the graphic to enlarge it."
   ]
  },
  {
   "cell_type": "code",
   "execution_count": 437,
   "metadata": {},
   "outputs": [
    {
     "data": {
      "image/png": "[encoded data removed]",
      "text/plain": [
       "<Figure size 3240x180 with 18 Axes>"
      ]
     },
     "metadata": {},
     "output_type": "display_data"
    }
   ],
   "source": [
    "# Visualize MNDBHBA vs environmental variables\n",
    "\n",
    "# Get list of all spatial variables excluding the PLTID column\n",
    "env_vars = list(spatial_df.columns)\n",
    "env_vars.remove('PLTID')\n",
    "\n",
    "# Draw the pairplot of MEAN_WT_DBH against spatial variables\n",
    "g = sns.pairplot(all_df,\n",
    "    x_vars=env_vars,\n",
    "    y_vars=['MEAN_WT_DBH'],\n",
    "    kind='reg'\n",
    ")"
   ]
  },
  {
   "cell_type": "markdown",
   "metadata": {
    "deletable": false,
    "editable": false,
    "run_control": {
     "frozen": true
    }
   },
   "source": [
    "Here is one last version that uses `DBH_CLASS` as the hue within pair plots.  Here you can see relationships between the different spatial variables and how `DBH_CLASS` is distributed across the range of the variables (last row and column).  Play around with changing the variables, although probably don't do more than 4 or 5."
   ]
  },
  {
   "cell_type": "code",
   "execution_count": 233,
   "metadata": {},
   "outputs": [
    {
     "data": {
      "image/png": "[encoded data removed]",
      "text/plain": [
       "<Figure size 966.875x900 with 30 Axes>"
      ]
     },
     "metadata": {},
     "output_type": "display_data"
    }
   ],
   "source": [
    "g = sns.pairplot(all_df[['ANNTMP', 'AUGMAXT', 'DEM', 'TC1', 'DBH_CLASS']],\n",
    "    hue='DBH_CLASS')"
   ]
  },
  {
   "cell_type": "markdown",
   "metadata": {
    "deletable": false,
    "editable": false,
    "run_control": {
     "frozen": true
    }
   },
   "source": [
    "As the very last step, we want to save the work we've done to summarize the tree data and link it to the spatial data.  The simplest way to do this is to write out the DataFrame as a CSV file (although it is possible to export to databases and Excel as well).  Find help on `all_df.to_csv` and write out the `all_df` DataFrame to a CSV file called `modeling.csv`.  Choose the keyword option to *not* write out the DataFrame's index. "
   ]
  },
  {
   "cell_type": "code",
   "execution_count": null,
   "metadata": {
    "solution2": "hidden",
    "solution2_first": true
   },
   "outputs": [],
   "source": []
  },
  {
   "cell_type": "markdown",
   "metadata": {
    "deletable": false,
    "editable": false,
    "run_control": {
     "frozen": true
    }
   },
   "source": [
    "Well done!  When you've reached this point, type `import antigravity` into the following blank cell and evaluate it"
   ]
  },
  {
   "cell_type": "code",
   "execution_count": 5,
   "metadata": {},
   "outputs": [],
   "source": []
  },
  {
   "cell_type": "code",
   "execution_count": 236,
   "metadata": {
    "solution2": "hidden"
   },
   "outputs": [],
   "source": [
    "# Export all modeling data as a CSV file\n",
    "fn = 'modeling.csv'\n",
    "all_df.to_csv(fn, index=False)"
   ]
  }
 ],
 "metadata": {
  "kernelspec": {
   "display_name": "Python 2",
   "language": "python",
   "name": "python2"
  },
  "language_info": {
   "codemirror_mode": {
    "name": "ipython",
    "version": 2
   },
   "file_extension": ".py",
   "mimetype": "text/x-python",
   "name": "python",
   "nbconvert_exporter": "python",
   "pygments_lexer": "ipython2",
   "version": "2.7.13"
  },
  "livereveal": {
   "scroll": true,
   "transition": "fade"
  }
 },
 "nbformat": 4,
 "nbformat_minor": 2
}
