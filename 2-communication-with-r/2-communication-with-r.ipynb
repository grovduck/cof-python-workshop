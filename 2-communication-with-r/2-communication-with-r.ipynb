{
 "cells": [
  {
   "cell_type": "code",
   "execution_count": 1,
   "metadata": {
    "slideshow": {
     "slide_type": "skip"
    }
   },
   "outputs": [],
   "source": [
    "%matplotlib inline\n",
    "from __future__ import print_function\n",
    "import pandas as pd"
   ]
  },
  {
   "cell_type": "markdown",
   "metadata": {
    "deletable": false,
    "editable": false,
    "run_control": {
     "frozen": true
    },
    "slideshow": {
     "slide_type": "slide"
    }
   },
   "source": [
    "# Module 2: Communication between Python and R using rpy2"
   ]
  },
  {
   "cell_type": "markdown",
   "metadata": {
    "deletable": false,
    "editable": false,
    "run_control": {
     "frozen": true
    },
    "slideshow": {
     "slide_type": "slide"
    }
   },
   "source": [
    "## Python vs R\n",
    "* Most websites/books frame Python and R as adversarial languages\n",
    "* Posts like \"Data Science Wars: R vs Python\" and \"R vs Python, The Great Debate.\"\n",
    "* Easily devolves into a flame war, but the argument is made that data scientists/statisticians generally prefer R, whereas software developers generally prefer Python\n",
    "* Safe to say that R has a huge head start on statistical methods"
   ]
  },
  {
   "cell_type": "markdown",
   "metadata": {
    "deletable": false,
    "editable": false,
    "run_control": {
     "frozen": true
    },
    "slideshow": {
     "slide_type": "slide"
    }
   },
   "source": [
    "## Python *and* R\n",
    "* Rather than choose sides, the idea behind the package `rpy2` is intercommunication between Python and R.\n",
    "* There exists an R counterpart package (rPython) that calls Python from R\n",
    "* Currently, `rpy2` is most often used to access R statistical functionality that doesn't yet exist in Python"
   ]
  },
  {
   "cell_type": "markdown",
   "metadata": {
    "deletable": false,
    "editable": false,
    "run_control": {
     "frozen": true
    },
    "slideshow": {
     "slide_type": "slide"
    }
   },
   "source": [
    "## rpy2 requirements and features\n",
    "* Both Python and R need to be installed\n",
    "* Can \"source\" R scripts and import R libraries and functions\n",
    "* Integrates nicely with Jupyter notebooks\n",
    "* Integrates nicely with pandas DataFrames\n",
    "* Notoriously tricky to get set up on Windows machines (need to set environmental variables)"
   ]
  },
  {
   "cell_type": "markdown",
   "metadata": {
    "deletable": false,
    "editable": false,
    "run_control": {
     "frozen": true
    },
    "slideshow": {
     "slide_type": "slide"
    }
   },
   "source": [
    "## Basic use of rpy2\n",
    "* Main module to use with `rpy2` to use is `robjects`\n",
    "* Within `robjects`, the object named `robjects.r` is the entry point to the embedded R process.  It can directly reference R vectors and functions."
   ]
  },
  {
   "cell_type": "code",
   "execution_count": 3,
   "metadata": {},
   "outputs": [
    {
     "name": "stdout",
     "output_type": "stream",
     "text": [
      "[1] 3.141593\n",
      "\n",
      "[1] 1 2 3 4 5\n",
      "\n"
     ]
    }
   ],
   "source": [
    "import rpy2.robjects as robjects\n",
    "\n",
    "# Vector\n",
    "pi = robjects.r.pi\n",
    "print(pi)\n",
    "\n",
    "# Function\n",
    "seq = robjects.r.seq\n",
    "print(seq(1, 5))"
   ]
  },
  {
   "cell_type": "markdown",
   "metadata": {
    "deletable": false,
    "editable": false,
    "run_control": {
     "frozen": true
    },
    "slideshow": {
     "slide_type": "slide"
    }
   },
   "source": [
    "## Transforming Python objects to R objects\n",
    "Lists in Python need to be converted into R vectors before being used in functions.  `rpy2` provides functionality for this conversion (e.g. `IntVector`, `FloatVector`, `StrVector`)"
   ]
  },
  {
   "cell_type": "code",
   "execution_count": 7,
   "metadata": {},
   "outputs": [
    {
     "name": "stdout",
     "output_type": "stream",
     "text": [
      "Python object: [3, 4, 5]\n",
      "R object: [1] 3 4 5\n",
      "\n",
      "Round tripped Python object: [3, 4, 5]\n"
     ]
    }
   ],
   "source": [
    "# Convert python list to R vector\n",
    "py_list = [3, 4, 5]\n",
    "r_vec = robjects.IntVector(py_list)\n",
    "print('Python object:', py_list)\n",
    "print('R object:', r_vec)\n",
    "print('Round tripped Python object:', list(r_vec))"
   ]
  },
  {
   "cell_type": "code",
   "execution_count": 5,
   "metadata": {},
   "outputs": [
    {
     "name": "stdout",
     "output_type": "stream",
     "text": [
      "Python object: ['bob', 'sue', 'ted']\n",
      "R object: [1] \"bob\" \"sue\" \"ted\"\n",
      "\n"
     ]
    }
   ],
   "source": [
    "# Convert python list to R vector\n",
    "py_list = ['bob', 'sue', 'ted']\n",
    "r_vec = robjects.StrVector(py_list)\n",
    "print('Python object:', py_list)\n",
    "print('R object:', r_vec)"
   ]
  },
  {
   "cell_type": "code",
   "execution_count": 6,
   "metadata": {},
   "outputs": [
    {
     "name": "stdout",
     "output_type": "stream",
     "text": [
      "     [,1] [,2] [,3]\n",
      "\r\n",
      "[1,]  1.1  3.3  5.5\n",
      "\r\n",
      "[2,]  2.2  4.4  6.6\n",
      "\n"
     ]
    }
   ],
   "source": [
    "# Creating a matrix by transformation\n",
    "v = robjects.FloatVector([1.1, 2.2, 3.3, 4.4, 5.5, 6.6])\n",
    "m = robjects.r['matrix'](v, nrow = 2)\n",
    "print(m)"
   ]
  },
  {
   "cell_type": "markdown",
   "metadata": {
    "deletable": false,
    "editable": false,
    "run_control": {
     "frozen": true
    },
    "slideshow": {
     "slide_type": "slide"
    }
   },
   "source": [
    "## Pandas DataFrame to R dataframe"
   ]
  },
  {
   "cell_type": "code",
   "execution_count": 8,
   "metadata": {},
   "outputs": [
    {
     "name": "stdout",
     "output_type": "stream",
     "text": [
      "Pandas object:\n",
      "Type: <class 'pandas.core.frame.DataFrame'>\n",
      "   sepal_length  sepal_width  petal_length  petal_width species\n",
      "0           5.1          3.5           1.4          0.2  setosa\n",
      "1           4.9          3.0           1.4          0.2  setosa\n",
      "2           4.7          3.2           1.3          0.2  setosa\n",
      "3           4.6          3.1           1.5          0.2  setosa\n",
      "4           5.0          3.6           1.4          0.2  setosa\n",
      "--------------------------------------------------\n",
      "R object:\n",
      "[1] \"data.frame\"\n",
      "\n",
      "  sepal_length sepal_width petal_length petal_width species\n",
      "\r\n",
      "0          5.1         3.5          1.4         0.2  setosa\n",
      "\r\n",
      "1          4.9         3.0          1.4         0.2  setosa\n",
      "\r\n",
      "2          4.7         3.2          1.3         0.2  setosa\n",
      "\r\n",
      "3          4.6         3.1          1.5         0.2  setosa\n",
      "\r\n",
      "4          5.0         3.6          1.4         0.2  setosa\n",
      "\r\n",
      "5          5.4         3.9          1.7         0.4  setosa\n",
      "\n"
     ]
    }
   ],
   "source": [
    "# Set up the packages needed to convert between pandas and R dataframes\n",
    "import pandas as pd\n",
    "from rpy2 import robjects\n",
    "from rpy2.robjects import r, pandas2ri\n",
    "pandas2ri.activate()\n",
    "\n",
    "# Read in CSV data to a pandas DataFrame\n",
    "iris_df = pd.read_csv('iris.csv')\n",
    "\n",
    "# Convert to R dataframe\n",
    "r_dataframe = pandas2ri.py2ri(iris_df)\n",
    "\n",
    "print('Pandas object:')\n",
    "print('Type:', type(iris_df))\n",
    "print(iris_df.head())\n",
    "print('-' * 50)\n",
    "print('R object:')\n",
    "print(robjects.r['class'](r_dataframe))\n",
    "print(robjects.r['head'](r_dataframe))"
   ]
  },
  {
   "cell_type": "code",
   "execution_count": 10,
   "metadata": {},
   "outputs": [
    {
     "name": "stdout",
     "output_type": "stream",
     "text": [
      "Type: <class 'pandas.core.frame.DataFrame'>\n",
      "   sepal_length  sepal_width  petal_length  petal_width species\n",
      "0           5.1          3.5           1.4          0.2  setosa\n",
      "1           4.9          3.0           1.4          0.2  setosa\n",
      "2           4.7          3.2           1.3          0.2  setosa\n",
      "3           4.6          3.1           1.5          0.2  setosa\n",
      "4           5.0          3.6           1.4          0.2  setosa\n"
     ]
    }
   ],
   "source": [
    "# Getting the R data.frame back as a pandas DataFrame\n",
    "return_df = pandas2ri.ri2py(r_dataframe)\n",
    "print('Type:', type(return_df))\n",
    "print(return_df.head())"
   ]
  },
  {
   "cell_type": "markdown",
   "metadata": {
    "deletable": false,
    "editable": false,
    "run_control": {
     "frozen": true
    },
    "slideshow": {
     "slide_type": "slide"
    }
   },
   "source": [
    "## Creating R functions as strings"
   ]
  },
  {
   "cell_type": "code",
   "execution_count": 11,
   "metadata": {
    "slideshow": {
     "slide_type": "-"
    }
   },
   "outputs": [
    {
     "name": "stdout",
     "output_type": "stream",
     "text": [
      "function(r) {\n",
      "\r\n",
      "      2 * pi * r\n",
      "\r\n",
      "  }\n",
      "\n"
     ]
    }
   ],
   "source": [
    "# Create a function in the R namespace called f\n",
    "# Remember that the r object is the R process itself\n",
    "robjects.r(\"\"\"\n",
    "  # create a function `f`\n",
    "  f <- function(r) {\n",
    "      2 * pi * r\n",
    "  }\n",
    "\"\"\")\n",
    "\n",
    "# Now get a Python reference to the R function we just created\n",
    "r_f = robjects.r['f']\n",
    "\n",
    "# Print the actual function - now living in R's namespace\n",
    "print(r_f)"
   ]
  },
  {
   "cell_type": "code",
   "execution_count": 12,
   "metadata": {},
   "outputs": [
    {
     "name": "stdout",
     "output_type": "stream",
     "text": [
      "[1] 62.83185\n",
      " <class 'rpy2.robjects.vectors.FloatVector'>\n"
     ]
    }
   ],
   "source": [
    "# Call this function - returned as vector of length 1\n",
    "print(r_f(10), type(r_f(10)))"
   ]
  },
  {
   "cell_type": "code",
   "execution_count": 13,
   "metadata": {},
   "outputs": [
    {
     "name": "stdout",
     "output_type": "stream",
     "text": [
      "62.8318530718 <type 'float'>\n"
     ]
    }
   ],
   "source": [
    "# Get reference to the scalar value by indexing\n",
    "print(r_f(10)[0], type(r_f(10)[0]))"
   ]
  },
  {
   "cell_type": "markdown",
   "metadata": {
    "deletable": false,
    "editable": false,
    "run_control": {
     "frozen": true
    },
    "slideshow": {
     "slide_type": "slide"
    }
   },
   "source": [
    "## Importing packages"
   ]
  },
  {
   "cell_type": "markdown",
   "metadata": {
    "deletable": false,
    "editable": false,
    "run_control": {
     "frozen": true
    }
   },
   "source": [
    "You can alias R packages to Python names using the `importr` function"
   ]
  },
  {
   "cell_type": "code",
   "execution_count": 14,
   "metadata": {},
   "outputs": [
    {
     "name": "stdout",
     "output_type": "stream",
     "text": [
      "[1]  0.26804113 -1.41936200 -0.16056392 -1.58682554 -0.01140182\n",
      "\n"
     ]
    }
   ],
   "source": [
    "from rpy2.robjects.packages import importr\n",
    "stats = importr('stats')\n",
    "print(stats.rnorm(5))"
   ]
  },
  {
   "cell_type": "markdown",
   "metadata": {
    "deletable": false,
    "editable": false,
    "run_control": {
     "frozen": true
    }
   },
   "source": [
    "*Gotcha*: R functions/variables with `.` in names - generally replaced with `_`"
   ]
  },
  {
   "cell_type": "code",
   "execution_count": 15,
   "metadata": {},
   "outputs": [
    {
     "name": "stdout",
     "output_type": "stream",
     "text": [
      "[1] 3 1 2\n",
      "\n"
     ]
    }
   ],
   "source": [
    "# R syntax: rank(0, na.last = TRUE)\n",
    "base = importr('base')\n",
    "v = robjects.IntVector([4, 2, 3])\n",
    "print(base.rank(v, na_last = True))"
   ]
  },
  {
   "cell_type": "markdown",
   "metadata": {
    "deletable": false,
    "editable": false,
    "run_control": {
     "frozen": true
    },
    "slideshow": {
     "slide_type": "slide"
    }
   },
   "source": [
    "## Installing packages directly from rpy2 using CRAN"
   ]
  },
  {
   "cell_type": "code",
   "execution_count": 16,
   "metadata": {},
   "outputs": [],
   "source": [
    "# imports\n",
    "import rpy2.robjects.packages as rpackages\n",
    "from rpy2.robjects.vectors import StrVector\n",
    "\n",
    "# import R's utility package\n",
    "utils = rpackages.importr('utils')\n",
    "\n",
    "# Set up CRAN mirror\n",
    "utils.chooseCRANmirror(ind=1)\n",
    "\n",
    "# Choose which package names to install\n",
    "package_names = ('ggplot2',)\n",
    "\n",
    "# Verify that it's not already installed, then install list of packages\n",
    "names_to_install = [x for x in package_names if not rpackages.isinstalled(x)]\n",
    "if len(names_to_install) > 0:\n",
    "    utils.install_packages(StrVector(names_to_install))"
   ]
  },
  {
   "cell_type": "markdown",
   "metadata": {
    "deletable": false,
    "editable": false,
    "run_control": {
     "frozen": true
    },
    "slideshow": {
     "slide_type": "slide"
    }
   },
   "source": [
    "## Sourcing files and running code\n",
    "If you have existing code that you want to call from Python, this is a great way to do it"
   ]
  },
  {
   "cell_type": "code",
   "execution_count": 17,
   "metadata": {},
   "outputs": [
    {
     "name": "stdout",
     "output_type": "stream",
     "text": [
      " [1] 0.0 0.1 0.2 0.3 0.4 0.5 0.6 0.7 0.8 0.9 1.0\n",
      "\n",
      "[0.0, 0.1, 0.2, 0.3, 0.4, 0.5, 0.6, 0.7, 0.8, 0.9, 1.0]\n"
     ]
    }
   ],
   "source": [
    "# Sample script\n",
    "SAMPLE_SCRIPT = './rescale_vector.r'\n",
    "\n",
    "# Source the script\n",
    "# This defines a function called 'rescale01' in R's namespace\n",
    "robjects.r.source(SAMPLE_SCRIPT)\n",
    "\n",
    "# Create an R vector to pass\n",
    "int_vector = robjects.IntVector(range(0, 11))\n",
    "\n",
    "# Call the function through r object\n",
    "norm_vector = robjects.r.rescale01(int_vector)\n",
    "\n",
    "# Print this norm_vector (as R object)\n",
    "print(norm_vector)\n",
    "\n",
    "# Convert to Python list\n",
    "print(list(norm_vector))"
   ]
  },
  {
   "cell_type": "markdown",
   "metadata": {
    "deletable": false,
    "editable": false,
    "run_control": {
     "frozen": true
    },
    "slideshow": {
     "slide_type": "slide"
    }
   },
   "source": [
    "## R \"magic\"\n",
    "* IPython (the python kernel in Jupyter) has the concept of magics\n",
    "* From \"Python Data Science Handbook\" (Jake VanderPlas (O'Reilly Media, 2016))\n",
    "> \"... magic commands are designed to succinctly solve various common problems\n",
    "> in standard data analysis. Magic commands come in two flavors: line magics,\n",
    "> which are denoted by a single % prefix and operate on a single line of\n",
    "> input, and cell magics, which are denoted by a double %% prefix and\n",
    "> operate on multiple lines of input.\n",
    "* `rpy2` provides two magic commands: `%R` (line magic) and `%%R` (cell magic) that allow to user to run R from within Jupyter IPython kernel\n",
    "* Need to activate magic with this line: `%load_ext rpy2.ipython`\n",
    "* All R graphics work should probably use these magics (due to some IPython-specific bugs in rpy2)"
   ]
  },
  {
   "cell_type": "markdown",
   "metadata": {
    "deletable": false,
    "editable": false,
    "run_control": {
     "frozen": true
    },
    "slideshow": {
     "slide_type": "slide"
    }
   },
   "source": [
    "## R \"magic\" - setup"
   ]
  },
  {
   "cell_type": "code",
   "execution_count": 18,
   "metadata": {},
   "outputs": [],
   "source": [
    "# This will look like you get an error - known issue with rpy2/ipython\n",
    "%load_ext rpy2.ipython"
   ]
  },
  {
   "cell_type": "code",
   "execution_count": 19,
   "metadata": {},
   "outputs": [
    {
     "data": {
      "application/json": {
       "cell": {
        "!": "OSMagics",
        "HTML": "Other",
        "R": "RMagics",
        "SVG": "Other",
        "bash": "Other",
        "capture": "ExecutionMagics",
        "cmd": "Other",
        "debug": "ExecutionMagics",
        "file": "Other",
        "html": "DisplayMagics",
        "javascript": "DisplayMagics",
        "js": "DisplayMagics",
        "latex": "DisplayMagics",
        "perl": "Other",
        "prun": "ExecutionMagics",
        "pypy": "Other",
        "python": "Other",
        "python2": "Other",
        "python3": "Other",
        "ruby": "Other",
        "script": "ScriptMagics",
        "sh": "Other",
        "svg": "DisplayMagics",
        "sx": "OSMagics",
        "system": "OSMagics",
        "time": "ExecutionMagics",
        "timeit": "ExecutionMagics",
        "writefile": "OSMagics"
       },
       "line": {
        "R": "RMagics",
        "Rdevice": "RMagics",
        "Rget": "RMagics",
        "Rpull": "RMagics",
        "Rpush": "RMagics",
        "alias": "OSMagics",
        "alias_magic": "BasicMagics",
        "autocall": "AutoMagics",
        "automagic": "AutoMagics",
        "autosave": "KernelMagics",
        "bookmark": "OSMagics",
        "cd": "OSMagics",
        "clear": "KernelMagics",
        "cls": "KernelMagics",
        "colors": "BasicMagics",
        "config": "ConfigMagics",
        "connect_info": "KernelMagics",
        "copy": "Other",
        "ddir": "Other",
        "debug": "ExecutionMagics",
        "dhist": "OSMagics",
        "dirs": "OSMagics",
        "doctest_mode": "BasicMagics",
        "echo": "Other",
        "ed": "Other",
        "edit": "KernelMagics",
        "env": "OSMagics",
        "gui": "BasicMagics",
        "hist": "Other",
        "history": "HistoryMagics",
        "killbgscripts": "ScriptMagics",
        "ldir": "Other",
        "less": "KernelMagics",
        "load": "CodeMagics",
        "load_ext": "ExtensionMagics",
        "loadpy": "CodeMagics",
        "logoff": "LoggingMagics",
        "logon": "LoggingMagics",
        "logstart": "LoggingMagics",
        "logstate": "LoggingMagics",
        "logstop": "LoggingMagics",
        "ls": "Other",
        "lsmagic": "BasicMagics",
        "macro": "ExecutionMagics",
        "magic": "BasicMagics",
        "matplotlib": "PylabMagics",
        "mkdir": "Other",
        "more": "KernelMagics",
        "notebook": "BasicMagics",
        "page": "BasicMagics",
        "pastebin": "CodeMagics",
        "pdb": "ExecutionMagics",
        "pdef": "NamespaceMagics",
        "pdoc": "NamespaceMagics",
        "pfile": "NamespaceMagics",
        "pinfo": "NamespaceMagics",
        "pinfo2": "NamespaceMagics",
        "popd": "OSMagics",
        "pprint": "BasicMagics",
        "precision": "BasicMagics",
        "profile": "BasicMagics",
        "prun": "ExecutionMagics",
        "psearch": "NamespaceMagics",
        "psource": "NamespaceMagics",
        "pushd": "OSMagics",
        "pwd": "OSMagics",
        "pycat": "OSMagics",
        "pylab": "PylabMagics",
        "qtconsole": "KernelMagics",
        "quickref": "BasicMagics",
        "recall": "HistoryMagics",
        "rehashx": "OSMagics",
        "reload_ext": "ExtensionMagics",
        "ren": "Other",
        "rep": "Other",
        "rerun": "HistoryMagics",
        "reset": "NamespaceMagics",
        "reset_selective": "NamespaceMagics",
        "rmdir": "Other",
        "run": "ExecutionMagics",
        "save": "CodeMagics",
        "sc": "OSMagics",
        "set_env": "OSMagics",
        "store": "StoreMagics",
        "sx": "OSMagics",
        "system": "OSMagics",
        "tb": "ExecutionMagics",
        "time": "ExecutionMagics",
        "timeit": "ExecutionMagics",
        "unalias": "OSMagics",
        "unload_ext": "ExtensionMagics",
        "who": "NamespaceMagics",
        "who_ls": "NamespaceMagics",
        "whos": "NamespaceMagics",
        "xdel": "NamespaceMagics",
        "xmode": "BasicMagics"
       }
      },
      "text/plain": [
       "Available line magics:\n",
       "%R  %Rdevice  %Rget  %Rpull  %Rpush  %alias  %alias_magic  %autocall  %automagic  %autosave  %bookmark  %cd  %clear  %cls  %colors  %config  %connect_info  %copy  %ddir  %debug  %dhist  %dirs  %doctest_mode  %echo  %ed  %edit  %env  %gui  %hist  %history  %killbgscripts  %ldir  %less  %load  %load_ext  %loadpy  %logoff  %logon  %logstart  %logstate  %logstop  %ls  %lsmagic  %macro  %magic  %matplotlib  %mkdir  %more  %notebook  %page  %pastebin  %pdb  %pdef  %pdoc  %pfile  %pinfo  %pinfo2  %popd  %pprint  %precision  %profile  %prun  %psearch  %psource  %pushd  %pwd  %pycat  %pylab  %qtconsole  %quickref  %recall  %rehashx  %reload_ext  %ren  %rep  %rerun  %reset  %reset_selective  %rmdir  %run  %save  %sc  %set_env  %store  %sx  %system  %tb  %time  %timeit  %unalias  %unload_ext  %who  %who_ls  %whos  %xdel  %xmode\n",
       "\n",
       "Available cell magics:\n",
       "%%!  %%HTML  %%R  %%SVG  %%bash  %%capture  %%cmd  %%debug  %%file  %%html  %%javascript  %%js  %%latex  %%perl  %%prun  %%pypy  %%python  %%python2  %%python3  %%ruby  %%script  %%sh  %%svg  %%sx  %%system  %%time  %%timeit  %%writefile\n",
       "\n",
       "Automagic is ON, % prefix IS NOT needed for line magics."
      ]
     },
     "execution_count": 19,
     "metadata": {},
     "output_type": "execute_result"
    }
   ],
   "source": [
    "# Ensure we have %R and %%R loaded\n",
    "%lsmagic"
   ]
  },
  {
   "cell_type": "markdown",
   "metadata": {
    "deletable": false,
    "editable": false,
    "run_control": {
     "frozen": true
    },
    "slideshow": {
     "slide_type": "slide"
    }
   },
   "source": [
    "## R \"magic\" - examples (cont.)"
   ]
  },
  {
   "cell_type": "markdown",
   "metadata": {},
   "source": [
    "#### Examples of line magic (%R)"
   ]
  },
  {
   "cell_type": "code",
   "execution_count": 20,
   "metadata": {},
   "outputs": [
    {
     "data": {
      "text/plain": [
       "array([15])"
      ]
     },
     "execution_count": 20,
     "metadata": {},
     "output_type": "execute_result"
    }
   ],
   "source": [
    "# Running an R function\n",
    "%R sum(seq(1, 5))"
   ]
  },
  {
   "cell_type": "code",
   "execution_count": 21,
   "metadata": {},
   "outputs": [
    {
     "data": {
      "text/plain": [
       "array([1])"
      ]
     },
     "execution_count": 21,
     "metadata": {},
     "output_type": "execute_result"
    }
   ],
   "source": [
    "# Requiring a library\n",
    "%R require(ggplot2)"
   ]
  },
  {
   "cell_type": "markdown",
   "metadata": {
    "deletable": false,
    "editable": false,
    "run_control": {
     "frozen": true
    },
    "slideshow": {
     "slide_type": "slide"
    }
   },
   "source": [
    "## R \"magic\" - examples (cont.)"
   ]
  },
  {
   "cell_type": "markdown",
   "metadata": {
    "deletable": false,
    "editable": false,
    "run_control": {
     "frozen": true
    }
   },
   "source": [
    "#### Example of cell magic (%%R)"
   ]
  },
  {
   "cell_type": "code",
   "execution_count": 22,
   "metadata": {},
   "outputs": [],
   "source": [
    "%%R\n",
    "require(base)\n",
    "x <- c(3, 1, 4, 1, 5, 9, 2, 6, 5, 3, 5)\n",
    "# For some reason, this is printing to console\n",
    "rank(x, na.last = TRUE)"
   ]
  },
  {
   "cell_type": "markdown",
   "metadata": {
    "deletable": false,
    "editable": false,
    "run_control": {
     "frozen": true
    },
    "slideshow": {
     "slide_type": "slide"
    }
   },
   "source": [
    "## Using ggplot2 within Jupyter\n",
    "ggplot2 (a common graphics libary in R) provides a nice graphics library and is familiar to many R users.  Graphics from ggplot2 can be directly rendered within Jupyter"
   ]
  },
  {
   "cell_type": "code",
   "execution_count": 23,
   "metadata": {},
   "outputs": [
    {
     "name": "stdout",
     "output_type": "stream",
     "text": [
      "The rpy2.ipython extension is already loaded. To reload it, use:\n",
      "  %reload_ext rpy2.ipython\n"
     ]
    },
    {
     "data": {
      "text/plain": [
       "array([1])"
      ]
     },
     "execution_count": 23,
     "metadata": {},
     "output_type": "execute_result"
    }
   ],
   "source": [
    "# Ensure we've loaded the magic extension and required ggplot2\n",
    "%load_ext rpy2.ipython\n",
    "%R require(ggplot2)"
   ]
  },
  {
   "cell_type": "code",
   "execution_count": 26,
   "metadata": {},
   "outputs": [],
   "source": [
    "# Load in pandas and make a sample dataframe\n",
    "import pandas as pd \n",
    "df = pd.DataFrame({'Alphabet': ['a', 'b', 'c', 'd','e', 'f', 'g', 'h','i'],\n",
    "                   'A': [4, 3, 5, 2, 1, 7, 7, 5, 9],\n",
    "                   'B': [0, 4, 3, 6, 7, 10,11, 9, 13],\n",
    "                   'C': [1, 2, 3, 1, 2, 3, 1, 2, 3]})"
   ]
  },
  {
   "cell_type": "markdown",
   "metadata": {
    "deletable": false,
    "editable": false,
    "run_control": {
     "frozen": true
    }
   },
   "source": [
    "We can now pass the pandas dataframe from Python to the R cell magic using the `-i` (input) flag.  Once we're within the R environment, we only need to issue the `ggplot` command."
   ]
  },
  {
   "cell_type": "code",
   "execution_count": 28,
   "metadata": {},
   "outputs": [
    {
     "data": {
      "image/png": "[encoded data removed]"
     },
     "metadata": {},
     "output_type": "display_data"
    }
   ],
   "source": [
    "%%R -i df\n",
    "# Plot the DataFrame df\n",
    "ggplot(data=df) + geom_point(size=3, aes(x=B, y=A, color=C))"
   ]
  },
  {
   "cell_type": "code",
   "execution_count": 29,
   "metadata": {},
   "outputs": [
    {
     "data": {
      "image/png": "[encoded data removed]"
     },
     "metadata": {},
     "output_type": "display_data"
    }
   ],
   "source": [
    "%%R -i df\n",
    "# Plot the DataFrame df\n",
    "ggplot(data=df, aes(Alphabet)) + geom_bar(aes(weight=A))"
   ]
  },
  {
   "cell_type": "markdown",
   "metadata": {
    "deletable": false,
    "editable": false,
    "run_control": {
     "frozen": true
    },
    "slideshow": {
     "slide_type": "slide"
    }
   },
   "source": [
    "## Exercises"
   ]
  },
  {
   "cell_type": "markdown",
   "metadata": {
    "deletable": false,
    "editable": false,
    "run_control": {
     "frozen": true
    }
   },
   "source": [
    "### Exercise 1: Running a simple linear regression using `lm` within R"
   ]
  },
  {
   "cell_type": "markdown",
   "metadata": {
    "deletable": false,
    "editable": false,
    "run_control": {
     "frozen": true
    }
   },
   "source": [
    "We're going to run a simple linear model using R's functionality, but otherwise evaluating our results within Python.  Simple linear regression is definitely something Python can do on its own, but we want to practice getting data in and out of R using `rpy2`.  \n",
    "\n",
    "We are going to work with the `iris` dataset - a sample dataset of 150 measurements of iris flowers in three different species.  This file is stored as `iris.csv` in your folder.  Using pandas, import the iris dataset as `iris_df`.  Take a look at the first five lines of this dataset."
   ]
  },
  {
   "cell_type": "code",
   "execution_count": null,
   "metadata": {
    "solution2": "hidden",
    "solution2_first": true
   },
   "outputs": [],
   "source": []
  },
  {
   "cell_type": "code",
   "execution_count": 70,
   "metadata": {
    "solution2": "hidden"
   },
   "outputs": [
    {
     "data": {
      "text/html": [
       "<div>\n",
       "<style scoped>\n",
       "    .dataframe tbody tr th:only-of-type {\n",
       "        vertical-align: middle;\n",
       "    }\n",
       "\n",
       "    .dataframe tbody tr th {\n",
       "        vertical-align: top;\n",
       "    }\n",
       "\n",
       "    .dataframe thead th {\n",
       "        text-align: right;\n",
       "    }\n",
       "</style>\n",
       "<table border=\"1\" class=\"dataframe\">\n",
       "  <thead>\n",
       "    <tr style=\"text-align: right;\">\n",
       "      <th></th>\n",
       "      <th>sepal_length</th>\n",
       "      <th>sepal_width</th>\n",
       "      <th>petal_length</th>\n",
       "      <th>petal_width</th>\n",
       "      <th>species</th>\n",
       "    </tr>\n",
       "  </thead>\n",
       "  <tbody>\n",
       "    <tr>\n",
       "      <th>0</th>\n",
       "      <td>5.1</td>\n",
       "      <td>3.5</td>\n",
       "      <td>1.4</td>\n",
       "      <td>0.2</td>\n",
       "      <td>setosa</td>\n",
       "    </tr>\n",
       "    <tr>\n",
       "      <th>1</th>\n",
       "      <td>4.9</td>\n",
       "      <td>3.0</td>\n",
       "      <td>1.4</td>\n",
       "      <td>0.2</td>\n",
       "      <td>setosa</td>\n",
       "    </tr>\n",
       "    <tr>\n",
       "      <th>2</th>\n",
       "      <td>4.7</td>\n",
       "      <td>3.2</td>\n",
       "      <td>1.3</td>\n",
       "      <td>0.2</td>\n",
       "      <td>setosa</td>\n",
       "    </tr>\n",
       "    <tr>\n",
       "      <th>3</th>\n",
       "      <td>4.6</td>\n",
       "      <td>3.1</td>\n",
       "      <td>1.5</td>\n",
       "      <td>0.2</td>\n",
       "      <td>setosa</td>\n",
       "    </tr>\n",
       "    <tr>\n",
       "      <th>4</th>\n",
       "      <td>5.0</td>\n",
       "      <td>3.6</td>\n",
       "      <td>1.4</td>\n",
       "      <td>0.2</td>\n",
       "      <td>setosa</td>\n",
       "    </tr>\n",
       "  </tbody>\n",
       "</table>\n",
       "</div>"
      ],
      "text/plain": [
       "   sepal_length  sepal_width  petal_length  petal_width species\n",
       "0           5.1          3.5           1.4          0.2  setosa\n",
       "1           4.9          3.0           1.4          0.2  setosa\n",
       "2           4.7          3.2           1.3          0.2  setosa\n",
       "3           4.6          3.1           1.5          0.2  setosa\n",
       "4           5.0          3.6           1.4          0.2  setosa"
      ]
     },
     "execution_count": 70,
     "metadata": {},
     "output_type": "execute_result"
    }
   ],
   "source": [
    "# Read in the iris dataset to a pandas DataFrame\n",
    "import pandas as pd\n",
    "iris_df = pd.read_csv('iris.csv')\n",
    "iris_df.head()"
   ]
  },
  {
   "cell_type": "markdown",
   "metadata": {
    "deletable": false,
    "editable": false,
    "run_control": {
     "frozen": true
    }
   },
   "source": [
    "Now that we have our dataframe, let's preview it using R's built-in `plot` function.  This will plot out a scatterplot matrix of all variables in this dataset.  To solve this, you'll need to:\n",
    "* use R **cell** magic\n",
    "* bring in the `iris_df` as an input variable\n",
    "* use the `plot` function on the passed dataframe"
   ]
  },
  {
   "cell_type": "code",
   "execution_count": null,
   "metadata": {
    "solution2": "hidden",
    "solution2_first": true
   },
   "outputs": [],
   "source": []
  },
  {
   "cell_type": "code",
   "execution_count": 74,
   "metadata": {
    "solution2": "hidden"
   },
   "outputs": [
    {
     "data": {
      "image/png": "[encoded data removed]"
     },
     "metadata": {},
     "output_type": "display_data"
    }
   ],
   "source": [
    "%%R -i iris_df\n",
    "# Simply plot the variables in relation to one another\n",
    "plot(iris_df)"
   ]
  },
  {
   "cell_type": "markdown",
   "metadata": {
    "deletable": false,
    "editable": false,
    "run_control": {
     "frozen": true
    }
   },
   "source": [
    "We can see that there are some simple linear relationships between paired variables within this dataset.  We'll try to predict `petal_width` as a function of `petal_length`.  We are going to do this same regression with two different calling syntaxes - one using `robjects` and one using cell magic.\n",
    "\n",
    "For the first method, we need to have access to the R `lm` function which is part of the `stats` library.  Using what you know about importing R libraries in `rpy2`, create a Python variable called `stats` that imports the R `stats` library.  "
   ]
  },
  {
   "cell_type": "code",
   "execution_count": null,
   "metadata": {
    "solution2": "hidden",
    "solution2_first": true
   },
   "outputs": [],
   "source": []
  },
  {
   "cell_type": "code",
   "execution_count": 93,
   "metadata": {
    "solution2": "hidden"
   },
   "outputs": [],
   "source": [
    "from rpy2.robjects.packages import importr\n",
    "stats = importr('stats')"
   ]
  },
  {
   "cell_type": "markdown",
   "metadata": {
    "deletable": false,
    "editable": false,
    "run_control": {
     "frozen": true
    }
   },
   "source": [
    "Now that we have access to this libary, we want to call its `lm` method with the formula `petal_width ~ petal_length` and passing it `iris_df` as its data keyword.  Call the output of this model `model_1` and simply print it. (Note that the output from `rpy2` is much more verbose than R's version"
   ]
  },
  {
   "cell_type": "code",
   "execution_count": null,
   "metadata": {
    "solution2": "hidden",
    "solution2_first": true
   },
   "outputs": [],
   "source": []
  },
  {
   "cell_type": "code",
   "execution_count": 95,
   "metadata": {
    "solution2": "hidden"
   },
   "outputs": [
    {
     "name": "stdout",
     "output_type": "stream",
     "text": [
      "\n",
      "\r\n",
      "Call:\n",
      "\r\n",
      "(function (formula, data, subset, weights, na.action, method = \"qr\", \n",
      "\r\n",
      "    model = TRUE, x = FALSE, y = FALSE, qr = TRUE, singular.ok = TRUE, \n",
      "\r\n",
      "    contrasts = NULL, offset, ...) \n",
      "\r\n",
      "{\n",
      "\r\n",
      "    ret.x <- x\n",
      "\r\n",
      "    ret.y <- y\n",
      "\r\n",
      "    cl <- match.call()\n",
      "\r\n",
      "    mf <- match.call(expand.dots = FALSE)\n",
      "\r\n",
      "    m <- match(c(\"formula\", \"data\", \"subset\", \"weights\", \"na.action\", \n",
      "\r\n",
      "        \"offset\"), names(mf), 0L)\n",
      "\r\n",
      "    mf <- mf[c(1L, m)]\n",
      "\r\n",
      "    mf$drop.unused.levels <- TRUE\n",
      "\r\n",
      "    mf[[1L]] <- quote(stats::model.frame)\n",
      "\r\n",
      "    mf <- eval(mf, parent.frame())\n",
      "\r\n",
      "    if (method == \"model.frame\") \n",
      "\r\n",
      "        return(mf)\n",
      "\r\n",
      "    else if (method != \"qr\") \n",
      "\r\n",
      "        warning(gettextf(\"method = '%s' is not supported. Using 'qr'\", \n",
      "\r\n",
      "            method), domain = NA)\n",
      "\r\n",
      "    mt <- attr(mf, \"terms\")\n",
      "\r\n",
      "    y <- model.response(mf, \"numeric\")\n",
      "\r\n",
      "    w <- as.vector(model.weights(mf))\n",
      "\r\n",
      "    if (!is.null(w) && !is.numeric(w)) \n",
      "\r\n",
      "        stop(\"'weights' must be a numeric vector\")\n",
      "\r\n",
      "    offset <- as.vector(model.offset(mf))\n",
      "\r\n",
      "    if (!is.null(offset)) {\n",
      "\r\n",
      "        if (length(offset) != NROW(y)) \n",
      "\r\n",
      "            stop(gettextf(\"number of offsets is %d, should equal %d (number of observations)\", \n",
      "\r\n",
      "                length(offset), NROW(y)), domain = NA)\n",
      "\r\n",
      "    }\n",
      "\r\n",
      "    if (is.empty.model(mt)) {\n",
      "\r\n",
      "        x <- NULL\n",
      "\r\n",
      "        z <- list(coefficients = if (is.matrix(y)) matrix(, 0, \n",
      "\r\n",
      "            3) else numeric(), residuals = y, fitted.values = 0 * \n",
      "\r\n",
      "            y, weights = w, rank = 0L, df.residual = if (!is.null(w)) sum(w != \n",
      "\r\n",
      "            0) else if (is.matrix(y)) nrow(y) else length(y))\n",
      "\r\n",
      "        if (!is.null(offset)) {\n",
      "\r\n",
      "            z$fitted.values <- offset\n",
      "\r\n",
      "            z$residuals <- y - offset\n",
      "\r\n",
      "        }\n",
      "\r\n",
      "    }\n",
      "\r\n",
      "    else {\n",
      "\r\n",
      "        x <- model.matrix(mt, mf, contrasts)\n",
      "\r\n",
      "        z <- if (is.null(w)) \n",
      "\r\n",
      "            lm.fit(x, y, offset = offset, singular.ok = singular.ok, \n",
      "\r\n",
      "                ...)\n",
      "\r\n",
      "        else lm.wfit(x, y, w, offset = offset, singular.ok = singular.ok, \n",
      "\r\n",
      "            ...)\n",
      "\r\n",
      "    }\n",
      "\r\n",
      "    class(z) <- c(if (is.matrix(y)) \"mlm\", \"lm\")\n",
      "\r\n",
      "    z$na.action <- attr(mf, \"na.action\")\n",
      "\r\n",
      "    z$offset <- offset\n",
      "\r\n",
      "    z$contrasts <- attr(x, \"contrasts\")\n",
      "\r\n",
      "    z$xlevels <- .getXlevels(mt, mf)\n",
      "\r\n",
      "    z$call <- cl\n",
      "\r\n",
      "    z$terms <- mt\n",
      "\r\n",
      "    if (model) \n",
      "\r\n",
      "        z$model <- mf\n",
      "\r\n",
      "    if (ret.x) \n",
      "\r\n",
      "        z$x <- x\n",
      "\r\n",
      "    if (ret.y) \n",
      "\r\n",
      "        z$y <- y\n",
      "\r\n",
      "    if (!qr) \n",
      "\r\n",
      "        z$qr <- NULL\n",
      "\r\n",
      "    z\n",
      "\r\n",
      "})(formula = \"petal_width ~ petal_length\", data = structure(list(\n",
      "\r\n",
      "    sepal_length = c(5.1, 4.9, 4.7, 4.6, 5, 5.4, 4.6, 5, 4.4, \n",
      "\r\n",
      "    4.9, 5.4, 4.8, 4.8, 4.3, 5.8, 5.7, 5.4, 5.1, 5.7, 5.1, 5.4, \n",
      "\r\n",
      "    5.1, 4.6, 5.1, 4.8, 5, 5, 5.2, 5.2, 4.7, 4.8, 5.4, 5.2, 5.5, \n",
      "\r\n",
      "    4.9, 5, 5.5, 4.9, 4.4, 5.1, 5, 4.5, 4.4, 5, 5.1, 4.8, 5.1, \n",
      "\r\n",
      "    4.6, 5.3, 5, 7, 6.4, 6.9, 5.5, 6.5, 5.7, 6.3, 4.9, 6.6, 5.2, \n",
      "\r\n",
      "    5, 5.9, 6, 6.1, 5.6, 6.7, 5.6, 5.8, 6.2, 5.6, 5.9, 6.1, 6.3, \n",
      "\r\n",
      "    6.1, 6.4, 6.6, 6.8, 6.7, 6, 5.7, 5.5, 5.5, 5.8, 6, 5.4, 6, \n",
      "\r\n",
      "    6.7, 6.3, 5.6, 5.5, 5.5, 6.1, 5.8, 5, 5.6, 5.7, 5.7, 6.2, \n",
      "\r\n",
      "    5.1, 5.7, 6.3, 5.8, 7.1, 6.3, 6.5, 7.6, 4.9, 7.3, 6.7, 7.2, \n",
      "\r\n",
      "    6.5, 6.4, 6.8, 5.7, 5.8, 6.4, 6.5, 7.7, 7.7, 6, 6.9, 5.6, \n",
      "\r\n",
      "    7.7, 6.3, 6.7, 7.2, 6.2, 6.1, 6.4, 7.2, 7.4, 7.9, 6.4, 6.3, \n",
      "\r\n",
      "    6.1, 7.7, 6.3, 6.4, 6, 6.9, 6.7, 6.9, 5.8, 6.8, 6.7, 6.7, \n",
      "\r\n",
      "    6.3, 6.5, 6.2, 5.9), sepal_width = c(3.5, 3, 3.2, 3.1, 3.6, \n",
      "\r\n",
      "    3.9, 3.4, 3.4, 2.9, 3.1, 3.7, 3.4, 3, 3, 4, 4.4, 3.9, 3.5, \n",
      "\r\n",
      "    3.8, 3.8, 3.4, 3.7, 3.6, 3.3, 3.4, 3, 3.4, 3.5, 3.4, 3.2, \n",
      "\r\n",
      "    3.1, 3.4, 4.1, 4.2, 3.1, 3.2, 3.5, 3.1, 3, 3.4, 3.5, 2.3, \n",
      "\r\n",
      "    3.2, 3.5, 3.8, 3, 3.8, 3.2, 3.7, 3.3, 3.2, 3.2, 3.1, 2.3, \n",
      "\r\n",
      "    2.8, 2.8, 3.3, 2.4, 2.9, 2.7, 2, 3, 2.2, 2.9, 2.9, 3.1, 3, \n",
      "\r\n",
      "    2.7, 2.2, 2.5, 3.2, 2.8, 2.5, 2.8, 2.9, 3, 2.8, 3, 2.9, 2.6, \n",
      "\r\n",
      "    2.4, 2.4, 2.7, 2.7, 3, 3.4, 3.1, 2.3, 3, 2.5, 2.6, 3, 2.6, \n",
      "\r\n",
      "    2.3, 2.7, 3, 2.9, 2.9, 2.5, 2.8, 3.3, 2.7, 3, 2.9, 3, 3, \n",
      "\r\n",
      "    2.5, 2.9, 2.5, 3.6, 3.2, 2.7, 3, 2.5, 2.8, 3.2, 3, 3.8, 2.6, \n",
      "\r\n",
      "    2.2, 3.2, 2.8, 2.8, 2.7, 3.3, 3.2, 2.8, 3, 2.8, 3, 2.8, 3.8, \n",
      "\r\n",
      "    2.8, 2.8, 2.6, 3, 3.4, 3.1, 3, 3.1, 3.1, 3.1, 2.7, 3.2, 3.3, \n",
      "\r\n",
      "    3, 2.5, 3, 3.4, 3), petal_length = c(1.4, 1.4, 1.3, 1.5, \n",
      "\r\n",
      "    1.4, 1.7, 1.4, 1.5, 1.4, 1.5, 1.5, 1.6, 1.4, 1.1, 1.2, 1.5, \n",
      "\r\n",
      "    1.3, 1.4, 1.7, 1.5, 1.7, 1.5, 1, 1.7, 1.9, 1.6, 1.6, 1.5, \n",
      "\r\n",
      "    1.4, 1.6, 1.6, 1.5, 1.5, 1.4, 1.5, 1.2, 1.3, 1.5, 1.3, 1.5, \n",
      "\r\n",
      "    1.3, 1.3, 1.3, 1.6, 1.9, 1.4, 1.6, 1.4, 1.5, 1.4, 4.7, 4.5, \n",
      "\r\n",
      "    4.9, 4, 4.6, 4.5, 4.7, 3.3, 4.6, 3.9, 3.5, 4.2, 4, 4.7, 3.6, \n",
      "\r\n",
      "    4.4, 4.5, 4.1, 4.5, 3.9, 4.8, 4, 4.9, 4.7, 4.3, 4.4, 4.8, \n",
      "\r\n",
      "    5, 4.5, 3.5, 3.8, 3.7, 3.9, 5.1, 4.5, 4.5, 4.7, 4.4, 4.1, \n",
      "\r\n",
      "    4, 4.4, 4.6, 4, 3.3, 4.2, 4.2, 4.2, 4.3, 3, 4.1, 6, 5.1, \n",
      "\r\n",
      "    5.9, 5.6, 5.8, 6.6, 4.5, 6.3, 5.8, 6.1, 5.1, 5.3, 5.5, 5, \n",
      "\r\n",
      "    5.1, 5.3, 5.5, 6.7, 6.9, 5, 5.7, 4.9, 6.7, 4.9, 5.7, 6, 4.8, \n",
      "\r\n",
      "    4.9, 5.6, 5.8, 6.1, 6.4, 5.6, 5.1, 5.6, 6.1, 5.6, 5.5, 4.8, \n",
      "\r\n",
      "    5.4, 5.6, 5.1, 5.1, 5.9, 5.7, 5.2, 5, 5.2, 5.4, 5.1), petal_width = c(0.2, \n",
      "\r\n",
      "    0.2, 0.2, 0.2, 0.2, 0.4, 0.3, 0.2, 0.2, 0.1, 0.2, 0.2, 0.1, \n",
      "\r\n",
      "    0.1, 0.2, 0.4, 0.4, 0.3, 0.3, 0.3, 0.2, 0.4, 0.2, 0.5, 0.2, \n",
      "\r\n",
      "    0.2, 0.4, 0.2, 0.2, 0.2, 0.2, 0.4, 0.1, 0.2, 0.1, 0.2, 0.2, \n",
      "\r\n",
      "    0.1, 0.2, 0.2, 0.3, 0.3, 0.2, 0.6, 0.4, 0.3, 0.2, 0.2, 0.2, \n",
      "\r\n",
      "    0.2, 1.4, 1.5, 1.5, 1.3, 1.5, 1.3, 1.6, 1, 1.3, 1.4, 1, 1.5, \n",
      "\r\n",
      "    1, 1.4, 1.3, 1.4, 1.5, 1, 1.5, 1.1, 1.8, 1.3, 1.5, 1.2, 1.3, \n",
      "\r\n",
      "    1.4, 1.4, 1.7, 1.5, 1, 1.1, 1, 1.2, 1.6, 1.5, 1.6, 1.5, 1.3, \n",
      "\r\n",
      "    1.3, 1.3, 1.2, 1.4, 1.2, 1, 1.3, 1.2, 1.3, 1.3, 1.1, 1.3, \n",
      "\r\n",
      "    2.5, 1.9, 2.1, 1.8, 2.2, 2.1, 1.7, 1.8, 1.8, 2.5, 2, 1.9, \n",
      "\r\n",
      "    2.1, 2, 2.4, 2.3, 1.8, 2.2, 2.3, 1.5, 2.3, 2, 2, 1.8, 2.1, \n",
      "\r\n",
      "    1.8, 1.8, 1.8, 2.1, 1.6, 1.9, 2, 2.2, 1.5, 1.4, 2.3, 2.4, \n",
      "\r\n",
      "    1.8, 1.8, 2.1, 2.4, 2.3, 1.9, 2.3, 2.5, 2.3, 1.9, 2, 2.3, \n",
      "\r\n",
      "    1.8), species = structure(c(1L, 1L, 1L, 1L, 1L, 1L, 1L, 1L, \n",
      "\r\n",
      "    1L, 1L, 1L, 1L, 1L, 1L, 1L, 1L, 1L, 1L, 1L, 1L, 1L, 1L, 1L, \n",
      "\r\n",
      "    1L, 1L, 1L, 1L, 1L, 1L, 1L, 1L, 1L, 1L, 1L, 1L, 1L, 1L, 1L, \n",
      "\r\n",
      "    1L, 1L, 1L, 1L, 1L, 1L, 1L, 1L, 1L, 1L, 1L, 1L, 2L, 2L, 2L, \n",
      "\r\n",
      "    2L, 2L, 2L, 2L, 2L, 2L, 2L, 2L, 2L, 2L, 2L, 2L, 2L, 2L, 2L, \n",
      "\r\n",
      "    2L, 2L, 2L, 2L, 2L, 2L, 2L, 2L, 2L, 2L, 2L, 2L, 2L, 2L, 2L, \n",
      "\r\n",
      "    2L, 2L, 2L, 2L, 2L, 2L, 2L, 2L, 2L, 2L, 2L, 2L, 2L, 2L, 2L, \n",
      "\r\n",
      "    2L, 2L, 3L, 3L, 3L, 3L, 3L, 3L, 3L, 3L, 3L, 3L, 3L, 3L, 3L, \n",
      "\r\n",
      "    3L, 3L, 3L, 3L, 3L, 3L, 3L, 3L, 3L, 3L, 3L, 3L, 3L, 3L, 3L, \n",
      "\r\n",
      "    3L, 3L, 3L, 3L, 3L, 3L, 3L, 3L, 3L, 3L, 3L, 3L, 3L, 3L, 3L, \n",
      "\r\n",
      "    3L, 3L, 3L, 3L, 3L, 3L, 3L), .Label = c(\"setosa\", \"versicolor\", \n",
      "\r\n",
      "    \"virginica\"), class = \"factor\")), .Names = c(\"sepal_length\", \n",
      "\r\n",
      "\"sepal_width\", \"petal_length\", \"petal_width\", \"species\"), row.names = c(\"0\", \n",
      "\r\n",
      "\"1\", \"2\", \"3\", \"4\", \"5\", \"6\", \"7\", \"8\", \"9\", \"10\", \"11\", \"12\", \n",
      "\r\n",
      "\"13\", \"14\", \"15\", \"16\", \"17\", \"18\", \"19\", \"20\", \"21\", \"22\", \"23\", \n",
      "\r\n",
      "\"24\", \"25\", \"26\", \"27\", \"28\", \"29\", \"30\", \"31\", \"32\", \"33\", \"34\", \n",
      "\r\n",
      "\"35\", \"36\", \"37\", \"38\", \"39\", \"40\", \"41\", \"42\", \"43\", \"44\", \"45\", \n",
      "\r\n",
      "\"46\", \"47\", \"48\", \"49\", \"50\", \"51\", \"52\", \"53\", \"54\", \"55\", \"56\", \n",
      "\r\n",
      "\"57\", \"58\", \"59\", \"60\", \"61\", \"62\", \"63\", \"64\", \"65\", \"66\", \"67\", \n",
      "\r\n",
      "\"68\", \"69\", \"70\", \"71\", \"72\", \"73\", \"74\", \"75\", \"76\", \"77\", \"78\", \n",
      "\r\n",
      "\"79\", \"80\", \"81\", \"82\", \"83\", \"84\", \"85\", \"86\", \"87\", \"88\", \"89\", \n",
      "\r\n",
      "\"90\", \"91\", \"92\", \"93\", \"94\", \"95\", \"96\", \"97\", \"98\", \"99\", \"100\", \n",
      "\r\n",
      "\"101\", \"102\", \"103\", \"104\", \"105\", \"106\", \"107\", \"108\", \"109\", \n",
      "\r\n",
      "\"110\", \"111\", \"112\", \"113\", \"114\", \"115\", \"116\", \"117\", \"118\", \n",
      "\r\n",
      "\"119\", \"120\", \"121\", \"122\", \"123\", \"124\", \"125\", \"126\", \"127\", \n",
      "\r\n",
      "\"128\", \"129\", \"130\", \"131\", \"132\", \"133\", \"134\", \"135\", \"136\", \n",
      "\r\n",
      "\"137\", \"138\", \"139\", \"140\", \"141\", \"142\", \"143\", \"144\", \"145\", \n",
      "\r\n",
      "\"146\", \"147\", \"148\", \"149\"), class = \"data.frame\"))\n",
      "\r\n",
      "\n",
      "\r\n",
      "Coefficients:\n",
      "\r\n",
      " (Intercept)  petal_length  \n",
      "\r\n",
      "     -0.3665        0.4164  \n",
      "\r\n",
      "\n",
      "\n"
     ]
    }
   ],
   "source": [
    "model_1 = stats.lm('petal_width ~ petal_length', data=iris_df)\n",
    "print(model_1)"
   ]
  },
  {
   "cell_type": "markdown",
   "metadata": {
    "deletable": false,
    "editable": false,
    "run_control": {
     "frozen": true
    }
   },
   "source": [
    "Lastly, for this first method, we want to extract the coefficients of this model so that we can compare it against our second method's results.  In R, one way to retrieve the coefficients is like this: `model_1[['coefficients']]`.We need to use the `rx` function on `model_1` to get its coefficients.  The `rx2` function is `rpy2`'s shorthand for the double bracket ('\\[\\[') operator in R.  Save the coefficients as `coeff_1` and convert it to a Python list."
   ]
  },
  {
   "cell_type": "code",
   "execution_count": null,
   "metadata": {
    "solution2": "hidden",
    "solution2_first": true
   },
   "outputs": [],
   "source": []
  },
  {
   "cell_type": "code",
   "execution_count": 125,
   "metadata": {
    "solution2": "hidden"
   },
   "outputs": [
    {
     "name": "stdout",
     "output_type": "stream",
     "text": [
      "[-0.36651404521672737, 0.41641913228540106]\n"
     ]
    }
   ],
   "source": [
    "coeff_1 = list(model_1.rx2('coefficients'))\n",
    "print(coeff_1)"
   ]
  },
  {
   "cell_type": "markdown",
   "metadata": {
    "deletable": false,
    "editable": false,
    "run_control": {
     "frozen": true
    }
   },
   "source": [
    "Now, on to our second method.  We'll program in R directly using R's cell magic.  This is a much more terse way of performing the operation but there are a number of considerations.  It will be tricky to get this full syntax correct.\n",
    "* Use R cell magic\n",
    "* Pass the `iris_df` as the input data frame\n",
    "* On the R cell magic line, also designate the output with the `-o` flag and set it equal to `coeff_2`\n",
    "* In R, the `lm` call will be `lm(petal_width ~ petal_length, data=iris_df)`\n",
    "* Also in R, you can extract the coefficients from the `lm` using `$coefficients`\n",
    "* Set all this equal to the ouput variable `coeff_2`"
   ]
  },
  {
   "cell_type": "code",
   "execution_count": null,
   "metadata": {
    "solution2": "hidden",
    "solution2_first": true
   },
   "outputs": [],
   "source": []
  },
  {
   "cell_type": "code",
   "execution_count": 126,
   "metadata": {
    "solution2": "hidden"
   },
   "outputs": [],
   "source": [
    "%%R -i iris_df -o coeff_2\n",
    "coeff_2 <- lm(petal_width ~ petal_length, data=iris_df)$coefficients"
   ]
  },
  {
   "cell_type": "markdown",
   "metadata": {
    "deletable": false,
    "editable": false,
    "run_control": {
     "frozen": true
    }
   },
   "source": [
    "Verify that `coeff_1` and `coeff_2` match by printing both.  Note that technically `coeff_2` is a numpy array rather than a list."
   ]
  },
  {
   "cell_type": "code",
   "execution_count": null,
   "metadata": {
    "solution2": "hidden",
    "solution2_first": true
   },
   "outputs": [],
   "source": []
  },
  {
   "cell_type": "code",
   "execution_count": 130,
   "metadata": {
    "solution2": "hidden"
   },
   "outputs": [
    {
     "name": "stdout",
     "output_type": "stream",
     "text": [
      "[-0.36651404521672737, 0.41641913228540106]\n",
      "[-0.36651405  0.41641913]\n"
     ]
    }
   ],
   "source": [
    "print(coeff_1)\n",
    "print(coeff_2)"
   ]
  },
  {
   "cell_type": "markdown",
   "metadata": {
    "deletable": false,
    "editable": false,
    "run_control": {
     "frozen": true
    }
   },
   "source": [
    "### Exercise 2: Create an external R function and source it using `rpy2`"
   ]
  },
  {
   "cell_type": "markdown",
   "metadata": {
    "deletable": false,
    "editable": false,
    "run_control": {
     "frozen": true
    }
   },
   "source": [
    "In this exercise, we'll create a simple R function in an external text editor (Notepad++ works well) and save it to our working directory.  We will source this R file and call this function from `rpy2`.  \n",
    "\n",
    "To start, open Notepad++ (or your favorite text editor) and copy these lines into it:\n",
    "```\n",
    "vector_adder <- function(v, add_amount) {\n",
    "  v + add_amount\n",
    "}\n",
    "```\n",
    "and save this file in the '2-communication-with-r' folder as `vector_adder.r`.  This is a very simple script that will add a set value to each value in a vector and return that vector.\n",
    "\n",
    "Once you've done this, look back to the overview section on how to source an R script.  Copy this section of code and paste into the cell below.  You'll want to make a few modifications to the code:\n",
    "* Change the SAMPLE_SCRIPT to point to your new script\n",
    "* Change the vector that you're going to pass to be numbers from 10 to 20\n",
    "* Call the function `vector_adder` with two arguments - your vector and the value 5\n",
    "* Change the name of `norm_vector` to `added_vector`\n",
    "* Print both `added_vector` and the Python list repesentation of it"
   ]
  },
  {
   "cell_type": "code",
   "execution_count": null,
   "metadata": {
    "solution2": "hidden",
    "solution2_first": true
   },
   "outputs": [],
   "source": []
  },
  {
   "cell_type": "code",
   "execution_count": 4,
   "metadata": {
    "solution2": "hidden"
   },
   "outputs": [
    {
     "name": "stdout",
     "output_type": "stream",
     "text": [
      " [1] 15 16 17 18 19 20 21 22 23 24 25\n",
      "\n",
      "[15, 16, 17, 18, 19, 20, 21, 22, 23, 24, 25]\n"
     ]
    }
   ],
   "source": [
    "# Sample script\n",
    "SAMPLE_SCRIPT = './vector_adder.r'\n",
    "\n",
    "# Source the script\n",
    "# This defines a function called 'vector_adder' in R's namespace\n",
    "robjects.r.source(SAMPLE_SCRIPT)\n",
    "\n",
    "# Create an R vector to pass\n",
    "int_vector = robjects.IntVector(range(10, 21))\n",
    "\n",
    "# Call the function through r object\n",
    "added_vector = robjects.r.vector_adder(int_vector, 5)\n",
    "\n",
    "# Print this added_vector (as R object)\n",
    "print(added_vector)\n",
    "\n",
    "# Convert to Python list\n",
    "print(list(added_vector))"
   ]
  },
  {
   "cell_type": "markdown",
   "metadata": {
    "deletable": false,
    "editable": false,
    "run_control": {
     "frozen": true
    }
   },
   "source": [
    "Look at the following output.  Use a Python for loop along with the code you just wrote to try to replicate this output"
   ]
  },
  {
   "cell_type": "code",
   "execution_count": null,
   "metadata": {
    "solution2": "hidden",
    "solution2_first": true
   },
   "outputs": [],
   "source": []
  },
  {
   "cell_type": "code",
   "execution_count": 6,
   "metadata": {
    "solution2": "hidden"
   },
   "outputs": [
    {
     "name": "stdout",
     "output_type": "stream",
     "text": [
      "[11, 12, 13, 14, 15, 16, 17, 18, 19, 20, 21]\n",
      "[12, 13, 14, 15, 16, 17, 18, 19, 20, 21, 22]\n",
      "[13, 14, 15, 16, 17, 18, 19, 20, 21, 22, 23]\n",
      "[14, 15, 16, 17, 18, 19, 20, 21, 22, 23, 24]\n",
      "[15, 16, 17, 18, 19, 20, 21, 22, 23, 24, 25]\n"
     ]
    }
   ],
   "source": [
    "# It's not necessary to re-source the script or recreate the int_vector object\n",
    "for add_amount in range(1, 6):\n",
    "    # Call the function through r object\n",
    "    added_vector = robjects.r.vector_adder(int_vector, add_amount)\n",
    "    \n",
    "    # Convert to Python list\n",
    "    print(list(added_vector))"
   ]
  },
  {
   "cell_type": "markdown",
   "metadata": {
    "deletable": false,
    "editable": false,
    "run_control": {
     "frozen": true
    }
   },
   "source": [
    "```\n",
    "[11, 12, 13, 14, 15, 16, 17, 18, 19, 20, 21]\n",
    "[12, 13, 14, 15, 16, 17, 18, 19, 20, 21, 22]\n",
    "[13, 14, 15, 16, 17, 18, 19, 20, 21, 22, 23]\n",
    "[14, 15, 16, 17, 18, 19, 20, 21, 22, 23, 24]\n",
    "[15, 16, 17, 18, 19, 20, 21, 22, 23, 24, 25]\n",
    "```"
   ]
  },
  {
   "cell_type": "markdown",
   "metadata": {
    "deletable": false,
    "editable": false,
    "run_control": {
     "frozen": true
    }
   },
   "source": [
    "### Exercise 3: Create ggplot graphics using R magic"
   ]
  },
  {
   "cell_type": "markdown",
   "metadata": {
    "deletable": false,
    "editable": false,
    "run_control": {
     "frozen": true
    }
   },
   "source": [
    "In this final exercise, we'll create a pandas dataframe and progressively build up a nicer looking ggplot output.  This is a bit of a ggplot tutorial (not Python), but there is a project to port ggplot to Python (http://ggplot.yhathq.com/), so this will not be wasted effort.  However, for this exercise, we'll use R's `ggplot2` library.\n",
    "\n",
    "As before, load in the iris dataset into a pandas DataFrame from the `iris.csv` file.  Call it `iris_df`."
   ]
  },
  {
   "cell_type": "code",
   "execution_count": null,
   "metadata": {
    "solution2": "hidden",
    "solution2_first": true
   },
   "outputs": [],
   "source": []
  },
  {
   "cell_type": "code",
   "execution_count": 23,
   "metadata": {
    "solution2": "hidden"
   },
   "outputs": [],
   "source": [
    "iris_df = pd.read_csv('iris.csv')"
   ]
  },
  {
   "cell_type": "markdown",
   "metadata": {
    "deletable": false,
    "editable": false,
    "run_control": {
     "frozen": true
    }
   },
   "source": [
    "Using R cell magic, bring this data into R and plot the most basic ggplot, just using `ggplot(iris_df, aes(petal_length, petal_width)`.  This will set up the graphing axes."
   ]
  },
  {
   "cell_type": "code",
   "execution_count": null,
   "metadata": {
    "solution2": "hidden",
    "solution2_first": true
   },
   "outputs": [],
   "source": []
  },
  {
   "cell_type": "code",
   "execution_count": 20,
   "metadata": {
    "solution2": "hidden"
   },
   "outputs": [
    {
     "data": {
      "image/png": "[encoded data removed]"
     },
     "metadata": {},
     "output_type": "display_data"
    }
   ],
   "source": [
    "%%R -i iris_df\n",
    "ggplot(iris_df, aes(petal_length, petal_width))"
   ]
  },
  {
   "cell_type": "markdown",
   "metadata": {
    "deletable": false,
    "editable": false,
    "run_control": {
     "frozen": true
    }
   },
   "source": [
    "Now, add the data points by \"adding\" a `geom_point()` call to the ggplot expression"
   ]
  },
  {
   "cell_type": "code",
   "execution_count": null,
   "metadata": {
    "solution2": "hidden",
    "solution2_first": true
   },
   "outputs": [],
   "source": []
  },
  {
   "cell_type": "code",
   "execution_count": 21,
   "metadata": {
    "solution2": "hidden"
   },
   "outputs": [
    {
     "data": {
      "image/png": "[encoded data removed]"
     },
     "metadata": {},
     "output_type": "display_data"
    }
   ],
   "source": [
    "%%R -i iris_df\n",
    "ggplot(iris_df, aes(petal_length, petal_width)) + geom_point()"
   ]
  },
  {
   "cell_type": "markdown",
   "metadata": {
    "deletable": false,
    "editable": false,
    "run_control": {
     "frozen": true
    }
   },
   "source": [
    "Create a new 'aesthetic' (`aes`) for the dots to color the dots by species.  To create a new aesthetic, you use the `aes()` function along with the paramters that you want to have.  In this case, we want the `colour` parameter to be `species`, so our `aes` call is `aes(colour=species)`.  This whole string needs to be the parameter to `geom_point`."
   ]
  },
  {
   "cell_type": "code",
   "execution_count": null,
   "metadata": {
    "solution2": "hidden",
    "solution2_first": true
   },
   "outputs": [],
   "source": []
  },
  {
   "cell_type": "code",
   "execution_count": 29,
   "metadata": {
    "solution2": "hidden"
   },
   "outputs": [
    {
     "data": {
      "image/png": "[encoded data removed]"
     },
     "metadata": {},
     "output_type": "display_data"
    }
   ],
   "source": [
    "%%R -i iris_df\n",
    "ggplot(iris_df, aes(petal_length, petal_width)) + geom_point(aes(colour=species))"
   ]
  },
  {
   "cell_type": "markdown",
   "metadata": {
    "deletable": false,
    "editable": false,
    "run_control": {
     "frozen": true
    }
   },
   "source": [
    "Now modify the aesthetic you just created to have the size of the dot come from the `sepal_width` value.  See if you can figure out what keyword needs to be provided."
   ]
  },
  {
   "cell_type": "code",
   "execution_count": null,
   "metadata": {
    "solution2": "hidden",
    "solution2_first": true
   },
   "outputs": [],
   "source": []
  },
  {
   "cell_type": "code",
   "execution_count": 30,
   "metadata": {
    "solution2": "hidden"
   },
   "outputs": [
    {
     "data": {
      "image/png": "[encoded data removed]"
     },
     "metadata": {},
     "output_type": "display_data"
    }
   ],
   "source": [
    "%%R -i iris_df\n",
    "ggplot(iris_df, aes(petal_length, petal_width)) + geom_point(aes(colour=species, size=sepal_width))"
   ]
  },
  {
   "cell_type": "markdown",
   "metadata": {
    "deletable": false,
    "editable": false,
    "run_control": {
     "frozen": true
    }
   },
   "source": [
    "Finally, you will add a line representing the linear regression fit using the additional term `geom_smooth`.  `geom_smooth` has a keyword called `method` that can be set to `'lm'` to show the least-squares regression fit.  See if you can figure out how to color the line black and make it 0.5 mm wide."
   ]
  },
  {
   "cell_type": "code",
   "execution_count": null,
   "metadata": {
    "solution2": "hidden",
    "solution2_first": true
   },
   "outputs": [],
   "source": []
  },
  {
   "cell_type": "code",
   "execution_count": 49,
   "metadata": {
    "solution2": "hidden"
   },
   "outputs": [
    {
     "data": {
      "image/png": "[encoded data removed]"
     },
     "metadata": {},
     "output_type": "display_data"
    }
   ],
   "source": [
    "%%R -i iris_df\n",
    "ggplot(iris_df, aes(petal_length, petal_width)) + \n",
    "  geom_point(aes(colour=species, size=sepal_width)) +\n",
    "  geom_smooth(method='lm', colour='black', size=0.5)"
   ]
  }
 ],
 "metadata": {
  "kernelspec": {
   "display_name": "Python 2",
   "language": "python",
   "name": "python2"
  },
  "language_info": {
   "codemirror_mode": {
    "name": "ipython",
    "version": 2
   },
   "file_extension": ".py",
   "mimetype": "text/x-python",
   "name": "python",
   "nbconvert_exporter": "python",
   "pygments_lexer": "ipython2",
   "version": "2.7.13"
  },
  "livereveal": {
   "scroll": true,
   "transition": "fade"
  }
 },
 "nbformat": 4,
 "nbformat_minor": 2
}
