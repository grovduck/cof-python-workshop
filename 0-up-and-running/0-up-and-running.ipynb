{
 "cells": [
  {
   "cell_type": "markdown",
   "metadata": {
    "deletable": false,
    "editable": false,
    "run_control": {
     "frozen": true
    }
   },
   "source": [
    "<span style='color:red'>**Important**</span>: These first two cells are some configuration Jupyter needs in order to present this tutorial correctly.  Please hit `Shift` and `Enter` keys together until the **Pre-workshop training** cell is highlighted"
   ]
  },
  {
   "cell_type": "code",
   "execution_count": 46,
   "metadata": {},
   "outputs": [
    {
     "data": {
      "text/html": [
       "<style>\n",
       "  img {margin-left: 0 !important;}\n",
       "  table {margin-left: 0 !important;}\n",
       "  .rendered_html th, .rendered_html td {\n",
       "    text-align: left;\n",
       "  }\n",
       "</style>"
      ],
      "text/plain": [
       "<IPython.core.display.HTML object>"
      ]
     },
     "metadata": {},
     "output_type": "display_data"
    }
   ],
   "source": [
    "%%html\n",
    "<style>\n",
    "  img {margin-left: 0 !important;}\n",
    "  table {margin-left: 0 !important;}\n",
    "  .rendered_html th, .rendered_html td {\n",
    "    text-align: left;\n",
    "  }\n",
    "</style>"
   ]
  },
  {
   "cell_type": "code",
   "execution_count": 47,
   "metadata": {},
   "outputs": [],
   "source": [
    "from IPython.core.interactiveshell import InteractiveShell\n",
    "InteractiveShell.ast_node_interactivity = \"all\""
   ]
  },
  {
   "cell_type": "markdown",
   "metadata": {
    "deletable": false,
    "editable": false,
    "run_control": {
     "frozen": true
    }
   },
   "source": [
    "# Pre-workshop training\n",
    "This is an introduction to Python types and functions in advance of the CoF Python workshop.  As we'll mostly be looking at applications of Python within the workshop, this session should serve as an introduction to the Python language and give users familiarity with the syntax they will see during the workshop.\n",
    "\n",
    "As you work through these pages, there will be small exercises at the bottom of each section that will get you used to working with Python syntax and Jupyter notebooks (the main interface we'll be using in the workshop).  Please experiment as much as you'd like to get used to the language and email Matt Gregory (matt.gregory@oregonstate.edu) with any questions."
   ]
  },
  {
   "cell_type": "markdown",
   "metadata": {
    "deletable": false,
    "editable": false,
    "run_control": {
     "frozen": true
    }
   },
   "source": [
    "<hr>\n",
    "## Jupyter notebooks\n",
    "Jupyter notebooks are a convenient way of interacting directly with the Python interpreter.  Notebooks are divided into cells that can contain code, output from the interpreter, or documentation (like this one).  Code cells have an `In [ ]:` in the left margin, sometimes with a number *n*, where the *n* will be a sequential number of the *n*th cell being evaluated.  Note that evaluating cells more than once will increment the value of *n*.\n",
    "\n",
    "In order to evaluate a cell's contents (primarily with cells that contain Python code), you type `Shift` and `Enter` at the same time (I will be referring to this as `Shift+Enter`).  This will also advance to the next cell.  Typing `Ctrl+Enter` will evaluate the cell, but keep the current cell activated.  Hitting `Enter` on its own will take you to a new line within the same cell.  \n",
    "\n",
    "First, try an example.  In the blank cell below, first place your cursor in the cell, and type the following:\n",
    "```python\n",
    "print 'Hello, world!'\n",
    "```\n",
    "then type `Shift+Enter`"
   ]
  },
  {
   "cell_type": "code",
   "execution_count": null,
   "metadata": {},
   "outputs": [],
   "source": []
  },
  {
   "cell_type": "markdown",
   "metadata": {
    "deletable": false,
    "editable": false,
    "run_control": {
     "frozen": true
    }
   },
   "source": [
    "If everything went OK, you should see this (although the number with the `In[n]` will likely be different):\n",
    "![](./images/hello_world.png \"Title\")\n",
    "\n",
    "\n",
    "Now try to enter multiple lines into the following blank cell, hitting `Enter` to advance to the next line and `Shift-Enter` to evaluate the cell.\n",
    "```python\n",
    "a = 3\n",
    "b = 4\n",
    "print a + b\n",
    "```"
   ]
  },
  {
   "cell_type": "code",
   "execution_count": null,
   "metadata": {},
   "outputs": [],
   "source": []
  },
  {
   "cell_type": "markdown",
   "metadata": {
    "deletable": false,
    "editable": false,
    "run_control": {
     "frozen": true
    }
   },
   "source": [
    "Did you get this?![](./images/hello_multiline.png \"Multi-line\")\n",
    "If so, you're all set for working through these examples.  You will be doing all of your work in the code cells, although you will need to learn how to also move through the documentation cells.  You can move through the cells (either code or documentation) without \"evaluating\" them by pressing the up-arrow and down-arrow keys.  You can also insert cells by hitting the 'plus' icon in the toolbar at the top or by using the menu `Insert -> Insert Cell Above` or `Insert -> Insert Cell Below`.\n",
    "\n",
    "Note that this is only the most basic introduction to Jupyter notebooks and their functionality in order to get going with this workshop.  To learn more about other features of notebooks, check out [Project Jupyter](http://jupyter.org/try)."
   ]
  },
  {
   "cell_type": "markdown",
   "metadata": {
    "deletable": false,
    "editable": false,
    "run_control": {
     "frozen": true
    }
   },
   "source": [
    "<hr>\n",
    "## Getting Help\n",
    "This is probably the single-most important thing to learn in Python apart from the language itself.  It's also one of the hardest things to teach because there are so many resources out there and having a single path for getting help is unrealistic.\n",
    "\n",
    "I'm a big advocate of experimenting and getting things wrong when you're learning a programming language as I believe it reinforces the learning process.  To understand why things aren't working when these failures hit, you're going to need to know about where to go to get help and how to ask the right question.  Luckily, in Python there are some great resources for help, both in the built-in documentation and across the web (and especially the site https://stackoverflow.com).  Let's work through an example of how to get help when you don't know how to even get started. \n",
    "\n",
    "Suppose you want to find the square root of a number in Python.  One might logically think this would work:\n",
    "```python\n",
    "print square_root(3.0)\n",
    "```\n",
    "Try it out and see if it works (remember to hit `Shift+Enter` to evaluate the cell)"
   ]
  },
  {
   "cell_type": "code",
   "execution_count": null,
   "metadata": {},
   "outputs": [],
   "source": []
  },
  {
   "cell_type": "markdown",
   "metadata": {
    "deletable": false,
    "editable": false,
    "run_control": {
     "frozen": true
    }
   },
   "source": [
    "You just got a bunch of text that ultimately says:\n",
    "```python\n",
    "NameError: name 'square_root' is not defined\n",
    "```\n",
    "OK, so that didn't work.  My next move is usually a Google Search with \"python square root\" as search terms.  I got a page that had these hits:\n",
    "\n",
    "![](./images/sqrt.png \"Google square root\")\n",
    "\n",
    "So which one do you pick here?  If you choose the \"featured\" link, you actually get a page on how to calculate an integer square root function, the second link points you to something called `math.sqrt()` which looks like you have to do something like `import math` before you can even use it, and the third link (Stack Overflow) shows someone asking a question with a syntax like `x**(.5)`.  This can be incredibly frustrating that there are so many answers to the same question.  The reality is that there is more than one way to calculate a square-root of a number and that all of these pages give good information, albeit trying to do slightly different things.\n",
    "\n",
    "If you look through the top seven or so hits, I hope you'll see that the answer with `math.sqrt` comes up again and again.  This is usually a good way to narrow your search - look for those phrases that come up often within the first page of hits.  So let's go to the second link and see what it has to say:\n",
    "\n",
    "![](./images/sqrt_help.png \"Example square root\")\n",
    "\n",
    "So, let's try this syntax ourselves.  Type the following into the cell below:\n",
    "```python\n",
    "import math\n",
    "print math.sqrt(3.0)\n",
    "```"
   ]
  },
  {
   "cell_type": "code",
   "execution_count": null,
   "metadata": {},
   "outputs": [],
   "source": []
  },
  {
   "cell_type": "markdown",
   "metadata": {
    "deletable": false,
    "editable": false,
    "run_control": {
     "frozen": true
    }
   },
   "source": [
    "Excellent, that worked!  But what did we just do?  Why did we need to import something and what is that funny dot syntax in there?  How do we know what to put in between the parentheses?  \n",
    "\n",
    "Some of the answers to these questions you will learn about, but other answers can usually be found within the Python documentation itself.  You will learn soon that `math` is an example of a Python module that brings in additional functionality to Python.  In order to use this functionality, you need to use the `import` statement.  You will also learn that the `.` between `math` and `sqrt` means that `sqrt` is a function in the `math` module.  Let's look at what the `math` module gives you by using the `help` function in Python.\n",
    "```python\n",
    "help(math)\n",
    "```\n",
    "Type this into the cell below."
   ]
  },
  {
   "cell_type": "code",
   "execution_count": null,
   "metadata": {},
   "outputs": [],
   "source": []
  },
  {
   "cell_type": "markdown",
   "metadata": {
    "deletable": false,
    "editable": false,
    "run_control": {
     "frozen": true
    }
   },
   "source": [
    "This just brought up the `math` module's built-in help.  You'll see that this module has a lot of functions that will look familiar, one of them being `sqrt`.  Let's get help on the sqrt function on its own by typing the following:\n",
    "```python\n",
    "help(math.sqrt)\n",
    "```\n",
    "Type this into the cell below."
   ]
  },
  {
   "cell_type": "code",
   "execution_count": null,
   "metadata": {},
   "outputs": [],
   "source": []
  },
  {
   "cell_type": "markdown",
   "metadata": {
    "deletable": false,
    "editable": false,
    "run_control": {
     "frozen": true
    }
   },
   "source": [
    "This still looks a bit weird if you're new to Python, but what this is telling you is that the `sqrt` function is expecting one ***argument*** (the `x` between its parentheses) and that it will ***return*** the square root of that argument back to the caller.\n",
    "\n",
    "Now try it yourself.  If you knew that a function to find the cosine of a number was in the `math` module, how would you go about finding it and calling it with an argument of 1.0.  (Hint: start with getting help on the `math` module in the cell below.)"
   ]
  },
  {
   "cell_type": "code",
   "execution_count": null,
   "metadata": {
    "solution2": "hidden",
    "solution2_first": true
   },
   "outputs": [],
   "source": []
  },
  {
   "cell_type": "code",
   "execution_count": 54,
   "metadata": {
    "solution2": "hidden"
   },
   "outputs": [
    {
     "name": "stdout",
     "output_type": "stream",
     "text": [
      "Help on built-in module math:\n",
      "\n",
      "NAME\n",
      "    math\n",
      "\n",
      "FILE\n",
      "    (built-in)\n",
      "\n",
      "DESCRIPTION\n",
      "    This module is always available.  It provides access to the\n",
      "    mathematical functions defined by the C standard.\n",
      "\n",
      "FUNCTIONS\n",
      "    acos(...)\n",
      "        acos(x)\n",
      "        \n",
      "        Return the arc cosine (measured in radians) of x.\n",
      "    \n",
      "    acosh(...)\n",
      "        acosh(x)\n",
      "        \n",
      "        Return the inverse hyperbolic cosine of x.\n",
      "    \n",
      "    asin(...)\n",
      "        asin(x)\n",
      "        \n",
      "        Return the arc sine (measured in radians) of x.\n",
      "    \n",
      "    asinh(...)\n",
      "        asinh(x)\n",
      "        \n",
      "        Return the inverse hyperbolic sine of x.\n",
      "    \n",
      "    atan(...)\n",
      "        atan(x)\n",
      "        \n",
      "        Return the arc tangent (measured in radians) of x.\n",
      "    \n",
      "    atan2(...)\n",
      "        atan2(y, x)\n",
      "        \n",
      "        Return the arc tangent (measured in radians) of y/x.\n",
      "        Unlike atan(y/x), the signs of both x and y are considered.\n",
      "    \n",
      "    atanh(...)\n",
      "        atanh(x)\n",
      "        \n",
      "        Return the inverse hyperbolic tangent of x.\n",
      "    \n",
      "    ceil(...)\n",
      "        ceil(x)\n",
      "        \n",
      "        Return the ceiling of x as a float.\n",
      "        This is the smallest integral value >= x.\n",
      "    \n",
      "    copysign(...)\n",
      "        copysign(x, y)\n",
      "        \n",
      "        Return x with the sign of y.\n",
      "    \n",
      "    cos(...)\n",
      "        cos(x)\n",
      "        \n",
      "        Return the cosine of x (measured in radians).\n",
      "    \n",
      "    cosh(...)\n",
      "        cosh(x)\n",
      "        \n",
      "        Return the hyperbolic cosine of x.\n",
      "    \n",
      "    degrees(...)\n",
      "        degrees(x)\n",
      "        \n",
      "        Convert angle x from radians to degrees.\n",
      "    \n",
      "    erf(...)\n",
      "        erf(x)\n",
      "        \n",
      "        Error function at x.\n",
      "    \n",
      "    erfc(...)\n",
      "        erfc(x)\n",
      "        \n",
      "        Complementary error function at x.\n",
      "    \n",
      "    exp(...)\n",
      "        exp(x)\n",
      "        \n",
      "        Return e raised to the power of x.\n",
      "    \n",
      "    expm1(...)\n",
      "        expm1(x)\n",
      "        \n",
      "        Return exp(x)-1.\n",
      "        This function avoids the loss of precision involved in the direct evaluation of exp(x)-1 for small x.\n",
      "    \n",
      "    fabs(...)\n",
      "        fabs(x)\n",
      "        \n",
      "        Return the absolute value of the float x.\n",
      "    \n",
      "    factorial(...)\n",
      "        factorial(x) -> Integral\n",
      "        \n",
      "        Find x!. Raise a ValueError if x is negative or non-integral.\n",
      "    \n",
      "    floor(...)\n",
      "        floor(x)\n",
      "        \n",
      "        Return the floor of x as a float.\n",
      "        This is the largest integral value <= x.\n",
      "    \n",
      "    fmod(...)\n",
      "        fmod(x, y)\n",
      "        \n",
      "        Return fmod(x, y), according to platform C.  x % y may differ.\n",
      "    \n",
      "    frexp(...)\n",
      "        frexp(x)\n",
      "        \n",
      "        Return the mantissa and exponent of x, as pair (m, e).\n",
      "        m is a float and e is an int, such that x = m * 2.**e.\n",
      "        If x is 0, m and e are both 0.  Else 0.5 <= abs(m) < 1.0.\n",
      "    \n",
      "    fsum(...)\n",
      "        fsum(iterable)\n",
      "        \n",
      "        Return an accurate floating point sum of values in the iterable.\n",
      "        Assumes IEEE-754 floating point arithmetic.\n",
      "    \n",
      "    gamma(...)\n",
      "        gamma(x)\n",
      "        \n",
      "        Gamma function at x.\n",
      "    \n",
      "    hypot(...)\n",
      "        hypot(x, y)\n",
      "        \n",
      "        Return the Euclidean distance, sqrt(x*x + y*y).\n",
      "    \n",
      "    isinf(...)\n",
      "        isinf(x) -> bool\n",
      "        \n",
      "        Check if float x is infinite (positive or negative).\n",
      "    \n",
      "    isnan(...)\n",
      "        isnan(x) -> bool\n",
      "        \n",
      "        Check if float x is not a number (NaN).\n",
      "    \n",
      "    ldexp(...)\n",
      "        ldexp(x, i)\n",
      "        \n",
      "        Return x * (2**i).\n",
      "    \n",
      "    lgamma(...)\n",
      "        lgamma(x)\n",
      "        \n",
      "        Natural logarithm of absolute value of Gamma function at x.\n",
      "    \n",
      "    log(...)\n",
      "        log(x[, base])\n",
      "        \n",
      "        Return the logarithm of x to the given base.\n",
      "        If the base not specified, returns the natural logarithm (base e) of x.\n",
      "    \n",
      "    log10(...)\n",
      "        log10(x)\n",
      "        \n",
      "        Return the base 10 logarithm of x.\n",
      "    \n",
      "    log1p(...)\n",
      "        log1p(x)\n",
      "        \n",
      "        Return the natural logarithm of 1+x (base e).\n",
      "        The result is computed in a way which is accurate for x near zero.\n",
      "    \n",
      "    modf(...)\n",
      "        modf(x)\n",
      "        \n",
      "        Return the fractional and integer parts of x.  Both results carry the sign\n",
      "        of x and are floats.\n",
      "    \n",
      "    pow(...)\n",
      "        pow(x, y)\n",
      "        \n",
      "        Return x**y (x to the power of y).\n",
      "    \n",
      "    radians(...)\n",
      "        radians(x)\n",
      "        \n",
      "        Convert angle x from degrees to radians.\n",
      "    \n",
      "    sin(...)\n",
      "        sin(x)\n",
      "        \n",
      "        Return the sine of x (measured in radians).\n",
      "    \n",
      "    sinh(...)\n",
      "        sinh(x)\n",
      "        \n",
      "        Return the hyperbolic sine of x.\n",
      "    \n",
      "    sqrt(...)\n",
      "        sqrt(x)\n",
      "        \n",
      "        Return the square root of x.\n",
      "    \n",
      "    tan(...)\n",
      "        tan(x)\n",
      "        \n",
      "        Return the tangent of x (measured in radians).\n",
      "    \n",
      "    tanh(...)\n",
      "        tanh(x)\n",
      "        \n",
      "        Return the hyperbolic tangent of x.\n",
      "    \n",
      "    trunc(...)\n",
      "        trunc(x:Real) -> Integral\n",
      "        \n",
      "        Truncates x to the nearest Integral toward 0. Uses the __trunc__ magic method.\n",
      "\n",
      "DATA\n",
      "    e = 2.718281828459045\n",
      "    pi = 3.141592653589793\n",
      "\n",
      "\n",
      "Help on built-in function cos in module math:\n",
      "\n",
      "cos(...)\n",
      "    cos(x)\n",
      "    \n",
      "    Return the cosine of x (measured in radians).\n",
      "\n"
     ]
    },
    {
     "data": {
      "text/plain": [
       "0.5403023058681398"
      ]
     },
     "execution_count": 54,
     "metadata": {},
     "output_type": "execute_result"
    }
   ],
   "source": [
    "# Do the following\n",
    "help(math)\n",
    "\n",
    "# This should lead you to the `cos` function\n",
    "help(math.cos)\n",
    "\n",
    "# Now get cosine of 1.0\n",
    "math.cos(1.0)"
   ]
  },
  {
   "cell_type": "markdown",
   "metadata": {
    "deletable": false,
    "editable": false,
    "run_control": {
     "frozen": true
    }
   },
   "source": [
    "If you searched and called the function correctly, you'll find that the cosine of 1.0 radians is 0.5403023058681398.\n",
    "\n",
    "When you're working in the Jupyter environment, there are some nice additional options.  In the cell below, type `math.` (make sure you get the `.` in there) and then hit the `Tab` key."
   ]
  },
  {
   "cell_type": "code",
   "execution_count": null,
   "metadata": {},
   "outputs": [],
   "source": []
  },
  {
   "cell_type": "markdown",
   "metadata": {
    "deletable": false,
    "editable": false,
    "run_control": {
     "frozen": true
    }
   },
   "source": [
    "You should be presented with a drop-down list of all available functions in the math module.  Once you find the function you want to use (by using up and down arrow keys -or- typing the first few letters of the function you're searching for), either hit `Enter` or left-click with the mouse and the full function name will be inserted into the cell. I tend to find this an easier way to search for functions if I already know the module that I need to be searching.  \n",
    "\n",
    "Now, find a function you want to use, type it into the cell below (e.g. `math.sqrt`) and then type the `Shift` and `Tab` keys together (`Shift+Tab`) and you should be presented with the help for that particular function.  As you start typing, the help will disappear, but you can get it back at any time by hitting `Shift+Tab` again."
   ]
  },
  {
   "cell_type": "code",
   "execution_count": null,
   "metadata": {},
   "outputs": [],
   "source": []
  },
  {
   "cell_type": "markdown",
   "metadata": {
    "deletable": false,
    "editable": false,
    "run_control": {
     "frozen": true
    }
   },
   "source": [
    "<hr>\n",
    "## Errors and Exceptions\n",
    "One thing you're sure to encounter when working through these examples are errors.  Sometimes these errors will look completely obtuse, but most of the time, errors give good information about what went wrong.  Take the following example:\n",
    "\n",
    "![](./images/hello_error.png \"Error 1\")\n",
    "\n",
    "If you look at the last line of the message, you'll see that this is a `SyntaxError`, with the additional message that it found an unexpected EOF (end-of-file) while parsing.  Maybe that's a bit strange of an error, but also look at the preceding line which shows a small caret ('^') symbol pointing at one character past the last quotation mark.  This gives an indication that the error is happening here.  You were probably able to figure out that we are missing our ending parenthesis.\n",
    "\n",
    "Here's another:\n",
    "\n",
    "![](./images/hello_error_2.png \"Error 2\")\n",
    "\n",
    "In this case, we have a `TypeError`.  No longer do we have a caret, but we do have an arrow on the left side pointing to the line with the error.  In this case, the error message is probably more clear - we cannot add (or concatentate) a 'str' (string) and 'int' (integer) together (don't worry if the reason *why* this doesn't work isn't yet clear).\n",
    "\n",
    "Errors can be intimidating in Python because they include the entire \"call stack\" of a program when the interpreter encountered the error.  This just means that the error may be deeply nested within a number of functions and, at each level, the program reports the line number which called the inner function.  In my experience, it's almost always useful to scroll to the bottom of the error to find the root cause of what went wrong. \n"
   ]
  },
  {
   "cell_type": "markdown",
   "metadata": {
    "deletable": false,
    "editable": false,
    "run_control": {
     "frozen": true
    }
   },
   "source": [
    "<hr>\n",
    "## Variables\n",
    "\n",
    "Variables in Python are used everywhere.  You have likely seen them in any other programming language you may have used.  Think of them as \"names\" that refer to things.  So, when we do this,\n",
    "```python\n",
    "a = 3\n",
    "```\n",
    "we are using the **name** \"a\" to refer to an **object** that represents the numeric **value** 3.  When we subsequently use \"a\" again like this,\n",
    "```python\n",
    "a = 'Bob'\n",
    "```\n",
    "we have now reassigned the name \"a\" to a new object that represents the string value \"Bob\".  Variables spring into existence when named and, unlike some programming languages, do not need to be given type information before being used.\n",
    "\n",
    "Variables can also be used to hold results of simple expressions, e.g.\n",
    "```python\n",
    "a = 1 + 2\n",
    "print a\n",
    "3\n",
    "```\n",
    "or even to hold the results of expressions that include other variables\n",
    "```python\n",
    "a = 1 + 2\n",
    "b = a + 5\n",
    "print b\n",
    "8\n",
    "```\n",
    "The rules on naming variables are pretty easy:\n",
    "* Variables must start with either a letter or an underscore \n",
    "* The remainder of the variable name can be letters (both lower-case and upper-case), numbers, and underscores\n",
    "* Names are case-sensitive (the variable `Monkey` is different than the variable `monkey`)\n",
    "\n",
    "Typically, the convention in Python is to name your variables with lower-case letters and use underscores to separate \"words\" in a variable name.  Variable names should be also be intuitive   For example:\n",
    "\n",
    "Good variable names:\n",
    "\n",
    "* `list_of_addresses`\n",
    "* `box_of_wrenches`\n",
    "* `x` (single-letter variable names usually used for temporary assignment or in loops)\n",
    "\n",
    "Less good variable names (but still legal):\n",
    "* `okVariableName` (camelCase is used quite often in some modules)\n",
    "* `bOxOfWrEnCHES141`\n",
    "* `hardtoreadwithoutspaces`\n",
    "\n",
    "Illegal variable names:\n",
    "* `2robot`\n",
    "* `variable.name` (this one for you R programmers!)"
   ]
  },
  {
   "cell_type": "markdown",
   "metadata": {
    "deletable": false,
    "editable": false,
    "run_control": {
     "frozen": true
    }
   },
   "source": [
    "<hr>\n",
    "## Introduction to Python built-in data types \n",
    "This is a broad overview of some common Python data types.  In following sections, we'll dive in a bit to each data type in more details, but this section exposes you to the built-in data types available in Python.  The table below gives each of these types and examples of how you would create an object of this data type.\n",
    "\n",
    "| Type | Description | Example creation of object(s) |\n",
    "| ---- | ----------- | ----------------------------- |\n",
    "| Numbers | Integer or floating-point values | 3, 1.34, 5e6 |\n",
    "| Strings | Text or character values | 'Bob', \"Susie\" |\n",
    "| Lists   | Sequence for arbitrary objects - \"mutable\" | [1, 2, 3], list((4, 5, 6)) |\n",
    "| Tuples | Sequence for arbitrary objects - \"immutable\" | (1, 2, 3), tuple((4, 5, 6)) |\n",
    "| Dictionaries | Container for key/value pairs, aka \"mappings\" | {'name': 'Bob', 'age': 32, 'height': 71}, dict(name='Sue', age=27, height=65) |\n",
    "| Sets | Collections of unique and immutable objects | {1, 2, 3}, set((1, 2, 3)) |\n",
    "\n",
    "In the cell below, try to create any of the above objects (using the syntax in the third column) and then check their type using the `type` function, e.g.\n",
    "```python\n",
    "a = 'Bob'\n",
    "type(a)\n",
    "```\n",
    "Try this for multiple different data types in the same cell (remember `Ctrl+Enter` evaluates the cell and stays in the same position.)"
   ]
  },
  {
   "cell_type": "code",
   "execution_count": null,
   "metadata": {},
   "outputs": [],
   "source": []
  },
  {
   "cell_type": "markdown",
   "metadata": {
    "deletable": false,
    "editable": false,
    "run_control": {
     "frozen": true
    }
   },
   "source": [
    "One thing that we didn't say about in the **Help** section above was that once we have a variable of a certain type, we can actually find help about its capabilities on the variable itself.  This is pretty cool!\n",
    "\n",
    "In the first empty cell below, type:\n",
    "```python\n",
    "a = 'spam'\n",
    "```\n",
    "and evaluate it with `Shift+Enter`. Then, in the second empty cell below, type:\n",
    "```\n",
    "a.<TAB>\n",
    "```\n",
    "where `<TAB>` is the actual TAB key.  What do you get?"
   ]
  },
  {
   "cell_type": "code",
   "execution_count": null,
   "metadata": {},
   "outputs": [],
   "source": []
  },
  {
   "cell_type": "code",
   "execution_count": null,
   "metadata": {},
   "outputs": [],
   "source": []
  },
  {
   "cell_type": "markdown",
   "metadata": {
    "deletable": false,
    "editable": false,
    "run_control": {
     "frozen": true
    }
   },
   "source": [
    "You'll see that Jupyter is showing you all the functions (methods) available to be used with the `a` variable, which is a string.  Try one of these functions (e.g. `a.capitalize` or `a.upper`) in the cell above and see what you get.  \n",
    "\n",
    "**Important**: Functions will always have opening and closing parentheses, even if there are no arguments to pass to it.  This is the case with `str.capitalize` and `str.upper`.  Look for help - either `help(str.capitalize)` or by typing `str.capitalize` and then typing `Shift+Tab` - for the syntax on these methods.\n",
    "\n",
    "So as not to completely lose you, we will only be covering numbers, lists, and dictionaries and their uses during this tutorial.  These are the built-in types that are most often associated with scientific programming and those which will be built upon when we start working with advanced data types like `numpy arrays` and `pandas dataframes` during the workshop.  I'd encourage you to explore the help pages and methods associated with strings, tuples and sets."
   ]
  },
  {
   "cell_type": "markdown",
   "metadata": {
    "deletable": false,
    "editable": false,
    "run_control": {
     "frozen": true
    }
   },
   "source": [
    "<hr>\n",
    "## Numbers (integers and floating-point)\n",
    "\n",
    "There aren't too many surprises with numbers from what you would expect.  The main number types are integers and floating-point numbers (typically numbers with decimals and/or exponentiation).  Number types are usually where tutorials on Python start, because they are easy to understand and provide intuitive examples.  Below, we look at the main operators on numbers as well as a few functions that can be used with numbers.  For each, try to guess what the cell will show before you evaluate it. \n",
    "\n",
    "We've set up this worksheet in Jupyter to show the result of **all** lines that the user inputs.  Typically, only the last line is output as a result.  If we've put four expressions into a cell, we will receive four separate `Out[ ]` statements below, each one corresponding to the *n*th line of code in the input statement."
   ]
  },
  {
   "cell_type": "markdown",
   "metadata": {
    "deletable": false,
    "editable": false,
    "run_control": {
     "frozen": true
    }
   },
   "source": [
    "### Operators\n",
    "#### Addition and subtraction"
   ]
  },
  {
   "cell_type": "code",
   "execution_count": null,
   "metadata": {},
   "outputs": [],
   "source": [
    "5 + 3\n",
    "5.3 + 8.2\n",
    "5 - 3\n",
    "5.2 - 8.7"
   ]
  },
  {
   "cell_type": "markdown",
   "metadata": {
    "deletable": false,
    "editable": false,
    "run_control": {
     "frozen": true
    }
   },
   "source": [
    "Note that this last line formatting looks very strange and has to do with binary representation of floating-point numbers are not exact.  If you want a nicer formatting, use the print statement in front of the expression, eg. `print 5.2 - 8.7`.  Try to edit that in the previous cell.  Also try to add more than one number together above (e.g. `4 + 3 + 12.0`).  What data type do you think the result will be?"
   ]
  },
  {
   "cell_type": "markdown",
   "metadata": {
    "deletable": false,
    "editable": false,
    "run_control": {
     "frozen": true
    }
   },
   "source": [
    "#### Multiplication and division"
   ]
  },
  {
   "cell_type": "code",
   "execution_count": null,
   "metadata": {},
   "outputs": [],
   "source": [
    "5 * 3\n",
    "5.1 * 3.2\n",
    "5 / 3\n",
    "5.0 / 3.0"
   ]
  },
  {
   "cell_type": "markdown",
   "metadata": {
    "deletable": false,
    "editable": false,
    "run_control": {
     "frozen": true
    }
   },
   "source": [
    "Hopefully, you're confused about that third result.  How can 5 / 3 = 1?  The answer is that for Python 2.x, integer division rounds down to the nearest integer.  That is, if both operands (5 and 3) are of integer type, the division operator will do integer division.  If you want to force floating point division, make at least one of the numbers a floating-point number (as in the last example). "
   ]
  },
  {
   "cell_type": "markdown",
   "metadata": {
    "deletable": false,
    "editable": false,
    "run_control": {
     "frozen": true
    }
   },
   "source": [
    "#### Order of operations\n",
    "PEMDAS - parentheses, exponentiation, multiplication, division, addition, subtraction - rules apply for Python.  That is, any statement will first evaluate any numeric expression within parentheses, then exponentiation, etc.  Before evaluating this cell, try to guess what each statement will return."
   ]
  },
  {
   "cell_type": "code",
   "execution_count": null,
   "metadata": {},
   "outputs": [],
   "source": [
    "5 + 2 * 3\n",
    "(5 + 2) * 3"
   ]
  },
  {
   "cell_type": "markdown",
   "metadata": {
    "deletable": false,
    "editable": false,
    "run_control": {
     "frozen": true
    }
   },
   "source": [
    "#### Comparison operators"
   ]
  },
  {
   "cell_type": "code",
   "execution_count": null,
   "metadata": {},
   "outputs": [],
   "source": [
    "5 > 3        # Greater than, less than\n",
    "5 <= 5.0     # Greater than or equal to, less than or equal to\n",
    "3 == 4       # Equal to\n",
    "3 != 10      # Not equal to"
   ]
  },
  {
   "cell_type": "markdown",
   "metadata": {
    "deletable": false,
    "editable": false,
    "run_control": {
     "frozen": true
    }
   },
   "source": [
    "Three things to notice here:\n",
    "\n",
    "First, in the second example, we are comparing an integer to a floating-point number.  Python automatically \"up-converts\" the integer to a floating-point number and then does the comparison.  Not all different types are comparable (e.g. a string and a number cannot be compared), but Python can handle this comparison because an integer can be converted to a floating-point number without loss of meaning.\n",
    "\n",
    "Second, this is the first time we see Python's **boolean** type with legal values `True` and `False`.  These are special reserved words in Python and can be used in expressions just as other data types.\n",
    "\n",
    "Third, that `#` following each statement.  You can probably easily guess that these are `comments` within Python and that they don't get evaluated.  Good code has **lots** of comments, especially when it is not obvious what the code is supposed to accomplish.  In my experience, comments almost always end up helping \"future me\", when I dig back into the code and can't figure out what I was doing.  So think about comments as being both helpful **and** selfish ;)"
   ]
  },
  {
   "cell_type": "markdown",
   "metadata": {
    "deletable": false,
    "editable": false,
    "run_control": {
     "frozen": true
    }
   },
   "source": [
    "### Functions with numbers\n",
    "There are both built-in functions for working with numbers as well as many functions associated with the `math` module (that we saw before in the **Help** section).  The difference is that we first need to import the math module before we use it.  \n",
    "\n",
    "First the built-in functions:"
   ]
  },
  {
   "cell_type": "code",
   "execution_count": null,
   "metadata": {},
   "outputs": [],
   "source": [
    "abs(-1)                 # Absolute value\n",
    "pow(3, 2)               # Exponentiation\n",
    "divmod(9, 4)            # Integer division and modulus\n",
    "int(10.3)               # Convert number to integer\n",
    "float(4)                # Convert number to floating-point\n",
    "round(4.4), round(4.5)  # Rounding number to nearest integer"
   ]
  },
  {
   "cell_type": "markdown",
   "metadata": {
    "deletable": false,
    "editable": false,
    "run_control": {
     "frozen": true
    }
   },
   "source": [
    "The `math` module builds on this set of functions that we can use with numbers.  Note how we `import math` before using it."
   ]
  },
  {
   "cell_type": "code",
   "execution_count": 56,
   "metadata": {},
   "outputs": [],
   "source": [
    "import math"
   ]
  },
  {
   "cell_type": "code",
   "execution_count": null,
   "metadata": {},
   "outputs": [],
   "source": [
    "# Ceiling and floor functions\n",
    "print 'Ceiling of 4.3 is', math.ceil(4.3)\n",
    "print 'Floor of 4.3 is', math.floor(4.3)"
   ]
  },
  {
   "cell_type": "code",
   "execution_count": null,
   "metadata": {},
   "outputs": [],
   "source": [
    "# Trigonometric functions\n",
    "print 'Sine of 0.0 is', math.sin(0.0)\n",
    "print 'Cosine of PI is', math.cos(math.pi)\n",
    "print 'Tangent of 45 degrees is', math.tan(math.radians(45.0))"
   ]
  },
  {
   "cell_type": "code",
   "execution_count": null,
   "metadata": {},
   "outputs": [],
   "source": [
    "# Power and factorial functions\n",
    "print 'e to the power of 1.0 is', math.exp(1.0)\n",
    "print 'The natural log of e is', math.log(math.e)\n",
    "print 'The square root of 4.0 is', math.sqrt(4.0)\n",
    "print '4.0 raised to the 2.0 power is', math.pow(4.0, 2.0)"
   ]
  },
  {
   "cell_type": "markdown",
   "metadata": {
    "deletable": false,
    "editable": false,
    "run_control": {
     "frozen": true
    }
   },
   "source": [
    "### Exercises\n",
    "This set of cells gives you a bit of practice using numbers and the `math` module.  In each, there is a problem statement, a blank cell, and the expected output.  Use the blank cell to enter your code and try to match the expected output."
   ]
  },
  {
   "cell_type": "markdown",
   "metadata": {
    "deletable": false,
    "editable": false,
    "run_control": {
     "frozen": true
    }
   },
   "source": [
    "#### Problem 1.\n",
    "Write statements that sets a variable named 'temperature_c' to 10.0, converts this variable from Celsius to Fahrenheit and prints out the number in Fahrenheit.  The equation for Celsius to Fahrenheit is `F = 9/5 * C + 32`."
   ]
  },
  {
   "cell_type": "code",
   "execution_count": null,
   "metadata": {
    "solution2": "hidden",
    "solution2_first": true
   },
   "outputs": [],
   "source": []
  },
  {
   "cell_type": "code",
   "execution_count": 60,
   "metadata": {
    "solution2": "hidden"
   },
   "outputs": [
    {
     "name": "stdout",
     "output_type": "stream",
     "text": [
      "50.0\n"
     ]
    }
   ],
   "source": [
    "temperature_c = 10.0\n",
    "print (9.0 / 5.0) * temperature_c + 32.0"
   ]
  },
  {
   "cell_type": "markdown",
   "metadata": {
    "deletable": false,
    "editable": false,
    "run_control": {
     "frozen": true
    }
   },
   "source": [
    "****Expected:**** ```50.0```"
   ]
  },
  {
   "cell_type": "markdown",
   "metadata": {
    "deletable": false,
    "editable": false,
    "run_control": {
     "frozen": true
    }
   },
   "source": [
    "#### Problem 2.\n",
    "Given a rectangle with sides 4 and 6, write statements to calculate and its area and perimeter and then print these on one line.  Note that the `print` statement can take multiple comma-delimited arguments and it will print spaces between the results"
   ]
  },
  {
   "cell_type": "code",
   "execution_count": null,
   "metadata": {
    "solution2": "hidden",
    "solution2_first": true
   },
   "outputs": [],
   "source": []
  },
  {
   "cell_type": "code",
   "execution_count": 61,
   "metadata": {
    "solution2": "hidden"
   },
   "outputs": [
    {
     "name": "stdout",
     "output_type": "stream",
     "text": [
      "24 20\n"
     ]
    }
   ],
   "source": [
    "area = 4 * 6\n",
    "perimeter = 2 * (4 + 6)\n",
    "print area, perimeter"
   ]
  },
  {
   "cell_type": "markdown",
   "metadata": {
    "deletable": false,
    "editable": false,
    "run_control": {
     "frozen": true
    }
   },
   "source": [
    "****Expected****: ```24 20```"
   ]
  },
  {
   "cell_type": "markdown",
   "metadata": {
    "deletable": false,
    "editable": false,
    "run_control": {
     "frozen": true
    }
   },
   "source": [
    "#### Problem 3.\n",
    "The trigonometric functions `math.sin`, `math.cos`, and `math.tan` expect their argument to be given in radians.  Find the function within the `math` module that converts degrees to radians and use a variable called `radians` to capture the result of the conversion. Then, on the second line, print out the sine, cosine and tangent of a 30.0 degree angle all on a single line.  "
   ]
  },
  {
   "cell_type": "code",
   "execution_count": null,
   "metadata": {
    "solution2": "hidden",
    "solution2_first": true
   },
   "outputs": [],
   "source": []
  },
  {
   "cell_type": "code",
   "execution_count": 62,
   "metadata": {
    "solution2": "hidden"
   },
   "outputs": [
    {
     "name": "stdout",
     "output_type": "stream",
     "text": [
      "0.5 0.866025403784 0.57735026919\n"
     ]
    }
   ],
   "source": [
    "import math\n",
    "radians = math.radians(30.0)\n",
    "print math.sin(radians), math.cos(radians), math.tan(radians)"
   ]
  },
  {
   "cell_type": "markdown",
   "metadata": {
    "deletable": false,
    "editable": false,
    "run_control": {
     "frozen": true
    }
   },
   "source": [
    "****Expected****: ```0.5 0.866025403784 0.57735026919```"
   ]
  },
  {
   "cell_type": "markdown",
   "metadata": {
    "deletable": false,
    "editable": false,
    "run_control": {
     "frozen": true
    }
   },
   "source": [
    "#### Problem 4.\n",
    "Use help on the `math` module to find a function that calculates the factorial of a number (e.g. `n * (n-1) * (n-2) * ... * 2 * 1`).  Then print out the factorial of 6."
   ]
  },
  {
   "cell_type": "code",
   "execution_count": null,
   "metadata": {
    "solution2": "hidden",
    "solution2_first": true
   },
   "outputs": [],
   "source": []
  },
  {
   "cell_type": "code",
   "execution_count": 63,
   "metadata": {
    "solution2": "hidden"
   },
   "outputs": [
    {
     "name": "stdout",
     "output_type": "stream",
     "text": [
      "720\n"
     ]
    }
   ],
   "source": [
    "# Use help(math) to find the function called 'factorial'\n",
    "print math.factorial(6)"
   ]
  },
  {
   "cell_type": "markdown",
   "metadata": {
    "deletable": false,
    "editable": false,
    "run_control": {
     "frozen": true
    }
   },
   "source": [
    "****Expected****: ```720```"
   ]
  },
  {
   "cell_type": "markdown",
   "metadata": {
    "deletable": false,
    "editable": false,
    "run_control": {
     "frozen": true
    }
   },
   "source": [
    "<hr>\n",
    "## Lists\n",
    "Lists in Python are the first **sequence** type we'll look at.  Lists can hold an arbitrary number of elements, can have different data types and are *mutable* - meaning they can be changed in place.  Lists get used in a lot of contexts in Python and will likely become one of the data types with which you will become most familiar.  In this section, we'll look at:\n",
    "* How to create lists\n",
    "* How to refer to and modify different elements in a list using indexing\n",
    "* Building up lists one element at a time using for loops\n",
    "* Built-in methods that operate on lists\n",
    "\n",
    "### Creating lists\n",
    "A new list in Python is created by separating individual elements with commas and surrounding these elements with a set of brackets (`[` and `]`).  Here are a few examples of creating lists:\n",
    "```python\n",
    "# A list of three elements of the same data type\n",
    "a = [1, 2, 3]\n",
    "\n",
    "# A list of four elements with different data types\n",
    "b = ['horse', 1, 3.1415, True]\n",
    "\n",
    "# An empty list\n",
    "c = []\n",
    "```\n",
    "A list can also be made by using the `range` function.  The syntax for the range function is `range(stop)` or `range(start, stop)` or `range(start, stop, step)`.  In the first usage, we only give the stop value; in the second usage, we give the start and stop value; in the third usage, we given start, stop and a step value (difference between elements).  It's important to note that the last value in the list will actually be one less than the stop value.  Additionally, the first value in the list will be 0 if only the stop value is specified.\n",
    "```python\n",
    "# A list of two elements: [1, 2]\n",
    "d = range(1, 3)\n",
    "\n",
    "# A list of four elements: [0, 1, 2, 3]\n",
    "e = range(4)\n",
    "\n",
    "# A list of five elements: [0, 2, 4, 6, 8]\n",
    "f = range(0, 10, 2)\n",
    "```\n",
    "Try to create a range to match the expected answer below."
   ]
  },
  {
   "cell_type": "code",
   "execution_count": null,
   "metadata": {
    "solution2": "hidden",
    "solution2_first": true
   },
   "outputs": [],
   "source": []
  },
  {
   "cell_type": "code",
   "execution_count": 64,
   "metadata": {
    "solution2": "hidden"
   },
   "outputs": [
    {
     "name": "stdout",
     "output_type": "stream",
     "text": [
      "[1, 4, 7, 10]\n"
     ]
    }
   ],
   "source": [
    "print range(1, 11, 3)"
   ]
  },
  {
   "cell_type": "markdown",
   "metadata": {
    "deletable": false,
    "editable": false,
    "run_control": {
     "frozen": true
    }
   },
   "source": [
    "****Expected****: ```[1, 4, 7, 10]```"
   ]
  },
  {
   "cell_type": "markdown",
   "metadata": {
    "deletable": false,
    "editable": false,
    "run_control": {
     "frozen": true
    }
   },
   "source": [
    "### Indexing and slicing\n",
    "Indexing and slicing is a very important concept for Python sequences.  The first thing that trips up new users is that sequences in Python are **zero-indexed**.  What this means is that when we want to refer to the first element in a list, we are actually asking for an offset of zero from the beginning of the list.  Assume we have the following list:\n",
    "```python\n",
    "a = [1, 2, 3]\n",
    "```\n",
    "If we wanted to get the value of the first element of the list, we use this notation:\n",
    "```python\n",
    "a[0]\n",
    "```\n",
    "(This will be a *gotcha* for those of you used to programming in R).  \n",
    "\n",
    "Correspondingly, the second element of the list is retrieved as:\n",
    "```python\n",
    "a[1]\n",
    "```\n",
    "A common mistake is forgetting this offset and using `a[3]` to retrieve the last element in this list.  Evaluate the cell below and see what happens:"
   ]
  },
  {
   "cell_type": "code",
   "execution_count": 65,
   "metadata": {},
   "outputs": [
    {
     "ename": "IndexError",
     "evalue": "list index out of range",
     "output_type": "error",
     "traceback": [
      "\u001b[1;31m---------------------------------------------------------------------------\u001b[0m",
      "\u001b[1;31mIndexError\u001b[0m                                Traceback (most recent call last)",
      "\u001b[1;32m<ipython-input-65-9ffdd29f08b3>\u001b[0m in \u001b[0;36m<module>\u001b[1;34m()\u001b[0m\n\u001b[0;32m      1\u001b[0m \u001b[0ma\u001b[0m \u001b[1;33m=\u001b[0m \u001b[1;33m[\u001b[0m\u001b[1;36m1\u001b[0m\u001b[1;33m,\u001b[0m \u001b[1;36m2\u001b[0m\u001b[1;33m,\u001b[0m \u001b[1;36m3\u001b[0m\u001b[1;33m]\u001b[0m\u001b[1;33m\u001b[0m\u001b[0m\n\u001b[1;32m----> 2\u001b[1;33m \u001b[1;32mprint\u001b[0m \u001b[0ma\u001b[0m\u001b[1;33m[\u001b[0m\u001b[1;36m3\u001b[0m\u001b[1;33m]\u001b[0m\u001b[1;33m\u001b[0m\u001b[0m\n\u001b[0m",
      "\u001b[1;31mIndexError\u001b[0m: list index out of range"
     ]
    }
   ],
   "source": [
    "a = [1, 2, 3]\n",
    "print a[3]"
   ]
  },
  {
   "cell_type": "markdown",
   "metadata": {
    "deletable": false,
    "editable": false,
    "run_control": {
     "frozen": true
    }
   },
   "source": [
    "We get an `IndexError` which says we've used an index that is out of the range of elements in the list.\n",
    "\n",
    "We can also retrieve a **sublist** of a list by indexing using what is called a **slice**.  A slice has similar arguments as the range function above `(start, stop, step)`, but it uses colons to separate these values.  It's easiest to show a number of examples to understand the syntax:\n",
    "```python\n",
    "# Set up a list of consecutive numbers\n",
    "a = [0, 1, 2, 3, 4, 5, 6]\n",
    "\n",
    "# Gets the first and second elements: [0, 1]\n",
    "a[0:2]\n",
    "\n",
    "# Get the second, third and fourth elements: [1, 2, 3]\n",
    "a[1:4]\n",
    "\n",
    "# Optionally don't specify the start argument (defaults to 0)\n",
    "# Gets the first four elements: [0, 1, 2, 3]\n",
    "a[:4]\n",
    "\n",
    "# Optionally don't specify the stop argument (defaults to the last element)\n",
    "# Gets the last three elements: [4, 5, 6]\n",
    "a[4:]\n",
    "\n",
    "# Optionally don't specify either the start or stop\n",
    "# Gets all elements: [0, 1, 2, 3, 4, 5, 6] \n",
    "# (This is typically used to make a copy of a list)\n",
    "a[:]\n",
    "```\n",
    "Things start looking a little strange when we specify the step value with a second colon.  Take a look:\n",
    "```python\n",
    "# Gets the first and third values: [0, 2]\n",
    "a[0:3:2]\n",
    "\n",
    "# Same thing, but using the default values for the start: [0, 2]\n",
    "a[:3:2]\n",
    "\n",
    "# Get the even index values by only specifying the step: [0, 2, 4, 6]\n",
    "a[::2]\n",
    "```\n",
    "Finally, indexes can be specified with a negative value which are offsets from the end (right) of the list.  Here are a few more examples:\n",
    "```python\n",
    "# Get the last element of a list as an integer: 6\n",
    "a[-1]\n",
    "\n",
    "# Get the last element of a list as a list: [6]\n",
    "a[-1:]\n",
    "\n",
    "# Get the third-to-last and second-to-last values: [4, 5]\n",
    "a[-3:-1]\n",
    "\n",
    "# Get the list in reverse order by specifying a negative step: [6, 5, 4, 3, 2, 1, 0]\n",
    "a[::-1]\n",
    "```\n",
    "This is probably worth some practice.  Try to get each of the expected values below given the list `b`.  Be sure to evaluate the following cell with the list `b` so that it gets set:"
   ]
  },
  {
   "cell_type": "code",
   "execution_count": 66,
   "metadata": {},
   "outputs": [],
   "source": [
    "b = ['apple', 'banana', 'orange', 'pineapple', 'guava']"
   ]
  },
  {
   "cell_type": "code",
   "execution_count": null,
   "metadata": {
    "solution2": "hidden",
    "solution2_first": true
   },
   "outputs": [],
   "source": []
  },
  {
   "cell_type": "code",
   "execution_count": 67,
   "metadata": {
    "solution2": "hidden"
   },
   "outputs": [
    {
     "name": "stdout",
     "output_type": "stream",
     "text": [
      "['apple', 'orange']\n"
     ]
    }
   ],
   "source": [
    "print b[0:3:2]"
   ]
  },
  {
   "cell_type": "markdown",
   "metadata": {
    "deletable": false,
    "editable": false,
    "run_control": {
     "frozen": true
    }
   },
   "source": [
    "****Expected****: `['apple', 'orange']`"
   ]
  },
  {
   "cell_type": "code",
   "execution_count": null,
   "metadata": {
    "solution2": "hidden",
    "solution2_first": true
   },
   "outputs": [],
   "source": []
  },
  {
   "cell_type": "code",
   "execution_count": 71,
   "metadata": {
    "solution2": "hidden"
   },
   "outputs": [
    {
     "data": {
      "text/plain": [
       "['guava']"
      ]
     },
     "execution_count": 71,
     "metadata": {},
     "output_type": "execute_result"
    }
   ],
   "source": [
    "b[-1:]"
   ]
  },
  {
   "cell_type": "markdown",
   "metadata": {
    "deletable": false,
    "editable": false,
    "run_control": {
     "frozen": true
    }
   },
   "source": [
    "****Expected****: `['guava']`"
   ]
  },
  {
   "cell_type": "code",
   "execution_count": null,
   "metadata": {
    "solution2": "hidden",
    "solution2_first": true
   },
   "outputs": [],
   "source": []
  },
  {
   "cell_type": "code",
   "execution_count": 72,
   "metadata": {
    "solution2": "hidden"
   },
   "outputs": [
    {
     "name": "stdout",
     "output_type": "stream",
     "text": [
      "['orange', 'pineapple']\n"
     ]
    }
   ],
   "source": [
    "print b[2:4]"
   ]
  },
  {
   "cell_type": "markdown",
   "metadata": {
    "deletable": false,
    "editable": false,
    "run_control": {
     "frozen": true
    }
   },
   "source": [
    "****Expected****: `['orange', 'pineapple']`"
   ]
  },
  {
   "cell_type": "code",
   "execution_count": null,
   "metadata": {
    "solution2": "hidden",
    "solution2_first": true
   },
   "outputs": [],
   "source": []
  },
  {
   "cell_type": "code",
   "execution_count": 73,
   "metadata": {
    "solution2": "hidden"
   },
   "outputs": [
    {
     "name": "stdout",
     "output_type": "stream",
     "text": [
      "['guava', 'orange', 'apple']\n"
     ]
    }
   ],
   "source": [
    "print b[::-2]"
   ]
  },
  {
   "cell_type": "markdown",
   "metadata": {
    "deletable": false,
    "editable": false,
    "run_control": {
     "frozen": true
    }
   },
   "source": [
    "****Expected****: `['guava', 'orange', 'apple']`"
   ]
  },
  {
   "cell_type": "markdown",
   "metadata": {
    "deletable": false,
    "editable": false,
    "run_control": {
     "frozen": true
    }
   },
   "source": [
    "### Indexing lists of lists\n",
    "It's perfectly acceptable for list elements to be other lists.  For example, this creates a list of lists where the two outer list elements each consist of a three-element list:\n",
    "```python\n",
    "list_of_lists = [[1, 2, 3], [4, 5, 6]]\n",
    "```\n",
    "What if you wanted to get the first element of the second list.  Let's break this down in steps:\n",
    "```python\n",
    "# Get the second element of the \"outer\" list\n",
    "second_list = list_of_lists[1]\n",
    "\n",
    "# Now get the first element of the second_list\n",
    "first = second_list[0]\n",
    "print first             # Prints 4\n",
    "```\n",
    "It turns out you can do this in a much more compact syntax.  Because we know `list_of_lists[1]` points to the second element of the outer list, we use that directly instead of creating a variable to hold its value.  Then we ask for the first element of that reference (`list_of_lists[1]`), e.g.\n",
    "```python\n",
    "print list_of_lists[1][0]  # Prints 4\n",
    "```\n",
    "This can work to ridiculously deep levels, e.g.\n",
    "```python\n",
    "l = [[[1, 2], [3, 4], [5, 6]], [[7, 8], [9, 10], [11, 12]], [[13, 14], [15, 16], [17, 18]]]\n",
    "print l[0][0][0]     # Prints 1\n",
    "print l[-1][-1][-1]  # Prints 18\n",
    "```"
   ]
  },
  {
   "cell_type": "markdown",
   "metadata": {
    "deletable": false,
    "editable": false,
    "run_control": {
     "frozen": true
    }
   },
   "source": [
    "### Modifying lists by indexing\n",
    "Because lists are mutable, you are able to modify the items in an existing list by referring to a specified index and setting it to a new value.  For example:\n",
    "```python\n",
    "a = [1, 2, 3]\n",
    "print a           # Prints [1, 2, 3]\n",
    "a[0] = 4\n",
    "print a           # Prints [4, 2, 3]\n",
    "a[-1] = 'spam'\n",
    "print a           # Prints [4, 2, 'spam']\n",
    "```\n"
   ]
  },
  {
   "cell_type": "markdown",
   "metadata": {
    "deletable": false,
    "editable": false,
    "run_control": {
     "frozen": true
    }
   },
   "source": [
    "### Building a list using a for loop\n",
    "There are many useful methods (a.k.a. functions) associated with lists that allow modification of list elements.  Likely the most common method associated with lists is the `append` method, which allows you to build up a list an element at a time.  This next example will also introduce us to the `for` statement which is used for looping (or iteration).\n",
    "\n",
    "Suppose we wanted to build a list of square numbers from 1 to 10.  We know we can use the `range` function to create a list from 1 to 10 (e.g. `range(1, 11)`), but how can we make squares.  One way of doing this is to build up the list an element at a time:\n",
    "```python\n",
    "# Create a empty list to hold our squared values\n",
    "squares = []\n",
    "\n",
    "# Create a list of numbers from 1 to 10\n",
    "numbers = range(1, 11)\n",
    "print numbers          # Prints [1, 2, 3, 4, 5, 6, 7, 8, 9, 10]\n",
    "\n",
    "# Use a for loop to iterate over each number\n",
    "for number in numbers:\n",
    "    # Calculate the square of that number\n",
    "    squared = number * number\n",
    "    \n",
    "    # Add this to list using the append method\n",
    "    squares.append(squared)\n",
    "    \n",
    "# Print these values\n",
    "print squares          # Prints [1, 4, 9, 16, 25, 36, 49, 64, 81, 100]\n",
    "```\n",
    "There is a lot of new information here, but hopefully it's clear what is going on.  First, we create an empty container to hold our list of squares.  Then we create a list of the numbers for which we want to create squares (1 through 10).  Then we see the `for` statement, which roughly says (in English) \"take each element from the `numbers` list in turn and assign it to the variable `number`\".  It's also important to note that this `for` statement ends in a colon (**:**), which is required for this type of statement.  \n",
    "\n",
    "After this we have an indentation of four spaces, which you haven't seen before.  This denotes the \"inner body\" of the `for` loop, meaning that this section will be run for every iteration of the for loop.  Indentation is required for all `for` loops (along with other statements we'll soon see) and the indentation needs to be consistent (usually four spaces) for all statements in this inner loop.\n",
    "\n",
    "Here is the flow of what happens for each iteration of the loop:\n",
    "* the variable `number` is set to the next item in the list (e.g. 1)\n",
    "* the variable `squared` is calculated as `number` multiplied by itself\n",
    "* the list `squares` appends the `squared` value to the end of list and increments the size of the list by 1\n",
    "* the for loop returns to the beginning\n",
    "* the variable `number` is set to the next item in the list (e.g. 2)\n",
    "* (repeat)\n",
    "\n",
    "Once the `for` loop has run out of items to loop over, it exits the `for` loop and continues on to the next statement (in this case, printing the `squares` list). \n",
    "\n",
    "Try this on your own.  Build a list called 'evens' that uses a `for` loop to create even numbers between 2 and 20.  Even though you know how to do this with the `range` function, try to use the above `append` example and `for` statement to do this."
   ]
  },
  {
   "cell_type": "code",
   "execution_count": null,
   "metadata": {
    "solution2": "hidden",
    "solution2_first": true
   },
   "outputs": [],
   "source": []
  },
  {
   "cell_type": "code",
   "execution_count": 74,
   "metadata": {
    "solution2": "hidden"
   },
   "outputs": [
    {
     "name": "stdout",
     "output_type": "stream",
     "text": [
      "[2, 4, 6, 8, 10, 12, 14, 16, 18, 20]\n"
     ]
    }
   ],
   "source": [
    "# Create a empty list to hold our squared values\n",
    "evens = []\n",
    "\n",
    "# Create a list of numbers from 1 to 10\n",
    "numbers = range(1, 11)\n",
    "\n",
    "# Use a for loop to iterate over each number\n",
    "for number in numbers:\n",
    "    # Multiply that number by 2\n",
    "    doubled = number * 2\n",
    "\n",
    "    # Add this to list using the append method\n",
    "    evens.append(doubled)\n",
    "\n",
    "# Print these values\n",
    "print evens"
   ]
  },
  {
   "cell_type": "markdown",
   "metadata": {
    "deletable": false,
    "editable": false,
    "run_control": {
     "frozen": true
    }
   },
   "source": [
    "****Expected****: `[2, 4, 6, 8, 10, 12, 14, 16, 18, 20]`"
   ]
  },
  {
   "cell_type": "markdown",
   "metadata": {
    "deletable": false,
    "editable": false,
    "run_control": {
     "frozen": true
    }
   },
   "source": [
    "### List methods\n",
    "We'll finish this section looking at a few useful list methods.  I've listed each method, a brief description of what it does and an example of how to use it.  Play around with these methods if you are unsure of exactly what they do.\n",
    "\n",
    "#### len(list)\n",
    "Returns the number of items in a list\n",
    "```python\n",
    "a = [1, 2, 3, 4]\n",
    "print len(a)       # Prints 4\n",
    "```\n",
    "\n",
    "#### in operator\n",
    "Tests for the existence of an element within a list\n",
    "```python\n",
    "a = [1, 2, 3, 4]\n",
    "print 1 in a       # Prints True\n",
    "print 5 in a       # Prints False\n",
    "```\n",
    "\n",
    "#### list.extend(list)\n",
    "Joins two lists together in-place (as opposed to `append` which adds a single element)\n",
    "```python\n",
    "a = [1, 2]\n",
    "b = [3, 4]\n",
    "a.extend(b)\n",
    "print a  # Prints [1, 2, 3, 4]\n",
    "```\n",
    "\n",
    "#### list.insert(index, value)\n",
    "Inserts a list element at a specified location in the list in-place\n",
    "```python\n",
    "a = [1, 2, 3, 4]\n",
    "a.insert(0, 'apple')\n",
    "print a        # Prints ['apple', 1, 2, 3, 4]\n",
    "a.insert(2, 'banana')\n",
    "print a        # Prints ['apple', 1, 'banana', 2, 3, 4]\n",
    "```\n",
    "\n",
    "#### list.index(value, start, stop)\n",
    "Returns first occurrence of a specified value within a range.\n",
    "```python\n",
    "a = [1, 2, 3, 1, 2, 3]\n",
    "print a.index(1)         # Prints 0\n",
    "print a.index(1, 1, 5)   # Prints 3\n",
    "```\n",
    "\n",
    "#### list.sort()\n",
    "Sort a list in-place\n",
    "```python\n",
    "a = [1, 2, 3, 1, 2, 3]\n",
    "a.sort()\n",
    "print a   # Prints [1, 1, 2, 2, 3, 3]\n",
    "```\n",
    "\n",
    "#### list.pop(index)\n",
    "Removes and returns an item at the specified index.  If no argument is given, removes and returns the last element\n",
    "```python\n",
    "a = [1, 2, 3, 4, 5]\n",
    "popped = a.pop()\n",
    "print popped       # Prints 5\n",
    "print a            # Prints [1, 2, 3, 4]\n",
    "popped = a.pop(0)  \n",
    "print popped       # Prints 1\n",
    "print a            # Prints [2, 3, 4]\n",
    "```\n",
    "\n",
    "#### list.remove(value)\n",
    "Removes the first occurrence of the value specified, without returning the value\n",
    "```python\n",
    "a = [1, 2, 3, 4, 5]\n",
    "a.remove(2)\n",
    "print a            # Prints [1, 3, 4, 5]\n",
    "```\n"
   ]
  },
  {
   "cell_type": "markdown",
   "metadata": {
    "deletable": false,
    "editable": false,
    "run_control": {
     "frozen": true
    }
   },
   "source": [
    "### Exercises"
   ]
  },
  {
   "cell_type": "markdown",
   "metadata": {
    "deletable": false,
    "editable": false,
    "run_control": {
     "frozen": true
    }
   },
   "source": [
    "#### Problem 1.\n",
    "Create a list of numbers from 0 to 10.  Then use a for loop to iterate over those numbers and print out the number within the loop."
   ]
  },
  {
   "cell_type": "code",
   "execution_count": null,
   "metadata": {
    "solution2": "hidden",
    "solution2_first": true
   },
   "outputs": [],
   "source": []
  },
  {
   "cell_type": "code",
   "execution_count": 75,
   "metadata": {
    "solution2": "hidden"
   },
   "outputs": [
    {
     "name": "stdout",
     "output_type": "stream",
     "text": [
      "0\n",
      "1\n",
      "2\n",
      "3\n",
      "4\n",
      "5\n",
      "6\n",
      "7\n",
      "8\n",
      "9\n",
      "10\n"
     ]
    }
   ],
   "source": [
    "numbers = range(11)\n",
    "for number in numbers:\n",
    "    print number"
   ]
  },
  {
   "cell_type": "markdown",
   "metadata": {
    "deletable": false,
    "editable": false,
    "run_control": {
     "frozen": true
    }
   },
   "source": [
    "****Expected****:\n",
    "```\n",
    "0\n",
    "1\n",
    "2\n",
    "3\n",
    "4\n",
    "5\n",
    "6\n",
    "7\n",
    "8\n",
    "9\n",
    "10\n",
    "```"
   ]
  },
  {
   "cell_type": "markdown",
   "metadata": {
    "deletable": false,
    "editable": false,
    "run_control": {
     "frozen": true
    }
   },
   "source": [
    "#### Problem 2.\n",
    "Create this list of words - `['apple', 'banana', 'orange', 'pineapple', 'guava']`.  Then remove the first and last elements using the `remove` method.  Print the list."
   ]
  },
  {
   "cell_type": "code",
   "execution_count": null,
   "metadata": {
    "solution2": "hidden",
    "solution2_first": true
   },
   "outputs": [],
   "source": []
  },
  {
   "cell_type": "code",
   "execution_count": 76,
   "metadata": {
    "solution2": "hidden"
   },
   "outputs": [
    {
     "name": "stdout",
     "output_type": "stream",
     "text": [
      "['banana', 'orange', 'pineapple']\n"
     ]
    }
   ],
   "source": [
    "fruits = ['apple', 'banana', 'orange', 'pineapple', 'guava']\n",
    "fruits.remove('apple')\n",
    "fruits.remove('guava')\n",
    "print fruits"
   ]
  },
  {
   "cell_type": "markdown",
   "metadata": {
    "deletable": false,
    "editable": false,
    "run_control": {
     "frozen": true
    }
   },
   "source": [
    "****Expected****: `['banana', 'orange', 'pineapple']`"
   ]
  },
  {
   "cell_type": "markdown",
   "metadata": {
    "deletable": false,
    "editable": false,
    "run_control": {
     "frozen": true
    }
   },
   "source": [
    "#### Problem 3.\n",
    "Using the same list of words as in Problem 2, remove the first and third elements using the `pop` method.  Print the list.  Note that this one might be tricky if you remove the first element first ... see if you understand why."
   ]
  },
  {
   "cell_type": "code",
   "execution_count": null,
   "metadata": {
    "solution2": "hidden",
    "solution2_first": true
   },
   "outputs": [],
   "source": []
  },
  {
   "cell_type": "code",
   "execution_count": 78,
   "metadata": {
    "solution2": "hidden"
   },
   "outputs": [
    {
     "data": {
      "text/plain": [
       "'orange'"
      ]
     },
     "execution_count": 78,
     "metadata": {},
     "output_type": "execute_result"
    },
    {
     "data": {
      "text/plain": [
       "'apple'"
      ]
     },
     "execution_count": 78,
     "metadata": {},
     "output_type": "execute_result"
    },
    {
     "name": "stdout",
     "output_type": "stream",
     "text": [
      "['banana', 'pineapple', 'guava']\n"
     ]
    }
   ],
   "source": [
    "fruits = ['apple', 'banana', 'orange', 'pineapple', 'guava']\n",
    "fruits.pop(2)\n",
    "fruits.pop(0)\n",
    "print fruits\n",
    "\n",
    "# Note: if we pop the first element before the third, the third\n",
    "# element actually becomes the **second** in the list"
   ]
  },
  {
   "cell_type": "markdown",
   "metadata": {
    "deletable": false,
    "editable": false,
    "run_control": {
     "frozen": true
    }
   },
   "source": [
    "****Expected****: `['banana', 'pineapple', 'guava']`"
   ]
  },
  {
   "cell_type": "markdown",
   "metadata": {
    "deletable": false,
    "editable": false,
    "run_control": {
     "frozen": true
    }
   },
   "source": [
    "#### Problem 4.\n",
    "Create this list of lists: `[[1, 2, 3], [4, 5, 6], [7, 8, 9]]`.  Print out the first value from the second list and the last value from the first list using indexing syntax on the same line."
   ]
  },
  {
   "cell_type": "code",
   "execution_count": null,
   "metadata": {
    "solution2": "hidden",
    "solution2_first": true
   },
   "outputs": [],
   "source": []
  },
  {
   "cell_type": "code",
   "execution_count": 79,
   "metadata": {
    "solution2": "hidden"
   },
   "outputs": [
    {
     "name": "stdout",
     "output_type": "stream",
     "text": [
      "4 3\n"
     ]
    }
   ],
   "source": [
    "list_of_lists = [[1, 2, 3], [4, 5, 6], [7, 8, 9]]\n",
    "print list_of_lists[1][0], list_of_lists[0][2]"
   ]
  },
  {
   "cell_type": "markdown",
   "metadata": {
    "deletable": false,
    "editable": false,
    "run_control": {
     "frozen": true
    }
   },
   "source": [
    "****Expected****: `4 3`"
   ]
  },
  {
   "cell_type": "markdown",
   "metadata": {
    "deletable": false,
    "editable": false,
    "run_control": {
     "frozen": true
    }
   },
   "source": [
    "<hr>\n",
    "## Dictionaries\n",
    "Whereas lists were ordered collections of elements, dictionaries are unordered collections of elements.  And whereas access to list elements was done through integer indices or slices, access to dictionary elements is done through key/value pairs.  If you think of a real dictionary, think of a word as a **key** in the dictionary and its definition as its **value**.  Like lists, dictionaries are mutable, allowing them to be changed in place.  Also like lists, dictionaries are used quite often in Python, most often to represent record-type information.  As in the list section, we'll look at:\n",
    "\n",
    "* How to create dictionaries\n",
    "* How to refer to and modify different elements in a dictionary using indexing by key\n",
    "* How to build up a list from scratch using a for loop\n",
    "* Built-in methods that operate on dictionaries\n",
    "\n",
    "### Creating dictionaries\n",
    "A new dictionary in Python is created by providing key/value pairs where each pair is separated by a colon and commas separate each pair.  The whole set of key/value pairs are wrapped with curly braces (`{` and `}`).  Here are a few examples of creating dictionaries (the Simpsons figure prominently in these examples):\n",
    "```python\n",
    "# A dictionary with three keys (name, age, weight).  Values are of different type.\n",
    "d = {'name':'Homer', 'age':45, 'weight':230.0}\n",
    "\n",
    "# A dictionary with one key (children) whose value is a list\n",
    "d = {'children': ['Bart', 'Lisa', 'Maggie']}\n",
    "\n",
    "# An empty dictionary\n",
    "d = {}\n",
    "```\n",
    "Each of these can be created using an alternative syntax, with the `dict` keyword shown here:\n",
    "```python\n",
    "# A dictionary with three keys (name, age, weight).  Values are of different type.\n",
    "d = dict(name='Homer', age=45, weight=230.0)\n",
    "\n",
    "# A dictionary with one key (children) whose value is a list\n",
    "d = dict(children=['Bart', 'Lisa', 'Maggie'])\n",
    "\n",
    "# An empty dictionary\n",
    "d = dict()\n",
    "```\n",
    "Note that with this syntax, colons become equal signs, keys are unquoted, and the whole set of key/value pairs is wrapped in parentheses.\n",
    "\n",
    "Using these two ways of construction, create two new dictionaries in the cell bellow with these attributes and print both objects:\n",
    "* name -> Marge\n",
    "* age -> 42\n",
    "* weight -> 123"
   ]
  },
  {
   "cell_type": "code",
   "execution_count": null,
   "metadata": {
    "solution2": "hidden",
    "solution2_first": true
   },
   "outputs": [],
   "source": []
  },
  {
   "cell_type": "code",
   "execution_count": 80,
   "metadata": {
    "solution2": "hidden"
   },
   "outputs": [
    {
     "name": "stdout",
     "output_type": "stream",
     "text": [
      "{'age': 42, 'name': 'Marge', 'weight': 123}\n",
      "{'age': 42, 'name': 'Marge', 'weight': 123}\n"
     ]
    }
   ],
   "source": [
    "first_way = {'name': 'Marge', 'age': 42, 'weight': 123}\n",
    "second_way = dict(name='Marge', age=42, weight=123)\n",
    "print first_way\n",
    "print second_way"
   ]
  },
  {
   "cell_type": "markdown",
   "metadata": {
    "deletable": false,
    "editable": false,
    "run_control": {
     "frozen": true
    }
   },
   "source": [
    "****Expected****: \n",
    "```\n",
    "{'name': 'Marge', 'age': 42, 'weight': 123}\n",
    "{'name': 'Marge', 'age': 42, 'weight': 123}\n",
    "```"
   ]
  },
  {
   "cell_type": "markdown",
   "metadata": {
    "deletable": false,
    "editable": false,
    "run_control": {
     "frozen": true
    }
   },
   "source": [
    "It's important to note that the printout of the dictionary may not look the same as how I've written it.  This is because dictionaries are unordered and it's not guaranteed that the order in which you specify the pairs is the same way they are output.\n",
    "\n",
    "### Indexing and modifying dictionaries by key\n",
    "\n",
    "Whereas we used integers and slices to get access to ordered values in lists, we use the key names to get access to the unordered value in dictionaries.  For example:\n",
    "```python\n",
    "d = {'name':'Homer', 'age':45, 'weight':230.0, 'children': ['Bart', 'Lisa', 'Maggie']}\n",
    "print d['name']        # Prints 'Homer'\n",
    "print d['age']         # Prints 45\n",
    "print d['children']    # Prints ['Bart', 'Lisa', 'Maggie']\n",
    "```\n",
    "Note that because the `'children'` key points to a list, the order for that value is maintained.  \n",
    "\n",
    "What if you wanted to get Homer's second child?  How do you think you'd access that?  Try below (the dictionary has been created for you - add a new line within the cell and enter your code as a print statement):"
   ]
  },
  {
   "cell_type": "code",
   "execution_count": 24,
   "metadata": {
    "solution2": "hidden",
    "solution2_first": true
   },
   "outputs": [],
   "source": [
    "d = {'name':'Homer', 'age':45, 'weight':230.0, 'children': ['Bart', 'Lisa', 'Maggie']}"
   ]
  },
  {
   "cell_type": "code",
   "execution_count": 81,
   "metadata": {
    "solution2": "hidden"
   },
   "outputs": [
    {
     "name": "stdout",
     "output_type": "stream",
     "text": [
      "Lisa\n"
     ]
    }
   ],
   "source": [
    "d = {'name':'Homer', 'age':45, 'weight':230.0, 'children': ['Bart', 'Lisa', 'Maggie']}\n",
    "print d['children'][1]"
   ]
  },
  {
   "cell_type": "markdown",
   "metadata": {
    "deletable": false,
    "editable": false,
    "run_control": {
     "frozen": true
    }
   },
   "source": [
    "****Expected****: `Lisa`"
   ]
  },
  {
   "cell_type": "markdown",
   "metadata": {
    "deletable": false,
    "editable": false,
    "run_control": {
     "frozen": true
    }
   },
   "source": [
    "This one is pretty tricky.  First get access to the dictionary value with `d['children']`.  This gives you a list.  You can either set this to a variable and extract the second (e.g. `[1]`) element from it or you can do it all in one step.  These two statements come up with the same answer.\n",
    "```python\n",
    "d = {'name':'Homer', 'age':45, 'weight':230.0, 'children': ['Bart', 'Lisa', 'Maggie']}\n",
    "\n",
    "# Get intermediate list and print second element\n",
    "children = d['children']\n",
    "print children[1]\n",
    "\n",
    "# Do it in one step - with two index accessors - equivalent to above\n",
    "print d['children'][1]\n",
    "```\n",
    "Just as we were able to modify list elements in place, we can do the same with dictionary items, e.g.\n",
    "```python\n",
    "d = {'name':'Homer', 'age':45, 'weight':230.0, 'children': ['Bart', 'Lisa', 'Maggie']}\n",
    "d['name'] = 'Marge'\n",
    "d['age'] = 42\n",
    "d['weight'] = 123\n",
    "print d   # Prints {'name':'Marge', 'age':42, 'weight':123, 'children': ['Bart', 'Lisa', 'Maggie']}\n",
    "```\n",
    "If we want to **add** a dictionary item to an existing dictionary, we can just provide a new key/value pair using the indexing syntax.\n",
    "```python\n",
    "d = {'name': 'Homer'}\n",
    "d['age'] = 45\n",
    "print d   # Prints {'name': 'Homer', 'age': 45}\n",
    "```\n",
    "Likewise we can **delete** a dictionary item by using the `del` keyword.\n",
    "```python\n",
    "d = {'name': 'Homer', 'age': 45}\n",
    "del d['age']\n",
    "print d   # Prints {'name': 'Homer'}\n",
    "```"
   ]
  },
  {
   "cell_type": "markdown",
   "metadata": {
    "deletable": false,
    "editable": false,
    "run_control": {
     "frozen": true
    }
   },
   "source": [
    "### Building a dictionary using a for loop\n",
    "Just as we saw with lists, we can build up an initially empty dictionary using a for loop.  This is very useful if we first need to calculate the value before assigning the dictionary item.  In this example, we'll first create a list of strings and then calculate the length of each string within a for loop (using the `len` function).  The key for each item will be the string itself and the value will be the length of the string.\n",
    "```python\n",
    "# Create a empty dictionary to hold our word lengths\n",
    "word_dict = {}\n",
    "\n",
    "# Create a list of words\n",
    "words = ['apple', 'banana', 'orange', 'pineapple', 'guava']\n",
    "\n",
    "# Use a for loop to iterate over each word in the words list\n",
    "for word in words:\n",
    "    # Calculate the length of the word using the len function\n",
    "    word_length = len(word)\n",
    "    \n",
    "    # Add this to dictionary using the indexing syntax\n",
    "    word_dict[word] = word_length\n",
    "    \n",
    "# Print these values\n",
    "print word_dict   # Prints {'apple': 5, 'banana': 6, 'orange': 6, 'pineapple': 9, 'guava': 5}\n",
    "```\n",
    "Now try a variation of this.  Instead of grabbing the word length, try to get the first letter of each word.  Note that strings act like lists in that they are ordered sequences of characters, e.g.\n",
    "```python\n",
    "word = 'Homer'\n",
    "print word[1]   # Prints 'o'\n",
    "```\n",
    "See if you can get the expected result by entering your code in the blank cell below.  Use the same list of words as above"
   ]
  },
  {
   "cell_type": "code",
   "execution_count": null,
   "metadata": {
    "solution2": "hidden",
    "solution2_first": true
   },
   "outputs": [],
   "source": []
  },
  {
   "cell_type": "code",
   "execution_count": 82,
   "metadata": {
    "solution2": "hidden"
   },
   "outputs": [
    {
     "name": "stdout",
     "output_type": "stream",
     "text": [
      "{'orange': 'o', 'pineapple': 'p', 'guava': 'g', 'apple': 'a', 'banana': 'b'}\n"
     ]
    }
   ],
   "source": [
    "# Create a empty dictionary to hold our word lengths\n",
    "word_dict = {}\n",
    "\n",
    "# Create a list of words\n",
    "words = ['apple', 'banana', 'orange', 'pineapple', 'guava']\n",
    "\n",
    "# Use a for loop to iterate over each word in the words list\n",
    "for word in words:\n",
    "    # Get the first letter from the word\n",
    "    first_letter = word[0]\n",
    "\n",
    "    # Add this to dictionary using the indexing syntax\n",
    "    word_dict[word] = first_letter\n",
    "\n",
    "# Print these values\n",
    "print word_dict"
   ]
  },
  {
   "cell_type": "markdown",
   "metadata": {
    "deletable": false,
    "editable": false,
    "run_control": {
     "frozen": true
    }
   },
   "source": [
    "****Expected****: `{'apple': 'a', 'banana': 'b', 'orange': 'o', 'pineapple': 'p', 'guava': 'g'}`"
   ]
  },
  {
   "cell_type": "markdown",
   "metadata": {
    "deletable": false,
    "editable": false,
    "run_control": {
     "frozen": true
    }
   },
   "source": [
    "### Dictionary methods\n",
    "As we did with lists, we'll finish this section looking at useful dictionary methods. I've listed each method, a brief description of what it does and an example of how to use it. Play around with these methods if you are unsure of exactly what they do.\n",
    "\n",
    "#### len(list)\n",
    "Returns the number of items in a dictionary\n",
    "```python\n",
    "d = {'name':'Homer', 'age':45, 'weight':230.0, 'children': ['Bart', 'Lisa', 'Maggie']}\n",
    "print len(d)       # Prints 4\n",
    "```\n",
    "\n",
    "#### in operator\n",
    "Tests for the existence of a key within a dictionary\n",
    "```python\n",
    "d = {'name':'Homer', 'age':45, 'weight':230.0, 'children': ['Bart', 'Lisa', 'Maggie']}\n",
    "print 'hairstyle' in d     # Prints False\n",
    "print 'name' in d          # Prints True\n",
    "```\n",
    "\n",
    "#### d.keys()\n",
    "Returns all keys in a dictionary as a list.  Order is not guaranteed.\n",
    "```python\n",
    "d = {'name':'Homer', 'age':45, 'weight':230.0, 'children': ['Bart', 'Lisa', 'Maggie']}\n",
    "print d.keys()             # Prints ['name', 'age', 'weight', 'children']\n",
    "```\n",
    "\n",
    "#### d.values()\n",
    "Returns all keys in a dictionary as a list.  Order is not guaranteed.\n",
    "```python\n",
    "d = {'name':'Homer', 'age':45, 'weight':230.0, 'children': ['Bart', 'Lisa', 'Maggie']}\n",
    "print d.values()           # Prints ['Homer', 45, 230.0, ['Bart', 'Lisa', 'Maggie']]\n",
    "```\n",
    "\n",
    "#### d.items()\n",
    "Return all key/value pairs as a list of two-tuples.  Order is not guaranteed.  This is a very useful method for iterating over all dictionary items.\n",
    "```python\n",
    "d = {'name':'Homer', 'age':45, 'weight':230.0}\n",
    "print d.items()   # Prints [('name', 'Homer'), ('age', 45), ('weight', 230.0)]\n",
    "```\n",
    "\n",
    "#### d.update(d2)\n",
    "Given two dictionaries (d and d2), replace the values in d with values from d2 where keys match and otherwise add new key/values pairs from d2 where they don't exist in d.  This is done in-place and order is not guaranteed.\n",
    "```python\n",
    "d = {'name':'Homer', 'age':45, 'weight':230.0}\n",
    "d2 = {'name': 'Marge', 'age':42, 'hair': 'blue'}\n",
    "d.update(d2)\n",
    "print d      # Prints {'name': 'Marge', 'age': 42, 'weight': 230.0, 'hair': 'blue'}\n",
    "```"
   ]
  },
  {
   "cell_type": "markdown",
   "metadata": {
    "deletable": false,
    "editable": false,
    "run_control": {
     "frozen": true
    }
   },
   "source": [
    "### Exercises"
   ]
  },
  {
   "cell_type": "markdown",
   "metadata": {
    "deletable": false,
    "editable": false,
    "run_control": {
     "frozen": true
    }
   },
   "source": [
    "#### Problem 1.\n",
    "First, create this dictionary - `{'name':'Homer', 'age':45, 'weight':230.0}` and call it `d`.  Then, using a for loop and the `items` method, loop through all items of this dictionary and \"pretty-print\" each key/value pair on a separate line using a `->` to separate key and value (order does not matter).  In order to solve this, you'll need to know these bits of information:\n",
    "```python\n",
    "# \"Unpacking\" tuples into separate variables works like this.\n",
    "# Assuming a tuple named t equal to (3, 4), create the variables\n",
    "# named first and second and set them equal to the two-tuple.\n",
    "# Remember that dict.items() returns a two-tuple on each iteration.\n",
    "first, second = t\n",
    "print first      # Prints 3\n",
    "print second     # Prints 4\n",
    "\n",
    "# Printing multiple items on a single line with spaces between them\n",
    "# can be done by separating these items with commas in the print\n",
    "# statement\n",
    "print first, '->', second     # Prints 3 -> 4\n",
    "```"
   ]
  },
  {
   "cell_type": "code",
   "execution_count": null,
   "metadata": {
    "solution2": "hidden",
    "solution2_first": true
   },
   "outputs": [],
   "source": []
  },
  {
   "cell_type": "code",
   "execution_count": 83,
   "metadata": {
    "solution2": "hidden"
   },
   "outputs": [
    {
     "name": "stdout",
     "output_type": "stream",
     "text": [
      "age -> 45\n",
      "name -> Homer\n",
      "weight -> 230.0\n"
     ]
    }
   ],
   "source": [
    "d = {'name':'Homer', 'age':45, 'weight':230.0}\n",
    "for k, v in d.items():\n",
    "    print k, '->', v"
   ]
  },
  {
   "cell_type": "markdown",
   "metadata": {
    "deletable": false,
    "editable": false,
    "run_control": {
     "frozen": true
    }
   },
   "source": [
    "****Expected****:\n",
    "```\n",
    "name -> Homer\n",
    "age -> 45\n",
    "weight -> 230\n",
    "```\n",
    "Hint: This one is a bit tricky.  Although not absolutely necessary, do your tuple \"unpacking\" on the same line as your `for` statement, right before the `in` part of the statement."
   ]
  },
  {
   "cell_type": "markdown",
   "metadata": {
    "deletable": false,
    "editable": false,
    "run_control": {
     "frozen": true
    }
   },
   "source": [
    "#### Problem 2.\n",
    "Building off Problem 1, guarantee that the keys in your pretty-printed output are alphabetical.  Use the same input dictionary. \n",
    "\n",
    "Hint 1: you'll want to use the `keys` method instead of the `items` method and then sort its output.<br>\n",
    "Hint 2: You'll need to use the **list** method `sort` to sort keys in-place<br>\n",
    "Hint 3: Given a key `k`, `d[k]` will return its value"
   ]
  },
  {
   "cell_type": "code",
   "execution_count": null,
   "metadata": {
    "solution2": "hidden",
    "solution2_first": true
   },
   "outputs": [],
   "source": []
  },
  {
   "cell_type": "code",
   "execution_count": 84,
   "metadata": {
    "solution2": "hidden"
   },
   "outputs": [
    {
     "name": "stdout",
     "output_type": "stream",
     "text": [
      "age -> 45\n",
      "name -> Homer\n",
      "weight -> 230.0\n"
     ]
    }
   ],
   "source": [
    "d = {'name':'Homer', 'age':45, 'weight':230.0}\n",
    "keys = d.keys()\n",
    "keys.sort()\n",
    "for k in keys:\n",
    "    print k, '->', d[k]"
   ]
  },
  {
   "cell_type": "markdown",
   "metadata": {
    "deletable": false,
    "editable": false,
    "run_control": {
     "frozen": true
    }
   },
   "source": [
    "****Expected****:\n",
    "```\n",
    "age -> 45\n",
    "name -> Homer\n",
    "weight -> 230\n",
    "```"
   ]
  },
  {
   "cell_type": "markdown",
   "metadata": {
    "deletable": false,
    "editable": false,
    "run_control": {
     "frozen": true
    }
   },
   "source": [
    "#### Problem 3.\n",
    "First, evaluate the first cell below which is a dictionary of dictionaries.  Then, in the second cell, even though you haven't been taught this explicitly, print Bart's age using dictionary indexing.  Hint: you've done something similar to this with lists ..."
   ]
  },
  {
   "cell_type": "code",
   "execution_count": 85,
   "metadata": {},
   "outputs": [],
   "source": [
    "d = {\n",
    "    'son': {'name': 'Bart', 'age': 11},\n",
    "    'first_daughter': {'name': 'Lisa', 'age': 9},\n",
    "    'second_daughter': {'name': 'Maggie', 'age': 2}\n",
    "}"
   ]
  },
  {
   "cell_type": "code",
   "execution_count": null,
   "metadata": {
    "solution2": "hidden",
    "solution2_first": true
   },
   "outputs": [],
   "source": []
  },
  {
   "cell_type": "code",
   "execution_count": 86,
   "metadata": {
    "solution2": "hidden"
   },
   "outputs": [
    {
     "name": "stdout",
     "output_type": "stream",
     "text": [
      "11\n"
     ]
    }
   ],
   "source": [
    "print d['son']['age']"
   ]
  },
  {
   "cell_type": "markdown",
   "metadata": {
    "deletable": false,
    "editable": false,
    "run_control": {
     "frozen": true
    }
   },
   "source": [
    "****Expected****: `11`"
   ]
  },
  {
   "cell_type": "markdown",
   "metadata": {
    "deletable": false,
    "editable": false,
    "run_control": {
     "frozen": true
    }
   },
   "source": [
    "<hr>\n",
    "## Controlling statement execution\n",
    "We're going to move away now from explicitly dealing with data types and instead use these types we've learned to start building more advanced expressions.  In this section, we're going to look at the `for` statement in more detail and consider the `if`, `elif` and `else` statements that can control decision-making in Python.  We'll start with the latter first.\n",
    "\n",
    "### if / elif / else statements\n",
    "Whenever we need to make a decision based on the present state of variables in our program, the `if` and `else` statements give us these tools.  Consider the following:\n",
    "```python\n",
    "# This will print '9 is divisible by 3'\n",
    "number = 9\n",
    "if number % 3 == 0:\n",
    "    print number, 'is divisible by 3'\n",
    "else:\n",
    "    print number, 'is not divisible by 3'\n",
    "```\n",
    "A couple of new things going on here.  One, we have the modulus operator (`%`) being used, which simply returns the remainder of a first operand when divided by its second operand (e.g. `8 % 7` is 1).  Two, we've seen that `==` sign very briefly in the section on numbers, but it is a **comparison** operator that is going to evaluate to either `True` or `False` based on its two operands.  This is easy to confuse with the single `=` sign which is an **assignment** operator, setting the left-side variable equal to the right-side value.\n",
    "\n",
    "Now let's break down that `if` statement into how it is being evaluated by Python:\n",
    "1. Set `number` to 9\n",
    "2. Calculate `number % 3` (evaluates to 0)\n",
    "3. Swap in result from 2 and evaluate `0 == 0` (evaluates to `True`)\n",
    "4. Swap in result from 3 and evaluate `if True:`\n",
    "\n",
    "Because this statement is `True`, the first \"inner\" block will be evaluated.  If the evaluation of the statement was `False`, the second (`else`) inner block would be evaluated instead.\n",
    "\n",
    "(**Important side note 1**: If you program in almost any other language besides Python, the lack of braces around the inner block takes a bit of getting used to.  Inner vs. outer blocks are dictated entirely by indentation rather than the enclosure of the inner block by some set of braces (usually curly braces).  We touched on this briefly before, but it bears repeating.)\n",
    "\n",
    "(**Important side note 2**: As with `for` statements before, `if` and `else` statements always need to be terminated with a colon.  Not doing so will raise a SyntaxError and is a pretty common source of frustration.)\n",
    "\n",
    "The `elif` keyword is just a shorthand for '**else if**' and it can be used to present more than one option.  Like this:\n",
    "```python\n",
    "day_of_week = 'Wednesday'\n",
    "if day_of_week == 'Monday' or day_of_week == 'Tuesday':\n",
    "    print 'It is early in the week'\n",
    "elif day_of_week == 'Wednesday' or day_of_week == 'Thursday':\n",
    "    print 'It is getting toward the end of the week'\n",
    "else:\n",
    "    print 'It is pretty much the weekend'\n",
    "```\n",
    "This will print the middle option because it's Wednesday.\n",
    "\n",
    "(**Important side note 3**: Notice how I snuck in that `or` in the `if` and `elif` statements?  This is pretty interpretable just read as English - if the day of the week is 'Wednesday' **or** 'Thursday', evaluate the inner block.  Only one of these needs to be `True` for the whole statement to evaluate to `True`.  \n",
    "\n",
    "What happens if this is an `and` instead, e.g. `elif day_of_week == 'Wednesday' and day_of_week == 'Thursday':`?  This is an impossible situation because `day_of_week` can't simultaneously point at both 'Wednesday' and 'Thursday'.  The whole statement would always evaluate to `False`.  That is not to say that `and` is not a useful operator in `if/elif/else` statements - it is used often when checking if a variable is in a certain range, e.g. `if number >= 0 and number <= 10` as we see in the next example).\n",
    "\n",
    "If statements can be nested arbitrarily deep as well to create a type of branching logic.  For example, in a guess-the-number game, either of these approaches is perfectly valid and return the same result:\n",
    "```python\n",
    "# Pick a number between 1 and 5\n",
    "number = 3\n",
    "\n",
    "# Nested ifs\n",
    "if number >= 1 and number < 5:\n",
    "    if number >= 1 and number < 3:\n",
    "        if number == 1:\n",
    "            print 'Number is 1'\n",
    "        else:\n",
    "            print 'Number is 2'\n",
    "    else:\n",
    "        if number == 3:\n",
    "            print 'Number is 3'\n",
    "        else:\n",
    "            print 'Number is 4'\n",
    "else:\n",
    "    print 'Number is 5'\n",
    "    \n",
    "# Flat ifs\n",
    "if number == 1:\n",
    "    print 'Number is 1'\n",
    "elif number == 2:\n",
    "    print 'Number is 2'\n",
    "elif number == 3:\n",
    "    print 'Number is 3'\n",
    "elif number == 4:\n",
    "    print 'Number is 4'\n",
    "else:\n",
    "    print 'Number is 5'   \n",
    "```\n",
    "The advantage of the first approach is that when the number range to guess is high, it's possible to cut down the number of steps to find the number, leading to faster execution.  It shouldn't surprise you that neither of these methods is optimal for a guess-the-number game, but showing the optimal solution is slightly beyond this tutorial.\n",
    "\n",
    "One last bit of syntax with if/else that some Python developers like to use a compact form which does assignment and branching on one line.  These two are equivalent:\n",
    "```python\n",
    "# Standard if/else\n",
    "if x < 5:\n",
    "    y = True\n",
    "else:\n",
    "    y = False\n",
    "    \n",
    "# Compact if/else\n",
    "y = True if x < 5 else False\n",
    "```\n",
    "\n",
    "### for loops\n",
    "We've already seen some for loops in action, so I'll just point to the some common uses, mix in some if/else logic and introduce a few new keywords as well.  The basic form of a `for` loop is:\n",
    "```python\n",
    "for item in collection:\n",
    "    statements\n",
    "```\n",
    "The first thing to note is that the collection needs to be \"iterable\".  For example, using a number as a collection leads to a `TypeError`.  Try this expression in the blank cell below:\n",
    "```python\n",
    "for t in 5:\n",
    "    print t\n",
    "```"
   ]
  },
  {
   "cell_type": "code",
   "execution_count": null,
   "metadata": {},
   "outputs": [],
   "source": []
  },
  {
   "cell_type": "markdown",
   "metadata": {
    "deletable": false,
    "editable": false,
    "run_control": {
     "frozen": true
    }
   },
   "source": [
    "Most of the data types **are** iterable, though, including lists, dictionaries, tuples, sets and even strings.  A string can really be thought of as a sequence of characters.  See what you get with the following for loop:\n",
    "```python\n",
    "for c in 'alphabet':\n",
    "    print c\n",
    "```"
   ]
  },
  {
   "cell_type": "code",
   "execution_count": null,
   "metadata": {},
   "outputs": [],
   "source": []
  },
  {
   "cell_type": "markdown",
   "metadata": {
    "deletable": false,
    "editable": false,
    "run_control": {
     "frozen": true
    }
   },
   "source": [
    "Be sure that you are aware what return value you are getting from each item in a collection.  For example, if we have a list of lists, look at what the output of this for loop is:\n",
    "```python\n",
    "list_of_lists = [[1, 2, 3], [4, 5, 6], [7, 8, 9]]\n",
    "for l in list_of_lists:\n",
    "    print l\n",
    "    \n",
    "# Output:\n",
    "# [1, 2, 3]\n",
    "# [4, 5, 6]\n",
    "# [7, 8, 9]\n",
    "```\n",
    "We saw this before when we were working with the `items` method of dictionaries where the return value is actually a tuple of (key, value) for each item in the dictionary, e.g.\n",
    "```python\n",
    "d = dict(shape='square', area=36.0, perimeter=30.0)\n",
    "for t in d.items():\n",
    "    print t\n",
    "    \n",
    "Output:\n",
    "('shape', 'square')\n",
    "('area', 36.0)\n",
    "('perimeter', 30.0)\n",
    "```\n",
    "If we know what we're expecting (as is the case with the `items` method), we can \"unpack\" this tuple into two variables right at the `for` loop start, e.g.\n",
    "```python\n",
    "d = dict(shape='square', area=36.0, perimeter=30.0)\n",
    "for key, value in d.items():\n",
    "    print key, '->', value\n",
    "    \n",
    "# Output:\n",
    "# shape -> square\n",
    "# area -> 36.0\n",
    "# perimeter -> 30.0\n",
    "```\n",
    "Now let's dive into what we can do in the inner statements of a `for` loop.  Let's first combine a for loop with some if/else logic to only print out multiples of 3 from 0 to 20.\n",
    "```python\n",
    "# Create a range from 0 to 20\n",
    "numbers = range(21)\n",
    "\n",
    "# Loop over the numbers list and only print out numbers\n",
    "# that are divisible by 3\n",
    "for number in numbers:\n",
    "    if number % 3 == 0:\n",
    "        print number\n",
    "\n",
    "# Output:\n",
    "# 0\n",
    "# 3\n",
    "# 6\n",
    "# 9\n",
    "# 12\n",
    "# 15\n",
    "# 18\n",
    "```\n",
    "Here's another example of only printing out vowels from a sentence:\n",
    "```python\n",
    "s = 'The quick brown fox jumped over the lazy white dog'\n",
    "\n",
    "# Loop over characters in the string\n",
    "for c in s:\n",
    "    if c in 'aeiou':\n",
    "        print c,       # Comma after print statement suppresses a new line\n",
    "        \n",
    "# Output:\n",
    "# e u i o o u e o e e a i e o\n",
    "```\n",
    "Finally, we'll look at two new keywords: `break` and `continue`.  When a `break` is encountered in a loop, it will automatically break out of the loop and stop any further processing.  Take this example:\n",
    "```python\n",
    "for i in range(10):\n",
    "    if i == 2:\n",
    "        break\n",
    "    print i,\n",
    "        \n",
    "# Output:\n",
    "# 0 1\n",
    "```\n",
    "The first and second times through the loop, the print statement is executed because the `if` condition was not met.  However, the third time through the loop `i` is equal to 2, the `if` condition is met and we break from the loop (even before the print statement).\n",
    "\n",
    "The `continue` statement is somewhat related in that it stops further statement execution, but instead of breaking out of the loop entirely, it just resets to the next item in the iteration.  Here's an interesting way to print even numbers:\n",
    "```python\n",
    "for i in range(10):\n",
    "    if i % 2 == 1:\n",
    "        continue\n",
    "    print i,\n",
    "        \n",
    "# Output:\n",
    "# 0 2 4 6 8\n",
    "```\n",
    "Try to guess what the output of this nasty `for` loop will be and then run it in the cell below:\n",
    "```python\n",
    "for i in range(10):\n",
    "    if i < 5:\n",
    "        continue\n",
    "    elif i > 8:\n",
    "        break\n",
    "    if i % 2 == 1:\n",
    "        continue\n",
    "    print i,\n",
    "```"
   ]
  },
  {
   "cell_type": "code",
   "execution_count": null,
   "metadata": {},
   "outputs": [],
   "source": []
  },
  {
   "cell_type": "markdown",
   "metadata": {
    "deletable": false,
    "editable": false,
    "run_control": {
     "frozen": true
    }
   },
   "source": [
    "### Exercises"
   ]
  },
  {
   "cell_type": "markdown",
   "metadata": {
    "deletable": false,
    "editable": false,
    "run_control": {
     "frozen": true
    }
   },
   "source": [
    "#### Problem 1.\n",
    "Using a `for` loop, print out a series of 'x' characters that represents the modulus of a number when divided by 5.  Do this for the range 0-10.  Note that a string can be repeated using the `*` operator like this:\n",
    "```python\n",
    "print 'x' * 5   # Prints 'xxxxx'\n",
    "```"
   ]
  },
  {
   "cell_type": "code",
   "execution_count": null,
   "metadata": {
    "solution2": "hidden",
    "solution2_first": true
   },
   "outputs": [],
   "source": []
  },
  {
   "cell_type": "code",
   "execution_count": 90,
   "metadata": {
    "solution2": "hidden"
   },
   "outputs": [
    {
     "name": "stdout",
     "output_type": "stream",
     "text": [
      "\n",
      "x\n",
      "xx\n",
      "xxx\n",
      "xxxx\n",
      "\n",
      "x\n",
      "xx\n",
      "xxx\n",
      "xxxx\n",
      "\n"
     ]
    }
   ],
   "source": [
    "numbers = range(11)\n",
    "for number in numbers:\n",
    "    print 'x' * (number % 5)"
   ]
  },
  {
   "cell_type": "markdown",
   "metadata": {
    "deletable": false,
    "editable": false,
    "run_control": {
     "frozen": true
    }
   },
   "source": [
    "****Expected****:\n",
    "```\n",
    "\n",
    "x\n",
    "xx\n",
    "xxx\n",
    "xxxx\n",
    "\n",
    "x\n",
    "xx\n",
    "xxx\n",
    "xxxx\n",
    "\n",
    "```"
   ]
  },
  {
   "cell_type": "markdown",
   "metadata": {
    "deletable": false,
    "editable": false,
    "run_control": {
     "frozen": true
    }
   },
   "source": [
    "#### Problem 2.\n",
    "There is a pretty classic puzzle in Python called 'FizzBuzz'.  The rules are if a number is divisible by 3, we print 'Fizz', if a number is divisible by 5, we print 'Buzz', and if a number is divisible by both 3 and 5, we print 'FizzBuzz'. Create a `for` loop that loops over the numbers 0 to 15, printing out each number, followed by a colon and whatever decoration ('Fizz', 'Buzz', or 'FizzBuzz') it qualifies for."
   ]
  },
  {
   "cell_type": "code",
   "execution_count": null,
   "metadata": {
    "solution2": "hidden",
    "solution2_first": true
   },
   "outputs": [],
   "source": []
  },
  {
   "cell_type": "code",
   "execution_count": 2,
   "metadata": {
    "solution2": "hidden"
   },
   "outputs": [
    {
     "name": "stdout",
     "output_type": "stream",
     "text": [
      "0 : FizzBuzz\n",
      "1 : \n",
      "2 : \n",
      "3 : Fizz\n",
      "4 : \n",
      "5 : Buzz\n",
      "6 : Fizz\n",
      "7 : \n",
      "8 : \n",
      "9 : Fizz\n",
      "10 : Buzz\n",
      "11 : \n",
      "12 : Fizz\n",
      "13 : \n",
      "14 : \n",
      "15 : FizzBuzz\n"
     ]
    }
   ],
   "source": [
    "for x in range(16):\n",
    "    print x, ':',\n",
    "    if x % 3 == 0 and x % 5 == 0:\n",
    "        print 'FizzBuzz'\n",
    "    elif x % 3 == 0:\n",
    "        print 'Fizz'\n",
    "    elif x % 5 == 0:\n",
    "        print 'Buzz'\n",
    "    else:\n",
    "        print ''"
   ]
  },
  {
   "cell_type": "markdown",
   "metadata": {
    "deletable": false,
    "editable": false,
    "run_control": {
     "frozen": true
    }
   },
   "source": [
    "****Expected****:\n",
    "```\n",
    "0 : FizzBuzz\n",
    "1 :\n",
    "2 :\n",
    "3 : Fizz\n",
    "4 :\n",
    "5 : Buzz\n",
    "6 : Fizz\n",
    "7 :\n",
    "8 :\n",
    "9 : Fizz\n",
    "10 : Buzz\n",
    "11 :\n",
    "12 : Fizz\n",
    "13 :\n",
    "14 :\n",
    "15 : FizzBuzz\n",
    "```"
   ]
  },
  {
   "cell_type": "markdown",
   "metadata": {
    "deletable": false,
    "editable": false,
    "run_control": {
     "frozen": true
    }
   },
   "source": [
    "<hr>\n",
    "## Functions\n",
    "The final section of our tutorial will introduce you to python functions.  Up to this point, we've been working on the \"vocabulary\" that make up the parts of the (Python) language.  Functions act as organizing units for statements in our vocabulary so that we can use them again and again.  At their core, functions encapsulate one or more statements, provide a mechanism to pass input (***arguments***) to them, and give the option to ***return*** information from them.\n",
    "\n",
    "### Function basics\n",
    "Let's look at a much-used example:\n",
    "```python\n",
    "def rectangle_area(side_one, side_two):\n",
    "    return side_one * side_two\n",
    "```\n",
    "This is probably one of the simplest functions out there.  It takes two sides of a rectangle as input and returns the product (area) of that rectangle.\n",
    "\n",
    "This example has a number of new concepts that we can break down:\n",
    "* All functions must start with the `def` keyword, which signifies that we are creating a function\n",
    "* The function name is the next word and it must follow the conventions of variable naming\n",
    "* After the function name, we must have a set of parentheses which enclose the function ***arguments***).  In this case, the function is expecting two numbers: `side_one` and `side_two`.  There is no (practical) limit on how many arguments can be sent to a function or restrictions on the data types sent into the function (we'll soon find out this is both a blessing and a curse).\n",
    "* The full statement is terminated with a colon\n",
    "* There are one of more indented statements that form the function body.  These are the instructions of the program and are made up of statements like you've been writing throughout this tutorial (for loops, if/else logic, assignment statements, etc.)\n",
    "* Functions can optionally have one or more `return` statements.  If a `return` statement is provided, it sends the information after the `return` keyword back to the caller of the function (in this case the value `side_one * side_two` is returned.\n",
    "\n",
    "To ***call*** this function, we simply use the function name and provide the needed arguments.  Because we are expecting a value to be returned from this function, we capture that return value in an output variable, like this:\n",
    "```python\n",
    "area = rectangle_area(4, 6)\n",
    "```\n",
    "Once this is executed, the variable `area` will have the value 24.  Let's put this together into a full example:\n",
    "```python\n",
    "def rectangle_area(side_one, side_two):\n",
    "    return side_one * side_two\n",
    "\n",
    "area = rectangle_area(4, 6)\n",
    "print area   # Prints 24\n",
    "```\n",
    "Copy and paste this example into the blank cell below and evaluate it to make sure it works for you."
   ]
  },
  {
   "cell_type": "code",
   "execution_count": null,
   "metadata": {},
   "outputs": [],
   "source": []
  },
  {
   "cell_type": "markdown",
   "metadata": {
    "deletable": false,
    "editable": false,
    "run_control": {
     "frozen": true
    }
   },
   "source": [
    "Now, write your first function in the blank cell below that calculates a rectangle perimeter and call it with sides 3 and 7.  Then print the output as we did in the first example."
   ]
  },
  {
   "cell_type": "code",
   "execution_count": null,
   "metadata": {
    "solution2": "hidden",
    "solution2_first": true
   },
   "outputs": [],
   "source": []
  },
  {
   "cell_type": "code",
   "execution_count": 11,
   "metadata": {
    "solution2": "hidden"
   },
   "outputs": [
    {
     "name": "stdout",
     "output_type": "stream",
     "text": [
      "20\n"
     ]
    }
   ],
   "source": [
    "def rectangle_perimeter(side_one, side_two):\n",
    "    return 2 * (side_one + side_two)\n",
    "\n",
    "perimeter = rectangle_perimeter(3, 7)\n",
    "print perimeter"
   ]
  },
  {
   "cell_type": "markdown",
   "metadata": {
    "deletable": false,
    "editable": false,
    "run_control": {
     "frozen": true
    }
   },
   "source": [
    "This was a pretty trivial example, so let's write a function that does something slighty more complicated.  We will calculate the ratio of areas between a circle of a specified radius versus another circle that has been buffered out by another specified amount.  Our two arguments to this function need to be the radius of the initial circle (call this `radius`) and the amount to buffer the initial radius for the larger circle (call this `buffer_distance`).  Our function will be called `get_proportional_circle_area`.\n",
    "```python\n",
    "# We need to import the math module to have access to the constant math.pi\n",
    "# This only needs to be done once per module\n",
    "import math\n",
    "\n",
    "def get_proportional_circle_area(radius, buffer_distance):\n",
    "    # Calculate the area of the initial circle\n",
    "    small_circle_area = math.pi * radius * radius\n",
    "    \n",
    "    # Calculate the radius of the larger circle\n",
    "    large_circle_radius = radius + buffer_distance\n",
    "    \n",
    "    # Calculate the area of the larger circle\n",
    "    large_circle_area = math.pi * large_circle_radius * large_circle_radius\n",
    "    \n",
    "    # Calculate the proportion between circles and return this value\n",
    "    proportion = small_circle_area / large_circle_area\n",
    "    return proportion\n",
    "```\n",
    "This function is a bit more verbose, so it would be a pain to do these same calculations over and over again for every new set of arguments.  Once we have it in a function, however, we can just continue to call it with different arguments.  For example,\n",
    "```python\n",
    "inner_radius = 3\n",
    "for buffer in range(1, 11):\n",
    "    print get_proportional_circle_area(inner_radius, buffer)\n",
    "```\n",
    "Here, we're setting the inner radius to be fixed but allowing the buffer distance to vary between 1 and 10.  (We're also bypassing setting an output variable and just directly printing the returned value.  This produces:\n",
    "```\n",
    "0.5625\n",
    "0.36\n",
    "0.25\n",
    "0.183673469388\n",
    "0.140625\n",
    "0.111111111111\n",
    "0.09\n",
    "0.0743801652893\n",
    "0.0625\n",
    "0.0532544378698\n",
    "```"
   ]
  },
  {
   "cell_type": "markdown",
   "metadata": {
    "deletable": false,
    "editable": false,
    "run_control": {
     "frozen": true
    }
   },
   "source": [
    "### Variable scope with functions\n",
    "Variables in Python have what is called \"scope\" - informally, where in a program a variable can be accessed.  Consider the following code fragment:\n",
    "```python\n",
    "x = 10\n",
    "def print_me():\n",
    "    x = 4\n",
    "    print x\n",
    "\n",
    "print_me()\n",
    "print x\n",
    "```\n",
    "This results in the following:\n",
    "```\n",
    "4\n",
    "10\n",
    "```\n",
    "Now, compare that snippet to this:\n",
    "```python\n",
    "x = 10\n",
    "def print_me():\n",
    "    print x\n",
    "\n",
    "print_me()\n",
    "print x\n",
    "```\n",
    "This results in:\n",
    "```\n",
    "10\n",
    "10\n",
    "```\n",
    "and finally this snippet:\n",
    "```python\n",
    "def print_me():\n",
    "    x = 4\n",
    "    print x\n",
    "\n",
    "print_me()\n",
    "print x\n",
    "```\n",
    "This results in:\n",
    "```\n",
    "4\n",
    "...\n",
    "NameError: name 'x' is not defined\n",
    "```\n",
    "These three examples show the basics of variable scope in Python.  In the first example, `x` is defined outside the function as 10.  However, when the function is called, the function **redefines** `x` to be 4 and then prints that value.  But that assignment of `x` to 4 lives only within the function definition.  Once we issue the last statement, `x` retains the value of 10 that it was initially set to (at the same \"level\" of code).\n",
    "\n",
    "In the second example, we only set `x` once outside the function.  When we call the function, the variable `x` has not been defined locally, so Python will look to any enclosing code (ie. code that contains this function) and it finds `x` equal to 10.  It then prints that value.  Once outside the function, the same value is printed again.\n",
    "\n",
    "Finally, in the last example, `x` is **not** set outside the function (in an enclosing block).  When the function is called, a local `x` variable is set to 4 and printed.  But when we try to print `x` from outside the function, it does **not** look \"inward\" to any function contained within, so it prints a `NameError` that `x` is not defined.\n",
    "\n",
    "This is a bit of an esoteric concept, but it's a common enough \"gotcha\" that it's worth knowing."
   ]
  },
  {
   "cell_type": "markdown",
   "metadata": {
    "deletable": false,
    "editable": false,
    "run_control": {
     "frozen": true
    }
   },
   "source": [
    "### Function arguments and return values\n",
    "This section won't fully cover all the details about arguments and return values, but should cover the most common use cases.  As we said before, a function can have zero or more arguments.  There are two types of arguments in functions: positional and keyword.  Look at a simple example:\n",
    "```python\n",
    "def possibly_print_me(obj, verbose=True):\n",
    "    if verbose:\n",
    "        print obj\n",
    "        \n",
    "possibly_print_me('cat', verbose=True)    # Prints 'cat'\n",
    "possibly_print_me('dog')                  # Prints 'dog'\n",
    "possibly_print_me('mouse', True)          # Prints 'mouse'\n",
    "possibly_print_me('rat', verbose=False)   # Prints nothing\n",
    "possibly_print_me('aardvark', vbose=True) # TypeError: unexpected keyword\n",
    "possibly_print_me(verbose=True, 'cat')    # SyntaxError: non-keyword arg after keyword arg.\n",
    "```\n",
    "In this example, `obj` is a positional argument and `verbose` is a keyword argument that has been given a default value of `True`.  The rules for arguments include:\n",
    "* Positional arguments always need to be given first followed by keyword arguments (see the error in example 6)\n",
    "* The number of positional arguments in the call needs to match the number of positional arguments in the function\n",
    "* Positional arguments are matched in order between call and function\n",
    "* Keyword arguments need to have a default value in the definition, otherwise they become positional arguments\n",
    "* However, keyword arguments in the caller can either be passed by position or keyword (see examples 1 and 3)\n",
    "* If a value is not passed from the caller for a keyword argument, the default value is used (see example 2)\n",
    "* The default value of a keyword argument can be overridden by a passed value (see example 4)\n",
    "* Any passed keyword arguments that do not exist in the function definition are a `TypeError` (see example 5)\n",
    "\n",
    "Whew!  That is a lot of information and there are actually more rules (best left for another day).  But let's get some practice with these concepts.  In the blank cell below, write a function called `sum_two_or_three` that has two positional arguments named `a` and `b` and a keyword argument named `c`.  The function should return the sum of the first two positional arguments and `c`, if and only if it is not 0.  Make the default value of `c` equal to 0 in the function.  Once you've finished your function, test it with these calls:\n",
    "```\n",
    "print sum_two_or_three(3, 7)        # Should print 10\n",
    "print sum_two_or_three(4, 5, c=2)   # Should print 11\n",
    "print sum_two_or_three(6, 1, 1)     # Should print 8\n",
    "```"
   ]
  },
  {
   "cell_type": "code",
   "execution_count": null,
   "metadata": {
    "solution2": "hidden",
    "solution2_first": true
   },
   "outputs": [],
   "source": []
  },
  {
   "cell_type": "code",
   "execution_count": 19,
   "metadata": {
    "solution2": "hidden"
   },
   "outputs": [
    {
     "name": "stdout",
     "output_type": "stream",
     "text": [
      "10\n",
      "11\n",
      "8\n"
     ]
    }
   ],
   "source": [
    "def sum_two_or_three(a, b, c=0):\n",
    "    if c != 0:\n",
    "        return a + b + c\n",
    "    else:\n",
    "        return a + b\n",
    "    \n",
    "print sum_two_or_three(3, 7)        # Should print 10\n",
    "print sum_two_or_three(4, 5, c=2)   # Should print 11\n",
    "print sum_two_or_three(6, 1, 1)     # Should print 8"
   ]
  },
  {
   "cell_type": "markdown",
   "metadata": {
    "deletable": false,
    "editable": false,
    "run_control": {
     "frozen": true
    }
   },
   "source": [
    "Now, on to return values.  Functions can return zero or more objects where multiple objects are separated by commas.  See this example that returns both the sum and difference of two numbers\n",
    "```python\n",
    "def sum_and_difference(a, b):\n",
    "    return a + b, a - b\n",
    "\n",
    "s, d = sum_and_difference(10, 2)\n",
    "print s, d             # Prints 12, 8\n",
    "```\n",
    "What's really happening here is that the Python is **packing** the return's output into a tuple and the caller is **unpacking** these into separate variables.  Remember our `type` function from the very beginning?  We can verify this by checking the type of the returned value\n",
    "```python\n",
    "print type(sum_and_difference(10, 2))    # Prints <type 'tuple'>\n",
    "```\n",
    "You'll find that many built-in functions actually return more than one value (remember dictionary's `items` function).  It's nice to unpack these as separate variables when the values are returned.\n",
    "\n",
    "Here's a useful function for going between Cartesian (x, y) and polar (r, theta) coordinates that uses this concept (see [this page](https://www.khanacademy.org/computing/computer-programming/programming-natural-simulations/programming-angular-movement/a/polar-coordinates) if you're not familiar with polar coordinates).\n",
    "```python\n",
    "import math\n",
    "def cartesian_to_polar(x, y):\n",
    "    r = math.sqrt(x * x + y * y)\n",
    "    theta = math.degrees(math.atan2(y, x))\n",
    "    return r, theta\n",
    "\n",
    "r, theta = cartesian_to_polar(4, 0)\n",
    "print r, theta       # Prints 4.0 0.0\n",
    "\n",
    "r, theta = cartesian_to_polar(-4, -1)\n",
    "print r, theta       # Prints 4.12310562562 -165.963756532\n",
    "```\n"
   ]
  },
  {
   "cell_type": "markdown",
   "metadata": {
    "deletable": false,
    "editable": false,
    "run_control": {
     "frozen": true
    }
   },
   "source": [
    "### Exercises\n",
    "We'll finish up by writing a few functions.  I'm also introducing the `assert` statement here as a nice way to test your output.  Now, there will be a description of the task, an empty cell for you to write the function, a new cell with assertion statements that should all evaluate to `True` and finally a hidden solution.  For the assertion cell, once you've finished writing your function and evaluating it (`Shift+Enter`), you should also evaluate the assertion cell and ensure that you have no `AssertionError`s show up.  If nothing appears below the assertion cell, everything has passed!  If you have `AssertionError`s, something is incorrect in your function - revise and try again."
   ]
  },
  {
   "cell_type": "markdown",
   "metadata": {
    "deletable": false,
    "editable": false,
    "run_control": {
     "frozen": true
    }
   },
   "source": [
    "#### Problem 1\n",
    "Write a function that takes two numbers as positional arguments and a keyword argument named `operation` that is one of 'add', 'subtract', 'multiply', or 'divide'.  Make 'add' the default for this keyword.  Use the keyword argument to determine what result the caller wants back.  Look at the assertion statements for the name of the function and the results it should produce."
   ]
  },
  {
   "cell_type": "code",
   "execution_count": null,
   "metadata": {},
   "outputs": [],
   "source": []
  },
  {
   "cell_type": "code",
   "execution_count": 92,
   "metadata": {
    "solution2": "hidden",
    "solution2_first": true
   },
   "outputs": [],
   "source": [
    "assert(math_with_numbers(3, 4, operation='add') == 7)\n",
    "assert(math_with_numbers(3, 4, operation='subtract') == -1)\n",
    "assert(math_with_numbers(7, 8, 'multiply') == 56)\n",
    "assert(math_with_numbers(8, 5, operation='divide') == 1)\n",
    "assert(math_with_numbers(8.0, 5, operation='divide') == 1.6)\n",
    "assert(math_with_numbers(12, 2) == 14)"
   ]
  },
  {
   "cell_type": "code",
   "execution_count": 91,
   "metadata": {
    "solution2": "hidden"
   },
   "outputs": [],
   "source": [
    "def math_with_numbers(a, b, operation='add'):\n",
    "    if operation == 'add':\n",
    "        result = a + b\n",
    "    elif operation == 'subtract':\n",
    "        result = a - b\n",
    "    elif operation == 'multiply':\n",
    "        result = a * b\n",
    "    elif operation == 'divide':\n",
    "        result = a / b\n",
    "    return result"
   ]
  },
  {
   "cell_type": "markdown",
   "metadata": {
    "deletable": false,
    "editable": false,
    "run_control": {
     "frozen": true
    }
   },
   "source": [
    "#### Problem 2\n",
    "Write a function that takes a list of numbers as its only argument and returns the sum of those numbers.  Be sure to handle the situation where an empty list is passed (should evaluate to 0)."
   ]
  },
  {
   "cell_type": "code",
   "execution_count": null,
   "metadata": {},
   "outputs": [],
   "source": []
  },
  {
   "cell_type": "code",
   "execution_count": 93,
   "metadata": {
    "solution2": "hidden",
    "solution2_first": true
   },
   "outputs": [],
   "source": [
    "assert(sum_list([1, 2, 3]) == 6)\n",
    "assert(sum_list([1, -1, 1, -1]) == 0)\n",
    "assert(sum_list([1, 1.0]) == 2.0)\n",
    "assert(sum_list([]) == 0)"
   ]
  },
  {
   "cell_type": "code",
   "execution_count": 39,
   "metadata": {
    "solution2": "hidden"
   },
   "outputs": [],
   "source": [
    "def sum_list(list_of_numbers):\n",
    "    # Create a variable to calculate the running total\n",
    "    total = 0\n",
    "    for num in list_of_numbers:\n",
    "        total = total + num\n",
    "    return total"
   ]
  },
  {
   "cell_type": "markdown",
   "metadata": {
    "deletable": false,
    "editable": false,
    "run_control": {
     "frozen": true
    }
   },
   "source": [
    "#### Problem 3\n",
    "Write a function that takes in a dictionary and returns a dictionary subset down to the keys that begin with either vowels or consonants.  The function should take one positional argument which is the dictionary to pass and one keyword argument (named `which` that should be either 'vowels' or 'consonants' with the default value set to 'vowels'.  See the assert statements for example tests of this function.  This one is a bit harder (and, yes, perfectly useless ...)"
   ]
  },
  {
   "cell_type": "code",
   "execution_count": null,
   "metadata": {},
   "outputs": [],
   "source": []
  },
  {
   "cell_type": "code",
   "execution_count": 94,
   "metadata": {
    "solution2": "hidden",
    "solution2_first": true
   },
   "outputs": [],
   "source": [
    "assert(subset_dict_by_type({'age': 40, 'hair': 'brown', 'eyes': 'green'}, which='vowels') == {'age': 40, 'eyes': 'green'})\n",
    "assert(subset_dict_by_type({'age': 40, 'hair': 'brown', 'eyes': 'green'}, which='consonants') == {'hair': 'brown'})\n",
    "assert(subset_dict_by_type({'age': 40, 'hair': 'brown', 'eyes': 'green'}) == {'age': 40, 'eyes': 'green'})\n",
    "assert(subset_dict_by_type({}) == {})"
   ]
  },
  {
   "cell_type": "code",
   "execution_count": 45,
   "metadata": {
    "solution2": "hidden"
   },
   "outputs": [],
   "source": [
    "def subset_dict_by_type(d, which='vowels'):\n",
    "    # Determine which set of letters to check against\n",
    "    if which == 'vowels':\n",
    "        check_set = 'aeoiu'\n",
    "    else:\n",
    "        check_set = 'bcdfghjklmnpqrstvwxyz'\n",
    "    \n",
    "    # Create an empty dictionary to store output values\n",
    "    out_d = {}\n",
    "    \n",
    "    # Add all key/values where first letter of key (k[0]) matches\n",
    "    # check_set\n",
    "    for k, v in d.items():\n",
    "        if k[0] in check_set:\n",
    "            out_d[k] = v\n",
    "            \n",
    "    return out_d"
   ]
  },
  {
   "cell_type": "markdown",
   "metadata": {
    "deletable": false,
    "editable": false,
    "run_control": {
     "frozen": true
    }
   },
   "source": [
    "<hr>\n",
    "## Final thoughts\n",
    "Well done to persevere through all of that!\n",
    "\n",
    "While I can't pretend that this lesson was at all exhaustive, I hope it made the entry to getting started a bit less steep.  For me, the benefit of knowing the basic types and statements meant that I could read a lot of Python even though I wasn't terribly fluent at writing (speaking) it.  In this way, I think programming languages are quite similar to spoken languages.\n",
    "\n",
    "As painful as it is, I think the other similarity to spoken languages is the willingness to fail at writing/speaking them.  Generally, people are pretty willing to help if you can demonstrate that you've tried some things that didn't work.  I won't say that's always true - there are many times that I haven't asked a question because some snarky person out there is just waiting to rip you to shreds.  But I've found that there exists a supportive community out there that is willing to help.\n",
    "\n",
    "As we begin the in-classroom workshop, there will be some concepts and language that (now) look familiar and some that are completely new.  That's OK - the main goal of the workshop is to give an overview of how Python might fit into your research analysis and, as such, it will be a wide and shallow tour rather than narrow and deep.  You may get lost or you may be bored (I hope neither), but I'm hoping that at least some ideas presented here and/or in the workshops spark enough interest for a deeper dive."
   ]
  }
 ],
 "metadata": {
  "kernelspec": {
   "display_name": "Python 2",
   "language": "python",
   "name": "python2"
  },
  "language_info": {
   "codemirror_mode": {
    "name": "ipython",
    "version": 2
   },
   "file_extension": ".py",
   "mimetype": "text/x-python",
   "name": "python",
   "nbconvert_exporter": "python",
   "pygments_lexer": "ipython2",
   "version": "2.7.13"
  }
 },
 "nbformat": 4,
 "nbformat_minor": 2
}
