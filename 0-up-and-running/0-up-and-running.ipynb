{
 "cells": [
  {
   "cell_type": "markdown",
   "metadata": {},
   "source": [
    "**Important**: These first two cells are some configuration Jupyter needs in order to prosent this tutorial correctly.  Please hit **Shift** and **Enter** together until the **Pre-workshop training** cell is highlighted"
   ]
  },
  {
   "cell_type": "code",
   "execution_count": 71,
   "metadata": {},
   "outputs": [
    {
     "data": {
      "text/html": [
       "<style>\n",
       "  img {margin-left: 0 !important;}\n",
       "  table {margin-left: 0 !important;}\n",
       "  .rendered_html th, .rendered_html td {\n",
       "    text-align: left;\n",
       "  }\n",
       "</style>"
      ],
      "text/plain": [
       "<IPython.core.display.HTML object>"
      ]
     },
     "metadata": {},
     "output_type": "display_data"
    }
   ],
   "source": [
    "%%html\n",
    "<style>\n",
    "  img {margin-left: 0 !important;}\n",
    "  table {margin-left: 0 !important;}\n",
    "  .rendered_html th, .rendered_html td {\n",
    "    text-align: left;\n",
    "  }\n",
    "</style>"
   ]
  },
  {
   "cell_type": "code",
   "execution_count": 72,
   "metadata": {},
   "outputs": [],
   "source": [
    "from IPython.core.interactiveshell import InteractiveShell\n",
    "InteractiveShell.ast_node_interactivity = \"all\""
   ]
  },
  {
   "cell_type": "markdown",
   "metadata": {},
   "source": [
    "# Pre-workshop training\n",
    "This is an introduction to Python types and functions in advance of the CoF Python workshop.  As we'll mostly be looking at applications of Python within the workshop, this session should serve as an introduction to the Python language and give users familiarity with the syntax they will see during the workshop.\n",
    "\n",
    "As you work through these pages, there will be small exercises at the bottom of each section that will get you used to working with a Jupyter notebook (the main interface we'll be using in the workshop).  Please experiment as much as you'd like to get used to the language and email Matt Gregory (matt.gregory@oregonstate.edu) with any questions."
   ]
  },
  {
   "cell_type": "markdown",
   "metadata": {},
   "source": [
    "## Jupyter notebooks\n",
    "Jupyter notebooks are a convenient way of interacting directly with the Python interpreter.  Notebooks are divided into cells that can contain code, output from the interpreter, or documentation (like this one).  Code cells have an **\"In []\"** in the left margin, sometimes with a number *n*, where the *n* will be a sequential number of the *n*th cell being evaluated.  Note that evaluating cells more than once will increment the value of *n*.\n",
    "\n",
    "In order to evaluate a cell's contents (primarily with cells that contain Python code), you type **Shift** and **Enter** at the same time (I will be referring to this as **Shift+Enter**).  Hitting **Enter** on its own will take you to a new line within the same cell.  First, try an example.  In the blank cell below, first place your cursor in the cell, and type the following:\n",
    "```python\n",
    "print 'Hello, world!'\n",
    "```\n",
    "then type **Shift+Enter**"
   ]
  },
  {
   "cell_type": "code",
   "execution_count": null,
   "metadata": {},
   "outputs": [],
   "source": []
  },
  {
   "cell_type": "markdown",
   "metadata": {},
   "source": [
    "If everything went OK, you should see this (although the number with the In[*n*] will likely be different):\n",
    "![](./images/hello_world.png \"Title\")\n",
    "\n",
    "\n",
    "Now try to enter multiple lines into the following blank cell, hitting **Enter** to advance to the next line and **Shift-Enter** to evaluate the cell.\n",
    "```python\n",
    "a = 3\n",
    "b = 4\n",
    "print a + b\n",
    "```"
   ]
  },
  {
   "cell_type": "code",
   "execution_count": null,
   "metadata": {},
   "outputs": [],
   "source": []
  },
  {
   "cell_type": "markdown",
   "metadata": {},
   "source": [
    "Did you get this?![](./images/hello_multiline.png \"Multi-line\")\n",
    "If so, you're all set for working through these examples.  You will be doing all of your work in the code cells, although you will need to learn how to also move through the documentation cells.  You can move through the cells (either code or documentation) without \"evaluating\" them by pressing the up-arrow and down-arrow keys.  You can also insert cells by hitting the 'plus' icon in the toolbar at the top or by using the menu **Insert -> Insert Cell Above** or **Insert -> Insert Cell Below**.\n",
    "\n",
    "Note that this is only the most basic introduction to Jupyter notebooks and their functionality in order to get going with this workshop.  To learn more about other features of notebooks, check out [Project Jupyter](http://jupyter.org/try)."
   ]
  },
  {
   "cell_type": "markdown",
   "metadata": {},
   "source": [
    "## Getting Help\n",
    "This is probably the single-most important thing to learn in Python apart from the language itself.  It's also one of the hardest things to teach because there are so many resources out there and having a single path for getting help is unrealistic.\n",
    "\n",
    "I'm a big advocate of experimenting and getting things wrong when you're learning a programming language as I believe it reinforces the learning process.  To understand why things aren't working when these failures hit, you're going to need to know about where to go to get help and how to ask the right question.  Luckily, in Python there are some great resources for help, both in the built-in documentation and across the web (and especially the site https://stackoverflow.com).  Let's work through an example of how to get help when you don't know how to even get started. \n",
    "\n",
    "Suppose you want to find the square root of a number in Python.  One might logically think this would work:\n",
    "```python\n",
    "print square_root(3.0)\n",
    "```\n",
    "Try it out and see if it works (remember to hit **Shift+Enter** to evaluate)"
   ]
  },
  {
   "cell_type": "code",
   "execution_count": null,
   "metadata": {},
   "outputs": [],
   "source": []
  },
  {
   "cell_type": "markdown",
   "metadata": {},
   "source": [
    "You just got a bunch of text that ultimately says:\n",
    "```python\n",
    "NameError: name 'square_root' is not defined\n",
    "```\n",
    "OK, so that didn't work.  My next move is usually a Google Search with \"python square root\" as search terms.  I got a page that had these hits:\n",
    "\n",
    "![](./images/sqrt.png \"Google square root\")\n",
    "\n",
    "So which one do you pick here?  If you choose the \"featured\" link, you actually get a page on how to calculate an integer square root function, the second link points you to something called **math.sqrt()** which looks like you have to do something like **import math** before you can even use it, and the third link (Stack Overflow) shows someone asking a question with a syntax like \"x**(.5)\".  This is incredibly frustrating that there are so many answers to the same question.  The issue is that there is more than one way to calculate a square-root of a number and that all of these pages give good information, albeit trying to do slightly different things.\n",
    "\n",
    "If you look through the top 7 or so hits, I hope you'll see that the answer with **math.sqrt** comes up again and again.  This is usually a good way to narrow your search - look for those phrases that come up often within the first page of hits.  So let's go to the second link and see what it has to say:\n",
    "\n",
    "![](./images/sqrt_help.png \"Example square root\")\n",
    "\n",
    "So, let's try this syntax ourselves.  Type the following into the cell below\n",
    "```python\n",
    "import math\n",
    "print math.sqrt(3.0)\n",
    "```"
   ]
  },
  {
   "cell_type": "code",
   "execution_count": null,
   "metadata": {},
   "outputs": [],
   "source": []
  },
  {
   "cell_type": "markdown",
   "metadata": {},
   "source": [
    "Excellent, that worked!  But what did we just do?  Why did we need to import something and what is that funny dot syntax in there?  How do we know what to put in between the parentheses?  \n",
    "\n",
    "Some of the answers to these questions you will learn about, but other answers can usually be found within the Python documentation itself.  You will learn soon that **math** is an example of a Python module that brings in additional functionality to Python.  In order to use this functionality, you need to use the **import** statement.  You will also learn that the \".\" between **math** and **sqrt** means that **sqrt** is a function of the **math** module.  Let's look at what the **math** module gives you by using the **help** function in Python.\n",
    "```python\n",
    "help(math)\n",
    "```"
   ]
  },
  {
   "cell_type": "code",
   "execution_count": null,
   "metadata": {},
   "outputs": [],
   "source": []
  },
  {
   "cell_type": "markdown",
   "metadata": {},
   "source": [
    "This just brought up the **math** module's built-in help.  You'll see that this module has a lot of functions that will look familiar, one of them being **sqrt**.  Let's get help on the sqrt function on its own by typing the following:\n",
    "```python\n",
    "help(math.sqrt)\n",
    "```"
   ]
  },
  {
   "cell_type": "code",
   "execution_count": null,
   "metadata": {},
   "outputs": [],
   "source": []
  },
  {
   "cell_type": "markdown",
   "metadata": {},
   "source": [
    "This still looks a bit weird if you're new to Python, but what this is telling you is that the sqrt function is expecting one ***argument*** between its parentheses and that it will ***return*** the square root of that argument back to the caller.\n",
    "\n",
    "Now try it yourself.  If you knew that a function to find the cosine of a number was in the **math** module, how would you go about finding it and calling it with an argument of 1.0.  (Hint: start with getting help on the **math** module)"
   ]
  },
  {
   "cell_type": "code",
   "execution_count": null,
   "metadata": {},
   "outputs": [],
   "source": []
  },
  {
   "cell_type": "markdown",
   "metadata": {},
   "source": [
    "If you searched and called the function correctly, you'll find that the cosine of 1.0 radians is 0.5403023058681398.\n",
    "\n",
    "When you're working in the Jupyter environment, there are some nice additional options.  In the cell below, type **math.** and then hit the **Tab** key.\n",
    "\n",
    "You should be presented with a drop-down list of all available functions in the math module.  Once you find the function you want to use (by using up and down arrow keys -or- typing the first few letters of the function you're searching for), hit **Enter** and the full function name will be inserted into the cell. I tend to find this an easier way to search for functions if I already know the module that I need to be searching.  "
   ]
  },
  {
   "cell_type": "code",
   "execution_count": null,
   "metadata": {},
   "outputs": [],
   "source": []
  },
  {
   "cell_type": "markdown",
   "metadata": {},
   "source": [
    "Now, find a function you want to use (e.g. **math.sqrt**), type it into the cell below (ie. `math.sqrt`) and then type the **Shift** and **Tab** keys together (**Shift+Tab**) and you should be presented with the help for that particular function.  As you start typing, the help will disappear, but you can get it back at any time by hitting **Shift+Tab** again."
   ]
  },
  {
   "cell_type": "code",
   "execution_count": null,
   "metadata": {},
   "outputs": [],
   "source": []
  },
  {
   "cell_type": "markdown",
   "metadata": {},
   "source": [
    "## Errors and Exceptions"
   ]
  },
  {
   "cell_type": "markdown",
   "metadata": {},
   "source": [
    "One thing you're sure to encounter when working through these examples are errors.  Sometimes these errors will look completely obtuse, but most of the time, errors give good information about what went wrong.  Take the following example:\n",
    "\n",
    "![](./images/hello_error.png \"Error 1\")\n",
    "\n",
    "If you look at the last line of the message, you'll see that this is a **Syntax Error**, with the additional message that it found an unexpected EOF (end-of-file) while parsing.  Maybe that's a bit strange of an error, but also look at the preceding line which shows a small caret ('^') symbol pointing at one character past the last quotation mark.  This gives an indication that the error is happening here.  You were probably able to figure out that we are missing our ending parenthesis.\n",
    "\n",
    "Here's another:\n",
    "\n",
    "![](./images/hello_error_2.png \"Error 2\")\n",
    "\n",
    "In this case, we have a **Type Error**.  No longer do we have a caret, but we do have an arrow on the left side pointing to the line with the error.  In this case, the error message is probably more clear - we cannot add (or concatentate) a 'str' (string) and 'int' (integer) together (don't worry if the reason *why* this doesn't work isn't yet clear).\n",
    "\n",
    "Errors can be intimidating in Python because they include the entire \"call stack\" of a program when the interpreter encountered the error.  This just means that the error may be deeply nested within a number of functions and, at each level, the program reports the line number which called the inner function.  In my experience, it's almost always useful to scroll to the bottom of the error to find the root cause of what went wrong. \n"
   ]
  },
  {
   "cell_type": "markdown",
   "metadata": {},
   "source": [
    "## Variables\n",
    "\n",
    "Variables in Python are used everywhere.  You have likely seen them in any other programming language you may have used.  Think of them as \"names\" that refer to things.  So, when we do this,\n",
    "```python\n",
    "a = 3\n",
    "```\n",
    "we are using the **name** \"a\" to refer to an **object** that represents the numeric **value** 3.  When we subsequently use \"a\" again like this,\n",
    "```python\n",
    "a = 'Bob'\n",
    "```\n",
    "we have now reassigned the name \"a\" to a new object that represents the string value \"Bob\".  Variables spring into existence when named and, unlike some programming languages, do not need to be given type information before being used.\n",
    "\n",
    "Variables can also be used to hold results of simple expressions, e.g.\n",
    "```python\n",
    "a = 1 + 2\n",
    "print a\n",
    "3\n",
    "```\n",
    "or even to hold the results of expressions that include other variables\n",
    "```python\n",
    "a = 1 + 2\n",
    "b = a + 5\n",
    "print b\n",
    "8\n",
    "```\n",
    "The rules on naming variables are pretty easy:\n",
    "* Variables must start with either a letter or an underscore \n",
    "* The remainder of the variable name can be letters (both lower-case and upper-case), numbers, and underscores\n",
    "* Names are case-sensitive (the variable \"Monkey\" is different than the variable \"monkey\")\n",
    "\n",
    "Typically, the convention in Python is to name your variables with lower-case letters and use underscores to separate \"words\" in a variable name.  Variable names should be also be intuitive   For example:\n",
    "\n",
    "Good variable names:\n",
    "\n",
    "* `list_of_addresses`\n",
    "* `box_of_wrenches`\n",
    "* `x` (single-letter variable names usually used for temporary assignment or in loops)\n",
    "\n",
    "Less good variable names (but still legal):\n",
    "* `okVariableName` (camelCase is used quite often in some modules)\n",
    "* `bOxOfWrEnCHES141`\n",
    "* `hardtoreadwithoutspaces`\n",
    "\n",
    "Illegal variable names:\n",
    "* `2robot`\n",
    "* `variable.name` (this one for you R programmers!)"
   ]
  },
  {
   "cell_type": "markdown",
   "metadata": {},
   "source": [
    "## Introduction to Python built-in data types \n",
    "This is a broad overview of some common Python data types.  In following sections, we'll dive in a bit to each data type in more details, but this section exposes you to the built-in data types available in Python.  The table below gives each of these types and examples of how you would create an object of this data type.\n",
    "\n",
    "| Type | Description | Example creation of object(s) |\n",
    "| ---- | ----------- | ----------------------------- |\n",
    "| Numbers | Integer or floating-point values | 3, 1.34, 5e6 |\n",
    "| Strings | Text or character values | 'Bob', \"Susie\" |\n",
    "| Lists   | Sequence for arbitrary objects - \"mutable\" | [1, 2, 3], list((4, 5, 6)) |\n",
    "| Tuples | Sequence for arbitrary objects - \"immutable\" | (1, 2, 3), tuple((4, 5, 6)) |\n",
    "| Dictionaries | Container for key/value pairs, aka \"mappings\" | {'name': 'Bob', 'age': 32, 'height': 71}, dict(name='Sue', age=27, height=65) |\n",
    "| Sets | Collections of unique and immutable objects | {1, 2, 3}, set((1, 2, 3)) |\n",
    "\n",
    "In the cell below, try to create any of the above objects (using the syntax in the third column) and then check their type using the **type** function, e.g.\n",
    "```python\n",
    "a = 'Bob'\n",
    "type(a)\n",
    "```"
   ]
  },
  {
   "cell_type": "code",
   "execution_count": null,
   "metadata": {},
   "outputs": [],
   "source": []
  },
  {
   "cell_type": "markdown",
   "metadata": {},
   "source": [
    "One thing that we didn't say about in the **Help** section above was that once we have a variable of a certain type, we can actually find help about its capabilities on the variable itself.  This is pretty cool!\n",
    "\n",
    "In the first empty cell below, type:\n",
    "```python\n",
    "a = 'spam'\n",
    "```\n",
    "Then, in the second empty cell below, type:\n",
    "```\n",
    "a.<TAB>\n",
    "```\n",
    "where `<TAB>` is the actual TAB key.  What do you get?"
   ]
  },
  {
   "cell_type": "code",
   "execution_count": null,
   "metadata": {},
   "outputs": [],
   "source": []
  },
  {
   "cell_type": "code",
   "execution_count": null,
   "metadata": {},
   "outputs": [],
   "source": []
  },
  {
   "cell_type": "markdown",
   "metadata": {},
   "source": [
    "You'll see that Jupyter is showing you all the functions (methods) available to be used with the **a** variable, which is a string.  Try one of these functions (e.g. **a.capitalize** or **a.upper**) in the cell above and see what you get.  **Important**: Functions will always have opening and closing parentheses, even if there are no arguments to pass to it.  This is the case with **str.capitalize** and **str.upper**.  Look for help - either **help(str.capitalize)** or by typing **str.capitalize** and then typing **Shift+Tab** - for the syntax on these methods."
   ]
  },
  {
   "cell_type": "markdown",
   "metadata": {},
   "source": [
    "## Numbers (integers and floating-point)\n",
    "\n",
    "There aren't too many surprises with numbers from what you would expect.  The main number types are integers and floating-point numbers (typically numbers with decimals and/or exponentiation).  Number types are usually where tutorials on Python start, because they are easy to understand and provide intuitive examples.  Below, we look at the main operators on numbers as well as a few functions that can be used with numbers.  For each, try to guess what the cell will show before you evaluate it. \n",
    "\n",
    "We've set up this worksheet in Jupyter to show the result of **all** lines that the user inputs.  Typically, only the last line is output as a result.  If we've put four expressions into a cell, we will receive four separate `Out[]` statements below, each one corresponding to the *n*th line of code in the input statement."
   ]
  },
  {
   "cell_type": "markdown",
   "metadata": {},
   "source": [
    "### Operators\n",
    "#### Addition and subtraction"
   ]
  },
  {
   "cell_type": "code",
   "execution_count": null,
   "metadata": {},
   "outputs": [],
   "source": [
    "5 + 3\n",
    "5.3 + 8.2\n",
    "5 - 3\n",
    "5.2 - 8.7"
   ]
  },
  {
   "cell_type": "markdown",
   "metadata": {},
   "source": [
    "Note that this last line formatting looks very strange and has to do with binary representation of floating-point numbers are not exact.  If you want a nicer formatting, use the print statement in front of the expression, eg. **print 5.2 - 8.7**.  Try to edit that in the previous cell.  Also try to add more than one number together above (e.g. `4 + 3 + 12.0`).  What data type do you think the result will be?"
   ]
  },
  {
   "cell_type": "markdown",
   "metadata": {},
   "source": [
    "#### Multiplication and division"
   ]
  },
  {
   "cell_type": "code",
   "execution_count": null,
   "metadata": {},
   "outputs": [],
   "source": [
    "5 * 3\n",
    "5.1 * 3.2\n",
    "5 / 3\n",
    "5.0 / 3.0"
   ]
  },
  {
   "cell_type": "markdown",
   "metadata": {},
   "source": [
    "Hopefully, you're confused about that third result.  How can 5 / 3 = 1?  The answer is that for Python 2.x, integer division rounds down to the nearest integer.  That is, if both operands (5 and 3) are of integer type, the division operator will do integer division.  If you want to force floating point division, make at least one of the numbers a floating-point number (as in the last example). "
   ]
  },
  {
   "cell_type": "markdown",
   "metadata": {},
   "source": [
    "#### Order of operations\n",
    "PEMDAS - parentheses, exponentiation, multiplication, division, addition, subtraction - rules apply for Python.  That is, any statement will first evaluate any numeric expression within parentheses, then exponentiation, etc.  Before evaluating this cell, try to guess what each statement will return."
   ]
  },
  {
   "cell_type": "code",
   "execution_count": null,
   "metadata": {},
   "outputs": [],
   "source": [
    "5 + 2 * 3\n",
    "(5 + 2) * 3"
   ]
  },
  {
   "cell_type": "markdown",
   "metadata": {},
   "source": [
    "#### Comparison operators"
   ]
  },
  {
   "cell_type": "code",
   "execution_count": null,
   "metadata": {},
   "outputs": [],
   "source": [
    "5 > 3        # Greater than, less than\n",
    "5 <= 5.0     # Greater than or equal to, less than or equal to\n",
    "3 == 4       # Equal to\n",
    "3 != 10      # Not equal to"
   ]
  },
  {
   "cell_type": "markdown",
   "metadata": {},
   "source": [
    "Three things to notice here:\n",
    "\n",
    "First, in the second example, we are comparing an integer to a floating-point number.  Python automatically \"up-converts\" the integer to a floating-point number and then does the comparison.  Not all different types are comparable (e.g. a string and a number cannot be compared), but Python can handle this comparison because an integer can be converted to a floating-point number without loss of meaning.\n",
    "\n",
    "Second, this is the first time we see Python's **boolean** types - **True** and **False**.  These are special reserved words in Python and can be used in expressions just as other data types.\n",
    "\n",
    "Third, that `#` following each statement.  You can probably easily guess that these are comments within Python and that they don't get evaluated.  Good code has **lots** of comments, especially when it is not obvious what the code is supposed to accomplish.  In my experience, comments almost always end up helping \"future me\", when I dig back into the code and can't figure out what I was doing.  So think about comments as being both helpful **and** selfish ;)"
   ]
  },
  {
   "cell_type": "markdown",
   "metadata": {},
   "source": [
    "### Functions with numbers\n",
    "There are both built-in functions for working with numbers as well as many functions associated with the **math** module (that we saw before in the **Help** section).  The difference is that we first need to import the math module before we use it.  First the built-in functions:"
   ]
  },
  {
   "cell_type": "code",
   "execution_count": null,
   "metadata": {},
   "outputs": [],
   "source": [
    "abs(-1)                 # Absolute value\n",
    "pow(3, 2)               # Exponentiation\n",
    "divmod(9, 4)            # Integer division and modulus\n",
    "int(10.3)               # Convert number to integer\n",
    "float(4)                # Convert number to floating-point\n",
    "round(4.4), round(4.5)  # Rounding number to nearest integer"
   ]
  },
  {
   "cell_type": "markdown",
   "metadata": {},
   "source": [
    "The **math** module builds on this set of functions that we can use with numbers.  Note how we **import math** before using it."
   ]
  },
  {
   "cell_type": "code",
   "execution_count": 73,
   "metadata": {},
   "outputs": [],
   "source": [
    "import math"
   ]
  },
  {
   "cell_type": "code",
   "execution_count": null,
   "metadata": {},
   "outputs": [],
   "source": [
    "# Ceiling and floor functions\n",
    "print 'Ceiling of 4.3 is', math.ceil(4.3)\n",
    "print 'Floor of 4.3 is', math.floor(4.3)"
   ]
  },
  {
   "cell_type": "code",
   "execution_count": null,
   "metadata": {},
   "outputs": [],
   "source": [
    "# Trigonometric functions\n",
    "print 'Sine of 0.0 is', math.sin(0.0)\n",
    "print 'Cosine of PI is', math.cos(math.pi)\n",
    "print 'Tangent of 45 degrees is', math.tan(math.radians(45.0))"
   ]
  },
  {
   "cell_type": "code",
   "execution_count": null,
   "metadata": {},
   "outputs": [],
   "source": [
    "# Power and factorial functions\n",
    "print 'e to the power of 1.0 is', math.exp(1.0)\n",
    "print 'The natural log of e is', math.log(math.e)\n",
    "print 'The square root of 4.0 is', math.sqrt(4.0)\n",
    "print '4.0 raised to the 2.0 power is', math.pow(4.0, 2.0)"
   ]
  },
  {
   "cell_type": "markdown",
   "metadata": {},
   "source": [
    "### Exercises\n",
    "This set of cells gives you a bit of practice using numbers and the **math** module.  In each, there is a problem statement, a blank cell, and the expected output.  See if you can solve each of the four problems."
   ]
  },
  {
   "cell_type": "markdown",
   "metadata": {},
   "source": [
    "#### Problem 1.\n",
    "Write statements that sets a variable named 'temperature_c' to 10.0, converts this variable from Celsius to Fahrenheit and prints out the number in Fahrenheit.  The equation for Celsius to Fahrenheit is F = 9/5 * C + 32."
   ]
  },
  {
   "cell_type": "code",
   "execution_count": null,
   "metadata": {},
   "outputs": [],
   "source": []
  },
  {
   "cell_type": "markdown",
   "metadata": {},
   "source": [
    "****Expected:**** `50.0`"
   ]
  },
  {
   "cell_type": "markdown",
   "metadata": {},
   "source": [
    "#### Problem 2.\n",
    "Given a rectangle with sides 4 and 6, write two statements to calculate and print its area and perimeter on one line.  Note that the print statement can take multiple comma-delimited arguments and it will print spaces between the results"
   ]
  },
  {
   "cell_type": "code",
   "execution_count": null,
   "metadata": {},
   "outputs": [],
   "source": []
  },
  {
   "cell_type": "markdown",
   "metadata": {},
   "source": [
    "****Expected****: `24 20`"
   ]
  },
  {
   "cell_type": "markdown",
   "metadata": {},
   "source": [
    "#### Problem 3.\n",
    "The trigonometric functions `math.sin`, `math.cos`, and `math.tan` expect their argument to be given in radians.  Find the function within the math module that converts degrees to radians and print out the sine, cosine and tangent of a 30.0 degree angle all on one line.  Use a variable to capture the result of the conversion from degrees to radians."
   ]
  },
  {
   "cell_type": "code",
   "execution_count": null,
   "metadata": {},
   "outputs": [],
   "source": []
  },
  {
   "cell_type": "markdown",
   "metadata": {},
   "source": [
    "****Expected****: `0.5 0.866025403784 0.57735026919`"
   ]
  },
  {
   "cell_type": "markdown",
   "metadata": {},
   "source": [
    "#### Problem 4.\n",
    "Find a function within the **math** module that calculates the factorial of a number (e.g. *n* \\* *n-1* \\* ... \\* 2 \\* 1).  Then print out the factorial of 6"
   ]
  },
  {
   "cell_type": "code",
   "execution_count": null,
   "metadata": {},
   "outputs": [],
   "source": []
  },
  {
   "cell_type": "markdown",
   "metadata": {},
   "source": [
    "****Expected****: `720`"
   ]
  },
  {
   "cell_type": "markdown",
   "metadata": {},
   "source": [
    "## Lists\n",
    "### Creating lists\n",
    "```python\n",
    "# Create a list with three integer elements\n",
    "l = [1, 2, 3]\n",
    "\n",
    "# Create an empty list and append three numbers to it\n",
    "l = []\n",
    "l.append(1)\n",
    "l.append(2)\n",
    "l.append(3)\n",
    "\n",
    "# Lists don't need to be of the same data type\n",
    "l = [1, 0.342, 'Dog']\n",
    "\n",
    "# Lists can even have inner lists\n",
    "l = [[1, 2, 3], [4, 5, 6], [7, 8, 9]]\n",
    "```"
   ]
  },
  {
   "cell_type": "markdown",
   "metadata": {},
   "source": [
    "* Allocation of time (25 minutes)\n",
    "    * Strings (3 minutes)\n",
    "    * Lists (5 minutes)\n",
    "    * Tuples (3 minutes)\n",
    "    * Sets (3 minutes)\n",
    "    * Dictionaries (5 minutes)\n",
    "    * Functions (10 minutes)"
   ]
  },
  {
   "cell_type": "code",
   "execution_count": null,
   "metadata": {},
   "outputs": [],
   "source": []
  }
 ],
 "metadata": {
  "kernelspec": {
   "display_name": "Python 2",
   "language": "python",
   "name": "python2"
  },
  "language_info": {
   "codemirror_mode": {
    "name": "ipython",
    "version": 2
   },
   "file_extension": ".py",
   "mimetype": "text/x-python",
   "name": "python",
   "nbconvert_exporter": "python",
   "pygments_lexer": "ipython2",
   "version": "2.7.13"
  }
 },
 "nbformat": 4,
 "nbformat_minor": 2
}
