{
 "cells": [
  {
   "cell_type": "code",
   "execution_count": 94,
   "metadata": {
    "slideshow": {
     "slide_type": "skip"
    }
   },
   "outputs": [],
   "source": [
    "%matplotlib inline\n",
    "from __future__ import print_function"
   ]
  },
  {
   "cell_type": "markdown",
   "metadata": {
    "deletable": false,
    "editable": false,
    "run_control": {
     "frozen": true
    },
    "slideshow": {
     "slide_type": "slide"
    }
   },
   "source": [
    "# Module 3: Statistics and machine learning in Python"
   ]
  },
  {
   "cell_type": "markdown",
   "metadata": {
    "deletable": false,
    "editable": false,
    "run_control": {
     "frozen": true
    },
    "slideshow": {
     "slide_type": "slide"
    }
   },
   "source": [
    "## Survey of statistical packages in Python\n",
    "While Python likely lags behind R in terms of statistical packages offered, a few packages have emerged as top ones for data analysis/exploration.  We'll be focused on two for this module."
   ]
  },
  {
   "cell_type": "markdown",
   "metadata": {
    "deletable": false,
    "editable": false,
    "run_control": {
     "frozen": true
    },
    "slideshow": {
     "slide_type": "slide"
    }
   },
   "source": [
    "## Statsmodels vs Scikit-learn\n",
    "Josef Perktold (maintainer of `statsmodels`) on [cross-validated](https://stats.stackexchange.com/questions/47913/pandas-statsmodel-scikit-learn) when asked about the difference between statistical packages in Python:\n",
    "* statsmodels (\"traditional\" statistics and econometrics, with much stronger emphasis on parameter estimation and (statistical) testing)\n",
    "* scikit-learn (machine learning with emphasis on predictive modeling with often large and sparse data)\n",
    "\n"
   ]
  },
  {
   "cell_type": "markdown",
   "metadata": {
    "deletable": false,
    "editable": false,
    "run_control": {
     "frozen": true
    },
    "slideshow": {
     "slide_type": "slide"
    }
   },
   "source": [
    "## What about scipy (sigh-pie)?\n",
    "* Essential component of the Python statistics \"ecosystem\"\n",
    "* Both `statsmodels` and `scikit-learn` require `scipy` as a dependency\n",
    "* `scipy.stats` has distributions, common statistical tests, and descriptive statistics\n",
    "* In other words, if it's not in `statsmodel` or `scikit-learn`, it's probably in `scipy`"
   ]
  },
  {
   "cell_type": "markdown",
   "metadata": {
    "deletable": false,
    "editable": false,
    "run_control": {
     "frozen": true
    },
    "slideshow": {
     "slide_type": "slide"
    }
   },
   "source": [
    "## Roadmap for this module\n",
    "* Using iris data, show how to do simple linear regression using both packages\n",
    "* Extend this to multiple linear regression (showcasing dummy variable support)\n",
    "* Demonstrate machine-learning algorithms (e.g. random forests) in `scikit-learn`\n",
    "* Cross-validation support\n",
    "* Sample graphics output"
   ]
  },
  {
   "cell_type": "markdown",
   "metadata": {
    "deletable": false,
    "editable": false,
    "run_control": {
     "frozen": true
    },
    "slideshow": {
     "slide_type": "slide"
    }
   },
   "source": [
    "## Simple linear regression (statsmodels)\n",
    "* Has very similar syntax to R, using formula specification\n",
    "* Tightly integrated with `pandas`."
   ]
  },
  {
   "cell_type": "code",
   "execution_count": 2,
   "metadata": {},
   "outputs": [
    {
     "name": "stdout",
     "output_type": "stream",
     "text": [
      "                            OLS Regression Results                            \n",
      "==============================================================================\n",
      "Dep. Variable:            petal_width   R-squared:                       0.927\n",
      "Model:                            OLS   Adj. R-squared:                  0.926\n",
      "Method:                 Least Squares   F-statistic:                     1877.\n",
      "Date:                Sat, 07 Apr 2018   Prob (F-statistic):           5.78e-86\n",
      "Time:                        17:40:20   Log-Likelihood:                 24.400\n",
      "No. Observations:                 150   AIC:                            -44.80\n",
      "Df Residuals:                     148   BIC:                            -38.78\n",
      "Df Model:                           1                                         \n",
      "Covariance Type:            nonrobust                                         \n",
      "================================================================================\n",
      "                   coef    std err          t      P>|t|      [0.025      0.975]\n",
      "--------------------------------------------------------------------------------\n",
      "Intercept       -0.3665      0.040     -9.188      0.000      -0.445      -0.288\n",
      "petal_length     0.4164      0.010     43.320      0.000       0.397       0.435\n",
      "==============================================================================\n",
      "Omnibus:                        5.498   Durbin-Watson:                   1.461\n",
      "Prob(Omnibus):                  0.064   Jarque-Bera (JB):                5.217\n",
      "Skew:                           0.353   Prob(JB):                       0.0736\n",
      "Kurtosis:                       3.579   Cond. No.                         10.3\n",
      "==============================================================================\n",
      "\n",
      "Warnings:\n",
      "[1] Standard Errors assume that the covariance matrix of the errors is correctly specified.\n"
     ]
    }
   ],
   "source": [
    "import pandas as pd\n",
    "import statsmodels.formula.api as smf\n",
    "iris_df = pd.read_csv('iris.csv')\n",
    "\n",
    "# ols (ordinary least squares) model specification\n",
    "# Notice the similarity to the R syntax\n",
    "model = smf.ols(formula='petal_width ~ petal_length', data=iris_df)\n",
    "\n",
    "# Fit the results\n",
    "results_sm = model.fit()\n",
    "\n",
    "# Print the summary of the model\n",
    "print(results_sm.summary())"
   ]
  },
  {
   "cell_type": "markdown",
   "metadata": {
    "deletable": false,
    "editable": false,
    "run_control": {
     "frozen": true
    },
    "slideshow": {
     "slide_type": "slide"
    }
   },
   "source": [
    "We can also just extract the coefficients (params), confidence intervals, and model predicted values"
   ]
  },
  {
   "cell_type": "code",
   "execution_count": 3,
   "metadata": {},
   "outputs": [
    {
     "name": "stdout",
     "output_type": "stream",
     "text": [
      "Intercept      -0.366514\n",
      "petal_length    0.416419\n",
      "dtype: float64\n",
      "--------------------------------------------------\n",
      "                     0         1\n",
      "Intercept    -0.445340 -0.287688\n",
      "petal_length  0.397424  0.435415\n",
      "--------------------------------------------------\n",
      "[0.21647274 0.21647274 0.17483083 0.25811465 0.21647274 0.34139848\n",
      " 0.21647274 0.25811465 0.21647274 0.25811465]\n"
     ]
    }
   ],
   "source": [
    "# Get just the parameters of the model - returned as pandas series\n",
    "print(results_sm.params)\n",
    "\n",
    "# Confidence interval - returned as pandas DataFrame\n",
    "print('-' * 50)\n",
    "print(results_sm.conf_int())\n",
    "\n",
    "# Predicted values - returned as numpy array\n",
    "print('-' * 50)\n",
    "print(results_sm.predict()[:10])"
   ]
  },
  {
   "cell_type": "markdown",
   "metadata": {
    "deletable": false,
    "editable": false,
    "run_control": {
     "frozen": true
    },
    "slideshow": {
     "slide_type": "slide"
    }
   },
   "source": [
    "## Simple linear regression (scikit-learn)\n",
    "* Inputs are typically numpy arrays rather than pandas DataFrames\n",
    "* No formula specification for models\n",
    "* Model output not as friendly\n",
    "* More generic API to fit larger class of statistical techniques"
   ]
  },
  {
   "cell_type": "code",
   "execution_count": 4,
   "metadata": {},
   "outputs": [
    {
     "name": "stdout",
     "output_type": "stream",
     "text": [
      "-0.36651404521673014 [0.41641913]\n",
      "--------------------------------------------------\n",
      "0.9269012279220036\n",
      "--------------------------------------------------\n",
      "[0.21647274 0.21647274 0.17483083 0.25811465 0.21647274 0.34139848\n",
      " 0.21647274 0.25811465 0.21647274 0.25811465]\n"
     ]
    }
   ],
   "source": [
    "import numpy as np\n",
    "from sklearn import linear_model\n",
    "\n",
    "# Create our LinearRegression object\n",
    "model = linear_model.LinearRegression()\n",
    "\n",
    "# X inputs to model must be 2-D numpy array\n",
    "# We need to \"reshape\" our petal_length array\n",
    "X = iris_df[['petal_length']]\n",
    "y = iris_df['petal_width']\n",
    "\n",
    "# Fit the model\n",
    "results_sk = model.fit(X=X, y=y)\n",
    "\n",
    "# Get the model coefficients\n",
    "print(results_sk.intercept_, results_sk.coef_)\n",
    "\n",
    "# Get the model R^2\n",
    "print('-' * 50)\n",
    "print(results_sk.score(X, y))\n",
    "\n",
    "# Get the predicted values\n",
    "print('-' * 50)\n",
    "print(results_sk.predict(X)[:10])"
   ]
  },
  {
   "cell_type": "markdown",
   "metadata": {
    "deletable": false,
    "editable": false,
    "run_control": {
     "frozen": true
    },
    "slideshow": {
     "slide_type": "slide"
    }
   },
   "source": [
    "We can also verify that our coefficients match between `statsmodels` and `scikit-learn` results."
   ]
  },
  {
   "cell_type": "code",
   "execution_count": 5,
   "metadata": {},
   "outputs": [
    {
     "name": "stdout",
     "output_type": "stream",
     "text": [
      "-0.3665140452167292 0.41641913228540156\n",
      "-0.36651404521673014 0.41641913228540184\n"
     ]
    }
   ],
   "source": [
    "# Verify that model coefficients match between statsmodels and \n",
    "print(results_sm.params[0], results_sm.params[1])\n",
    "print(results_sk.intercept_, results_sk.coef_[0])"
   ]
  },
  {
   "cell_type": "markdown",
   "metadata": {
    "deletable": false,
    "editable": false,
    "run_control": {
     "frozen": true
    },
    "slideshow": {
     "slide_type": "slide"
    }
   },
   "source": [
    "## Multiple linear regression (statsmodels)\n",
    "We can fit a model using multiple X variables.  Here's an example of using the other continuous variables in the iris dataset."
   ]
  },
  {
   "cell_type": "code",
   "execution_count": 6,
   "metadata": {},
   "outputs": [
    {
     "name": "stdout",
     "output_type": "stream",
     "text": [
      "                            OLS Regression Results                            \n",
      "==============================================================================\n",
      "Dep. Variable:            petal_width   R-squared:                       0.938\n",
      "Model:                            OLS   Adj. R-squared:                  0.937\n",
      "Method:                 Least Squares   F-statistic:                     736.9\n",
      "Date:                Sat, 07 Apr 2018   Prob (F-statistic):           6.20e-88\n",
      "Time:                        17:40:21   Log-Likelihood:                 36.809\n",
      "No. Observations:                 150   AIC:                            -65.62\n",
      "Df Residuals:                     146   BIC:                            -53.57\n",
      "Df Model:                           3                                         \n",
      "Covariance Type:            nonrobust                                         \n",
      "================================================================================\n",
      "                   coef    std err          t      P>|t|      [0.025      0.975]\n",
      "--------------------------------------------------------------------------------\n",
      "Intercept       -0.2487      0.178     -1.396      0.165      -0.601       0.103\n",
      "petal_length     0.5261      0.024     21.536      0.000       0.478       0.574\n",
      "sepal_length    -0.2103      0.048     -4.426      0.000      -0.304      -0.116\n",
      "sepal_width      0.2288      0.049      4.669      0.000       0.132       0.326\n",
      "==============================================================================\n",
      "Omnibus:                        5.603   Durbin-Watson:                   1.577\n",
      "Prob(Omnibus):                  0.061   Jarque-Bera (JB):                6.817\n",
      "Skew:                           0.222   Prob(JB):                       0.0331\n",
      "Kurtosis:                       3.945   Cond. No.                         90.0\n",
      "==============================================================================\n",
      "\n",
      "Warnings:\n",
      "[1] Standard Errors assume that the covariance matrix of the errors is correctly specified.\n"
     ]
    }
   ],
   "source": [
    "# Specify the formula as a string\n",
    "formula = 'petal_width ~ petal_length + sepal_length + sepal_width'\n",
    "model = smf.ols(formula=formula, data=iris_df).fit()\n",
    "print(model.summary())"
   ]
  },
  {
   "cell_type": "markdown",
   "metadata": {
    "deletable": false,
    "editable": false,
    "run_control": {
     "frozen": true
    },
    "slideshow": {
     "slide_type": "slide"
    }
   },
   "source": [
    "## Multiple linear regression with dummy variables (statsmodels)\n",
    "We can also use categorical variables in our model, which get translated into multiple dummy (0|1) fields.  `statsmodels` makes this quite easy by searching the data frame for \"factor-like\" data.  In our case, the `species` field qualifies as such."
   ]
  },
  {
   "cell_type": "code",
   "execution_count": 7,
   "metadata": {},
   "outputs": [
    {
     "name": "stdout",
     "output_type": "stream",
     "text": [
      "['setosa' 'versicolor' 'virginica']\n",
      "--------------------------------------------------\n",
      "                            OLS Regression Results                            \n",
      "==============================================================================\n",
      "Dep. Variable:            petal_width   R-squared:                       0.954\n",
      "Model:                            OLS   Adj. R-squared:                  0.953\n",
      "Method:                 Least Squares   F-statistic:                     599.5\n",
      "Date:                Sat, 07 Apr 2018   Prob (F-statistic):           1.79e-94\n",
      "Time:                        17:40:21   Log-Likelihood:                 59.398\n",
      "No. Observations:                 150   AIC:                            -106.8\n",
      "Df Residuals:                     144   BIC:                            -88.73\n",
      "Df Model:                           5                                         \n",
      "Covariance Type:            nonrobust                                         \n",
      "=========================================================================================\n",
      "                            coef    std err          t      P>|t|      [0.025      0.975]\n",
      "-----------------------------------------------------------------------------------------\n",
      "Intercept                -0.4878      0.176     -2.778      0.006      -0.835      -0.141\n",
      "species[T.versicolor]     0.6582      0.122      5.375      0.000       0.416       0.900\n",
      "species[T.virginica]      1.0578      0.165      6.421      0.000       0.732       1.383\n",
      "sepal_length             -0.0948      0.045     -2.129      0.035      -0.183      -0.007\n",
      "sepal_width               0.2497      0.048      5.248      0.000       0.156       0.344\n",
      "petal_length              0.2409      0.049      4.947      0.000       0.145       0.337\n",
      "==============================================================================\n",
      "Omnibus:                        5.957   Durbin-Watson:                   1.840\n",
      "Prob(Omnibus):                  0.051   Jarque-Bera (JB):                8.404\n",
      "Skew:                          -0.159   Prob(JB):                       0.0150\n",
      "Kurtosis:                       4.115   Cond. No.                         133.\n",
      "==============================================================================\n",
      "\n",
      "Warnings:\n",
      "[1] Standard Errors assume that the covariance matrix of the errors is correctly specified.\n"
     ]
    }
   ],
   "source": [
    "# Show the data values of the species field in iris_df\n",
    "print(iris_df.species.unique())\n",
    "\n",
    "# OLS model with all variables\n",
    "# Categorical variables automatically get set as dummy variables\n",
    "model = smf.ols(\n",
    "    formula='petal_width ~ sepal_length + sepal_width + petal_length + species',\n",
    "    data=iris_df).fit()\n",
    "print('-' * 50)\n",
    "print(model.summary())"
   ]
  },
  {
   "cell_type": "markdown",
   "metadata": {
    "deletable": false,
    "editable": false,
    "run_control": {
     "frozen": true
    },
    "slideshow": {
     "slide_type": "slide"
    }
   },
   "source": [
    "## Multiple linear regression with dummy variables (scikit-learn)\n",
    "The process for transforming categorical variables into dummy variables is a bit more convoluted with `scikit-learn`.  One way to do this transformation is to rely on pandas `get_dummies` function."
   ]
  },
  {
   "cell_type": "code",
   "execution_count": 8,
   "metadata": {},
   "outputs": [
    {
     "name": "stdout",
     "output_type": "stream",
     "text": [
      "   sepal_length  sepal_width  petal_length  species_versicolor  \\\n",
      "0           5.1          3.5           1.4                   0   \n",
      "1           4.9          3.0           1.4                   0   \n",
      "2           4.7          3.2           1.3                   0   \n",
      "3           4.6          3.1           1.5                   0   \n",
      "4           5.0          3.6           1.4                   0   \n",
      "\n",
      "   species_virginica  \n",
      "0                  0  \n",
      "1                  0  \n",
      "2                  0  \n",
      "3                  0  \n",
      "4                  0  \n"
     ]
    }
   ],
   "source": [
    "# Find dummy variables within iris_df predictor variables\n",
    "# Note that only two of the three species categories are encoded\n",
    "iris_dummy_df = pd.get_dummies(\n",
    "    iris_df[['sepal_length', 'sepal_width', 'petal_length', 'species']],\n",
    "    drop_first=True\n",
    ")\n",
    "print(iris_dummy_df.head())"
   ]
  },
  {
   "cell_type": "markdown",
   "metadata": {
    "deletable": false,
    "editable": false,
    "run_control": {
     "frozen": true
    },
    "slideshow": {
     "slide_type": "slide"
    }
   },
   "source": [
    "Once we have the dummy variables in a new DataFrame, we can run the regression"
   ]
  },
  {
   "cell_type": "code",
   "execution_count": 9,
   "metadata": {},
   "outputs": [
    {
     "name": "stdout",
     "output_type": "stream",
     "text": [
      "[-0.09475934  0.24967968  0.2409481   0.65822773  1.05777122] -0.4877879450109994\n"
     ]
    }
   ],
   "source": [
    "lr = linear_model.LinearRegression()\n",
    "predicted = lr.fit(X=iris_dummy_df, y=iris_df['petal_width'])\n",
    "print(predicted.coef_, predicted.intercept_)"
   ]
  },
  {
   "cell_type": "markdown",
   "metadata": {
    "deletable": false,
    "editable": false,
    "run_control": {
     "frozen": true
    },
    "slideshow": {
     "slide_type": "slide"
    }
   },
   "source": [
    "Again, the output from `scikit-learn` isn't easily digestable, so we can attach names to coefficients for nicer formatting."
   ]
  },
  {
   "cell_type": "code",
   "execution_count": 10,
   "metadata": {},
   "outputs": [
    {
     "name": "stdout",
     "output_type": "stream",
     "text": [
      "                        coef\n",
      "intercept          -0.487788\n",
      "sepal_length       -0.094759\n",
      "sepal_width         0.249680\n",
      "petal_length        0.240948\n",
      "species_versicolor  0.658228\n",
      "species_virginica   1.057771\n"
     ]
    }
   ],
   "source": [
    "# Stack the intercept and coefficients into a numpy array\n",
    "values = np.append(predicted.intercept_, predicted.coef_)\n",
    "\n",
    "# Do the same with column names - getting them from pandas\n",
    "names = np.append('intercept', iris_dummy_df.columns)\n",
    "\n",
    "# Stitch them together into a pandas DataFrame\n",
    "results = pd.DataFrame(values, index = names, columns=['coef'])\n",
    "print(results)"
   ]
  },
  {
   "cell_type": "markdown",
   "metadata": {
    "deletable": false,
    "editable": false,
    "run_control": {
     "frozen": true
    },
    "slideshow": {
     "slide_type": "slide"
    }
   },
   "source": [
    "## Machine-learning algorithms in `scikit-learn`\n",
    "There are many algorithms in `scikit-learn` for classification, regression, and clustering.  Here we focus on a Random Forest classifier to predict iris species from the continuous variables in the dataset.\n",
    "\n",
    "Import the class from scikit-learn:"
   ]
  },
  {
   "cell_type": "code",
   "execution_count": 11,
   "metadata": {},
   "outputs": [],
   "source": [
    "from sklearn.ensemble import RandomForestClassifier"
   ]
  },
  {
   "cell_type": "markdown",
   "metadata": {
    "deletable": false,
    "editable": false,
    "run_control": {
     "frozen": true
    }
   },
   "source": [
    "Set the X columns (continuous variables), Y column (species) and assert similar number of rows"
   ]
  },
  {
   "cell_type": "code",
   "execution_count": 12,
   "metadata": {},
   "outputs": [
    {
     "name": "stdout",
     "output_type": "stream",
     "text": [
      "(150, 4) (150,)\n"
     ]
    }
   ],
   "source": [
    "x_vars = ['sepal_width', 'sepal_length', 'petal_width', 'petal_length']\n",
    "X = np.array(iris_df[x_vars])\n",
    "Y = np.array(iris_df['species'])\n",
    "print(X.shape, Y.shape)"
   ]
  },
  {
   "cell_type": "markdown",
   "metadata": {
    "deletable": false,
    "editable": false,
    "run_control": {
     "frozen": true
    },
    "slideshow": {
     "slide_type": "slide"
    }
   },
   "source": [
    "Now we set up the random forest classifier using 500 trees and have the model calculate an out-of-bag score"
   ]
  },
  {
   "cell_type": "code",
   "execution_count": 13,
   "metadata": {},
   "outputs": [
    {
     "name": "stdout",
     "output_type": "stream",
     "text": [
      "Training set accuracy:\n",
      "1.0\n",
      "--------------------------------------------------\n",
      "Out-of-bag set accuracy\n",
      "0.9533333333333334\n"
     ]
    }
   ],
   "source": [
    "clf_rf = RandomForestClassifier(n_estimators=500, n_jobs=1, oob_score=True)\n",
    "clf_rf_fit = clf_rf.fit(X, Y)\n",
    "print('Training set accuracy:')\n",
    "print(clf_rf.score(X, Y))\n",
    "print('-' * 50)\n",
    "print('Out-of-bag set accuracy')\n",
    "print(clf_rf_fit.oob_score_)"
   ]
  },
  {
   "cell_type": "markdown",
   "metadata": {
    "deletable": false,
    "editable": false,
    "run_control": {
     "frozen": true
    },
    "slideshow": {
     "slide_type": "slide"
    }
   },
   "source": [
    "## Cross-validation support (train-test split)\n",
    "`scikit-learn` has extensive cross-validation support to avoid overfitting models.  One way to do this is to initially split data into training and test datasets using the `train_test_split` functionality.  A certain proportion of the data can be held out for final testing."
   ]
  },
  {
   "cell_type": "code",
   "execution_count": 14,
   "metadata": {},
   "outputs": [
    {
     "data": {
      "text/plain": [
       "((150, 4), (150,))"
      ]
     },
     "execution_count": 14,
     "metadata": {},
     "output_type": "execute_result"
    }
   ],
   "source": [
    "import numpy as np\n",
    "from sklearn.model_selection import train_test_split\n",
    "from sklearn import datasets\n",
    "from sklearn import svm\n",
    "\n",
    "# Load iris data\n",
    "iris = datasets.load_iris()\n",
    "\n",
    "# Show the sizes of the X and y arrays\n",
    "iris.data.shape, iris.target.shape"
   ]
  },
  {
   "cell_type": "code",
   "execution_count": 17,
   "metadata": {
    "slideshow": {
     "slide_type": "-"
    }
   },
   "outputs": [
    {
     "name": "stdout",
     "output_type": "stream",
     "text": [
      "(90, 4) (90,)\n",
      "(60, 4) (60,)\n",
      "Training set accuracy: 1.0\n",
      "Testing set accuracy: 0.9333333333333333\n"
     ]
    }
   ],
   "source": [
    "# Create training and testing datasets using 40% of the\n",
    "# data for testing\n",
    "X_train, X_test, y_train, y_test = train_test_split(\n",
    "    iris.data, iris.target, test_size=0.4, random_state=0)\n",
    "\n",
    "# Show the sizes of these arrays\n",
    "print(X_train.shape, y_train.shape)\n",
    "print(X_test.shape, y_test.shape)\n",
    "\n",
    "# Fit a random forest classifier using the training data\n",
    "rf = RandomForestClassifier(n_estimators=500).fit(X_train, y_train)\n",
    "\n",
    "# Show the accuracy score associated with the training data\n",
    "print('Training set accuracy:', rf.score(X_train, y_train))\n",
    "\n",
    "# Show the accuracy score associated with the completely held-out data\n",
    "print('Testing set accuracy:', rf.score(X_test, y_test))"
   ]
  },
  {
   "cell_type": "markdown",
   "metadata": {
    "deletable": false,
    "editable": false,
    "run_control": {
     "frozen": true
    },
    "slideshow": {
     "slide_type": "slide"
    }
   },
   "source": [
    "## Cross-validation support (cont.)"
   ]
  },
  {
   "cell_type": "markdown",
   "metadata": {
    "deletable": false,
    "editable": false,
    "run_control": {
     "frozen": true
    }
   },
   "source": [
    "One more twist on this is that you can also do cross-validation using the training data set (e.g. k-fold cross validation).  In this mode, each training plot is used in both training and testing.  The function `cross_val_score` wraps around the classification object and creates all the folds for you.  For example:"
   ]
  },
  {
   "cell_type": "code",
   "execution_count": 16,
   "metadata": {},
   "outputs": [
    {
     "name": "stdout",
     "output_type": "stream",
     "text": [
      "Training set accuracy: 1.0\n",
      "Cross-validation scores: [1.         1.         0.94444444 0.88888889 0.9375    ]\n",
      "Testing set accuracy: 0.9333333333333333\n"
     ]
    }
   ],
   "source": [
    "from sklearn.model_selection import cross_val_score\n",
    "rf = RandomForestClassifier(n_estimators=500)\n",
    "\n",
    "# Fit the model with *all* training data\n",
    "train_fit = rf.fit(X_train, y_train)\n",
    "print('Training set accuracy:', train_fit.score(X_train, y_train))\n",
    "\n",
    "# Run 5-fold cross-validation with the training data\n",
    "scores = cross_val_score(rf, X_train, y_train, cv=5)\n",
    "print('Cross-validation scores:', scores)\n",
    "\n",
    "# Finally, show accuracy of held-out data\n",
    "print('Testing set accuracy:', train_fit.score(X_test, y_test))"
   ]
  },
  {
   "cell_type": "markdown",
   "metadata": {
    "deletable": false,
    "editable": false,
    "run_control": {
     "frozen": true
    },
    "slideshow": {
     "slide_type": "slide"
    }
   },
   "source": [
    "## Exercises"
   ]
  },
  {
   "cell_type": "markdown",
   "metadata": {
    "deletable": false,
    "editable": false,
    "run_control": {
     "frozen": true
    }
   },
   "source": [
    "### Exercise 1: Use statsmodels for regression"
   ]
  },
  {
   "cell_type": "markdown",
   "metadata": {
    "deletable": false,
    "editable": false,
    "run_control": {
     "frozen": true
    }
   },
   "source": [
    "I've downloaded (and slightly cleaned) a dataset on 1970's automobile miles-per-gallon.  (Data downloaded from http://archive.ics.uci.edu/ml/datasets/Auto+MPG).  We'll practice using `statsmodels` regression tools to create three different regressions:\n",
    "* simple linear regression \n",
    "* multiple linear regression\n",
    "* multiple linear regression with dummy variables\n",
    "\n",
    "First, bring in the dataset called `auto_mpg.csv` using pandas and name your DataFrame `auto_mpg_df`.  Use the `pandas.Dataframe.info` method to see a description of these data."
   ]
  },
  {
   "cell_type": "code",
   "execution_count": null,
   "metadata": {
    "solution2": "hidden",
    "solution2_first": true
   },
   "outputs": [],
   "source": []
  },
  {
   "cell_type": "code",
   "execution_count": 41,
   "metadata": {
    "solution2": "hidden"
   },
   "outputs": [
    {
     "name": "stdout",
     "output_type": "stream",
     "text": [
      "<class 'pandas.core.frame.DataFrame'>\n",
      "RangeIndex: 392 entries, 0 to 391\n",
      "Data columns (total 8 columns):\n",
      "mpg             392 non-null float64\n",
      "cylinders       392 non-null int64\n",
      "displacement    392 non-null float64\n",
      "horsepower      392 non-null int64\n",
      "weight          392 non-null int64\n",
      "acceleration    392 non-null float64\n",
      "model_year      392 non-null int64\n",
      "origin          392 non-null int64\n",
      "dtypes: float64(3), int64(5)\n",
      "memory usage: 24.5 KB\n"
     ]
    }
   ],
   "source": [
    "auto_mpg_df = pd.read_csv('auto_mpg.csv')\n",
    "auto_mpg_df.info()"
   ]
  },
  {
   "cell_type": "markdown",
   "metadata": {
    "deletable": false,
    "editable": false,
    "run_control": {
     "frozen": true
    }
   },
   "source": [
    "Before we start our modeling, let's first look at patterns in the data for our dependent variable `mpg`.  From our pandas lesson, we used the `seaborn` graphics package to look at a pair plot of all variables against one variable.  We'll first need to import the `seaborn` package (usually aliased to `sns`) and then use its `pairplot` function.\n",
    "\n",
    "You'll need to supply three variables to the `pairplot` function:\n",
    "* a pandas DataFrame\n",
    "* a list of x variables\n",
    "* a list of y variables\n",
    "\n",
    "See if you can figure out the syntax, but look at the solution if you need help."
   ]
  },
  {
   "cell_type": "code",
   "execution_count": null,
   "metadata": {
    "solution2": "hidden",
    "solution2_first": true
   },
   "outputs": [],
   "source": []
  },
  {
   "cell_type": "code",
   "execution_count": 45,
   "metadata": {
    "solution2": "hidden"
   },
   "outputs": [
    {
     "data": {
      "image/png": "[encoded data removed]",
      "text/plain": [
       "<Figure size 1260x180 with 7 Axes>"
      ]
     },
     "metadata": {},
     "output_type": "display_data"
    }
   ],
   "source": [
    "import seaborn as sns\n",
    "\n",
    "# Get list of all variables excluding the mpg column\n",
    "x_vars = list(auto_mpg_df.columns)\n",
    "x_vars.remove('mpg')\n",
    "\n",
    "# Draw the pairplot of mpg against all x variables\n",
    "g = sns.pairplot(auto_mpg_df,\n",
    "    x_vars=x_vars,\n",
    "    y_vars=['mpg'],\n",
    "    kind='scatter'\n",
    ")"
   ]
  },
  {
   "cell_type": "markdown",
   "metadata": {
    "deletable": false,
    "editable": false,
    "run_control": {
     "frozen": true
    }
   },
   "source": [
    "We can see there is an inverse relationship of `mpg` with `displacement`, `horsepower` and `weight` and slight positive relationships of `mpg` with `acceleration` and `model_year`.  `weight` looks like a decent variable to create a simple regression.  Create a `statsmodels` model that finds the linear relationship using `mpg` as the dependent variable and `weight` as the independent variable.  You'll need to do the following:\n",
    "* specify the formula as a string\n",
    "* call the `ols` function from `statsmodels.formula.api` (`statsmodels.formula.api` should already be aliased to `smf`).  This function takes a formula and a pandas DataFrame as arguments.  Assign this to a variable called `model`.\n",
    "* call `fit` on your created `model`.  `fit` takes no arguments.  Assign the output of this to a variable called `results`.\n",
    "* print out the `results`'s summary with the `summary` method.  `summary` takes no arguments."
   ]
  },
  {
   "cell_type": "code",
   "execution_count": null,
   "metadata": {
    "solution2": "hidden",
    "solution2_first": true
   },
   "outputs": [],
   "source": []
  },
  {
   "cell_type": "code",
   "execution_count": 50,
   "metadata": {
    "solution2": "hidden"
   },
   "outputs": [
    {
     "name": "stdout",
     "output_type": "stream",
     "text": [
      "                            OLS Regression Results                            \n",
      "==============================================================================\n",
      "Dep. Variable:                    mpg   R-squared:                       0.693\n",
      "Model:                            OLS   Adj. R-squared:                  0.692\n",
      "Method:                 Least Squares   F-statistic:                     878.8\n",
      "Date:                Sun, 08 Apr 2018   Prob (F-statistic):          6.02e-102\n",
      "Time:                        10:26:26   Log-Likelihood:                -1130.0\n",
      "No. Observations:                 392   AIC:                             2264.\n",
      "Df Residuals:                     390   BIC:                             2272.\n",
      "Df Model:                           1                                         \n",
      "Covariance Type:            nonrobust                                         \n",
      "==============================================================================\n",
      "                 coef    std err          t      P>|t|      [0.025      0.975]\n",
      "------------------------------------------------------------------------------\n",
      "Intercept     46.2165      0.799     57.867      0.000      44.646      47.787\n",
      "weight        -0.0076      0.000    -29.645      0.000      -0.008      -0.007\n",
      "==============================================================================\n",
      "Omnibus:                       41.682   Durbin-Watson:                   0.808\n",
      "Prob(Omnibus):                  0.000   Jarque-Bera (JB):               60.039\n",
      "Skew:                           0.727   Prob(JB):                     9.18e-14\n",
      "Kurtosis:                       4.251   Cond. No.                     1.13e+04\n",
      "==============================================================================\n",
      "\n",
      "Warnings:\n",
      "[1] Standard Errors assume that the covariance matrix of the errors is correctly specified.\n",
      "[2] The condition number is large, 1.13e+04. This might indicate that there are\n",
      "strong multicollinearity or other numerical problems.\n"
     ]
    }
   ],
   "source": [
    "# Specify the formula as a string\n",
    "formula = 'mpg ~ weight'\n",
    "\n",
    "# Set up the simple linear regression model\n",
    "model = smf.ols(formula=formula, data=auto_mpg_df)\n",
    "\n",
    "# Get model fit results\n",
    "results = model.fit()\n",
    "\n",
    "# Print out the results summary\n",
    "print(results.summary())"
   ]
  },
  {
   "cell_type": "markdown",
   "metadata": {
    "deletable": false,
    "editable": false,
    "run_control": {
     "frozen": true
    }
   },
   "source": [
    "We can visualize the model fit using graphics functionality in `statsmodels`.  Evaluate the below cell which gives a set of four plots.  The top-left figure shows observed and predicted `mpg` values as a function of `weight` and the top-right figure shows model residuals."
   ]
  },
  {
   "cell_type": "code",
   "execution_count": null,
   "metadata": {},
   "outputs": [],
   "source": [
    "%matplotlib inline\n",
    "\n",
    "import seaborn as sns\n",
    "import statsmodels.api as sm\n",
    "import matplotlib.pyplot as plt\n",
    "\n",
    "# use figsize to adjust size, and pass in to plot_regress_exog\n",
    "fig = plt.figure(figsize=(15,8))\n",
    "\n",
    "# pass in the results as the first parameter, then specify the \n",
    "# predictor variable we want to analyze\n",
    "fig = sm.graphics.plot_regress_exog(results, 'weight', fig=fig)"
   ]
  },
  {
   "cell_type": "markdown",
   "metadata": {
    "deletable": false,
    "editable": false,
    "run_control": {
     "frozen": true
    }
   },
   "source": [
    "Now let's move on to a multiple linear regression model using `weight` and `acceleration`.  This shouldn't be very different from the simple linear regression - you'll just need to change the formula string.  Use the same output names as you did before."
   ]
  },
  {
   "cell_type": "code",
   "execution_count": null,
   "metadata": {
    "solution2": "hidden",
    "solution2_first": true
   },
   "outputs": [],
   "source": []
  },
  {
   "cell_type": "code",
   "execution_count": 84,
   "metadata": {
    "solution2": "hidden"
   },
   "outputs": [
    {
     "name": "stdout",
     "output_type": "stream",
     "text": [
      "                            OLS Regression Results                            \n",
      "==============================================================================\n",
      "Dep. Variable:                    mpg   R-squared:                       0.700\n",
      "Model:                            OLS   Adj. R-squared:                  0.698\n",
      "Method:                 Least Squares   F-statistic:                     453.2\n",
      "Date:                Sun, 08 Apr 2018   Prob (F-statistic):          2.43e-102\n",
      "Time:                        10:58:24   Log-Likelihood:                -1125.4\n",
      "No. Observations:                 392   AIC:                             2257.\n",
      "Df Residuals:                     389   BIC:                             2269.\n",
      "Df Model:                           2                                         \n",
      "Covariance Type:            nonrobust                                         \n",
      "================================================================================\n",
      "                   coef    std err          t      P>|t|      [0.025      0.975]\n",
      "--------------------------------------------------------------------------------\n",
      "Intercept       41.0953      1.868     21.999      0.000      37.423      44.768\n",
      "weight          -0.0073      0.000    -25.966      0.000      -0.008      -0.007\n",
      "acceleration     0.2617      0.086      3.026      0.003       0.092       0.432\n",
      "==============================================================================\n",
      "Omnibus:                       31.397   Durbin-Watson:                   0.818\n",
      "Prob(Omnibus):                  0.000   Jarque-Bera (JB):               39.962\n",
      "Skew:                           0.632   Prob(JB):                     2.10e-09\n",
      "Kurtosis:                       3.922   Cond. No.                     2.67e+04\n",
      "==============================================================================\n",
      "\n",
      "Warnings:\n",
      "[1] Standard Errors assume that the covariance matrix of the errors is correctly specified.\n",
      "[2] The condition number is large, 2.67e+04. This might indicate that there are\n",
      "strong multicollinearity or other numerical problems.\n"
     ]
    }
   ],
   "source": [
    "formula = 'mpg ~ weight + acceleration'\n",
    "model = smf.ols(formula=formula, data=auto_mpg_df)\n",
    "results = model.fit()\n",
    "print(results.summary())"
   ]
  },
  {
   "cell_type": "markdown",
   "metadata": {
    "deletable": false,
    "editable": false,
    "run_control": {
     "frozen": true
    }
   },
   "source": [
    "Again, let's take a graphical look at the regression output.  This shows us results with `weight` on the X-axis.  Run the cell below and then change the variable to `acceleration` and run it again to see its output.  "
   ]
  },
  {
   "cell_type": "code",
   "execution_count": null,
   "metadata": {},
   "outputs": [],
   "source": [
    "fig = plt.figure(figsize=(15,8))\n",
    "fig = sm.graphics.plot_regress_exog(results, 'weight', fig=fig)"
   ]
  },
  {
   "cell_type": "markdown",
   "metadata": {
    "deletable": false,
    "editable": false,
    "run_control": {
     "frozen": true
    }
   },
   "source": [
    "As a last step, let's get practice using a dummy variable in model specification.  The `origin` column in the dataset is really a categorical column of the car's continent (1=North America, 2=Europe, 3=Asia).  Let's first create a new variable in our `auto_mpg_df` DataFrame called `continent`.  Evaluate the cell below which creates a new column that remaps origin codes to continents. "
   ]
  },
  {
   "cell_type": "code",
   "execution_count": 86,
   "metadata": {},
   "outputs": [],
   "source": [
    "d = {\n",
    "    1: 'North America',\n",
    "    2: 'Europe',\n",
    "    3: 'Asia'\n",
    "}\n",
    "def remap(x):\n",
    "    return d[x]\n",
    "    \n",
    "auto_mpg_df['continent'] = auto_mpg_df['origin'].apply(remap)"
   ]
  },
  {
   "cell_type": "markdown",
   "metadata": {
    "deletable": false,
    "editable": false,
    "run_control": {
     "frozen": true
    }
   },
   "source": [
    "Now we can specify the continent as an additional modeling variable.  Go ahead and specify this model and this time use names `model_dummy` and `results_dummy` to capture the model output.  Print out the summary of this model."
   ]
  },
  {
   "cell_type": "code",
   "execution_count": null,
   "metadata": {
    "solution2": "hidden",
    "solution2_first": true
   },
   "outputs": [],
   "source": []
  },
  {
   "cell_type": "code",
   "execution_count": 87,
   "metadata": {
    "solution2": "hidden"
   },
   "outputs": [
    {
     "name": "stdout",
     "output_type": "stream",
     "text": [
      "                            OLS Regression Results                            \n",
      "==============================================================================\n",
      "Dep. Variable:                    mpg   R-squared:                       0.710\n",
      "Model:                            OLS   Adj. R-squared:                  0.707\n",
      "Method:                 Least Squares   F-statistic:                     237.0\n",
      "Date:                Sun, 08 Apr 2018   Prob (F-statistic):          1.24e-102\n",
      "Time:                        10:59:40   Log-Likelihood:                -1118.5\n",
      "No. Observations:                 392   AIC:                             2247.\n",
      "Df Residuals:                     387   BIC:                             2267.\n",
      "Df Model:                           4                                         \n",
      "Covariance Type:            nonrobust                                         \n",
      "==============================================================================================\n",
      "                                 coef    std err          t      P>|t|      [0.025      0.975]\n",
      "----------------------------------------------------------------------------------------------\n",
      "Intercept                     40.6666      1.852     21.952      0.000      37.024      44.309\n",
      "continent[T.Europe]           -1.6124      0.706     -2.283      0.023      -3.001      -0.224\n",
      "continent[T.North America]    -2.4380      0.658     -3.708      0.000      -3.731      -1.145\n",
      "weight                        -0.0066      0.000    -19.699      0.000      -0.007      -0.006\n",
      "acceleration                   0.2807      0.086      3.274      0.001       0.112       0.449\n",
      "==============================================================================\n",
      "Omnibus:                       31.137   Durbin-Watson:                   0.865\n",
      "Prob(Omnibus):                  0.000   Jarque-Bera (JB):               41.219\n",
      "Skew:                           0.608   Prob(JB):                     1.12e-09\n",
      "Kurtosis:                       4.023   Cond. No.                     2.69e+04\n",
      "==============================================================================\n",
      "\n",
      "Warnings:\n",
      "[1] Standard Errors assume that the covariance matrix of the errors is correctly specified.\n",
      "[2] The condition number is large, 2.69e+04. This might indicate that there are\n",
      "strong multicollinearity or other numerical problems.\n"
     ]
    }
   ],
   "source": [
    "formula = 'mpg ~ weight + acceleration + continent'\n",
    "model_dummy = smf.ols(formula=formula, data=auto_mpg_df)\n",
    "results_dummy = model_dummy.fit()\n",
    "print(results_dummy.summary())"
   ]
  },
  {
   "cell_type": "markdown",
   "metadata": {
    "deletable": false,
    "editable": false,
    "run_control": {
     "frozen": true
    }
   },
   "source": [
    "Show the improvement in adjusted R-squared between the two multiple linear regression results (`results` vs `results_dummy`).  The attribute called `rsquared_adj` holds this information."
   ]
  },
  {
   "cell_type": "code",
   "execution_count": null,
   "metadata": {
    "solution2": "hidden",
    "solution2_first": true
   },
   "outputs": [],
   "source": []
  },
  {
   "cell_type": "code",
   "execution_count": 96,
   "metadata": {
    "solution2": "hidden"
   },
   "outputs": [
    {
     "name": "stdout",
     "output_type": "stream",
     "text": [
      "R-square improvement: 0.008921184952909056\n"
     ]
    }
   ],
   "source": [
    "# Difference in adj. R-squared between model with continents\n",
    "# and base MLR model\n",
    "improvement = results_dummy.rsquared_adj - results.rsquared_adj\n",
    "\n",
    "print('R-square improvement:', improvement)"
   ]
  },
  {
   "cell_type": "markdown",
   "metadata": {
    "deletable": false,
    "editable": false,
    "run_control": {
     "frozen": true
    }
   },
   "source": [
    "Clearly, there was not much improvement by adding in `continent` as a predictor variable."
   ]
  },
  {
   "cell_type": "markdown",
   "metadata": {
    "deletable": false,
    "editable": false,
    "run_control": {
     "frozen": true
    }
   },
   "source": [
    "### Exercise 2: Create a random forest model to predict forest series from spatial variables\n",
    "We're going to work with forest inventory data for this next exercise.  The USFS Region 6 Ecology Team collects \"ecoplot\" data across Washington and Oregon which characterize species by percent cover.  From here, ecologists have characterized each plot into a forest series call.\n",
    "\n",
    "At each plot location, we've extracted a number of environmental variables that could be used to predictively map forest series.  Our dependent variable will be forest series and we will use 10 environmental variables as our independent set.  We will run a simple random forest model with 500 trees and assess our accuracy for cross-validated training data and a 20% set of testing data.\n",
    "\n",
    "First, read the ecoplot data (`'ecoplots.csv'`) into a pandas DataFrame called `ecoplots_df`.  Use the `pandas.Dataframe.info` method to see a description of these data."
   ]
  },
  {
   "cell_type": "code",
   "execution_count": null,
   "metadata": {
    "solution2": "hidden",
    "solution2_first": true
   },
   "outputs": [],
   "source": []
  },
  {
   "cell_type": "code",
   "execution_count": 30,
   "metadata": {
    "solution2": "hidden"
   },
   "outputs": [
    {
     "name": "stdout",
     "output_type": "stream",
     "text": [
      "<class 'pandas.core.frame.DataFrame'>\n",
      "RangeIndex: 1486 entries, 0 to 1485\n",
      "Data columns (total 14 columns):\n",
      "FCID      1486 non-null int64\n",
      "LON       1486 non-null float64\n",
      "LAT       1486 non-null float64\n",
      "B3        1486 non-null float64\n",
      "B4        1486 non-null float64\n",
      "B5        1486 non-null float64\n",
      "ASPTR     1486 non-null float64\n",
      "DEM       1486 non-null float64\n",
      "TPI450    1486 non-null float64\n",
      "ANNPRE    1486 non-null float64\n",
      "SLPPCT    1486 non-null float64\n",
      "SMRTMP    1486 non-null float64\n",
      "SMRVP     1486 non-null float64\n",
      "SERIES    1486 non-null int64\n",
      "dtypes: float64(12), int64(2)\n",
      "memory usage: 162.6 KB\n",
      "None\n"
     ]
    }
   ],
   "source": [
    "# Read in the ecoplot data\n",
    "ecoplots_df = pd.read_csv('ecoplots.csv')\n",
    "\n",
    "# Print out column information and record lengths\n",
    "print(ecoplots_df.info())"
   ]
  },
  {
   "cell_type": "markdown",
   "metadata": {
    "deletable": false,
    "editable": false,
    "run_control": {
     "frozen": true
    }
   },
   "source": [
    "I've set the x variables that we'll use below.  Because we're using `scikit-learn (sklearn)`, we'll need to convert our data into numpy arrays.  Make sure you understand what's happening here.  For `X`, we're first extracting multiple columns from our DataFrame and then converting this into a 2-D numpy array. For `Y`, we're extracting a single column (a pandas Series) and then converting to a 1-D array.  You can see this with the shape (or dimensions) of the array."
   ]
  },
  {
   "cell_type": "code",
   "execution_count": 31,
   "metadata": {},
   "outputs": [
    {
     "name": "stdout",
     "output_type": "stream",
     "text": [
      "(1486, 10) (1486,)\n"
     ]
    }
   ],
   "source": [
    "# Set which environmental variables to use as predictors - all but FCID\n",
    "x_vars = ['LON', 'LAT', 'B3', 'B4', 'B5', 'ASPTR', 'DEM', 'TPI450', 'ANNPRE', 'SLPPCT']\n",
    "\n",
    "# Convert to 2-D numpy array\n",
    "X = np.array(ecoplots_df[x_vars])\n",
    "\n",
    "# Convert to 1-D numpy array\n",
    "Y = np.array(ecoplots_df['SERIES'])\n",
    "\n",
    "# Print the shape of both arrays\n",
    "print(X.shape, Y.shape)"
   ]
  },
  {
   "cell_type": "markdown",
   "metadata": {
    "deletable": false,
    "editable": false,
    "run_control": {
     "frozen": true
    }
   },
   "source": [
    "Now we're ready to separate our data into training and testing datasets.  Refer to the overview section to get the syntax for creating these datasets.  Use a 20% holdout for `test_size` and call your output arrays `X_train`, `X_test`, `Y_train`, and `Y_test`.  In addition, print out the sizes of these arrays using the `shape` method for numpy arrays."
   ]
  },
  {
   "cell_type": "code",
   "execution_count": null,
   "metadata": {
    "solution2": "hidden",
    "solution2_first": true
   },
   "outputs": [],
   "source": []
  },
  {
   "cell_type": "code",
   "execution_count": 34,
   "metadata": {
    "solution2": "hidden"
   },
   "outputs": [
    {
     "name": "stdout",
     "output_type": "stream",
     "text": [
      "(1188, 10) (1188,)\n",
      "(298, 10) (298,)\n"
     ]
    }
   ],
   "source": [
    "# Create training and testing datasets using 20% of the\n",
    "# data for testing\n",
    "X_train, X_test, Y_train, Y_test = train_test_split(X, Y, test_size=0.2)\n",
    "\n",
    "# Show the sizes of these arrays\n",
    "print(X_train.shape, Y_train.shape)\n",
    "print(X_test.shape, Y_test.shape)"
   ]
  },
  {
   "cell_type": "markdown",
   "metadata": {
    "deletable": false,
    "editable": false,
    "run_control": {
     "frozen": true
    }
   },
   "source": [
    "At this point, we need to build our random forest model.  We just need to create the random forest object without yet fitting it with any data.  Create a `RandomForestClassifier` object using 500 trees and call it `rf`.  We don't need to calculate the oob_score."
   ]
  },
  {
   "cell_type": "code",
   "execution_count": null,
   "metadata": {
    "solution2": "hidden",
    "solution2_first": true
   },
   "outputs": [],
   "source": []
  },
  {
   "cell_type": "code",
   "execution_count": 33,
   "metadata": {
    "solution2": "hidden"
   },
   "outputs": [],
   "source": [
    "rf = RandomForestClassifier(n_estimators=500)"
   ]
  },
  {
   "cell_type": "markdown",
   "metadata": {
    "deletable": false,
    "editable": false,
    "run_control": {
     "frozen": true
    }
   },
   "source": [
    "We're now ready for creating a cross-validation on the training (`X_train`, `Y_train`) data.  Import the `cross_val_score` function from `sklearn.model_selection` module (look at overview for inspiration)."
   ]
  },
  {
   "cell_type": "code",
   "execution_count": null,
   "metadata": {
    "solution2": "hidden",
    "solution2_first": true
   },
   "outputs": [],
   "source": []
  },
  {
   "cell_type": "code",
   "execution_count": 35,
   "metadata": {
    "solution2": "hidden"
   },
   "outputs": [],
   "source": [
    "from sklearn.model_selection import cross_val_score"
   ]
  },
  {
   "cell_type": "markdown",
   "metadata": {
    "deletable": false,
    "editable": false,
    "run_control": {
     "frozen": true
    }
   },
   "source": [
    "We will run a 10-fold cross-validation of the training data.  We will collect the scores (the proportion of correctly predicted series based on observed values) from each cross-validation run.  We will use the `cross_val_score` function to peform this.  Use your methods for getting help (web, Jupyter shortcuts, etc.) to figure out how to call this function.  You will need to provide these arguments: `estimator`, `X`, `y` and `cv`.  Once you've figured this out, print out the cross validation scores.  (Note: this will take some time - 30 to 40 seconds?)"
   ]
  },
  {
   "cell_type": "code",
   "execution_count": null,
   "metadata": {
    "solution2": "hidden",
    "solution2_first": true
   },
   "outputs": [],
   "source": []
  },
  {
   "cell_type": "code",
   "execution_count": 37,
   "metadata": {
    "solution2": "hidden"
   },
   "outputs": [
    {
     "name": "stdout",
     "output_type": "stream",
     "text": [
      "Cross-validation scores: [0.728      0.832      0.80645161 0.78861789 0.84033613 0.80508475\n",
      " 0.73913043 0.79130435 0.75       0.8125    ]\n"
     ]
    }
   ],
   "source": [
    "# Run 10-fold cross-validation with the training data\n",
    "scores = cross_val_score(rf, X_train, Y_train, cv=10)\n",
    "print('Cross-validation scores:', scores)"
   ]
  },
  {
   "cell_type": "markdown",
   "metadata": {
    "deletable": false,
    "editable": false,
    "run_control": {
     "frozen": true
    }
   },
   "source": [
    "Now you have some idea how well the model is performing with the cross-validation.  Let's see if these results hold with the testing (`X_test`, `Y_test`) data.  You'll first need to fit the model using *all* training data using the `rf` object's `fit` method and then get the score of the testing data using the `rf` object's `score` method.  Print out the testing set score."
   ]
  },
  {
   "cell_type": "code",
   "execution_count": 38,
   "metadata": {},
   "outputs": [
    {
     "name": "stdout",
     "output_type": "stream",
     "text": [
      "Testing set accuracy: 0.8489932885906041\n"
     ]
    }
   ],
   "source": [
    "# Fit the random forest classifier using all training data\n",
    "rf.fit(X_train, Y_train)\n",
    "\n",
    "# Show the accuracy score associated with the completely held-out data\n",
    "print('Testing set accuracy:', rf.score(X_test, Y_test))"
   ]
  },
  {
   "cell_type": "markdown",
   "metadata": {
    "deletable": false,
    "editable": false,
    "run_control": {
     "frozen": true
    }
   },
   "source": [
    "One last step - because we're predicting a single categorical (class) variable, we can use a confusion matrix to see the distribution of observed and predicted `SERIES` calls.  Import `confusion_matrix` from `sklearn.metrics` and use this function to show the confusion matrix for the testing data.  The function takes two required parameters, `y_true` and `y_pred`.  `y_true` will come directly from `Y_test`.  See if you can figure out how to get the `y_pred` values.  **Hint**: you'll need to use the `rf` object's `predict` method.\n",
    "\n",
    "The rows here are observed classes and the columns are predicted classes."
   ]
  },
  {
   "cell_type": "code",
   "execution_count": null,
   "metadata": {
    "solution2": "hidden",
    "solution2_first": true
   },
   "outputs": [],
   "source": []
  },
  {
   "cell_type": "code",
   "execution_count": 39,
   "metadata": {
    "solution2": "hidden"
   },
   "outputs": [
    {
     "name": "stdout",
     "output_type": "stream",
     "text": [
      "[[ 6  0  0  3  1  0  0  0  0  0  0  0  0  0  0  0]\n",
      " [ 0 19  1  0  2  0  0  0  0  0  0  0  0  0  0  0]\n",
      " [ 0  0 17  0  0  0  0  0  0  0  0  0  0  0  0  0]\n",
      " [ 2  1  0 11  0  0  0  0  0  0  0  0  0  0  0  0]\n",
      " [ 0  1  0  0 21  0  0  0  0  0  0  0  0  0  0  0]\n",
      " [ 0  0  0  0  0  8  0  0  0  0  0  2  0  0  0  0]\n",
      " [ 0  0  0  0  0  0 24  0  0  0  0  0  0  0  0  0]\n",
      " [ 0  0  0  0  0  0  0 14  0  2  0  0  0  0  0  0]\n",
      " [ 0  0  0  0  0  0  0  0 16  0  0  0  0  0  0  0]\n",
      " [ 0  0  0  0  0  0  0  1  0 11  2  0  0  0  1  0]\n",
      " [ 0  0  0  0  0  0  0  5  0  3 10  0  0  0  4  0]\n",
      " [ 0  0  0  0  0  0  0  0  1  0  0 25  0  0  0  0]\n",
      " [ 0  0  0  0  0  0  0  0  0  0  0  0 19  7  0  0]\n",
      " [ 0  0  0  0  0  0  0  0  0  0  0  0  4 16  0  0]\n",
      " [ 0  0  0  0  0  0  0  0  0  2  0  0  0  0 16  0]\n",
      " [ 0  0  0  0  0  0  0  0  0  0  0  0  0  0  0 20]]\n"
     ]
    }
   ],
   "source": [
    "# Import the confusion_matrix function\n",
    "from sklearn.metrics import confusion_matrix\n",
    "\n",
    "# Observed values come directly from the Y_test array\n",
    "y_true = Y_test\n",
    "\n",
    "# Predicted values come from using model predictions using the X_test array\n",
    "y_pred = rf.predict(X_test)\n",
    "\n",
    "# Print the confusion matrix\n",
    "print(confusion_matrix(y_true, y_pred))"
   ]
  }
 ],
 "metadata": {
  "kernelspec": {
   "display_name": "Python 2",
   "language": "python",
   "name": "python2"
  },
  "language_info": {
   "codemirror_mode": {
    "name": "ipython",
    "version": 2
   },
   "file_extension": ".py",
   "mimetype": "text/x-python",
   "name": "python",
   "nbconvert_exporter": "python",
   "pygments_lexer": "ipython2",
   "version": "2.7.13"
  },
  "livereveal": {
   "scroll": true,
   "transition": "fade"
  }
 },
 "nbformat": 4,
 "nbformat_minor": 2
}
