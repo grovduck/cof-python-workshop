{
 "cells": [
  {
   "cell_type": "markdown",
   "metadata": {
    "slideshow": {
     "slide_type": "slide"
    }
   },
   "source": [
    "## Setup for lab exercises"
   ]
  },
  {
   "cell_type": "markdown",
   "metadata": {},
   "source": [
    "You will need to install a few Python packages, set some environmental variables, and copy the workshop materials locally to your users drive.  There is a setup script to handle all of this at:\n",
    "\n",
    "> `T:\\Workshops\\Python Programming workshop\\lab_setup.bat`\n",
    "  \n",
    "Use \"File Explorer\" on your desktop to navigate to this directory and then double-click the `lab_setup.bat` icon.  This will run for about a minute or so and once it's finished, you should have a Google Chrome window opened to the Jupyter home screen (somewhat similar to this):"
   ]
  },
  {
   "cell_type": "markdown",
   "metadata": {},
   "source": [
    "![](./jupyter-home.png \"Jupyter Home Screen\")"
   ]
  },
  {
   "cell_type": "markdown",
   "metadata": {},
   "source": [
    "Once you have this, click on `1-data-ingestion` and then again on `1-data-ingestion.ipynb`.  This will bring up the first notebook.\n",
    "\n",
    "If you have any issues getting to this point, flag me down."
   ]
  }
 ],
 "metadata": {
  "celltoolbar": "Slideshow",
  "kernelspec": {
   "display_name": "Python 2",
   "language": "python",
   "name": "python2"
  },
  "language_info": {
   "codemirror_mode": {
    "name": "ipython",
    "version": 2
   },
   "file_extension": ".py",
   "mimetype": "text/x-python",
   "name": "python",
   "nbconvert_exporter": "python",
   "pygments_lexer": "ipython2",
   "version": "2.7.13"
  },
  "livereveal": {
   "scroll": true,
   "transition": "fade"
  }
 },
 "nbformat": 4,
 "nbformat_minor": 2
}
