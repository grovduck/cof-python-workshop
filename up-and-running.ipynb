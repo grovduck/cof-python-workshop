{
 "cells": [
  {
   "cell_type": "code",
   "execution_count": 8,
   "metadata": {},
   "outputs": [
    {
     "data": {
      "text/html": [
       "<style>\n",
       "  img {margin-left: 0 !important;}\n",
       "  table {margin-left: 0 !important;}\n",
       "  .rendered_html th, .rendered_html td {\n",
       "    text-align: left;\n",
       "  }\n",
       "</style>"
      ],
      "text/plain": [
       "<IPython.core.display.HTML object>"
      ]
     },
     "metadata": {},
     "output_type": "display_data"
    }
   ],
   "source": [
    "%%html\n",
    "<style>\n",
    "  img {margin-left: 0 !important;}\n",
    "  table {margin-left: 0 !important;}\n",
    "  .rendered_html th, .rendered_html td {\n",
    "    text-align: left;\n",
    "  }\n",
    "</style>"
   ]
  },
  {
   "cell_type": "markdown",
   "metadata": {},
   "source": [
    "* Comments, variables in Python\n",
    "* Allocation of time (25 minutes)\n",
    "    * Numbers (4 minutes)\n",
    "    * Strings (3 minutes)\n",
    "    * Lists (5 minutes)\n",
    "    * Tuples (3 minutes)\n",
    "    * Sets (3 minutes)\n",
    "    * Dictionaries (5 minutes)\n",
    "    * Functions (10 minutes)"
   ]
  },
  {
   "cell_type": "markdown",
   "metadata": {},
   "source": [
    "# Pre-workshop training"
   ]
  },
  {
   "cell_type": "markdown",
   "metadata": {},
   "source": [
    "This is an introduction to Python types and functions in advance of the CoF Python workshop.  As we'll mostly be looking at applications of Python within the workshop, this session should serve as an introduction to the Python language and give users familiarity with the syntax they will see during the workshop.\n",
    "\n",
    "As you work through these pages, there will be small exercises at the bottom of each section that will get you used to working with a Jupyter notebook (the main interface we'll be using in the workshop).  Please experiment as much as you'd like to get used to the language and email Matt Gregory (matt.gregory@oregonstate.edu) with any questions."
   ]
  },
  {
   "cell_type": "markdown",
   "metadata": {},
   "source": [
    "## Jupyter notebooks"
   ]
  },
  {
   "cell_type": "markdown",
   "metadata": {},
   "source": [
    "Jupyter notebooks are a convenient way of interacting directly with the Python interpreter.  Notebooks are divided into cells that can contain code, output from the interpreter, or documentation (like this one).  Code cells have \"In [*n*]\" in the left margin where the *n* will be a sequential number of the *n*th cell being evaluated.  Note that evaluating cells more than once will increment the value of *n*.\n",
    "\n",
    "In order to evaluate a cell's contents (primarily with cells that contain Python code), you type **Shift+Enter** at the same time.  Hitting **Enter** on its own will take you to a new line within the same cell.  First, try an example.  In the blank cell below, first place your cursor in the cell, and type the following:\n",
    "```python\n",
    "print('Hello, world!')\n",
    "```\n",
    "then type **Shift+Enter**"
   ]
  },
  {
   "cell_type": "code",
   "execution_count": null,
   "metadata": {},
   "outputs": [],
   "source": []
  },
  {
   "cell_type": "markdown",
   "metadata": {},
   "source": [
    "If everything went OK, you should see this (although the number with the In[*n*] will likely be different):\n",
    "![](./images/hello_world.png \"Title\")\n",
    "\n",
    "\n",
    "Now try to enter multiple lines into the following blank cell, hitting **Enter** to advance to the next line and **Shift-Enter** to evaluate the cell.\n",
    "```python\n",
    "a = 3\n",
    "b = 4\n",
    "print(a + b)\n",
    "```"
   ]
  },
  {
   "cell_type": "code",
   "execution_count": null,
   "metadata": {},
   "outputs": [],
   "source": []
  },
  {
   "cell_type": "markdown",
   "metadata": {},
   "source": [
    "Did you get this?![](./images/hello_multiline.png \"Multi-line\")\n",
    "If so, you're all set for working through these examples.  You can move through the cells (either code or documentation) without \"evaluating\" them by pressing the up-arrow and down-arrow keys.  You can also insert cells by hitting the 'plus' icon in the toolbar at the top or by using the menu **Insert -> Insert Cell Above** or **Insert -> Insert Cell Below**.\n",
    "\n",
    "Note that this is only the most basic introduction to Jupyter notebooks and their functionality in order to get going with this workshop.  To learn more about other features of notebooks, check out [Project Jupyter](http://jupyter.org/try)."
   ]
  },
  {
   "cell_type": "markdown",
   "metadata": {},
   "source": [
    "## Errors"
   ]
  },
  {
   "cell_type": "markdown",
   "metadata": {},
   "source": [
    "One thing you're sure to encounter when working through these examples are errors.  Sometimes these errors will look completely obtuse, but most of the time, errors give good information about what went wrong.  Take the following example:\n",
    "\n",
    "![](./images/hello_error.png \"Error 1\")\n",
    "\n",
    "If you look at the last line of the message, you'll see that this is a **Syntax Error**, with the additional message that it found an unexpected EOF (end-of-file) while parsing.  Maybe that's a bit strange of an error, but also look at the preceding line which shows a small caret ('^') symbol pointing at one character past the last quotation mark.  This gives an indication that the error is happening here.  You were probably able to figure out that we are missing our ending parenthesis.\n",
    "\n",
    "Here's another:\n",
    "\n",
    "![](./images/hello_error_2.png \"Error 2\")\n",
    "\n",
    "In this case, we have a **Type Error**.  No longer do we have a caret, but we do have an arrow on the left side pointing to the line with the error.  In this case, the error message is probably more clear - we cannot add (or concatentate) a 'str' (string) and 'int' (integer) together (don't worry if the reason *why* this doesn't work isn't yet clear).\n",
    "\n",
    "Errors can be intimidating in Python because they include the entire \"call stack\" of a program when the interpreter encountered the error.  This just means that the error may be deeply nested within a number of functions and, at each level, the program reports the line number which called the inner function.  In my experience, it's almost always useful to scroll to the bottom of the error to find the root cause of what went wrong. \n"
   ]
  },
  {
   "cell_type": "markdown",
   "metadata": {},
   "source": [
    "## Introduction to Python built-in data types \n",
    "This is a broad overview of Python data types.  In following sections, we'll dive in a bit to each data type in more details, but this section exposes you to the built-in data types available in Python.  The table below gives each of these types and examples of how you would create an object of this data type.\n",
    "\n",
    "| Type | Description | Example creation of object(s) |\n",
    "| ---- | ----------- | ----------------------------- |\n",
    "| Numbers | Integer or floating-point values | 3, 1.34, 5e6 |\n",
    "| Strings | Text or character values | 'Bob', \"Susie\" |\n",
    "| Lists   | Sequence for arbitrary objects - \"mutable\" | [1, 2, 3], list((4, 5, 6)) |\n",
    "| Tuples | Sequence for arbitrary objects - \"immutable\" | (1, 2, 3), tuple((4, 5, 6)) |\n",
    "| Dictionaries | Container for key/value pairs, aka \"mappings\" | {'name': 'Bob', 'age': 32, 'height': 71}, dict(name='Sue', age=27, height=65) |\n",
    "| Sets | Collections of unique and immutable objects | {1, 2, 3}, set((1, 2, 3)) |\n",
    "| Files | Objects to represent connections to external files | open('foo.txt', 'r') |\n",
    "\n",
    "In the cell below, try to create any of the above objects and then check their type using the **type** function, e.g.\n",
    "```python\n",
    "a = 'Bob'\n",
    "type(a)\n",
    "```"
   ]
  },
  {
   "cell_type": "code",
   "execution_count": 19,
   "metadata": {},
   "outputs": [
    {
     "data": {
      "text/plain": [
       "set"
      ]
     },
     "execution_count": 19,
     "metadata": {},
     "output_type": "execute_result"
    }
   ],
   "source": [
    "a = {1,2,3}\n",
    "type(a)"
   ]
  },
  {
   "cell_type": "markdown",
   "metadata": {},
   "source": [
    "## Numbers (integers and floating-point)\n",
    "\n",
    "\n",
    "### Simple math\n",
    "```python\n",
    "# Addition\n",
    ">>> 5 + 3\n",
    "8\n",
    "\n",
    "# Subtraction\n",
    ">>> 5 - 3\n",
    "2\n",
    "\n",
    "# Multiplication\n",
    ">>> 5 * 3\n",
    "15\n",
    "\n",
    "# Integer division (Python 2.x)\n",
    ">>> 5 / 3 \n",
    "1\n",
    "\n",
    "# Floating-point division\n",
    ">>> 5.0 / 3 \n",
    "1.6666666666666667\n",
    "\n",
    "# Modulus (remainder)\n",
    ">>> 5 % 3 \n",
    "2\n",
    "\n",
    "# Exponentiation\n",
    ">>> 5 ** 3 \n",
    "125\n",
    "\n",
    "# Order of operations matters (PEMDAS rules apply)\n",
    ">>> 5 + 2 * 3\n",
    "11\n",
    ">>> (5 + 2) * 3\n",
    "21\n",
    "```"
   ]
  },
  {
   "cell_type": "markdown",
   "metadata": {},
   "source": [
    "## Variables\n",
    "\n",
    "Variables in Python are used everywhere.  You have likely seen them in any other programming language you may have used.  Think of them as \"names\" that refer to things.  So, when we do this,\n",
    "```python\n",
    ">>> a = 3\n",
    "```\n",
    "we are using the **name** \"a\" to refer to an **object** that represents the numeric **value** 3.  When we subsequently use \"a\" again like this,\n",
    "```python\n",
    ">>> a = 'Bob'\n",
    "```\n",
    "we have now reassigned the name \"a\" to a new object that represents the string value \"Bob\".  Variables spring into existence when named and, unlike some programming languages, do not need to be given type information before being used.\n",
    "\n",
    "Variables can also be used to hold results of simple expressions, e.g.\n",
    "```python\n",
    ">>> a = 1 + 2\n",
    ">>> a\n",
    "3\n",
    "```\n",
    "or even to hold the results of expressions that include other variables\n",
    "```python\n",
    ">>> a = 1 + 2\n",
    ">>> b = a + 5\n",
    ">>> b\n",
    "8\n",
    "```\n",
    "None of this is probably very surprising, but there are some unintuitive parts of assigning variables as well.  Take this example,\n",
    "```python\n",
    ">>> a = 3\n",
    ">>> b = a\n",
    ">>> a = 'Bob'\n",
    ">>> b\n",
    "3\n",
    "```\n",
    "So far, so good.  We reassigned the variable *a* to a new object (with value of 'Bob'), but the variable *b* still points to the original object (with value 3).  But what happens"
   ]
  },
  {
   "cell_type": "code",
   "execution_count": 1,
   "metadata": {},
   "outputs": [
    {
     "data": {
      "text/plain": [
       "3"
      ]
     },
     "execution_count": 1,
     "metadata": {},
     "output_type": "execute_result"
    }
   ],
   "source": [
    "a = 3\n",
    "b = a\n",
    "a = 'Bob'\n",
    "b"
   ]
  },
  {
   "cell_type": "code",
   "execution_count": null,
   "metadata": {},
   "outputs": [],
   "source": []
  },
  {
   "cell_type": "code",
   "execution_count": 23,
   "metadata": {},
   "outputs": [
    {
     "data": {
      "text/plain": [
       "21"
      ]
     },
     "execution_count": 23,
     "metadata": {},
     "output_type": "execute_result"
    }
   ],
   "source": [
    "(5 + 2) * 3"
   ]
  },
  {
   "cell_type": "markdown",
   "metadata": {},
   "source": [
    "## Lists\n",
    "### Creating lists\n",
    "```python\n",
    "# Create a list with three integer elements\n",
    "l = [1, 2, 3]\n",
    "\n",
    "# Create an empty list and append three numbers to it\n",
    "l = []\n",
    "l.append(1)\n",
    "l.append(2)\n",
    "l.append(3)\n",
    "\n",
    "# Lists don't need to be of the same data type\n",
    "l = [1, 0.342, 'Dog']\n",
    "\n",
    "# Lists can even have inner lists\n",
    "l = [[1, 2, 3], [4, 5, 6], [7, 8, 9]]\n",
    "```"
   ]
  },
  {
   "cell_type": "code",
   "execution_count": 16,
   "metadata": {},
   "outputs": [
    {
     "data": {
      "text/plain": [
       "{1, 2, 3, 4}"
      ]
     },
     "execution_count": 16,
     "metadata": {},
     "output_type": "execute_result"
    }
   ],
   "source": [
    "{1,2,3,4}"
   ]
  },
  {
   "cell_type": "code",
   "execution_count": 17,
   "metadata": {},
   "outputs": [
    {
     "data": {
      "text/plain": [
       "set"
      ]
     },
     "execution_count": 17,
     "metadata": {},
     "output_type": "execute_result"
    }
   ],
   "source": [
    "type({1,2})"
   ]
  },
  {
   "cell_type": "code",
   "execution_count": null,
   "metadata": {},
   "outputs": [],
   "source": []
  }
 ],
 "metadata": {
  "kernelspec": {
   "display_name": "Python 2",
   "language": "python",
   "name": "python2"
  },
  "language_info": {
   "codemirror_mode": {
    "name": "ipython",
    "version": 2
   },
   "file_extension": ".py",
   "mimetype": "text/x-python",
   "name": "python",
   "nbconvert_exporter": "python",
   "pygments_lexer": "ipython2",
   "version": "2.7.13"
  }
 },
 "nbformat": 4,
 "nbformat_minor": 2
}
