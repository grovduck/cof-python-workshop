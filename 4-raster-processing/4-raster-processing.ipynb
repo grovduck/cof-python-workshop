{
 "cells": [
  {
   "cell_type": "code",
   "execution_count": 3,
   "metadata": {
    "slideshow": {
     "slide_type": "skip"
    }
   },
   "outputs": [],
   "source": [
    "%matplotlib inline\n",
    "from __future__ import print_function\n",
    "import matplotlib.pyplot as plt\n",
    "from matplotlib import cm\n",
    "import numpy as np\n",
    "\n",
    "SAMPLE_IMAGE = './RGB.byte.jpg'"
   ]
  },
  {
   "cell_type": "markdown",
   "metadata": {
    "slideshow": {
     "slide_type": "slide"
    }
   },
   "source": [
    "# Module 4: Raster processing in Python"
   ]
  },
  {
   "cell_type": "markdown",
   "metadata": {
    "slideshow": {
     "slide_type": "slide"
    }
   },
   "source": [
    "## GIS in Python"
   ]
  },
  {
   "cell_type": "markdown",
   "metadata": {},
   "source": [
    "There has been a lot of growth in Python packages recently associated with spatial analysis\n",
    "* Traditional GIS vendors like esri, QGIS have created APIs to expose functionality:\n",
    "  * esri (`arcpy`)\n",
    "  * QGIS (`pyqgis`)\n",
    "* New geospatial companies are porting workflows to Python:\n",
    "  * Mapbox (`rasterio`)\n",
    "  * Stamen Design (`tilestache`)\n",
    "  * DigitalGlobe \n",
    "* Google Earth Engine has Python API for massive cloud-based raster processing\n",
    "  * `earthengine-api`"
   ]
  },
  {
   "cell_type": "markdown",
   "metadata": {},
   "source": [
    "## Vector packages\n",
    "While we won't focus on vector-based analysis in this module, there are a number of great packages for vector-based processing\n",
    "* `ogr` within `osgeo`\n",
    "* `fiona`\n",
    "* `shapely`\n",
    "* `geopandas`\n",
    "* `arcpy`"
   ]
  },
  {
   "cell_type": "markdown",
   "metadata": {},
   "source": [
    "## Raster packages in this module: `arcpy` and `rasterio`"
   ]
  },
  {
   "cell_type": "markdown",
   "metadata": {},
   "source": [
    "We'll be looking at two different Python raster packages for this module:\n",
    "* `arcpy`: Python API for ArcGIS (closed-source)\n",
    "* `rasterio`: A 'pythonic' port of GDAL functionality (open-source)\n",
    "\n",
    "My advice for usage:\n",
    "* If you want a fully-functional raster analysis library with low barrier to entry, go with `arcpy`\n",
    "* If you want full control over raster cell processing (e.g. custom modeling), go with `rasterio`"
   ]
  },
  {
   "cell_type": "markdown",
   "metadata": {},
   "source": [
    "## Foundational elements: GDAL and `numpy`\n",
    "* GDAL (C/C++): Translator library for raster and vector geospatial data formats with some utility functions\n",
    "  * used for I/O of \"serialized\" data into memory\n",
    "* numpy (Python): Fundamental package in the scientific stack of Python tools for array manipulation.\n",
    "  * used as the in-memory representation of raster data\n",
    "  \n",
    "Because this workshop is focused on \"user-facing\" packages, GDAL and numpy don't get enough credit for being the engines that drive this functionality."
   ]
  },
  {
   "cell_type": "markdown",
   "metadata": {},
   "source": [
    "## arcpy\n",
    "* Very large library of GIS functionality (vector, raster, cartography, data management, etc.)\n",
    "* Most of `arcpy` *raster* functionality within Spatial Analyst toolbox and module (`arcpy.sa`)\n",
    "* Need to \"check out\" Spatial Analyst extension before using\n",
    "* Typically need to set up a workspace before processing\n",
    "* Rasters need to be saved out using the `save` method"
   ]
  },
  {
   "cell_type": "code",
   "execution_count": 2,
   "metadata": {},
   "outputs": [],
   "source": [
    "# Typical set up for arcpy environment\n",
    "import arcpy\n",
    "from arcpy import sa\n",
    "from arcpy import env\n",
    "\n",
    "# Check out extension\n",
    "arcpy.CheckOutExtension('Spatial')\n",
    "\n",
    "# Set up workspace\n",
    "env.workspace = '.'\n",
    "\n",
    "# Set up scratch workspace\n",
    "env.scratchWorkspace = 'd:/matt'\n",
    "\n",
    "# Allow overwriting - BE CAREFUL!!!!\n",
    "env.overwriteOutput = True"
   ]
  },
  {
   "cell_type": "markdown",
   "metadata": {},
   "source": [
    "## arcpy - sample functionality "
   ]
  },
  {
   "cell_type": "markdown",
   "metadata": {},
   "source": [
    "Using the `Con` method - equivalent to `if DEM > 1000, set equal to 1, else set to 0`"
   ]
  },
  {
   "cell_type": "code",
   "execution_count": 147,
   "metadata": {},
   "outputs": [],
   "source": [
    "out = sa.Con('./dem.tif', 1, 0, 'value > 1000')\n",
    "out.save('./dem_con.tif')"
   ]
  },
  {
   "cell_type": "markdown",
   "metadata": {},
   "source": [
    "Calculating slope percent of a raster"
   ]
  },
  {
   "cell_type": "code",
   "execution_count": 148,
   "metadata": {},
   "outputs": [],
   "source": [
    "out = sa.Slope('./dem.tif')\n",
    "out.save('./slope_percent.tif')"
   ]
  },
  {
   "cell_type": "markdown",
   "metadata": {},
   "source": [
    "Combining two rasters together - each combination is a new value in the output raster"
   ]
  },
  {
   "cell_type": "code",
   "execution_count": 151,
   "metadata": {},
   "outputs": [],
   "source": [
    "out = sa.Combine(['./dem_con.tif', './slope_percent.tif'])\n",
    "out.save('./combine.tif')"
   ]
  },
  {
   "cell_type": "markdown",
   "metadata": {},
   "source": [
    "Dozens more functions exist - see http://desktop.arcgis.com/en/arcmap/10.5/tools/spatial-analyst-toolbox"
   ]
  },
  {
   "cell_type": "markdown",
   "metadata": {},
   "source": [
    "## arcpy - in-chain processing"
   ]
  },
  {
   "cell_type": "markdown",
   "metadata": {},
   "source": [
    "Instead of saving out a number of intermediate rasters, functions can be chained together to create output.  This is the same output as before, but only writing out the final raster."
   ]
  },
  {
   "cell_type": "code",
   "execution_count": 154,
   "metadata": {},
   "outputs": [],
   "source": [
    "con_raster = sa.Con('./dem.tif', 1, 0, 'value > 1000')\n",
    "slope_raster = sa.Slope('./dem.tif')\n",
    "combine_raster = sa.Combine([con_raster, slope_raster])\n",
    "combine_raster.save('./combine_2.tif')"
   ]
  },
  {
   "cell_type": "markdown",
   "metadata": {},
   "source": [
    "Or even more succinctly:"
   ]
  },
  {
   "cell_type": "code",
   "execution_count": 155,
   "metadata": {},
   "outputs": [],
   "source": [
    "sa.Combine([\n",
    "    sa.Con('./dem.tif', 1, 0, 'value > 1000'),\n",
    "    sa.Slope('./dem.tif')\n",
    "]).save('./combine_3.tif')"
   ]
  },
  {
   "cell_type": "markdown",
   "metadata": {},
   "source": [
    "## arcpy - complex raster algebra"
   ]
  },
  {
   "cell_type": "markdown",
   "metadata": {},
   "source": [
    "When we create a statement like `slope_raster = sa.Slope('./dem.tif')`, we are actually creating a temporary raster object.  We can use this to create complicated raster expressions with normal operators.  This following example creates three 5-class rasters based on natural breaks (DEM, aspect, and slope) and creates an algebraic expression so that each digit in the output raster represents a different class."
   ]
  },
  {
   "cell_type": "code",
   "execution_count": 163,
   "metadata": {},
   "outputs": [],
   "source": [
    "(\n",
    "    sa.Slice(sa.Slope('./dem.tif'), 5, 'NATURAL_BREAKS') + \n",
    "    sa.Slice(sa.Aspect('./dem.tif'), 5, 'NATURAL_BREAKS') * 10 +\n",
    "    sa.Slice('./dem.tif', 5, 'NATURAL_BREAKS') * 100\n",
    ").save('combined_topography.tif')\n"
   ]
  },
  {
   "cell_type": "markdown",
   "metadata": {},
   "source": [
    "## arcpy - working with numpy arrays\n",
    "There may be times when your spatial processing task is too complicated for existing functionality within ArcGIS.  In those cases, `arcpy` allows conversion to/from rasters to `numpy` arrays using two methods:\n",
    "* arcpy.RasterToNumPyArray\n",
    "* arcpy.NumPyArrayToRaster\n",
    "\n",
    "Here's an example to calculate the percentage contribution of each cell to the row's total, something not simple to do with ArcGIS functionality"
   ]
  },
  {
   "cell_type": "code",
   "execution_count": 17,
   "metadata": {},
   "outputs": [],
   "source": [
    "# Convert from raster to numpy array\n",
    "arr = arcpy.RasterToNumPyArray('./dem.tif')\n",
    "\n",
    "# Calculate row totals and reshape to 2-D array\n",
    "row_sums = arr.sum(axis=1).reshape((-1, 1))\n",
    "\n",
    "# Calculate cell contributions to row totals\n",
    "prop_cell = (1.0 * arr) / row_sums\n",
    "\n",
    "# Recast as raster and save\n",
    "arcpy.NumPyArrayToRaster(prop_cell).save('prop_cell.tif')"
   ]
  },
  {
   "cell_type": "markdown",
   "metadata": {},
   "source": [
    "## rasterio"
   ]
  },
  {
   "cell_type": "markdown",
   "metadata": {},
   "source": [
    "* fairly new package (2013)\n",
    "* in contrast to `arcpy`, `rasterio` more tightly couples with both GDAL and `numpy`\n",
    "* thin wrapper around the GDAL C/C++ library, mostly using its functionality for raster reading and writing\n",
    "* very much a lower-level interface to raster data - no raster analysis functions built in"
   ]
  },
  {
   "cell_type": "markdown",
   "metadata": {},
   "source": [
    "## rasterio - reading in data\n",
    "This is very similar to `arcpy.RasterToNumPyArray` functionality.  The `pixel_values` object in the code below is a `bands x rows x cols` numpy array."
   ]
  },
  {
   "cell_type": "code",
   "execution_count": 36,
   "metadata": {},
   "outputs": [
    {
     "name": "stdout",
     "output_type": "stream",
     "text": [
      "<type 'numpy.ndarray'>\n",
      "(3, 718, 791)\n"
     ]
    }
   ],
   "source": [
    "import rasterio\n",
    "src = rasterio.open(SAMPLE_IMAGE)\n",
    "pixel_values = src.read()\n",
    "print(type(pixel_values))\n",
    "print(pixel_values.shape)"
   ]
  },
  {
   "cell_type": "markdown",
   "metadata": {},
   "source": [
    "Reading in only one band of data - return value is a `rows x cols` numpy array"
   ]
  },
  {
   "cell_type": "code",
   "execution_count": 37,
   "metadata": {},
   "outputs": [
    {
     "name": "stdout",
     "output_type": "stream",
     "text": [
      "<type 'numpy.ndarray'>\n",
      "(718, 791)\n"
     ]
    }
   ],
   "source": [
    "# Warning - bands are 1-indexed, numpy arrays are 0-indexed\n",
    "pixel_values_band = src.read(1)\n",
    "print(type(pixel_values_band))\n",
    "print(pixel_values_band.shape)"
   ]
  },
  {
   "cell_type": "markdown",
   "metadata": {},
   "source": [
    "## rasterio - reading in metadata\n",
    "\n",
    "`rasterio` holds all metadata associated with a raster in the `profile` attribute.  Notice that this particular dataset has no coordinate reference system (`crs`)."
   ]
  },
  {
   "cell_type": "code",
   "execution_count": 38,
   "metadata": {},
   "outputs": [
    {
     "name": "stdout",
     "output_type": "stream",
     "text": [
      "count : 3\n",
      "crs : None\n",
      "interleave : pixel\n",
      "dtype : uint8\n",
      "photometric : ycbcr\n",
      "driver : JPEG\n",
      "transform : | 1.00, 0.00, 0.00|\n",
      "| 0.00, 1.00, 0.00|\n",
      "| 0.00, 0.00, 1.00|\n",
      "height : 718\n",
      "width : 791\n",
      "tiled : False\n",
      "nodata : None\n",
      "compress : jpeg\n",
      "--------------------------------------------------\n",
      "Rows, columns:  718 791\n"
     ]
    }
   ],
   "source": [
    "# Print out all keys/values of the profile\n",
    "for k, v in src.profile.items():\n",
    "    print(k, ':', v)\n",
    "    \n",
    "# Dimensions of data - rows x columns\n",
    "print('-' * 50)\n",
    "print('Rows, columns: ', src.height, src.width)"
   ]
  },
  {
   "cell_type": "markdown",
   "metadata": {},
   "source": [
    "## rasterio - iterating over raster \"blocks\"\n",
    "One advantage of `rasterio` (over `arcpy`) for fine control of spatial processing and memory management is the concept of raster blocks.  Instead of reading an entire raster into memory all at once, `rasterio` provides an way to \"iterate\" over all the \"blocks\" in a raster.  Blocks are sections in a raster that are contiguous in a file system, so reading data naturally by blocks avoids unnecessary scans on a file.  It also allows for parallel processing of different raster blocks."
   ]
  },
  {
   "cell_type": "code",
   "execution_count": 39,
   "metadata": {},
   "outputs": [
    {
     "name": "stdout",
     "output_type": "stream",
     "text": [
      "(0, 0) [0 0 0 0]\n",
      "(1, 0) [0 0 0 0]\n",
      "(2, 0) [0 0 0 0]\n",
      "(3, 0) [0 0 0 0]\n",
      "(4, 0) [0 0 0 0]\n",
      "(5, 0) [0 0 0 0]\n",
      "(6, 0) [0 0 0 0]\n",
      "(7, 0) [0 0 0 0]\n",
      "(8, 0) [0 0 0 0]\n",
      "(9, 0) [0 0 0 0]\n",
      "(10, 0) [0 0 0 0]\n",
      "(11, 0) [0 0 0 0]\n",
      "(12, 0) [0 0 0 0]\n",
      "(13, 0) [0 0 0 0]\n",
      "(14, 0) [0 0 0 0]\n",
      "(15, 0) [0 0 0 0]\n",
      "(16, 0) [0 0 0 0]\n",
      "(17, 0) [0 0 0 0]\n",
      "(18, 0) [0 0 0 0]\n",
      "(19, 0) [0 0 0 0]\n",
      "(20, 0) [0 0 0 0]\n",
      "(21, 0) [0 0 0 0]\n",
      "(22, 0) [0 0 1 1]\n",
      "(23, 0) [0 0 1 1]\n",
      "(24, 0) [0 2 1 1]\n",
      "(25, 0) [0 0 1 1]\n",
      "(26, 0) [5 0 0 0]\n",
      "(27, 0) [0 0 2 0]\n",
      "(28, 0) [254 250   2   1]\n",
      "(29, 0) [254 254 252 255]\n",
      "(30, 0) [250 254 255 255]\n",
      "(31, 0) [252 250 254 232]\n",
      "(32, 0) [251 241 252 251]\n",
      "(33, 0) [217  68 251  80]\n",
      "(34, 0) [ 23  14  15 190]\n",
      "(35, 0) [ 32  16  15 117]\n",
      "(36, 0) [20  8 14 14]\n",
      "(37, 0) [10 12  5 10]\n",
      "(38, 0) [11  9  8  8]\n",
      "(39, 0) [ 7  1  3 98]\n",
      "(40, 0) [ 5 10 56 83]\n",
      "(41, 0) [11  3 11  8]\n",
      "(42, 0) [9 4 9 6]\n",
      "(43, 0) [6 5 8 8]\n",
      "(44, 0) [11  9  5  4]\n",
      "(45, 0) [ 6  5  5 11]\n",
      "(46, 0) [6 9 5 5]\n",
      "(47, 0) [ 3 10  9  9]\n",
      "(48, 0) [ 9 12  8 14]\n",
      "(49, 0) [119  45  50  72]\n",
      "(50, 0) [196  64   9   9]\n",
      "(51, 0) [218  21  10   7]\n",
      "(52, 0) [40  8  9 11]\n",
      "(53, 0) [8 9 6 7]\n",
      "(54, 0) [ 6  8  5 36]\n",
      "(55, 0) [12  9  7  9]\n",
      "(56, 0) [ 5  8  7 11]\n",
      "(57, 0) [ 8  7 59 15]\n",
      "(58, 0) [ 9  6  6 12]\n",
      "(59, 0) [11 11  5  9]\n",
      "(60, 0) [ 9  5  8 10]\n",
      "(61, 0) [ 5  8  2 71]\n",
      "(62, 0) [21 14  2 19]\n",
      "(63, 0) [42 18 10  9]\n",
      "(64, 0) [14 11 11  9]\n",
      "(65, 0) [171  24  11  10]\n",
      "(66, 0) [32 11  8  9]\n",
      "(67, 0) [ 8 12  6  9]\n",
      "(68, 0) [10  5 10  5]\n",
      "(69, 0) [12 11  6 10]\n",
      "(70, 0) [9 6 3 7]\n",
      "(71, 0) [ 9 10  8  9]\n",
      "(72, 0) [  5 159   9   8]\n",
      "(73, 0) [11  3  6  4]\n",
      "(74, 0) [7 7 9 7]\n",
      "(75, 0) [ 4 11  0  5]\n",
      "(76, 0) [16  4  9  5]\n",
      "(77, 0) [ 3 11  3  4]\n",
      "(78, 0) [8 6 6 8]\n",
      "(79, 0) [ 3 10  4  8]\n",
      "(80, 0) [8 7 4 4]\n",
      "(81, 0) [9 6 3 3]\n",
      "(82, 0) [6 6 4 4]\n",
      "(83, 0) [7 7 6 6]\n",
      "(84, 0) [8 8 7 7]\n",
      "(85, 0) [8 8 8 7]\n",
      "(86, 0) [6 8 9 9]\n",
      "(87, 0) [5 7 9 9]\n",
      "(88, 0) [ 3  5  6 10]\n",
      "(89, 0) [ 5  6 16  8]\n",
      "(90, 0) [3 8 5 9]\n",
      "(91, 0) [ 5  0 10 11]\n",
      "(92, 0) [2 7 6 8]\n",
      "(93, 0) [10  2  7  4]\n",
      "(94, 0) [12 11  2 10]\n",
      "(95, 0) [13 10  7  2]\n",
      "(96, 0) [10 13  5  4]\n",
      "(97, 0) [ 7 10  6  4]\n",
      "(98, 0) [11 11 10  7]\n",
      "(99, 0) [12 11 13 11]\n",
      "(100, 0) [10  8 11 11]\n",
      "(101, 0) [13 10  7  9]\n",
      "(102, 0) [15 13  4  5]\n",
      "(103, 0) [11 13  3  5]\n",
      "(104, 0) [ 8  7  9 13]\n",
      "(105, 0) [6 6 7 9]\n",
      "(106, 0) [6 6 7 7]\n",
      "(107, 0) [11 10 11 10]\n",
      "(108, 0) [10 11 11  9]\n",
      "(109, 0) [12 12 13 11]\n",
      "(110, 0) [15 14 15 14]\n",
      "(111, 0) [4 5 7 8]\n",
      "(112, 0) [29  0  5 10]\n",
      "(113, 0) [22 16 18  7]\n",
      "(114, 0) [22 18 10  6]\n",
      "(115, 0) [22  0  3 11]\n",
      "(116, 0) [35 11  4 10]\n",
      "(117, 0) [ 1  1 11 12]\n",
      "(118, 0) [11  9  9 16]\n",
      "(119, 0) [ 8 12 15 12]\n",
      "(120, 0) [10 10 17 16]\n",
      "(121, 0) [ 9  9  9 15]\n",
      "(122, 0) [ 8 15  4  4]\n",
      "(123, 0) [ 6 11  7  2]\n",
      "(124, 0) [16 13 10  5]\n",
      "(125, 0) [54 18  5 13]\n",
      "(126, 0) [57 27 21  7]\n",
      "(127, 0) [40 58 11 15]\n",
      "(128, 0) [54 50 13 15]\n",
      "(129, 0) [66 68 62 24]\n",
      "(130, 0) [44 80 60 45]\n",
      "(131, 0) [96 71 40 22]\n",
      "(132, 0) [ 89 113  68  44]\n",
      "(133, 0) [81 69 59 84]\n",
      "(134, 0) [81 76 85 23]\n",
      "(135, 0) [141  79  35  20]\n",
      "(136, 0) [68 25 27 22]\n",
      "(137, 0) [72 35 32 39]\n",
      "(138, 0) [36 45 20 35]\n",
      "(139, 0) [25 30 22 26]\n",
      "(140, 0) [34 89 54 26]\n",
      "(141, 0) [36 33 27 29]\n",
      "(142, 0) [51 41 25 33]\n",
      "(143, 0) [19 17 28 25]\n",
      "(144, 0) [17 19 21 22]\n",
      "(145, 0) [20 23 21 19]\n",
      "(146, 0) [25 24 17 19]\n",
      "(147, 0) [14 21 22 22]\n",
      "(148, 0) [21 19 19 15]\n",
      "(149, 0) [13 28 29 24]\n",
      "(150, 0) [23 22 16 94]\n",
      "(151, 0) [14 21 21 18]\n",
      "(152, 0) [13 13 31 19]\n",
      "(153, 0) [23 23 30 17]\n",
      "(154, 0) [16 17 27 20]\n",
      "(155, 0) [20 16 26 15]\n",
      "(156, 0) [18 14 22 23]\n",
      "(157, 0) [18 17 17 21]\n",
      "(158, 0) [21  8 57 21]\n",
      "(159, 0) [ 14  14   3 167]\n",
      "(160, 0) [18 18 15 25]\n",
      "(161, 0) [18 15 52 14]\n",
      "(162, 0) [15 23 54 21]\n",
      "(163, 0) [13 21 16 20]\n",
      "(164, 0) [20 29 13 22]\n",
      "(165, 0) [175  85  64  18]\n",
      "(166, 0) [239  34 109 252]\n",
      "(167, 0) [ 11  42 166 254]\n",
      "(168, 0) [  5 109 251 254]\n",
      "(169, 0) [ 21  27 238 121]\n",
      "(170, 0) [ 22  17 170  32]\n",
      "(171, 0) [ 17  14  53 242]\n",
      "(172, 0) [ 12   7 135 250]\n",
      "(173, 0) [28 42 25 79]\n",
      "(174, 0) [34 36 28 30]\n",
      "(175, 0) [ 34 110  33  85]\n",
      "(176, 0) [26 20 28 31]\n",
      "(177, 0) [19 34 30 21]\n",
      "(178, 0) [29 24 29 20]\n",
      "(179, 0) [30 32 27 17]\n",
      "(180, 0) [43 25 22 35]\n",
      "(181, 0) [33 27 32 22]\n",
      "(182, 0) [31 30 23 29]\n",
      "(183, 0) [18 20 26 26]\n",
      "(184, 0) [22 28 20 26]\n",
      "(185, 0) [ 12 155  18  28]\n",
      "(186, 0) [26 44 28 16]\n",
      "(187, 0) [16  6 14 47]\n",
      "(188, 0) [ 21  18 103  43]\n",
      "(189, 0) [ 8 14 15 15]\n",
      "(190, 0) [12 17  9 13]\n",
      "(191, 0) [ 9  9  9 13]\n",
      "(192, 0) [12  2 21  9]\n",
      "(193, 0) [ 3 11  9 13]\n",
      "(194, 0) [101  18  13  14]\n",
      "(195, 0) [22  9 16 31]\n",
      "(196, 0) [ 7  9 47 66]\n",
      "(197, 0) [ 8 11 76 64]\n",
      "(198, 0) [  6  17  55 124]\n",
      "(199, 0) [ 18  85  92 120]\n",
      "(200, 0) [100  98  88 109]\n",
      "(201, 0) [124 108 153 135]\n",
      "(202, 0) [142 149 171 178]\n",
      "(203, 0) [168 197 210 217]\n",
      "(204, 0) [194 205 235 221]\n",
      "(205, 0) [207 203 226 225]\n",
      "(206, 0) [227 229 236 219]\n",
      "(207, 0) [203 236 234 222]\n",
      "(208, 0) [217 245 229 205]\n",
      "(209, 0) [236 236 215 229]\n",
      "(210, 0) [228 232 217 218]\n",
      "(211, 0) [206 217 235 237]\n",
      "(212, 0) [212 229 240 240]\n",
      "(213, 0) [221 245 246 246]\n",
      "(214, 0) [203 235 249 248]\n",
      "(215, 0) [198 246 248 249]\n",
      "(216, 0) [213 249 251 251]\n",
      "(217, 0) [232 251 248 250]\n",
      "(218, 0) [231 250 252 252]\n",
      "(219, 0) [235 251 252 248]\n",
      "(220, 0) [225 250 254 254]\n",
      "(221, 0) [234 242 254 253]\n",
      "(222, 0) [151 243 249 254]\n",
      "(223, 0) [ 73 144 177 248]\n",
      "(224, 0) [ 82 167 177 152]\n",
      "(225, 0) [ 42 154 200 210]\n",
      "(226, 0) [ 63 117 180 218]\n",
      "(227, 0) [ 68  78  96 164]\n",
      "(228, 0) [113  63  60  77]\n",
      "(229, 0) [62 45 28 74]\n",
      "(230, 0) [ 79  85 111 140]\n",
      "(231, 0) [111 129 120 113]\n",
      "(232, 0) [124 137 132 120]\n",
      "(233, 0) [ 87 104 123 105]\n",
      "(234, 0) [65 77 84 92]\n",
      "(235, 0) [ 49  23  70 120]\n",
      "(236, 0) [ 33  35  80 125]\n",
      "(237, 0) [ 17  24 101 125]\n",
      "(238, 0) [ 13   8  52 127]\n",
      "(239, 0) [12  8 73 58]\n",
      "(240, 0) [29 25 27 24]\n",
      "(241, 0) [42 48 46 30]\n",
      "(242, 0) [45 41 43 37]\n",
      "(243, 0) [36 45 51 46]\n",
      "(244, 0) [39 37 35 38]\n",
      "(245, 0) [30 34 30 28]\n",
      "(246, 0) [31 33 31 35]\n",
      "(247, 0) [23 29 32 31]\n",
      "(248, 0) [14 15 28 29]\n",
      "(249, 0) [ 15   8  42 253]\n",
      "(250, 0) [ 18   6 126 174]\n",
      "(251, 0) [  9   6 153 148]\n",
      "(252, 0) [ 11  23 204  28]\n",
      "(253, 0) [13 19 19 26]\n",
      "(254, 0) [59 58 21 20]\n",
      "(255, 0) [31 55 12 21]\n",
      "(256, 0) [149  60  40  42]\n",
      "(257, 0) [34 33 29 27]\n",
      "(258, 0) [24 49 32 30]\n",
      "(259, 0) [29 29  8 32]\n",
      "(260, 0) [36 31  8 17]\n",
      "(261, 0) [72 31  8 25]\n",
      "(262, 0) [39 52 17 47]\n",
      "(263, 0) [98 82 43 29]\n",
      "(264, 0) [112  77  43  24]\n",
      "(265, 0) [158 116  54  10]\n",
      "(266, 0) [254 254  30  14]\n",
      "(267, 0) [160 243  45  19]\n",
      "(268, 0) [48 33 32 42]\n",
      "(269, 0) [39 46 30 25]\n",
      "(270, 0) [27 27 22 26]\n",
      "(271, 0) [15 22 27 43]\n",
      "(272, 0) [17 17 22 19]\n",
      "(273, 0) [19 18 17 19]\n",
      "(274, 0) [48 42 26 23]\n",
      "(275, 0) [51 44 20 24]\n",
      "(276, 0) [37 23 42 27]\n",
      "(277, 0) [25 19 31 18]\n",
      "(278, 0) [22 25 20 34]\n",
      "(279, 0) [21 79 23 19]\n",
      "(280, 0) [18 24 12  6]\n",
      "(281, 0) [27 15  4 23]\n",
      "(282, 0) [16 27  8  7]\n",
      "(283, 0) [25 13 26  9]\n",
      "(284, 0) [30 19 13 16]\n",
      "(285, 0) [28 34 15 12]\n",
      "(286, 0) [ 31  59  26 157]\n",
      "(287, 0) [30 40 38 33]\n",
      "(288, 0) [22 12 16 37]\n",
      "(289, 0) [11 16 18 26]\n",
      "(290, 0) [17 31 38 57]\n",
      "(291, 0) [ 64  34  60 145]\n",
      "(292, 0) [ 21  43 172 168]\n",
      "(293, 0) [ 34 176 218 252]\n",
      "(294, 0) [254 183 249 250]\n",
      "(295, 0) [253 148 251 250]\n",
      "(296, 0) [252 251 248 249]\n",
      "(297, 0) [ 30  17  19 218]\n",
      "(298, 0) [24 40 52 52]\n",
      "(299, 0) [47 49 52 56]\n",
      "(300, 0) [36 50 52 49]\n",
      "(301, 0) [27 29 54 45]\n",
      "(302, 0) [11 11 12 14]\n",
      "(303, 0) [12 10 15  5]\n",
      "(304, 0) [12  7 20 58]\n",
      "(305, 0) [21 31 23 20]\n",
      "(306, 0) [17 20 20 22]\n",
      "(307, 0) [13 19 24 20]\n",
      "(308, 0) [18 20 24 20]\n",
      "(309, 0) [11 25 30 19]\n",
      "(310, 0) [17 22 23 20]\n",
      "(311, 0) [ 6 17 21 19]\n",
      "(312, 0) [ 27   9  29 153]\n",
      "(313, 0) [  4 209 254 152]\n",
      "(314, 0) [  3 185 254 241]\n",
      "(315, 0) [  9  69 253 105]\n",
      "(316, 0) [  8  42 250  95]\n",
      "(317, 0) [105 254 254 254]\n",
      "(318, 0) [118 254 251 251]\n",
      "(319, 0) [ 81 133 254  37]\n",
      "(320, 0) [ 36 141 253  39]\n",
      "(321, 0) [ 22  41 223  32]\n",
      "(322, 0) [38 31 43 18]\n",
      "(323, 0) [67 78 36 32]\n",
      "(324, 0) [113 216 157  61]\n",
      "(325, 0) [125 241 254 128]\n",
      "(326, 0) [ 84 217 248 236]\n",
      "(327, 0) [252 251 252 177]\n",
      "(328, 0) [252 252 252  96]\n",
      "(329, 0) [252 181 200 198]\n",
      "(330, 0) [38 97 21 24]\n",
      "(331, 0) [26 36 32 34]\n",
      "(332, 0) [28 36 35 25]\n",
      "(333, 0) [32 31 19 30]\n",
      "(334, 0) [78 12  5  1]\n",
      "(335, 0) [22 15  5  7]\n",
      "(336, 0) [11 59 72  4]\n",
      "(337, 0) [ 10 252 178 187]\n",
      "(338, 0) [ 18  42  61 171]\n",
      "(339, 0) [24 48 22 24]\n",
      "(340, 0) [27 20 22 19]\n",
      "(341, 0) [29 23 21 23]\n",
      "(342, 0) [32 32 34 34]\n",
      "(343, 0) [32 37 29 35]\n",
      "(344, 0) [32 36 33 31]\n",
      "(345, 0) [42 24 32 67]\n",
      "(346, 0) [29 58 32 62]\n",
      "(347, 0) [254 190  24  27]\n",
      "(348, 0) [204  47  27  26]\n",
      "(349, 0) [57 31 31 26]\n",
      "(350, 0) [44 52 40 39]\n",
      "(351, 0) [30 42 55 44]\n",
      "(352, 0) [22 16 66 44]\n",
      "(353, 0) [ 32   3  91 115]\n",
      "(354, 0) [ 17  16  98 215]\n",
      "(355, 0) [ 11  12 112 247]\n",
      "(356, 0) [ 19 104 253 252]\n",
      "(357, 0) [  8 189 249 254]\n",
      "(358, 0) [ 12 186 248 249]\n",
      "(359, 0) [  9  15 117 248]\n",
      "(360, 0) [ 17  30  58 251]\n",
      "(361, 0) [ 67  29  71 251]\n",
      "(362, 0) [22 36 36 91]\n",
      "(363, 0) [ 24  25 234  13]\n",
      "(364, 0) [102  21  81  61]\n",
      "(365, 0) [ 28  11   5 179]\n",
      "(366, 0) [ 12  40  12 196]\n",
      "(367, 0) [ 14  12  43 168]\n",
      "(368, 0) [ 13  26 242   8]\n",
      "(369, 0) [76 35 64 21]\n",
      "(370, 0) [37 37 38 37]\n",
      "(371, 0) [28 33 38 33]\n",
      "(372, 0) [36 32 39 98]\n",
      "(373, 0) [ 27  20 107 177]\n",
      "(374, 0) [ 91  99 254 254]\n",
      "(375, 0) [250 250 142 253]\n",
      "(376, 0) [217 254 239  82]\n",
      "(377, 0) [253 253 251 126]\n",
      "(378, 0) [207 252 254 182]\n",
      "(379, 0) [250 252 251 166]\n",
      "(380, 0) [211 251 200 176]\n",
      "(381, 0) [ 29 126 171 183]\n",
      "(382, 0) [ 29  36  75 219]\n",
      "(383, 0) [ 23  31 192 247]\n",
      "(384, 0) [ 22 248 245 251]\n",
      "(385, 0) [ 29  58 249 249]\n",
      "(386, 0) [ 18  39 202 154]\n",
      "(387, 0) [ 38 106 122 111]\n",
      "(388, 0) [  9  22 126 104]\n",
      "(389, 0) [140 133  87  61]\n",
      "(390, 0) [ 55 173  98  47]\n",
      "(391, 0) [121 231 141 117]\n",
      "(392, 0) [138 109 113  65]\n",
      "(393, 0) [ 83 123 131  17]\n",
      "(394, 0) [ 17 127 121 119]\n",
      "(395, 0) [ 44 145  36  72]\n",
      "(396, 0) [ 92 169  47  20]\n",
      "(397, 0) [ 72  33  21 135]\n",
      "(398, 0) [ 33 131  18  19]\n",
      "(399, 0) [109 119  42  62]\n",
      "(400, 0) [121  95 111 130]\n",
      "(401, 0) [108  92  99 120]\n",
      "(402, 0) [115 109 110 111]\n",
      "(403, 0) [107 137  27  46]\n",
      "(404, 0) [ 15  12   1 115]\n",
      "(405, 0) [12  9 11 94]\n",
      "(406, 0) [ 37 251 180 249]\n",
      "(407, 0) [ 72  86 112 181]\n",
      "(408, 0) [ 33 213 226 248]\n",
      "(409, 0) [ 99 216 251 246]\n",
      "(410, 0) [ 13 252 254 238]\n",
      "(411, 0) [248 253 252 243]\n",
      "(412, 0) [207 254 251  73]\n",
      "(413, 0) [ 33  51 134  64]\n",
      "(414, 0) [ 54  56 103  44]\n",
      "(415, 0) [55 40 44 42]\n",
      "(416, 0) [44 67 31 34]\n",
      "(417, 0) [31 58 53 20]\n",
      "(418, 0) [124  83  95 251]\n",
      "(419, 0) [168 151 154 251]\n",
      "(420, 0) [251 251 179 251]\n",
      "(421, 0) [249 251 203 250]\n",
      "(422, 0) [250 182 162 246]\n",
      "(423, 0) [251 127 198 251]\n",
      "(424, 0) [ 40 125 249 250]\n",
      "(425, 0) [ 51 160 249 168]\n",
      "(426, 0) [46 29 29 80]\n",
      "(427, 0) [126  14  44  93]\n",
      "(428, 0) [96 39 18 38]\n",
      "(429, 0) [120  57  66  39]\n",
      "(430, 0) [55 11 16 20]\n",
      "(431, 0) [43 51 42 56]\n",
      "(432, 0) [164 116 251 154]\n",
      "(433, 0) [ 13 233 251 166]\n",
      "(434, 0) [ 60 251 251 141]\n",
      "(435, 0) [249 213 109 126]\n",
      "(436, 0) [158  56  65  31]\n",
      "(437, 0) [251  39  42  67]\n",
      "(438, 0) [232  49  23  41]\n",
      "(439, 0) [111  24  34  51]\n",
      "(440, 0) [39 32 33 38]\n",
      "(441, 0) [42 42 34 34]\n",
      "(442, 0) [34 26 36 29]\n",
      "(443, 0) [63 44 32 61]\n",
      "(444, 0) [35 27 71 25]\n",
      "(445, 0) [108  99  75 119]\n",
      "(446, 0) [100 105 139  92]\n",
      "(447, 0) [ 46  49  52 102]\n",
      "(448, 0) [147  88  54  36]\n",
      "(449, 0) [128 138  84  60]\n",
      "(450, 0) [166 137 147 154]\n",
      "(451, 0) [ 35 115 241 214]\n",
      "(452, 0) [107 118  98  85]\n",
      "(453, 0) [110  86  86  87]\n",
      "(454, 0) [ 69 118  88 103]\n",
      "(455, 0) [115 102 110  92]\n",
      "(456, 0) [124 184 110 124]\n",
      "(457, 0) [ 64 171 138 124]\n",
      "(458, 0) [141  67  63 155]\n",
      "(459, 0) [123 182 172 168]\n",
      "(460, 0) [154 153 136 106]\n",
      "(461, 0) [202 235  96  45]\n",
      "(462, 0) [249 244 104 123]\n",
      "(463, 0) [241 139  77 101]\n",
      "(464, 0) [136 113 115 109]\n",
      "(465, 0) [ 95 111 100  98]\n",
      "(466, 0) [119  85 106 109]\n",
      "(467, 0) [169 217 146 210]\n",
      "(468, 0) [227 241 241 188]\n",
      "(469, 0) [251 248 247 218]\n",
      "(470, 0) [249 249 171  81]\n",
      "(471, 0) [246 248 241 114]\n",
      "(472, 0) [246 248 134  40]\n",
      "(473, 0) [249 233  61  31]\n",
      "(474, 0) [254 254 143  46]\n",
      "(475, 0) [253 251 222  46]\n",
      "(476, 0) [252 252 242 103]\n",
      "(477, 0) [251 251 249 183]\n",
      "(478, 0) [254 250 250 254]\n",
      "(479, 0) [255 255 252 251]\n",
      "(480, 0) [255 254 248 227]\n",
      "(481, 0) [254 251 240  36]\n",
      "(482, 0) [241 242  96 133]\n",
      "(483, 0) [241 137  74 151]\n",
      "(484, 0) [203 184 212  86]\n",
      "(485, 0) [199 152  26  12]\n",
      "(486, 0) [ 71 181  19  15]\n",
      "(487, 0) [67 58  4  0]\n",
      "(488, 0) [46 47 55  0]\n",
      "(489, 0) [37 39 43 52]\n",
      "(490, 0) [34 35 25 26]\n",
      "(491, 0) [37 29 35 28]\n",
      "(492, 0) [43 41 37 41]\n",
      "(493, 0) [37 43 39 38]\n",
      "(494, 0) [29 28 34 35]\n",
      "(495, 0) [23 29 30 33]\n",
      "(496, 0) [30 29 33 32]\n",
      "(497, 0) [28 23 26 22]\n",
      "(498, 0) [22 24 26 26]\n",
      "(499, 0) [26 27 27 21]\n",
      "(500, 0) [24 25 20 29]\n",
      "(501, 0) [29 23 25 23]\n",
      "(502, 0) [26 31 23 25]\n",
      "(503, 0) [22 31 68 23]\n",
      "(504, 0) [27 30 27 23]\n",
      "(505, 0) [25 26 25 23]\n",
      "(506, 0) [22 23 23 25]\n",
      "(507, 0) [22 21 22 24]\n",
      "(508, 0) [22 22 21 24]\n",
      "(509, 0) [22 22 20 22]\n",
      "(510, 0) [22 20 18 21]\n",
      "(511, 0) [20 18 17 20]\n",
      "(512, 0) [19 20 21 22]\n",
      "(513, 0) [20 20 20 21]\n",
      "(514, 0) [19 19 20 20]\n",
      "(515, 0) [19 18 20 21]\n",
      "(516, 0) [17 18 20 22]\n",
      "(517, 0) [17 17 19 21]\n",
      "(518, 0) [17 18 18 18]\n",
      "(519, 0) [20 18 17 17]\n",
      "(520, 0) [16 16 17 16]\n",
      "(521, 0) [17 17 18 19]\n",
      "(522, 0) [17 18 18 19]\n",
      "(523, 0) [16 16 17 17]\n",
      "(524, 0) [17 16 17 17]\n",
      "(525, 0) [18 19 18 19]\n",
      "(526, 0) [18 18 19 18]\n",
      "(527, 0) [17 17 18 17]\n",
      "(528, 0) [17 18 17 16]\n",
      "(529, 0) [16 17 16 17]\n",
      "(530, 0) [15 16 17 17]\n",
      "(531, 0) [16 16 18 19]\n",
      "(532, 0) [15 16 17 18]\n",
      "(533, 0) [16 15 16 16]\n",
      "(534, 0) [16 15 15 16]\n",
      "(535, 0) [17 18 16 16]\n",
      "(536, 0) [16 17 17 15]\n",
      "(537, 0) [14 16 16 15]\n",
      "(538, 0) [14 15 18 16]\n",
      "(539, 0) [15 16 18 16]\n",
      "(540, 0) [17 16 14 15]\n",
      "(541, 0) [16 15 12 14]\n",
      "(542, 0) [16 15 12 15]\n",
      "(543, 0) [16 15 15 19]\n",
      "(544, 0) [16 14 21 16]\n",
      "(545, 0) [19 20 17 17]\n",
      "(546, 0) [11 17 15 15]\n",
      "(547, 0) [10 15 15 14]\n",
      "(548, 0) [18 15 12 16]\n",
      "(549, 0) [20 11 15 15]\n",
      "(550, 0) [21 20 21 16]\n",
      "(551, 0) [30 45 22 19]\n",
      "(552, 0) [28 30 43 43]\n",
      "(553, 0) [79 62 32 43]\n",
      "(554, 0) [197  98  33  75]\n",
      "(555, 0) [ 56  26  97 103]\n",
      "(556, 0) [226  37  33  12]\n",
      "(557, 0) [171 134 125  61]\n",
      "(558, 0) [ 27 246 245 234]\n",
      "(559, 0) [133 247 249 245]\n",
      "(560, 0) [ 29 248 245 247]\n",
      "(561, 0) [ 20 201 234 247]\n",
      "(562, 0) [219 246 248 242]\n",
      "(563, 0) [247 247 237 122]\n",
      "(564, 0) [248 242 196  87]\n",
      "(565, 0) [243 193  58  45]\n",
      "(566, 0) [238 179  32  31]\n",
      "(567, 0) [211 121  60  19]\n",
      "(568, 0) [205  70  48  19]\n",
      "(569, 0) [96 32 20 20]\n",
      "(570, 0) [22 22 21 22]\n",
      "(571, 0) [23 20 21 22]\n",
      "(572, 0) [18 18 23 20]\n",
      "(573, 0) [22 13 20 16]\n",
      "(574, 0) [16 20 12 20]\n",
      "(575, 0) [20 23 14 14]\n",
      "(576, 0) [18 16 17 18]\n",
      "(577, 0) [17 17 19 19]\n",
      "(578, 0) [17 17 19 19]\n",
      "(579, 0) [17 17 19 19]\n",
      "(580, 0) [16 17 20 20]\n",
      "(581, 0) [16 17 20 20]\n",
      "(582, 0) [18 18 18 18]\n",
      "(583, 0) [19 18 17 17]\n",
      "(584, 0) [16 17 19 17]\n",
      "(585, 0) [18 19 18 19]\n",
      "(586, 0) [19 19 17 20]\n",
      "(587, 0) [20 19 18 21]\n",
      "(588, 0) [19 17 19 19]\n",
      "(589, 0) [19 18 21 20]\n",
      "(590, 0) [19 19 21 21]\n",
      "(591, 0) [21 21 20 23]\n",
      "(592, 0) [18 20 19 20]\n",
      "(593, 0) [19 20 21 20]\n",
      "(594, 0) [20 20 21 22]\n",
      "(595, 0) [20 19 19 21]\n",
      "(596, 0) [20 19 19 21]\n",
      "(597, 0) [21 21 21 22]\n",
      "(598, 0) [22 22 22 21]\n",
      "(599, 0) [23 24 22 20]\n",
      "(600, 0) [23 24 23 21]\n",
      "(601, 0) [23 23 22 22]\n",
      "(602, 0) [22 21 21 22]\n",
      "(603, 0) [23 22 23 24]\n",
      "(604, 0) [22 23 24 24]\n",
      "(605, 0) [23 25 26 25]\n",
      "(606, 0) [23 25 25 23]\n",
      "(607, 0) [25 25 25 24]\n",
      "(608, 0) [26 23 25 23]\n",
      "(609, 0) [28 27 28 21]\n",
      "(610, 0) [19 24 27 23]\n",
      "(611, 0) [13 20 27 25]\n",
      "(612, 0) [16 20 26 24]\n",
      "(613, 0) [19 22 25 25]\n",
      "(614, 0) [19 20 23 26]\n",
      "(615, 0) [22 23 24 26]\n",
      "(616, 0) [23 18 19 25]\n",
      "(617, 0) [26 22 19 25]\n",
      "(618, 0) [20 14 13 20]\n",
      "(619, 0) [14 10 13  8]\n",
      "(620, 0) [ 6  2 20 17]\n",
      "(621, 0) [27 15 16  3]\n",
      "(622, 0) [22 14 13 11]\n",
      "(623, 0) [18 19 12 12]\n",
      "(624, 0) [12 17 19 14]\n",
      "(625, 0) [ 7 11 21 22]\n",
      "(626, 0) [ 8 11 22 28]\n",
      "(627, 0) [21 24 24 21]\n",
      "(628, 0) [22 21 25 29]\n",
      "(629, 0) [24 26 27 25]\n",
      "(630, 0) [19 20 23 25]\n",
      "(631, 0) [20 21 23 23]\n",
      "(632, 0) [25 13 25 23]\n",
      "(633, 0) [20 23 22 27]\n",
      "(634, 0) [21 26 20 23]\n",
      "(635, 0) [28 22 24 26]\n",
      "(636, 0) [19 27 17 24]\n",
      "(637, 0) [41 38 31 31]\n",
      "(638, 0) [31  1 84  0]\n",
      "(639, 0) [171 124 143  55]\n",
      "(640, 0) [231 172  88 160]\n",
      "(641, 0) [219 214  64 161]\n",
      "(642, 0) [ 36  25   0 100]\n",
      "(643, 0) [23 29 30 34]\n",
      "(644, 0) [31 26 33 26]\n",
      "(645, 0) [24 29 26 31]\n",
      "(646, 0) [25 27 29 29]\n",
      "(647, 0) [26 28 29 25]\n",
      "(648, 0) [26 27 23 25]\n"
     ]
    },
    {
     "name": "stdout",
     "output_type": "stream",
     "text": [
      "(649, 0) [27 17 25 22]\n",
      "(650, 0) [30 28 26 23]\n",
      "(651, 0) [27 29 21 26]\n",
      "(652, 0) [28 25 26 26]\n",
      "(653, 0) [28 26 29 27]\n",
      "(654, 0) [35 28 23 26]\n",
      "(655, 0) [47 44 42 40]\n",
      "(656, 0) [0 0 0 0]\n",
      "(657, 0) [0 0 0 0]\n",
      "(658, 0) [0 0 0 0]\n",
      "(659, 0) [0 0 0 0]\n",
      "(660, 0) [0 0 0 0]\n",
      "(661, 0) [0 0 0 1]\n",
      "(662, 0) [0 0 0 1]\n",
      "(663, 0) [0 0 0 1]\n",
      "(664, 0) [0 0 0 0]\n",
      "(665, 0) [0 0 0 0]\n",
      "(666, 0) [0 0 0 0]\n",
      "(667, 0) [0 0 0 0]\n",
      "(668, 0) [0 0 0 0]\n",
      "(669, 0) [0 0 0 0]\n",
      "(670, 0) [0 0 0 0]\n",
      "(671, 0) [0 0 0 1]\n",
      "(672, 0) [0 0 0 0]\n",
      "(673, 0) [0 0 0 0]\n",
      "(674, 0) [0 0 0 0]\n",
      "(675, 0) [0 0 0 0]\n",
      "(676, 0) [0 0 0 0]\n",
      "(677, 0) [0 0 0 0]\n",
      "(678, 0) [0 0 0 0]\n",
      "(679, 0) [0 0 0 0]\n",
      "(680, 0) [0 0 0 0]\n",
      "(681, 0) [0 0 0 0]\n",
      "(682, 0) [0 0 0 0]\n",
      "(683, 0) [0 0 0 0]\n",
      "(684, 0) [0 0 0 0]\n",
      "(685, 0) [0 0 0 0]\n",
      "(686, 0) [0 0 0 0]\n",
      "(687, 0) [0 0 0 0]\n",
      "(688, 0) [0 0 0 0]\n",
      "(689, 0) [0 0 0 0]\n",
      "(690, 0) [0 0 0 0]\n",
      "(691, 0) [0 0 0 0]\n",
      "(692, 0) [0 0 0 0]\n",
      "(693, 0) [0 0 0 0]\n",
      "(694, 0) [0 0 0 0]\n",
      "(695, 0) [0 0 0 0]\n",
      "(696, 0) [0 0 0 0]\n",
      "(697, 0) [0 0 0 0]\n",
      "(698, 0) [0 0 0 0]\n",
      "(699, 0) [0 0 0 0]\n",
      "(700, 0) [0 0 0 0]\n",
      "(701, 0) [0 0 0 0]\n",
      "(702, 0) [0 0 0 0]\n",
      "(703, 0) [0 0 0 0]\n",
      "(704, 0) [0 0 0 0]\n",
      "(705, 0) [0 0 0 0]\n",
      "(706, 0) [0 0 0 0]\n",
      "(707, 0) [0 0 0 0]\n",
      "(708, 0) [0 0 0 0]\n",
      "(709, 0) [0 0 0 0]\n",
      "(710, 0) [0 0 0 0]\n",
      "(711, 0) [0 0 0 0]\n",
      "(712, 0) [0 0 0 0]\n",
      "(713, 0) [0 0 0 0]\n",
      "(714, 0) [0 0 0 0]\n",
      "(715, 0) [0 0 0 0]\n",
      "(716, 0) [0 0 0 0]\n",
      "(717, 0) [0 0 0 0]\n"
     ]
    }
   ],
   "source": [
    "# Figure out the natural block size for an image\n",
    "block_windows = src.block_windows(1)\n",
    "\n",
    "# Iterate over these block windows and print out a\n",
    "# small subarray of the returned numpy array\n",
    "# The `ji` value is the row and column index of this block\n",
    "# In this case, each block is a row of data\n",
    "for ji, window in block_windows:\n",
    "    r = src.read(1, window=window)\n",
    "    print(ji, r[0, 300:304])"
   ]
  },
  {
   "cell_type": "markdown",
   "metadata": {},
   "source": [
    "## Displaying images in Jupyter (interlude)\n",
    "Often, when working in Jupyter we don't want to have to be switching on and off between Jupyter and (e.g.) ArcGIS to visualize our output.  We can use some simple image display functionality from `matplotlib` to visualize intermediate products easily.  \n",
    "\n",
    "Here we are going to create two functions to display a single band raster and a three-band RGB raster.  We will be able to call them after we've defined them.  These won't make a lot of sense right now (until the graphics module), so we'll skip over them quickly."
   ]
  },
  {
   "cell_type": "code",
   "execution_count": 40,
   "metadata": {},
   "outputs": [],
   "source": [
    "# Create a function to display a single-band image using\n",
    "# the specified colormap.  For information on matplotlib colormaps\n",
    "# see this page: https://matplotlib.org/users/colormaps.html\n",
    "def display_band(image, band=0, cmap=cm.gray):\n",
    "    # Extract the band from the image\n",
    "    arr = image[band]\n",
    "    \n",
    "    # Set the plot figure size\n",
    "    fig = plt.figure(figsize=(10,10))\n",
    "    ax = fig.add_subplot(111)\n",
    "\n",
    "    # Show the image\n",
    "    im = ax.imshow(arr, cmap=cmap, interpolation='none')\n",
    "\n",
    "    # Show a corresponding colorbar\n",
    "    fig.colorbar(im);\n",
    "    \n",
    "# Create a function to display a three-band image in RGB\n",
    "def display_rgb(image):\n",
    "    assert(image.shape[-1] == 3)\n",
    "    \n",
    "    # Set the plot figure size\n",
    "    fig = plt.figure(figsize=(10,10))\n",
    "    ax = fig.add_subplot(111)\n",
    "\n",
    "    # Show the image\n",
    "    im = ax.imshow(image)\n",
    "    \n",
    "# Function to move the first axis to the end\n",
    "def move_axis(arr, from_axis=0, to_axis=-1):\n",
    "    return np.moveaxis(arr, from_axis, to_axis)    "
   ]
  },
  {
   "cell_type": "markdown",
   "metadata": {},
   "source": [
    "## rasterio - displaying images \n",
    "We can visualize our `rasterio` rasters (really `numpy` arrays at this point) using these new functions.  Because the sample raster that we are using is relatively small, we can read the whole raster into memory (called `pixel_values`).\n",
    "\n",
    "This shows the first band of the 3-D numpy array."
   ]
  },
  {
   "cell_type": "code",
   "execution_count": null,
   "metadata": {},
   "outputs": [],
   "source": [
    "pixel_values = src.read()\n",
    "display_band(pixel_values, band=0)"
   ]
  },
  {
   "cell_type": "markdown",
   "metadata": {},
   "source": [
    "This shows the RGB of the image, but we first have to move the first axis to the last using the `move_axis` function"
   ]
  },
  {
   "cell_type": "code",
   "execution_count": null,
   "metadata": {},
   "outputs": [],
   "source": [
    "display_rgb(move_axis(pixel_values))"
   ]
  },
  {
   "cell_type": "markdown",
   "metadata": {},
   "source": [
    "Because we can slice a numpy array, we can also show subwindows of the raster.  Here we show the RGB image for rows and columns 400-600."
   ]
  },
  {
   "cell_type": "code",
   "execution_count": null,
   "metadata": {},
   "outputs": [],
   "source": [
    "subset = pixel_values[:, 400:601, 400:601]\n",
    "display_rgb(move_axis(subset))"
   ]
  },
  {
   "cell_type": "markdown",
   "metadata": {},
   "source": [
    "## rasterio - writing output"
   ]
  },
  {
   "cell_type": "markdown",
   "metadata": {},
   "source": [
    "* Simple band arithmetic (NDVI as example?)\n",
    "* Focal functions"
   ]
  },
  {
   "cell_type": "markdown",
   "metadata": {},
   "source": [
    "## Exercises"
   ]
  },
  {
   "cell_type": "markdown",
   "metadata": {},
   "source": [
    "### Exercise #1: Using `arcpy` in some context"
   ]
  },
  {
   "cell_type": "markdown",
   "metadata": {},
   "source": [
    "### Exercise #2: Prediction using RF model from before"
   ]
  },
  {
   "cell_type": "code",
   "execution_count": 1,
   "metadata": {},
   "outputs": [
    {
     "data": {
      "text/plain": [
       "RandomForestClassifier(bootstrap=True, class_weight=None, criterion='gini',\n",
       "            max_depth=None, max_features='auto', max_leaf_nodes=None,\n",
       "            min_impurity_decrease=0.0, min_impurity_split=None,\n",
       "            min_samples_leaf=1, min_samples_split=2,\n",
       "            min_weight_fraction_leaf=0.0, n_estimators=500, n_jobs=1,\n",
       "            oob_score=False, random_state=None, verbose=0,\n",
       "            warm_start=False)"
      ]
     },
     "execution_count": 1,
     "metadata": {},
     "output_type": "execute_result"
    }
   ],
   "source": [
    "import pandas as pd\n",
    "import numpy as np\n",
    "from sklearn.ensemble import RandomForestClassifier\n",
    "from sklearn.model_selection import cross_val_score\n",
    "\n",
    "# Read in the ecoplot data\n",
    "ecoplots_df = pd.read_csv('ecoplots.csv')\n",
    "\n",
    "# Set which environmental variables to use as predictors - all but FCID\n",
    "x_vars = [\n",
    "    'B3', 'B4', 'B5', 'DEM', 'ASPTR', 'SLPPCT', 'TPI450', 'ANNPRE',\n",
    "    'SMRTMP', 'SMRVP'\n",
    "]\n",
    "\n",
    "# Convert to 2-D numpy array\n",
    "X = np.array(ecoplots_df[x_vars])\n",
    "\n",
    "# Convert to 1-D numpy array\n",
    "Y = np.array(ecoplots_df['SERIES'])\n",
    "\n",
    "rf = RandomForestClassifier(n_estimators=500)\n",
    "rf.fit(X, Y)\n",
    "\n",
    "# Run 10-fold cross-validation with the training data\n",
    "# scores = cross_val_score(rf, X, Y, cv=10)\n",
    "# print('Cross-validation scores:', scores)"
   ]
  },
  {
   "cell_type": "code",
   "execution_count": 2,
   "metadata": {},
   "outputs": [
    {
     "name": "stderr",
     "output_type": "stream",
     "text": [
      "c:\\users\\gregorma\\envs\\default\\lib\\site-packages\\sklearn\\cross_validation.py:41: DeprecationWarning: This module was deprecated in version 0.18 in favor of the model_selection module into which all the refactored classes and functions are moved. Also note that the interface of the new CV iterators are different from that of this module. This module will be removed in 0.20.\n",
      "  \"This module will be removed in 0.20.\", DeprecationWarning)\n"
     ]
    }
   ],
   "source": [
    "from pyimpute import load_training_vector, load_targets, impute, evaluate_clf"
   ]
  },
  {
   "cell_type": "code",
   "execution_count": 3,
   "metadata": {},
   "outputs": [
    {
     "data": {
      "text/plain": [
       "['D:/matt/process/new/small2\\\\b3.tif',\n",
       " 'D:/matt/process/new/small2\\\\b4.tif',\n",
       " 'D:/matt/process/new/small2\\\\b5.tif',\n",
       " 'D:/matt/process/new/small2\\\\dem.tif',\n",
       " 'D:/matt/process/new/small2\\\\asptr.tif',\n",
       " 'D:/matt/process/new/small2\\\\slppct.tif',\n",
       " 'D:/matt/process/new/small2\\\\tpi450.tif',\n",
       " 'D:/matt/process/new/small2\\\\annpre.tif',\n",
       " 'D:/matt/process/new/small2\\\\smrtmp.tif',\n",
       " 'D:/matt/process/new/small2\\\\smrvp.tif']"
      ]
     },
     "execution_count": 3,
     "metadata": {},
     "output_type": "execute_result"
    }
   ],
   "source": [
    "import os\n",
    "ROOT = 'D:/matt/process/new/small2'\n",
    "rasters = [os.path.join(ROOT, x.lower() + '.tif') for x in x_vars]\n",
    "rasters"
   ]
  },
  {
   "cell_type": "code",
   "execution_count": 4,
   "metadata": {},
   "outputs": [
    {
     "name": "stderr",
     "output_type": "stream",
     "text": [
      "c:\\users\\gregorma\\envs\\default\\lib\\site-packages\\ipykernel_launcher.py:1: RasterioDeprecationWarning: 'src.affine' is deprecated.  Please switch to 'src.transform'. See https://github.com/mapbox/rasterio/issues/86 for details.\n",
      "  \"\"\"Entry point for launching an IPython kernel.\n",
      "c:\\users\\gregorma\\envs\\default\\lib\\site-packages\\ipykernel_launcher.py:1: RasterioDeprecationWarning: 'src.affine' is deprecated.  Please switch to 'src.transform'. See https://github.com/mapbox/rasterio/issues/86 for details.\n",
      "  \"\"\"Entry point for launching an IPython kernel.\n",
      "c:\\users\\gregorma\\envs\\default\\lib\\site-packages\\ipykernel_launcher.py:1: RasterioDeprecationWarning: 'src.affine' is deprecated.  Please switch to 'src.transform'. See https://github.com/mapbox/rasterio/issues/86 for details.\n",
      "  \"\"\"Entry point for launching an IPython kernel.\n",
      "c:\\users\\gregorma\\envs\\default\\lib\\site-packages\\ipykernel_launcher.py:1: RasterioDeprecationWarning: 'src.affine' is deprecated.  Please switch to 'src.transform'. See https://github.com/mapbox/rasterio/issues/86 for details.\n",
      "  \"\"\"Entry point for launching an IPython kernel.\n",
      "c:\\users\\gregorma\\envs\\default\\lib\\site-packages\\ipykernel_launcher.py:1: RasterioDeprecationWarning: 'src.affine' is deprecated.  Please switch to 'src.transform'. See https://github.com/mapbox/rasterio/issues/86 for details.\n",
      "  \"\"\"Entry point for launching an IPython kernel.\n",
      "c:\\users\\gregorma\\envs\\default\\lib\\site-packages\\ipykernel_launcher.py:1: RasterioDeprecationWarning: 'src.affine' is deprecated.  Please switch to 'src.transform'. See https://github.com/mapbox/rasterio/issues/86 for details.\n",
      "  \"\"\"Entry point for launching an IPython kernel.\n",
      "c:\\users\\gregorma\\envs\\default\\lib\\site-packages\\ipykernel_launcher.py:1: RasterioDeprecationWarning: 'src.affine' is deprecated.  Please switch to 'src.transform'. See https://github.com/mapbox/rasterio/issues/86 for details.\n",
      "  \"\"\"Entry point for launching an IPython kernel.\n",
      "c:\\users\\gregorma\\envs\\default\\lib\\site-packages\\ipykernel_launcher.py:1: RasterioDeprecationWarning: 'src.affine' is deprecated.  Please switch to 'src.transform'. See https://github.com/mapbox/rasterio/issues/86 for details.\n",
      "  \"\"\"Entry point for launching an IPython kernel.\n",
      "c:\\users\\gregorma\\envs\\default\\lib\\site-packages\\ipykernel_launcher.py:1: RasterioDeprecationWarning: 'src.affine' is deprecated.  Please switch to 'src.transform'. See https://github.com/mapbox/rasterio/issues/86 for details.\n",
      "  \"\"\"Entry point for launching an IPython kernel.\n",
      "c:\\users\\gregorma\\envs\\default\\lib\\site-packages\\ipykernel_launcher.py:1: RasterioDeprecationWarning: 'src.affine' is deprecated.  Please switch to 'src.transform'. See https://github.com/mapbox/rasterio/issues/86 for details.\n",
      "  \"\"\"Entry point for launching an IPython kernel.\n"
     ]
    }
   ],
   "source": [
    "target_xs, raster_info = load_targets(rasters)"
   ]
  },
  {
   "cell_type": "code",
   "execution_count": 5,
   "metadata": {},
   "outputs": [
    {
     "name": "stdout",
     "output_type": "stream",
     "text": [
      "Accuracy Score: 0.741588\n",
      "\n",
      "Classification report\n",
      "             precision    recall  f1-score   support\n",
      "\n",
      "          6       0.69      0.41      0.51        22\n",
      "          8       0.83      0.83      0.83        47\n",
      "          9       0.98      1.00      0.99        50\n",
      "         10       0.73      0.72      0.73        46\n",
      "         11       0.77      0.82      0.79        44\n",
      "         12       0.75      0.43      0.55        21\n",
      "         13       0.82      0.88      0.85        48\n",
      "         14       0.51      0.59      0.55        46\n",
      "         15       0.78      0.83      0.81        48\n",
      "         19       0.60      0.62      0.61        50\n",
      "         20       0.50      0.40      0.44        50\n",
      "         21       0.76      0.91      0.83        53\n",
      "         22       0.61      0.81      0.69        53\n",
      "         23       0.76      0.64      0.70        59\n",
      "         25       0.81      0.68      0.74        50\n",
      "         30       0.95      0.93      0.94        56\n",
      "\n",
      "avg / total       0.74      0.74      0.74       743\n",
      "\n",
      "\n",
      "Confussion matrix\n",
      "[[ 9  1  0 11  0  0  0  0  0  0  0  0  0  0  0  1]\n",
      " [ 0 39  0  0  3  0  0  1  0  1  0  0  0  1  1  1]\n",
      " [ 0  0 50  0  0  0  0  0  0  0  0  0  0  0  0  0]\n",
      " [ 4  2  0 33  6  0  0  1  0  0  0  0  0  0  0  0]\n",
      " [ 0  5  0  1 36  0  0  0  0  1  1  0  0  0  0  0]\n",
      " [ 0  0  0  0  0  9  4  0  5  0  0  3  0  0  0  0]\n",
      " [ 0  0  1  0  0  0 42  0  4  0  0  1  0  0  0  0]\n",
      " [ 0  0  0  0  0  0  0 27  0  9  7  0  2  0  1  0]\n",
      " [ 0  0  0  0  0  3  5  0 40  0  0  0  0  0  0  0]\n",
      " [ 0  0  0  0  1  0  0  6  0 31  9  0  1  0  2  0]\n",
      " [ 0  0  0  0  0  0  0 16  0  8 20  0  2  0  4  0]\n",
      " [ 0  0  0  0  1  0  0  0  2  0  0 48  0  2  0  0]\n",
      " [ 0  0  0  0  0  0  0  0  0  0  0  4 43  6  0  0]\n",
      " [ 0  0  0  0  0  0  0  0  0  0  0  3 17 38  0  1]\n",
      " [ 0  0  0  0  0  0  0  2  0  2  3  4  3  2 34  0]\n",
      " [ 0  0  0  0  0  0  0  0  0  0  0  0  3  1  0 52]]\n",
      "\n",
      "Feature importances\n",
      "                   0: 9.5\n",
      "                   1: 6.1\n",
      "                   2: 7.0\n",
      "                   3: 15.3\n",
      "                   4: 5.1\n",
      "                   5: 6.0\n",
      "                   6: 6.7\n",
      "                   7: 18.0\n",
      "                   8: 13.8\n",
      "                   9: 12.5\n",
      "\n"
     ]
    }
   ],
   "source": [
    "evaluate_clf(rf, X, Y)"
   ]
  },
  {
   "cell_type": "code",
   "execution_count": 5,
   "metadata": {},
   "outputs": [],
   "source": [
    "impute(target_xs, rf, raster_info, outdir='D:/matt/process/outputs_rf')"
   ]
  },
  {
   "cell_type": "code",
   "execution_count": 6,
   "metadata": {},
   "outputs": [
    {
     "data": {
      "text/plain": [
       "['In',\n",
       " 'Out',\n",
       " 'ROOT',\n",
       " 'RandomForestClassifier',\n",
       " 'X',\n",
       " 'Y',\n",
       " '_',\n",
       " '_1',\n",
       " '_3',\n",
       " '__',\n",
       " '___',\n",
       " '__builtin__',\n",
       " '__builtins__',\n",
       " '__doc__',\n",
       " '__name__',\n",
       " '__package__',\n",
       " '_dh',\n",
       " '_i',\n",
       " '_i1',\n",
       " '_i2',\n",
       " '_i3',\n",
       " '_i4',\n",
       " '_i5',\n",
       " '_i6',\n",
       " '_ih',\n",
       " '_ii',\n",
       " '_iii',\n",
       " '_oh',\n",
       " '_sh',\n",
       " 'cross_val_score',\n",
       " 'ecoplots_df',\n",
       " 'evaluate_clf',\n",
       " 'exit',\n",
       " 'get_ipython',\n",
       " 'impute',\n",
       " 'load_targets',\n",
       " 'load_training_vector',\n",
       " 'np',\n",
       " 'os',\n",
       " 'pd',\n",
       " 'quit',\n",
       " 'raster_info',\n",
       " 'rasters',\n",
       " 'rf',\n",
       " 'target_xs',\n",
       " 'x',\n",
       " 'x_vars']"
      ]
     },
     "execution_count": 6,
     "metadata": {},
     "output_type": "execute_result"
    }
   ],
   "source": [
    "dir()"
   ]
  },
  {
   "cell_type": "code",
   "execution_count": null,
   "metadata": {},
   "outputs": [],
   "source": []
  }
 ],
 "metadata": {
  "kernelspec": {
   "display_name": "Python 2",
   "language": "python",
   "name": "python2"
  },
  "language_info": {
   "codemirror_mode": {
    "name": "ipython",
    "version": 2
   },
   "file_extension": ".py",
   "mimetype": "text/x-python",
   "name": "python",
   "nbconvert_exporter": "python",
   "pygments_lexer": "ipython2",
   "version": "2.7.13"
  },
  "livereveal": {
   "scroll": true,
   "transition": "fade"
  }
 },
 "nbformat": 4,
 "nbformat_minor": 2
}
