{
 "cells": [
  {
   "cell_type": "markdown",
   "metadata": {
    "slideshow": {
     "slide_type": "slide"
    }
   },
   "source": [
    "# Module 6: Tips and Tricks"
   ]
  },
  {
   "cell_type": "markdown",
   "metadata": {
    "slideshow": {
     "slide_type": "slide"
    }
   },
   "source": [
    "## Python 2 vs 3\n",
    "* Python 3 was released in 2008, currently at Python 3.6 (3.7 coming soon ...)\n",
    "* Python 2 is at version 2.7 and no other 2.x releases will come out\n",
    "* Python 2 **will die** on January 1, 2020 (https://pythonclock.org/)\n",
    "* Many packages have pledged to **require** Python 3 in 2020 (http://python3statement.org/)\n",
    "* The problem is that many packages still only work with Python 2.x (Looking at you, ArcGIS 10.x)\n",
    "* My advice is to start with Python 3.x\n",
    "* Both 2.x and 3.x can be installed on the same machine\n",
    "\n",
    "### Secondary issue: 32-bit or 64-bit\n",
    "* These are still built and installed separately (unlike R)\n",
    "* My advice is if you have a 64-bit machine, download the 64-bit version (avoids memory issues)\n",
    "* Both 32-bit and 64-bit versions can be installed on the same machine"
   ]
  },
  {
   "cell_type": "markdown",
   "metadata": {
    "slideshow": {
     "slide_type": "slide"
    }
   },
   "source": [
    "## Vanilla Python vs Anaconda\n",
    "\n",
    "### Vanilla Python\n",
    "* Available for download at https://python.org\n",
    "* All operating systems, versions, architectures (32- and 64-bit)\n",
    "* This will only install Python and its built-in packages plus a few other packages for packaging and installing\n",
    "* You may already have Python installed!!\n",
    "  * If you've installed ArcGIS 10.x or ArcGIS Pro, Python is typically installed alongside it\n",
    "* Uses the `pip` package manager \n",
    "  \n",
    "### Anaconda\n",
    "* An \"ecosystem\" of Python plus most scientific packages in one distribution: https://www.anaconda.com/distribution/\n",
    "* Like regular Python, available for all systems, versions, architectures\n",
    "* Everything we've worked with in this lab will likely be pre-installed (low barrier to entry)\n",
    "* It actually packages R/RStudio with the Anaconda distribution\n",
    "* Uses the `conda` package manager (but `pip` also works)\n",
    "\n",
    "I don't have a recommendation on this one (I'm old and stuck on the vanilla version)"
   ]
  },
  {
   "cell_type": "markdown",
   "metadata": {
    "slideshow": {
     "slide_type": "slide"
    }
   },
   "source": [
    "## Where and how to write scripts\n",
    "* Interactively - short bits of code / data exploration / graphics work\n",
    "  * Jupyter notebook or IPython kernel (what you've been doing)\n",
    "  * Spyder (probably closest to RStudio) - select and run code  \n",
    "  * Python interpreter (usually by entering 'python' in a command shell if it is in your PATH)\n",
    "* Development work - longer bits of code \n",
    "  * More likely that you might want an integrated development environment (IDE) for features like debugging, code completion, testing, etc.\n",
    "  * Spyder\n",
    "  * PyCharm \n",
    "  * Text editor\n",
    "  \n",
    "I usually use a mix of the two.  I love the mix of documentation and code with Jupyter notebooks for sharing, but I honestly write a lot of my code in a text editor.  As new users, I would recommend using either Jupyter notebooks or Spyder for the immediate feedback on small bits of code."
   ]
  },
  {
   "cell_type": "markdown",
   "metadata": {
    "slideshow": {
     "slide_type": "slide"
    }
   },
   "source": [
    "## How to run a Python script at the command line\n",
    "1. Create a text file with the Python commands in it and name it with a `.py` suffix\n",
    "2. Open a command shell (`cmd`)\n",
    "3. Type `python <name_of_file>.py`, e.g. `python hello_world.py`\n",
    "4. All print statements by default get printed to the console\n",
    "5. Example\n",
    "\n",
    "### Exporting from Jupyter notebook\n",
    "If you've created a Jupyter notebook that runs (top to bottom) how you like it, go to `File -> Download As -> Python (.py)`.  This will create a source Python file that can be run at the console using the instructions above (markdown and cells are retained as comments)."
   ]
  },
  {
   "cell_type": "markdown",
   "metadata": {
    "slideshow": {
     "slide_type": "slide"
    }
   },
   "source": [
    "## How to install and update packages (`pip`)\n",
    "Packages come either as zipped source files (`.tar.gz`) or as wheel files (`.whl`). Of the two, wheel files are much easier to deal with and most Python packages are now distributed this way.\n",
    "\n",
    "1. Search on PyPI (https://pypi.org/) for packages you want to install\n",
    "2. Open a command shell (`cmd`)\n",
    "3. Type `pip install -U <package_name>`, e.g. `pip install -U pandas`.  The `-U` flag means to upgrade if available so that you always have the most current version of that package (usually safe to do).  If you already have the latest version, `pip` does nothing.  This will download the package from PyPI and install it onto your machine.\n",
    "4. Packages usually list their dependencies, so these will be installed at the same time\n",
    "5. To find out-of-date packages, type `pip list --outdated --format=columns`.  This provides a list of packages for which there are newer releases.  Then you can `pip install -U <package_name>` for any you want to update.\n",
    "6. To uninstall a package, type `pip uninstall <package_name>`\n",
    "\n",
    "### <span style='color:red'>Important: Windows users</span>\n",
    "There are some packages that require compiling certain parts of the package with a C compiler from the source files (`.tar.gz` distributions).  This can fail often.  Christoph Gohlke (UC-Irvine) maintains a set of wheel (.whl) files that can be downloaded and installed with pip (https://www.lfd.uci.edu/~gohlke/pythonlibs/).  Assume we downloaded the file `pandas‑0.22.0‑cp27‑cp27m‑win32.whl` to `C:\\Users\\gregorma\\Desktop`, the syntax to install this package is:\n",
    "```\n",
    "pip install -U C:\\Users\\gregorma\\Desktop\\pandas‑0.22.0‑cp27‑cp27m‑win32.whl\n",
    "```\n",
    "I usually get my `numpy`, `scipy` and `gdal` from this site.  If the install from PyPI fails, try to install from Gohlke's site.\n"
   ]
  },
  {
   "cell_type": "markdown",
   "metadata": {
    "slideshow": {
     "slide_type": "slide"
    }
   },
   "source": [
    "## Moving Forward\n",
    "* This was a whirlwind tour of packages (likely too much, too fast), but what topics didn't get covered?\n",
    "  * Python classes and object-oriented programming\n",
    "  * Jupyter \"magic\"\n",
    "  * Creating multiple Python environments with virtualenv\n",
    "  * Packaging and sharing your code\n",
    "* Feedback on this course - I will send out a survey after a while\n",
    "* Interest in meeting somewhat regularly? (in-person or via listserv/Slack?)\n",
    "* What are the best ways for you to continue learning?"
   ]
  }
 ],
 "metadata": {
  "celltoolbar": "Slideshow",
  "kernelspec": {
   "display_name": "Python 2",
   "language": "python",
   "name": "python2"
  },
  "language_info": {
   "codemirror_mode": {
    "name": "ipython",
    "version": 2
   },
   "file_extension": ".py",
   "mimetype": "text/x-python",
   "name": "python",
   "nbconvert_exporter": "python",
   "pygments_lexer": "ipython2",
   "version": "2.7.13"
  },
  "livereveal": {
   "scroll": true,
   "transition": "fade"
  }
 },
 "nbformat": 4,
 "nbformat_minor": 2
}
